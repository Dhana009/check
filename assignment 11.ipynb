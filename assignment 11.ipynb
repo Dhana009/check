{
 "cells": [
  {
   "cell_type": "markdown",
   "id": "51a1e7ae",
   "metadata": {},
   "source": [
    "Create a simple tkinter application to display a welcome message in a window using the label widget."
   ]
  },
  {
   "cell_type": "code",
   "execution_count": 1,
   "id": "d1db9cfb",
   "metadata": {},
   "outputs": [],
   "source": [
    "import tkinter as tk\n",
    "\n",
    "# Create the main window\n",
    "root = tk.Tk()\n",
    "root.title(\"Welcome Message\")\n",
    "\n",
    "# Create the label widget\n",
    "welcome_label = tk.Label(root, text=\"Welcome to Tkinter!\", font=(\"TkDefaultFont\", 24))\n",
    "welcome_label.pack()\n",
    "\n",
    "# Start the main event loop\n",
    "root.mainloop()\n"
   ]
  },
  {
   "cell_type": "markdown",
   "id": "1961977f",
   "metadata": {},
   "source": [
    "Create tkinter application to accept user name in a text widget. Then display the user name with a welcome message in a label widget"
   ]
  },
  {
   "cell_type": "code",
   "execution_count": 2,
   "id": "5503ace9",
   "metadata": {},
   "outputs": [],
   "source": [
    "import tkinter as tk\n",
    "\n",
    "def show_welcome_message():\n",
    "    name = entry.get()\n",
    "    welcome_label.config(text=f\"Welcome, {name}!\")\n",
    "\n",
    "# Create the main window\n",
    "root = tk.Tk()\n",
    "root.title(\"Welcome Message\")\n",
    "\n",
    "# Create the label widget\n",
    "welcome_label = tk.Label(root, text=\"\", font=(\"TkDefaultFont\", 24))\n",
    "welcome_label.pack()\n",
    "\n",
    "# Create the entry widget\n",
    "entry = tk.Entry(root)\n",
    "entry.pack()\n",
    "\n",
    "# Create the button widget\n",
    "button = tk.Button(root, text=\"Show Welcome Message\", command=show_welcome_message)\n",
    "button.pack()\n",
    "\n",
    "# Start the main event loop\n",
    "root.mainloop()\n"
   ]
  },
  {
   "cell_type": "markdown",
   "id": "a931c079",
   "metadata": {},
   "source": [
    "Modify the tkinter application developed in Q.No. 2 so that it uses a grid layout"
   ]
  },
  {
   "cell_type": "code",
   "execution_count": 3,
   "id": "b0a97a37",
   "metadata": {},
   "outputs": [],
   "source": [
    "import tkinter as tk\n",
    "\n",
    "def show_welcome_message():\n",
    "    name = entry.get()\n",
    "    welcome_label.config(text=f\"Welcome, {name}!\")\n",
    "\n",
    "# Create the main window\n",
    "root = tk.Tk()\n",
    "root.title(\"Welcome Message\")\n",
    "\n",
    "# Create the label widget\n",
    "welcome_label = tk.Label(root, text=\"\", font=(\"TkDefaultFont\", 24))\n",
    "welcome_label.grid(row=0, column=0, columnspan=2)\n",
    "\n",
    "# Create the entry widget\n",
    "entry = tk.Entry(root)\n",
    "entry.grid(row=1, column=0)\n",
    "\n",
    "# Create the button widget\n",
    "button = tk.Button(root, text=\"Show Welcome Message\", command=show_welcome_message)\n",
    "button.grid(row=1, column=1)\n",
    "\n",
    "# Start the main event loop\n",
    "root.mainloop()\n"
   ]
  },
  {
   "cell_type": "markdown",
   "id": "0f50fdd7",
   "metadata": {},
   "source": [
    "Create a tkinter application to accept radius of a circle and display the area."
   ]
  },
  {
   "cell_type": "code",
   "execution_count": 5,
   "id": "e03c9553",
   "metadata": {},
   "outputs": [],
   "source": [
    "import tkinter as tk\n",
    "import math\n",
    "\n",
    "def calculate_area():\n",
    "    radius = float(entry.get())\n",
    "    area = math.pi * (radius**2)\n",
    "    result_label.config(text=\"Area: {:.2f}\".format(area))\n",
    "\n",
    "app = tk.Tk()\n",
    "app.title(\"Circle Area Calculator\")\n",
    "\n",
    "label = tk.Label(text=\"Enter the radius:\")\n",
    "label.pack()\n",
    "\n",
    "entry = tk.Entry()\n",
    "entry.pack()\n",
    "\n",
    "calculate_button = tk.Button(text=\"Calculate\", command=calculate_area)\n",
    "calculate_button.pack()\n",
    "\n",
    "result_label = tk.Label(text=\"\")\n",
    "result_label.pack()\n",
    "\n",
    "app.mainloop()\n"
   ]
  },
  {
   "cell_type": "markdown",
   "id": "b1bcc2e6",
   "metadata": {},
   "source": [
    "Create a tkinter application to accept temperature in Celsius and convert and display the temperature in Fahrenheit."
   ]
  },
  {
   "cell_type": "code",
   "execution_count": 6,
   "id": "db0832e9",
   "metadata": {},
   "outputs": [],
   "source": [
    "import tkinter as tk\n",
    "\n",
    "def convert_temp():\n",
    "    celsius = float(celsius_entry.get())\n",
    "    fahrenheit = celsius * 9/5 + 32\n",
    "    fahrenheit_label.config(text=\"%.2f°F\" % fahrenheit)\n",
    "\n",
    "app = tk.Tk()\n",
    "app.title(\"Temperature Converter\")\n",
    "\n",
    "celsius_label = tk.Label(text=\"Temperature in Celsius:\")\n",
    "celsius_label.grid(row=0, column=0)\n",
    "\n",
    "celsius_entry = tk.Entry()\n",
    "celsius_entry.grid(row=0, column=1)\n",
    "\n",
    "convert_button = tk.Button(text=\"Convert\", command=convert_temp)\n",
    "convert_button.grid(row=1, column=0, columnspan=2, pady=10)\n",
    "\n",
    "fahrenheit_label = tk.Label(text=\"\")\n",
    "fahrenheit_label.grid(row=2, column=0, columnspan=2)\n",
    "\n",
    "app.mainloop()\n"
   ]
  },
  {
   "cell_type": "markdown",
   "id": "6f77e786",
   "metadata": {},
   "source": [
    "Create a tkinter application to accept distance in kilometers and convert and display distance in miles."
   ]
  },
  {
   "cell_type": "code",
   "execution_count": 7,
   "id": "45e7fe4a",
   "metadata": {},
   "outputs": [],
   "source": [
    "import tkinter as tk\n",
    "\n",
    "def convert_distance():\n",
    "    kilometers = float(kilometers_entry.get())\n",
    "    miles = kilometers * 0.621371\n",
    "    miles_label.config(text=\"%.2f miles\" % miles)\n",
    "\n",
    "app = tk.Tk()\n",
    "app.title(\"Distance Converter\")\n",
    "\n",
    "kilometers_label = tk.Label(text=\"Distance in kilometers:\")\n",
    "kilometers_label.grid(row=0, column=0)\n",
    "\n",
    "kilometers_entry = tk.Entry()\n",
    "kilometers_entry.grid(row=0, column=1)\n",
    "\n",
    "convert_button = tk.Button(text=\"Convert\", command=convert_distance)\n",
    "convert_button.grid(row=1, column=0, columnspan=2, pady=10)\n",
    "\n",
    "miles_label = tk.Label(text=\"\")\n",
    "miles_label.grid(row=2, column=0, columnspan=2)\n",
    "\n",
    "app.mainloop()\n"
   ]
  },
  {
   "cell_type": "markdown",
   "id": "31408062",
   "metadata": {},
   "source": [
    "Create a tkinter application to display a menu with three items. A separate message should be display when each of the three menu items is clicked."
   ]
  },
  {
   "cell_type": "code",
   "execution_count": 8,
   "id": "aee60b35",
   "metadata": {},
   "outputs": [],
   "source": [
    "import tkinter as tk\n",
    "from tkinter import messagebox\n",
    "\n",
    "def menu_item_1():\n",
    "    messagebox.showinfo(\"Menu Item 1\", \"You clicked on Menu Item 1\")\n",
    "\n",
    "def menu_item_2():\n",
    "    messagebox.showinfo(\"Menu Item 2\", \"You clicked on Menu Item 2\")\n",
    "\n",
    "def menu_item_3():\n",
    "    messagebox.showinfo(\"Menu Item 3\", \"You clicked on Menu Item 3\")\n",
    "\n",
    "app = tk.Tk()\n",
    "app.title(\"Menu Example\")\n",
    "\n",
    "menubar = tk.Menu(app)\n",
    "app.config(menu=menubar)\n",
    "\n",
    "file_menu = tk.Menu(menubar)\n",
    "menubar.add_cascade(label=\"File\", menu=file_menu)\n",
    "file_menu.add_command(label=\"Menu Item 1\", command=menu_item_1)\n",
    "file_menu.add_command(label=\"Menu Item 2\", command=menu_item_2)\n",
    "file_menu.add_command(label=\"Menu Item 3\", command=menu_item_3)\n",
    "\n",
    "app.mainloop()\n"
   ]
  },
  {
   "cell_type": "markdown",
   "id": "09df9713",
   "metadata": {},
   "source": [
    "Create a tkinter application to display a radio button group with three items. A separate message should be display when each of the three radio buttons items is clicked."
   ]
  },
  {
   "cell_type": "code",
   "execution_count": 9,
   "id": "12b378f5",
   "metadata": {},
   "outputs": [],
   "source": [
    "import tkinter as tk\n",
    "from tkinter import messagebox\n",
    "\n",
    "def show_selected():\n",
    "    selected = var.get()\n",
    "    if selected == 1:\n",
    "        messagebox.showinfo(\"Radio Button 1\", \"You selected Radio Button 1\")\n",
    "    elif selected == 2:\n",
    "        messagebox.showinfo(\"Radio Button 2\", \"You selected Radio Button 2\")\n",
    "    elif selected == 3:\n",
    "        messagebox.showinfo(\"Radio Button 3\", \"You selected Radio Button 3\")\n",
    "\n",
    "app = tk.Tk()\n",
    "app.title(\"Radio Button Example\")\n",
    "\n",
    "var = tk.IntVar()\n",
    "\n",
    "radio_button_1 = tk.Radiobutton(app, text=\"Radio Button 1\", variable=var, value=1, command=show_selected)\n",
    "radio_button_1.pack()\n",
    "\n",
    "radio_button_2 = tk.Radiobutton(app, text=\"Radio Button 2\", variable=var, value=2, command=show_selected)\n",
    "radio_button_2.pack()\n",
    "\n",
    "radio_button_3 = tk.Radiobutton(app, text=\"Radio Button 3\", variable=var, value=3, command=show_selected)\n",
    "radio_button_3.pack()\n",
    "\n",
    "app.mainloop()\n"
   ]
  },
  {
   "cell_type": "markdown",
   "id": "e07e0aa7",
   "metadata": {},
   "source": [
    "Create a tkinter application to display three check boxes. A separate message should be display when each of the three check boxes items is selected."
   ]
  },
  {
   "cell_type": "code",
   "execution_count": 10,
   "id": "6b8ca8f9",
   "metadata": {},
   "outputs": [],
   "source": [
    "import tkinter as tk\n",
    "from tkinter import messagebox\n",
    "\n",
    "def show_selected():\n",
    "    selected = []\n",
    "    if check_var_1.get() == 1:\n",
    "        selected.append(\"Check Box 1\")\n",
    "    if check_var_2.get() == 1:\n",
    "        selected.append(\"Check Box 2\")\n",
    "    if check_var_3.get() == 1:\n",
    "        selected.append(\"Check Box 3\")\n",
    "    if len(selected) > 0:\n",
    "        messagebox.showinfo(\"Selected Check Boxes\", \"You selected: \" + ', '.join(selected))\n",
    "    else:\n",
    "        messagebox.showinfo(\"Selected Check Boxes\", \"No check boxes selected\")\n",
    "\n",
    "app = tk.Tk()\n",
    "app.title(\"Check Box Example\")\n",
    "\n",
    "check_var_1 = tk.IntVar()\n",
    "check_box_1 = tk.Checkbutton(app, text=\"Check Box 1\", variable=check_var_1, command=show_selected)\n",
    "check_box_1.pack()\n",
    "\n",
    "check_var_2 = tk.IntVar()\n",
    "check_box_2 = tk.Checkbutton(app, text=\"Check Box 2\", variable=check_var_2, command=show_selected)\n",
    "check_box_2.pack()\n",
    "\n",
    "check_var_3 = tk.IntVar()\n",
    "check_box_3 = tk.Checkbutton(app, text=\"Check Box 3\", variable=check_var_3, command=show_selected)\n",
    "check_box_3.pack()\n",
    "\n",
    "app.mainloop()\n"
   ]
  },
  {
   "cell_type": "markdown",
   "id": "6c2c0213",
   "metadata": {},
   "source": [
    "Create a tkinter application which contains a list box with five items. Whenever an item in the list box is selected, the item’s text should be displayed"
   ]
  },
  {
   "cell_type": "code",
   "execution_count": 11,
   "id": "ed926fda",
   "metadata": {},
   "outputs": [],
   "source": [
    "import tkinter as tk\n",
    "from tkinter import messagebox\n",
    "\n",
    "def show_selected(event):\n",
    "    selected = list_box.get(list_box.curselection())\n",
    "    messagebox.showinfo(\"Selected Item\", \"You selected: \" + selected)\n",
    "\n",
    "app = tk.Tk()\n",
    "app.title(\"List Box Example\")\n",
    "\n",
    "list_box = tk.Listbox(app)\n",
    "list_box.pack()\n",
    "\n",
    "list_box.insert(1, \"Item 1\")\n",
    "list_box.insert(2, \"Item 2\")\n",
    "list_box.insert(3, \"Item 3\")\n",
    "list_box.insert(4, \"Item 4\")\n",
    "list_box.insert(5, \"Item 5\")\n",
    "\n",
    "list_box.bind(\"<<ListboxSelect>>\", show_selected)\n",
    "\n",
    "app.mainloop()\n"
   ]
  },
  {
   "cell_type": "markdown",
   "id": "e216755a",
   "metadata": {},
   "source": []
  }
 ],
 "metadata": {
  "kernelspec": {
   "display_name": "Python 3 (ipykernel)",
   "language": "python",
   "name": "python3"
  },
  "language_info": {
   "codemirror_mode": {
    "name": "ipython",
    "version": 3
   },
   "file_extension": ".py",
   "mimetype": "text/x-python",
   "name": "python",
   "nbconvert_exporter": "python",
   "pygments_lexer": "ipython3",
   "version": "3.9.12"
  }
 },
 "nbformat": 4,
 "nbformat_minor": 5
}
