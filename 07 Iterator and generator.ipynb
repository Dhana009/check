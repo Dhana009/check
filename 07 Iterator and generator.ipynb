{
 "cells": [
  {
   "cell_type": "markdown",
   "id": "2c8b6a00",
   "metadata": {},
   "source": [
    "In Python, the yield keyword is used in a function to define a generator. It is used to return data, one element at a time, from the function. When a function with a yield statement is called, it returns a generator object which can be used to iterate over the data.\n",
    "\n",
    "Here's an example of a generator function that yields numbers from 0 to 9:"
   ]
  },
  {
   "cell_type": "code",
   "execution_count": 1,
   "id": "77973519",
   "metadata": {},
   "outputs": [
    {
     "name": "stdout",
     "output_type": "stream",
     "text": [
      "0\n",
      "1\n",
      "2\n",
      "3\n",
      "4\n",
      "5\n",
      "6\n",
      "7\n",
      "8\n",
      "9\n"
     ]
    }
   ],
   "source": [
    "def my_gen():\n",
    "    for i in range(10):\n",
    "        yield i\n",
    "\n",
    "for num in my_gen():\n",
    "    print(num)\n"
   ]
  },
  {
   "cell_type": "code",
   "execution_count": 2,
   "id": "aaeff42b",
   "metadata": {},
   "outputs": [
    {
     "name": "stdout",
     "output_type": "stream",
     "text": [
      "0\n",
      "1\n",
      "1\n",
      "2\n",
      "3\n",
      "5\n",
      "8\n",
      "13\n",
      "21\n",
      "34\n"
     ]
    }
   ],
   "source": [
    "def fibonacci(n):\n",
    "    a, b = 0, 1\n",
    "    for _ in range(n):\n",
    "        yield a\n",
    "        a, b = b, a + b\n",
    "\n",
    "for num in fibonacci(10):\n",
    "    print(num)\n"
   ]
  },
  {
   "cell_type": "markdown",
   "id": "a055aafd",
   "metadata": {},
   "source": [
    "In both examples, the generator function uses the yield statement to return data one element at a time. This allows for efficient memory usage, as the generator only holds the current value in memory and not the entire sequence of data."
   ]
  },
  {
   "cell_type": "code",
   "execution_count": 5,
   "id": "b63ac4ba",
   "metadata": {},
   "outputs": [
    {
     "name": "stdout",
     "output_type": "stream",
     "text": [
      "1\n",
      "4\n",
      "7\n"
     ]
    }
   ],
   "source": [
    "def my_gen():\n",
    "    yield from range(1,10,3)\n",
    "\n",
    "for num in my_gen():\n",
    "    print(num)\n"
   ]
  },
  {
   "cell_type": "markdown",
   "id": "636a31e5",
   "metadata": {},
   "source": [
    "In Python, an iterator is an object that can be iterated (looped) upon. An object which will return data, one element at a time. They are used to represent a stream of data.\n",
    "\n",
    "An iterable is an object that can be looped over, and it has an __iter__() method that returns an iterator. An iterable can be any object that can return an iterator, such as a list, tuple, string, etc.\n",
    "\n",
    "For example, a list is an iterable:"
   ]
  },
  {
   "cell_type": "code",
   "execution_count": 6,
   "id": "3f331a29",
   "metadata": {},
   "outputs": [
    {
     "name": "stdout",
     "output_type": "stream",
     "text": [
      "1\n",
      "2\n",
      "3\n"
     ]
    }
   ],
   "source": [
    "my_list = [1, 2, 3]\n",
    "\n",
    "for item in my_list:\n",
    "    print(item)\n"
   ]
  },
  {
   "cell_type": "code",
   "execution_count": 9,
   "id": "be23bcc3",
   "metadata": {},
   "outputs": [
    {
     "name": "stdout",
     "output_type": "stream",
     "text": [
      "1\n",
      "2\n",
      "3\n"
     ]
    }
   ],
   "source": [
    "my_iter = iter(my_list)\n",
    "print(next(my_iter)) # prints 1\n",
    "print(next(my_iter)) # prints 2\n",
    "print(next(my_iter)) # prints 3\n"
   ]
  },
  {
   "cell_type": "markdown",
   "id": "dc1d27cc",
   "metadata": {},
   "source": [
    "A string is also an iterable:"
   ]
  },
  {
   "cell_type": "code",
   "execution_count": 10,
   "id": "eac085c3",
   "metadata": {},
   "outputs": [
    {
     "name": "stdout",
     "output_type": "stream",
     "text": [
      "h\n",
      "e\n",
      "l\n",
      "l\n",
      "o\n"
     ]
    }
   ],
   "source": [
    "my_string = \"hello\"\n",
    "\n",
    "for char in my_string:\n",
    "    print(char)\n"
   ]
  },
  {
   "cell_type": "markdown",
   "id": "36c6e00e",
   "metadata": {},
   "source": [
    "A generator is a special type of iterator, which is a function that can be paused and resumed. It uses the yield statement to return data, one element at a time. Generators are used to create iterators and are useful for large data sets or infinite streams of data.\n",
    "\n",
    "Here's an example of how you can use an iterator in OOP:"
   ]
  },
  {
   "cell_type": "code",
   "execution_count": 20,
   "id": "9c77906c",
   "metadata": {},
   "outputs": [
    {
     "name": "stdout",
     "output_type": "stream",
     "text": [
      "1\n",
      "2\n",
      "3\n"
     ]
    }
   ],
   "source": [
    "class MyIterator:\n",
    "    def __init__(self, data):\n",
    "        self.data = data\n",
    "        self.index = 0\n",
    "\n",
    "    def __iter__(self):\n",
    "        return self\n",
    "\n",
    "    def __next__(self):\n",
    "        if self.index >= len(self.data):\n",
    "            raise StopIteration()\n",
    "        result = self.data[self.index]\n",
    "        self.index += 1\n",
    "        return result\n",
    "\n",
    "class MyList:\n",
    "    def __init__(self, data):\n",
    "        self.data = data\n",
    "\n",
    "    def __iter__(self):\n",
    "        return MyIterator(self.data)\n",
    "\n",
    "my_list = MyList([1, 2, 3])\n",
    "for item in my_list:\n",
    "    print(item)\n"
   ]
  },
  {
   "cell_type": "markdown",
   "id": "c26bb202",
   "metadata": {},
   "source": [
    "In general, when you define a class that you want to make iterable, you should define the __iter__(self) method in the class and have it return an iterator object that you have created. The iterator object should have a __next__(self) method that is used to get the next item in the iteration.\n",
    "\n",
    "Here's an example of a simple class that can be used in a for loop:"
   ]
  },
  {
   "cell_type": "code",
   "execution_count": null,
   "id": "0ec9acdc",
   "metadata": {},
   "outputs": [],
   "source": [
    "class MyRange:\n",
    "    def __init__(self, start, stop):\n",
    "        self.start = start\n",
    "        self.stop = stop\n",
    "\n",
    "    def __iter__(self):\n",
    "        return MyRangeIterator(self.start, self.stop)\n",
    "\n",
    "class MyRangeIterator:\n",
    "    def __init__(self, start, stop):\n",
    "        self.current = start\n",
    "        self.stop = stop\n",
    "\n",
    "    def __next__(self):\n",
    "        if self.current >= self.stop:\n",
    "            raise StopIteration()\n",
    "        result = self.current\n",
    "        self.current += 1\n",
    "        return result\n",
    "\n",
    "my_range = MyRange(1, 4)\n",
    "for num in my_range:\n",
    "    print(num)\n"
   ]
  },
  {
   "cell_type": "code",
   "execution_count": null,
   "id": "f599a9b8",
   "metadata": {},
   "outputs": [],
   "source": []
  },
  {
   "cell_type": "code",
   "execution_count": null,
   "id": "59c43c7f",
   "metadata": {},
   "outputs": [],
   "source": []
  },
  {
   "cell_type": "code",
   "execution_count": null,
   "id": "fb750f57",
   "metadata": {},
   "outputs": [],
   "source": []
  }
 ],
 "metadata": {
  "kernelspec": {
   "display_name": "Python 3 (ipykernel)",
   "language": "python",
   "name": "python3"
  },
  "language_info": {
   "codemirror_mode": {
    "name": "ipython",
    "version": 3
   },
   "file_extension": ".py",
   "mimetype": "text/x-python",
   "name": "python",
   "nbconvert_exporter": "python",
   "pygments_lexer": "ipython3",
   "version": "3.9.12"
  }
 },
 "nbformat": 4,
 "nbformat_minor": 5
}
