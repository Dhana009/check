{
 "cells": [
  {
   "cell_type": "raw",
   "id": "d127023d",
   "metadata": {},
   "source": [
    "Regular expressions, also known as regex or regexp, are a powerful tool for matching patterns in strings. They are used in many programming languages, text editors, and other software tools to search, edit, and manipulate text.\n",
    "\n",
    "Regex patterns are composed of normal characters and special characters, called metacharacters, that have special meanings. Some common metacharacters include:\n",
    "\n",
    ". (dot): Matches any single character (except a newline)\n",
    "* (asterisk): Matches zero or more of the preceding element\n",
    "+ (plus): Matches one or more of the preceding element\n",
    "? (question mark): Matches zero or one of the preceding element\n",
    "[] (square brackets): Matches any character enclosed within the brackets\n",
    "^ (caret): Matches the start of a line\n",
    "$ (dollar sign): Matches the end of a line\n",
    "{n} (curly braces): Matches exactly n of the preceding element\n",
    "{n,m} (curly braces): Matches between n and m of the preceding element\n",
    "() (parentheses): Groups elements together, can also be used for capturing sub-matches\n",
    "| (pipe): Matches either the element before or the element after the pipe.\n",
    "In addition to the metacharacters, there are also special character classes that can be used in regex patterns such as:\n",
    "\n",
    "\\d: Matches any digit (equivalent to [0-9])\n",
    "\\w: Matches any word character (equivalent to [a-zA-Z0-9_])\n",
    "\\s: Matches any whitespace character (including spaces, tabs, and newlines)\n",
    "\\D: Matches any non-digit character\n",
    "\\W: Matches any non-word character\n",
    "\\S: Matches any non-whitespace character\n",
    "Regex can be used for a variety of tasks such as:\n",
    "\n",
    "Validation of phone numbers, email addresses, and credit card numbers\n",
    "Searching for specific patterns in text\n",
    "Replacing text with new text\n",
    "Extracting information from large bodies of text\n",
    "Validating user input"
   ]
  },
  {
   "cell_type": "code",
   "execution_count": null,
   "id": "1b779590",
   "metadata": {},
   "outputs": [],
   "source": []
  }
 ],
 "metadata": {
  "kernelspec": {
   "display_name": "Python 3 (ipykernel)",
   "language": "python",
   "name": "python3"
  },
  "language_info": {
   "codemirror_mode": {
    "name": "ipython",
    "version": 3
   },
   "file_extension": ".py",
   "mimetype": "text/x-python",
   "name": "python",
   "nbconvert_exporter": "python",
   "pygments_lexer": "ipython3",
   "version": "3.9.12"
  }
 },
 "nbformat": 4,
 "nbformat_minor": 5
}
