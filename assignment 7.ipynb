{
 "cells": [
  {
   "cell_type": "raw",
   "id": "d228e9c0",
   "metadata": {},
   "source": []
  },
  {
   "cell_type": "markdown",
   "id": "f013a031",
   "metadata": {},
   "source": [
    "\"What is the difference between public and private members of a class? Explain with examples\""
   ]
  },
  {
   "cell_type": "markdown",
   "id": "da0f90d7",
   "metadata": {},
   "source": [
    "Public members of a class can be accessed and used from outside the class and are denoted by no special prefix. Private members, on the other hand, can only be accessed within the class and are denoted by a double underscore prefix. Accessing private members from outside the class can cause errors or unexpected behavior. The distinction between public and private members is used to protect the internal data and operations of the class."
   ]
  },
  {
   "cell_type": "code",
   "execution_count": null,
   "id": "33c341ef",
   "metadata": {},
   "outputs": [],
   "source": [
    "class Car:\n",
    "    def __init__(self, make, model, year):\n",
    "        self.make = make  # public member\n",
    "        self.__model = model  # private member\n",
    "        self.__year = year  # private member\n"
   ]
  },
  {
   "cell_type": "code",
   "execution_count": null,
   "id": "cf87a096",
   "metadata": {},
   "outputs": [],
   "source": []
  },
  {
   "cell_type": "code",
   "execution_count": null,
   "id": "a93d9080",
   "metadata": {},
   "outputs": [],
   "source": []
  },
  {
   "cell_type": "markdown",
   "id": "ee0f2c0c",
   "metadata": {},
   "source": [
    "\"Write a class called Calendar with the following: • a field called year and a constructor that sets the year • a boolean method is_leap_year() that returns whether the year is a leap year. Leap years are years that are divisible by 4, except that years that are also divisible by 100 are not leap years unless they are divisible by 400.\""
   ]
  },
  {
   "cell_type": "code",
   "execution_count": 68,
   "id": "6164336c",
   "metadata": {},
   "outputs": [],
   "source": [
    "class Calendar:\n",
    "    def __init__(self, year):\n",
    "        self.year = year\n",
    "        \n",
    "    def is_leap_year(self):\n",
    "        if self.year % 400 == 0:\n",
    "            return True\n",
    "        elif self.year % 100 == 0:\n",
    "            return False\n",
    "        elif self.year % 4 == 0:\n",
    "            return True\n",
    "        else:\n",
    "            return False\n"
   ]
  },
  {
   "cell_type": "code",
   "execution_count": 69,
   "id": "e6e82c39",
   "metadata": {},
   "outputs": [
    {
     "name": "stdout",
     "output_type": "stream",
     "text": [
      "True\n"
     ]
    }
   ],
   "source": [
    "cal = Calendar(2020)\n",
    "print(cal.is_leap_year()) \n"
   ]
  },
  {
   "cell_type": "code",
   "execution_count": null,
   "id": "7a16d028",
   "metadata": {},
   "outputs": [],
   "source": []
  },
  {
   "cell_type": "markdown",
   "id": "6f03f919",
   "metadata": {},
   "source": [
    "\"Write a class called Password_manager. The class should have a list called old_passwords that holds all of the user’s past passwords. The last item of the list is the user’s current password. There should be a method called get_password that returns the current password and a method called set_password that sets the user’s password. The set_password method should only change the password if the attempted password is different from all the user’s past passwords. Finally, create a method called is_correct that receives a string and returns a boolean True or False depending on whether the string is equal to the current password or not.\""
   ]
  },
  {
   "cell_type": "code",
   "execution_count": 70,
   "id": "3d9b13e5",
   "metadata": {},
   "outputs": [],
   "source": [
    "class Password_manager:\n",
    "    def __init__(self):\n",
    "        self.old_passwords = []\n",
    "\n",
    "    def get_password(self):\n",
    "        return self.old_passwords[-1]\n",
    "\n",
    "    def set_password(self, new_password):\n",
    "        if new_password not in self.old_passwords:\n",
    "            self.old_passwords.append(new_password)\n",
    "\n",
    "    def is_correct(self, password):\n",
    "        return password == self.get_password()\n"
   ]
  },
  {
   "cell_type": "code",
   "execution_count": 72,
   "id": "4a4184fb",
   "metadata": {},
   "outputs": [
    {
     "name": "stdout",
     "output_type": "stream",
     "text": [
      "newPassword456\n",
      "True\n",
      "False\n"
     ]
    }
   ],
   "source": [
    "pm = Password_manager()\n",
    "pm.set_password(\"password123\")\n",
    "pm.set_password(\"newPassword456\")\n",
    "print(pm.get_password())\n",
    "print(pm.is_correct(\"newPassword456\")) \n",
    "print(pm.is_correct(\"password123\")) "
   ]
  },
  {
   "cell_type": "code",
   "execution_count": null,
   "id": "7f6d0ffc",
   "metadata": {},
   "outputs": [],
   "source": []
  },
  {
   "cell_type": "markdown",
   "id": "f58ce11a",
   "metadata": {},
   "source": [
    "\n",
    "\"Create a class, using __init__ method variables and display the name,age, rollno, dept name.\""
   ]
  },
  {
   "cell_type": "code",
   "execution_count": 74,
   "id": "ad548249",
   "metadata": {},
   "outputs": [
    {
     "name": "stdout",
     "output_type": "stream",
     "text": [
      "Name:  Doe\n",
      "Age: 21\n",
      "Roll number: 123456\n",
      "Department name: Computer Science\n"
     ]
    }
   ],
   "source": [
    "class Student:\n",
    "    def __init__(self, name, age, rollno, dept_name):\n",
    "        self.name = name\n",
    "        self.age = age\n",
    "        self.rollno = rollno\n",
    "        self.dept_name = dept_name\n",
    "        \n",
    "    def display_info(self):\n",
    "        print(\"Name:\", self.name)\n",
    "        print(\"Age:\", self.age)\n",
    "        print(\"Roll number:\", self.rollno)\n",
    "        print(\"Department name:\", self.dept_name)\n",
    "\n",
    "student = Student(\" Doe\", 21, 123456, \"Computer Science\")\n",
    "student.display_info()\n"
   ]
  },
  {
   "cell_type": "code",
   "execution_count": null,
   "id": "40af8b3d",
   "metadata": {},
   "outputs": [],
   "source": []
  },
  {
   "cell_type": "markdown",
   "id": "25065fd1",
   "metadata": {},
   "source": [
    "\"Create a class called student, access class variables in instance method and outside class and display the name,age,salary, dept name.\"\n"
   ]
  },
  {
   "cell_type": "code",
   "execution_count": 75,
   "id": "24c61ee1",
   "metadata": {},
   "outputs": [
    {
     "name": "stdout",
     "output_type": "stream",
     "text": [
      "Name: John Doe\n",
      "Age: 24\n",
      "Salary: 50000\n",
      "Department Name: Engineering\n"
     ]
    }
   ],
   "source": [
    "class Student:\n",
    "    dept_name = \"Engineering\"\n",
    "    \n",
    "    def __init__(self, name, age, salary):\n",
    "        self.name = name\n",
    "        self.age = age\n",
    "        self.salary = salary\n",
    "        \n",
    "    def display(self):\n",
    "        print(f\"Name: {self.name}\")\n",
    "        print(f\"Age: {self.age}\")\n",
    "        print(f\"Salary: {self.salary}\")\n",
    "        print(f\"Department Name: {self.dept_name}\")\n",
    "\n",
    "\n",
    "student1 = Student(\"John Doe\", 24, 50000)\n",
    "\n",
    "student1.display()\n"
   ]
  },
  {
   "cell_type": "markdown",
   "id": "4adcc997",
   "metadata": {},
   "source": [
    "\n",
    "\"Write a class called Complex which takes the real and imaginary values of complex numbers. Write different methods to perform addition, subtraction\""
   ]
  },
  {
   "cell_type": "code",
   "execution_count": 76,
   "id": "6d28b9b4",
   "metadata": {},
   "outputs": [
    {
     "name": "stdout",
     "output_type": "stream",
     "text": [
      "4 + 6i\n",
      "-2 + -2i\n"
     ]
    }
   ],
   "source": [
    "class Complex:\n",
    "    def __init__(self, real, imag):\n",
    "        self.real = real\n",
    "        self.imag = imag\n",
    "\n",
    "    def add(self, other):\n",
    "        return Complex(self.real + other.real, self.imag + other.imag)\n",
    "\n",
    "    def sub(self, other):\n",
    "        return Complex(self.real - other.real, self.imag - other.imag)\n",
    "\n",
    "    def __str__(self):\n",
    "        return str(self.real) + \" + \" + str(self.imag) + \"i\"\n",
    "\n",
    "c1 = Complex(1, 2)\n",
    "c2 = Complex(3, 4)\n",
    "print(c1.add(c2))\n",
    "print(c1.sub(c2))\n"
   ]
  },
  {
   "cell_type": "code",
   "execution_count": null,
   "id": "bc2152c7",
   "metadata": {},
   "outputs": [],
   "source": []
  },
  {
   "cell_type": "code",
   "execution_count": null,
   "id": "028f5c57",
   "metadata": {},
   "outputs": [],
   "source": []
  },
  {
   "cell_type": "code",
   "execution_count": null,
   "id": "d065fd56",
   "metadata": {},
   "outputs": [],
   "source": []
  },
  {
   "cell_type": "markdown",
   "id": "d9fc5631",
   "metadata": {},
   "source": [
    "\n",
    "\n",
    "\"Define a class which has at least two methods: getString: to get a string from console input printString: to print the string in upper case. Also please include simple test function to test the class methods.\""
   ]
  },
  {
   "cell_type": "code",
   "execution_count": 66,
   "id": "07a86d99",
   "metadata": {},
   "outputs": [
    {
     "name": "stdout",
     "output_type": "stream",
     "text": [
      "Enter a string: QQ\n",
      "QQ\n"
     ]
    }
   ],
   "source": [
    "class StringOperation:\n",
    "    def __init__(self):\n",
    "        self.str = \"\"\n",
    "    \n",
    "    def getString(self):\n",
    "        self.str = input(\"Enter a string: \")\n",
    "    \n",
    "    def printString(self):\n",
    "        print(self.str.upper())\n",
    "        \n",
    "    def test(self):\n",
    "        self.getString()\n",
    "        self.printString()\n",
    "        \n",
    "# test the class\n",
    "string_obj = StringOperation()\n",
    "string_obj.test()\n"
   ]
  },
  {
   "cell_type": "code",
   "execution_count": null,
   "id": "37a63714",
   "metadata": {},
   "outputs": [],
   "source": []
  },
  {
   "cell_type": "code",
   "execution_count": null,
   "id": "f6f40461",
   "metadata": {},
   "outputs": [],
   "source": []
  },
  {
   "cell_type": "code",
   "execution_count": null,
   "id": "010d7a69",
   "metadata": {},
   "outputs": [],
   "source": []
  },
  {
   "cell_type": "code",
   "execution_count": null,
   "id": "cb3b55ec",
   "metadata": {},
   "outputs": [],
   "source": []
  },
  {
   "cell_type": "markdown",
   "id": "ea5bde9e",
   "metadata": {},
   "source": [
    "\n",
    "\n",
    "\"Write a Python class to convert an integer to a roman numeral.\""
   ]
  },
  {
   "cell_type": "code",
   "execution_count": null,
   "id": "bef224ed",
   "metadata": {},
   "outputs": [],
   "source": []
  },
  {
   "cell_type": "code",
   "execution_count": null,
   "id": "17c0f522",
   "metadata": {},
   "outputs": [],
   "source": []
  },
  {
   "cell_type": "code",
   "execution_count": null,
   "id": "8d063a67",
   "metadata": {},
   "outputs": [],
   "source": []
  },
  {
   "cell_type": "code",
   "execution_count": null,
   "id": "7d1b1795",
   "metadata": {},
   "outputs": [],
   "source": []
  },
  {
   "cell_type": "markdown",
   "id": "5518a5f9",
   "metadata": {},
   "source": [
    "\n",
    "\n",
    "\"Create a class grade, which takes subjects name and marks as input. Create a method inside the class which describes whether the student passed the subject or not.\""
   ]
  },
  {
   "cell_type": "code",
   "execution_count": null,
   "id": "631002b5",
   "metadata": {},
   "outputs": [],
   "source": [
    "class Grade:\n",
    "    def __init__(self, subject_name, marks):\n",
    "        self.subject_name = subject_name\n",
    "        self.marks = marks\n",
    "\n",
    "    def pass_or_fail(self):\n",
    "        if self.marks >= 50:\n",
    "            return \"Pass\"\n",
    "        else:\n",
    "            return \"Fail\"\n",
    "\n",
    "subject_name = input(\"Enter the subject name: \")\n",
    "marks = int(input(\"Enter the marks: \"))\n",
    "\n",
    "grade = Grade(subject_name, marks)\n",
    "\n",
    "print(\"Subject Name: \", grade.subject_name)\n",
    "print(\"Marks: \", grade.marks)\n",
    "print(\"Result: \", grade.pass_or_fail())\n"
   ]
  },
  {
   "cell_type": "code",
   "execution_count": null,
   "id": "10f0a074",
   "metadata": {},
   "outputs": [],
   "source": []
  },
  {
   "cell_type": "code",
   "execution_count": null,
   "id": "50afa86c",
   "metadata": {},
   "outputs": [],
   "source": []
  },
  {
   "cell_type": "markdown",
   "id": "3de944db",
   "metadata": {},
   "source": [
    "\n",
    "\n",
    "\"Create a Vehicle class, take seat capacity as inheritance class and user input the name of the vehicle, mileage of the vehicle and model of the vehicle.\""
   ]
  },
  {
   "cell_type": "code",
   "execution_count": null,
   "id": "b2a947e8",
   "metadata": {},
   "outputs": [],
   "source": [
    "class SeatCapacity:\n",
    "    def __init__(self, seat_capacity):\n",
    "        self.seat_capacity = seat_capacity\n",
    "\n",
    "class Vehicle(SeatCapacity):\n",
    "    def __init__(self, name, mileage, model, seat_capacity):\n",
    "        SeatCapacity.__init__(self, seat_capacity)\n",
    "        self.name = name\n",
    "        self.mileage = mileage\n",
    "        self.model = model\n",
    "\n",
    "vehicle_name = input(\"Enter the name of the vehicle: \")\n",
    "vehicle_mileage = input(\"Enter the mileage of the vehicle: \")\n",
    "vehicle_model = input(\"Enter the model of the vehicle: \")\n",
    "vehicle_seat_capacity = int(input(\"Enter the seat capacity of the vehicle: \"))\n",
    "\n",
    "vehicle = Vehicle(vehicle_name, vehicle_mileage, vehicle_model, vehicle_seat_capacity)\n",
    "\n",
    "print(\"Vehicle name: \", vehicle.name)\n",
    "print(\"Vehicle mileage: \", vehicle.mileage)\n",
    "print(\"Vehicle model: \", vehicle.model)\n",
    "print(\"Vehicle seat capacity: \", vehicle.seat_capacity)\n"
   ]
  },
  {
   "cell_type": "code",
   "execution_count": null,
   "id": "40bf3c94",
   "metadata": {},
   "outputs": [],
   "source": []
  },
  {
   "cell_type": "code",
   "execution_count": null,
   "id": "a0aed74e",
   "metadata": {},
   "outputs": [],
   "source": []
  },
  {
   "cell_type": "markdown",
   "id": "d22d924a",
   "metadata": {},
   "source": [
    "\n",
    "\n",
    "\"Define a class, create an operator overloading method and compare the two integers with arithmetic operators(>, < and =)\""
   ]
  },
  {
   "cell_type": "code",
   "execution_count": null,
   "id": "19fe9e89",
   "metadata": {},
   "outputs": [],
   "source": []
  },
  {
   "cell_type": "code",
   "execution_count": null,
   "id": "390f81ba",
   "metadata": {},
   "outputs": [],
   "source": []
  },
  {
   "cell_type": "code",
   "execution_count": null,
   "id": "3f4b5123",
   "metadata": {},
   "outputs": [],
   "source": []
  },
  {
   "cell_type": "code",
   "execution_count": null,
   "id": "64c41bc0",
   "metadata": {},
   "outputs": [],
   "source": []
  },
  {
   "cell_type": "markdown",
   "id": "9d6e6542",
   "metadata": {},
   "source": [
    "\n",
    "\n",
    "\"Create a class Car which takes the attributes make, model and year. Write method to display the make, model and year of car.\""
   ]
  },
  {
   "cell_type": "code",
   "execution_count": 59,
   "id": "88d44d13",
   "metadata": {},
   "outputs": [],
   "source": [
    "class car:\n",
    "    def __init__(self,make,model,year):\n",
    "        self.make=make\n",
    "        self.model=model\n",
    "        self.year=year\n",
    "        \n",
    "    def make(self):\n",
    "        return self.make\n",
    "    \n",
    "    def model(self):\n",
    "        return self.model\n",
    "    \n",
    "    def year(self):\n",
    "        return self.year\n",
    "    \n",
    "    "
   ]
  },
  {
   "cell_type": "code",
   "execution_count": 65,
   "id": "c5ca1a7b",
   "metadata": {},
   "outputs": [
    {
     "data": {
      "text/plain": [
       "2019"
      ]
     },
     "execution_count": 65,
     "metadata": {},
     "output_type": "execute_result"
    }
   ],
   "source": [
    "audi=car('high','q2',2019)\n",
    "\n",
    "audi.make\n",
    "audi.model\n",
    "audi.year"
   ]
  },
  {
   "cell_type": "code",
   "execution_count": null,
   "id": "994ad78a",
   "metadata": {},
   "outputs": [],
   "source": []
  },
  {
   "cell_type": "markdown",
   "id": "fac7aeaf",
   "metadata": {},
   "source": [
    "\n",
    "\n",
    "\"Write a Python Program to Create a Class in which One Method Accepts a String from the User and Another Prints it\""
   ]
  },
  {
   "cell_type": "code",
   "execution_count": 56,
   "id": "673bed11",
   "metadata": {},
   "outputs": [],
   "source": [
    "class method:\n",
    "    def __init__(self):\n",
    "        self.n=''\n",
    "        \n",
    "    def inputs(self):\n",
    "        self.n=input('enter the string : ')\n",
    "        \n",
    "    def output(self):\n",
    "        print('output : ',self.n)\n",
    "        "
   ]
  },
  {
   "cell_type": "code",
   "execution_count": 58,
   "id": "578a7ea5",
   "metadata": {},
   "outputs": [
    {
     "name": "stdout",
     "output_type": "stream",
     "text": [
      "enter the string : APPLE\n",
      "output :  APPLE\n"
     ]
    }
   ],
   "source": [
    "a=method()\n",
    "a.inputs()\n",
    "a.output()"
   ]
  },
  {
   "cell_type": "code",
   "execution_count": null,
   "id": "d52f819c",
   "metadata": {},
   "outputs": [],
   "source": []
  },
  {
   "cell_type": "markdown",
   "id": "6ce41fcc",
   "metadata": {},
   "source": [
    "\n",
    "\n",
    "\"Define a class Person and its two child classes: Male and Female. All classes have a method \"getGender\" which can print \"Male\" for Male class and \"Female\" for Female class.\""
   ]
  },
  {
   "cell_type": "code",
   "execution_count": 40,
   "id": "f7270d7f",
   "metadata": {},
   "outputs": [],
   "source": [
    "class Person:\n",
    "    def getGender(self):\n",
    "        pass\n",
    "\n",
    "class Male(Person):\n",
    "    def getGender(self):\n",
    "        print(\"Male\")\n",
    "\n",
    "class Female(Person):\n",
    "    def getGender(self):\n",
    "        print(\"Female\")\n"
   ]
  },
  {
   "cell_type": "code",
   "execution_count": 51,
   "id": "9961a12e",
   "metadata": {},
   "outputs": [
    {
     "name": "stdout",
     "output_type": "stream",
     "text": [
      "Male\n"
     ]
    }
   ],
   "source": [
    "a=Male()\n",
    "a.getGender()"
   ]
  },
  {
   "cell_type": "code",
   "execution_count": null,
   "id": "b36c07ca",
   "metadata": {},
   "outputs": [],
   "source": []
  },
  {
   "cell_type": "markdown",
   "id": "da8c1825",
   "metadata": {},
   "source": [
    "\n",
    "\n",
    "\"What is a class? Explain with example\""
   ]
  },
  {
   "cell_type": "markdown",
   "id": "38065626",
   "metadata": {},
   "source": [
    "Classes define the blueprint of an object, but they do not create an object themselves. To create an object, you need to instantiate a class, which is done by calling the class name as if it were a function."
   ]
  },
  {
   "cell_type": "code",
   "execution_count": 28,
   "id": "644382be",
   "metadata": {},
   "outputs": [],
   "source": [
    "class fruits:\n",
    "    def rate(price):\n",
    "        return price"
   ]
  },
  {
   "cell_type": "code",
   "execution_count": 29,
   "id": "90213b72",
   "metadata": {},
   "outputs": [
    {
     "data": {
      "text/plain": [
       "100"
      ]
     },
     "execution_count": 29,
     "metadata": {},
     "output_type": "execute_result"
    }
   ],
   "source": [
    "apple=fruits\n",
    "apple.rate(100)"
   ]
  },
  {
   "cell_type": "code",
   "execution_count": null,
   "id": "5be5ef96",
   "metadata": {},
   "outputs": [],
   "source": []
  },
  {
   "cell_type": "code",
   "execution_count": null,
   "id": "485e5501",
   "metadata": {},
   "outputs": [],
   "source": []
  }
 ],
 "metadata": {
  "kernelspec": {
   "display_name": "Python 3 (ipykernel)",
   "language": "python",
   "name": "python3"
  },
  "language_info": {
   "codemirror_mode": {
    "name": "ipython",
    "version": 3
   },
   "file_extension": ".py",
   "mimetype": "text/x-python",
   "name": "python",
   "nbconvert_exporter": "python",
   "pygments_lexer": "ipython3",
   "version": "3.9.12"
  }
 },
 "nbformat": 4,
 "nbformat_minor": 5
}
