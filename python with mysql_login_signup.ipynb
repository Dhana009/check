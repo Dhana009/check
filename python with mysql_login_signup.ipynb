{
 "cells": [
  {
   "cell_type": "code",
   "execution_count": 1,
   "id": "edf22079",
   "metadata": {},
   "outputs": [],
   "source": [
    "#create an account\n",
    "\n",
    "from tkinter import *\n",
    "from PIL import ImageTk\n",
    "from tkinter import messagebox\n",
    "import pymysql\n",
    "\n",
    "\n",
    "def clear():\n",
    "    emailbox.delete(0,END)\n",
    "    userbox.delete(0,END)\n",
    "    passbox.delete(0,END)\n",
    "    confpassbox.delete(0,END)\n",
    "    check.set(0)\n",
    "    root.destroy()\n",
    "    %run ./sigin.ipynb\n",
    "    \n",
    "def connect_database():\n",
    "    if emailbox.get()=='' or userbox.get()=='' or passbox.get()=='' or confpassbox.get()=='':\n",
    "        messagebox.showerror('Error','fields are empty')\n",
    "        \n",
    "    elif passbox.get() != confpassbox.get():\n",
    "        messagebox.showerror('Error','mismatch')\n",
    "\n",
    "    elif check.get()==0:\n",
    "        messagebox.showerror('Error','please accept terms and conditions')\n",
    "    \n",
    "    else: \n",
    "        try:\n",
    "            con=pymysql.connect(host='localhost',user='root',passwd='Qwerty123')\n",
    "            mycursor=con.cursor()\n",
    "        except:\n",
    "            messagebox.showerror('Error','database not connected')\n",
    "            return\n",
    "        \n",
    "        try:\n",
    "            query='create database userdata'\n",
    "            mycursor.execute(query)\n",
    "            query='use userdata'\n",
    "            mycursor.execute(query)\n",
    "            query='create table data(id int auto_increment primary key not null,email varchar(50),username varchar(100),password varchar(20))'\n",
    "            mycursor.execute(query)\n",
    "        except:\n",
    "            mycursor.execute('use userdata')\n",
    "            \n",
    "        query='select * from data where username=%s'\n",
    "        mycursor.execute(query,(userbox.get()))\n",
    "        row=mycursor.fetchone()\n",
    "        \n",
    "        if row!=None:\n",
    "            messagebox.showerror('Error','username already exists')\n",
    "        \n",
    "        else:\n",
    "            query='insert into data(email,username,password) values(%s,%s,%s)'\n",
    "            mycursor.execute(query,(emailbox.get(),userbox.get(),passbox.get()))\n",
    "            con.commit()\n",
    "            con.close()\n",
    "            messagebox.showinfo('success','registration is successfull')\n",
    "            clear()\n",
    "        \n",
    "    \n",
    "root=Tk()\n",
    "root.geometry('950x720+10+10')\n",
    "\n",
    "\n",
    "bgimage = ImageTk.PhotoImage(file='bg.jpg')\n",
    "bgimageplace = Label(root,image=bgimage)\n",
    "bgimageplace.place(x=0,y=0)\n",
    "\n",
    "mainframe=Frame(root,width=310,height=450,bg='white')\n",
    "mainframe.place(x=550,y=100)\n",
    "\n",
    "text=Label(mainframe,text='Create An Account',font=('Roboto',25),fg='red',bg='white')\n",
    "text.place(x=10,y=10)\n",
    "\n",
    "email = Label(mainframe,text='Email',font=('arial',12,'bold'),bg='white',fg='orange')\n",
    "email.place(x=20,y=60)\n",
    "\n",
    "emailbox = Entry(mainframe,bd=2,bg='skyblue')\n",
    "emailbox.place(x=20,y=85,width=250,height=30)\n",
    "\n",
    "username = Label(mainframe,text='Username',font=('arial',12,'bold'),bg='white',fg='orange')\n",
    "username.place(x=20,y=120)\n",
    "\n",
    "userbox = Entry(mainframe,bd=2,bg='skyblue')\n",
    "userbox.place(x=20,y=145,width=250,height=30)\n",
    "\n",
    "password = Label(mainframe,text='Password',font=('arial',12,'bold'),bg='white',fg='orange')\n",
    "password.place(x=20,y=180)\n",
    "\n",
    "passbox = Entry(mainframe,bd=2,bg='skyblue')\n",
    "passbox.place(x=20,y=205,width=250,height=30)\n",
    "\n",
    "confpassword = Label(mainframe,text='Confirm Password',font=('arial',12,'bold'),bg='white',fg='orange')\n",
    "confpassword.place(x=20,y=240)\n",
    "\n",
    "confpassbox = Entry(mainframe,bd=2,bg='skyblue')\n",
    "confpassbox.place(x=20,y=265,width=250,height=30)\n",
    "\n",
    "check=IntVar()\n",
    "agree=Checkbutton(mainframe,text='I agree to terms and conditions',font=('times new roman',15,'bold'),\n",
    "                 fg='red',bg='white',variable=check)\n",
    "agree.place(x=10,y=320)\n",
    "\n",
    "\n",
    "signup = Button(mainframe,text='Signup',fg='white',bg='red',font=('times new roman',15,'bold'),\n",
    "               bd=2,activebackground='red',cursor='hand2',command=connect_database)\n",
    "signup.place(x=30,y=370,width=250,height=50)\n",
    "\n",
    "root.mainloop()"
   ]
  },
  {
   "cell_type": "code",
   "execution_count": null,
   "id": "ae00fb44",
   "metadata": {},
   "outputs": [],
   "source": []
  },
  {
   "cell_type": "code",
   "execution_count": null,
   "id": "197d9379",
   "metadata": {},
   "outputs": [],
   "source": [
    "#mysql\n"
   ]
  },
  {
   "cell_type": "code",
   "execution_count": 18,
   "id": "10ff151f",
   "metadata": {},
   "outputs": [],
   "source": [
    "import mysql.connector"
   ]
  },
  {
   "cell_type": "code",
   "execution_count": 28,
   "id": "6d358c38",
   "metadata": {},
   "outputs": [
    {
     "data": {
      "text/plain": [
       "[('apple',),\n",
       " ('ecommerce',),\n",
       " ('employees',),\n",
       " ('information_schema',),\n",
       " ('mysql',),\n",
       " ('performance_schema',),\n",
       " ('sakila',),\n",
       " ('sakilabackup',),\n",
       " ('sys',),\n",
       " ('world',)]"
      ]
     },
     "execution_count": 28,
     "metadata": {},
     "output_type": "execute_result"
    }
   ],
   "source": [
    "a=mysql.connector.connect(host='localhost',user='root',passwd='Qwerty123')\n",
    "b=a.cursor()\n",
    "b.execute('show databases')\n",
    "b.fetchall()"
   ]
  },
  {
   "cell_type": "code",
   "execution_count": null,
   "id": "3f2a84b9",
   "metadata": {},
   "outputs": [],
   "source": []
  },
  {
   "cell_type": "code",
   "execution_count": null,
   "id": "af7ad042",
   "metadata": {},
   "outputs": [],
   "source": []
  },
  {
   "cell_type": "code",
   "execution_count": null,
   "id": "a9f91562",
   "metadata": {},
   "outputs": [],
   "source": []
  },
  {
   "cell_type": "code",
   "execution_count": null,
   "id": "8cbc57d8",
   "metadata": {},
   "outputs": [],
   "source": []
  }
 ],
 "metadata": {
  "kernelspec": {
   "display_name": "Python 3 (ipykernel)",
   "language": "python",
   "name": "python3"
  },
  "language_info": {
   "codemirror_mode": {
    "name": "ipython",
    "version": 3
   },
   "file_extension": ".py",
   "mimetype": "text/x-python",
   "name": "python",
   "nbconvert_exporter": "python",
   "pygments_lexer": "ipython3",
   "version": "3.9.12"
  }
 },
 "nbformat": 4,
 "nbformat_minor": 5
}
