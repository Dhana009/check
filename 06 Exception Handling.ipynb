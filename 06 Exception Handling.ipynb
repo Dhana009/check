{
 "cells": [
  {
   "cell_type": "markdown",
   "id": "8c7ed8f3",
   "metadata": {},
   "source": [
    "Exception handling is a process in Python that allows you to handle errors and exceptional conditions in your program without causing it to crash. It allows you to write code that can continue to run even when an error occurs.\n",
    "\n",
    "In Python, exceptions are raised when something goes wrong during the execution of a program. When an exception is raised, the normal flow of the program is interrupted and the program jumps to the code that is designated to handle the exception.\n",
    "\n",
    "Here's an example of a simple program that raises an exception when a division by zero occurs:"
   ]
  },
  {
   "cell_type": "code",
   "execution_count": 1,
   "id": "f4919a87",
   "metadata": {},
   "outputs": [
    {
     "name": "stdout",
     "output_type": "stream",
     "text": [
      "The result is 5.0\n",
      "Cannot divide by zero.\n"
     ]
    }
   ],
   "source": [
    "def divide(a, b):\n",
    "    try:\n",
    "        result = a / b\n",
    "    except ZeroDivisionError:\n",
    "        print(\"Cannot divide by zero.\")\n",
    "    else:\n",
    "        print(f\"The result is {result}\")\n",
    "\n",
    "divide(10, 2)  # Output: The result is 5.0\n",
    "divide(10, 0)  # Output: Cannot divide by zero.\n"
   ]
  },
  {
   "cell_type": "markdown",
   "id": "fbbf1060",
   "metadata": {},
   "source": [
    "In the above example, the try block contains the code that may raise an exception. In this case, it's the division operation. The except block contains the code that will be executed if an exception is raised. In this case, it's the message \"Cannot divide by zero.\"\n",
    "\n",
    "else block will be executed if the try block runs without any exception.\n",
    "\n",
    "You can also use finally block which will run regardless of whether an exception is raised or not."
   ]
  },
  {
   "cell_type": "code",
   "execution_count": 4,
   "id": "fcc7288c",
   "metadata": {},
   "outputs": [],
   "source": [
    "try:\n",
    "    # some code\n",
    "    pass\n",
    "except ExceptionType:\n",
    "    # code to handle the exception\n",
    "    pass\n",
    "else:\n",
    "    # code excetues when try runs\n",
    "finally:\n",
    "    # code that will always be executed\n",
    "    pass\n"
   ]
  },
  {
   "cell_type": "markdown",
   "id": "01db8f48",
   "metadata": {},
   "source": [
    "The raise statement in Python is used to raise an exception. It allows you to trigger an exception explicitly in your code, rather than waiting for Python to raise one on its own.\n",
    "\n",
    "The basic syntax for using the raise statement is:"
   ]
  },
  {
   "cell_type": "code",
   "execution_count": 12,
   "id": "0558700a",
   "metadata": {},
   "outputs": [
    {
     "ename": "NameError",
     "evalue": "name 'ExceptionType' is not defined",
     "output_type": "error",
     "traceback": [
      "\u001b[1;31m---------------------------------------------------------------------------\u001b[0m",
      "\u001b[1;31mNameError\u001b[0m                                 Traceback (most recent call last)",
      "Input \u001b[1;32mIn [12]\u001b[0m, in \u001b[0;36m<cell line: 1>\u001b[1;34m()\u001b[0m\n\u001b[1;32m----> 1\u001b[0m \u001b[38;5;28;01mraise\u001b[39;00m \u001b[43mExceptionType\u001b[49m(\u001b[38;5;124m\"\u001b[39m\u001b[38;5;124mError message\u001b[39m\u001b[38;5;124m\"\u001b[39m)\n",
      "\u001b[1;31mNameError\u001b[0m: name 'ExceptionType' is not defined"
     ]
    }
   ],
   "source": [
    "raise ExceptionType(\"Error message\")\n"
   ]
  },
  {
   "cell_type": "markdown",
   "id": "39c227bf",
   "metadata": {},
   "source": [
    "Here are a few examples of how the raise statement can be used in exception handling:\n",
    "\n",
    "Raise a ValueError if a value passed to a function is out of range:"
   ]
  },
  {
   "cell_type": "code",
   "execution_count": 13,
   "id": "252740e0",
   "metadata": {},
   "outputs": [
    {
     "ename": "ValueError",
     "evalue": "Age must be between 0 and 150.",
     "output_type": "error",
     "traceback": [
      "\u001b[1;31m---------------------------------------------------------------------------\u001b[0m",
      "\u001b[1;31mValueError\u001b[0m                                Traceback (most recent call last)",
      "Input \u001b[1;32mIn [13]\u001b[0m, in \u001b[0;36m<cell line: 6>\u001b[1;34m()\u001b[0m\n\u001b[0;32m      3\u001b[0m         \u001b[38;5;28;01mraise\u001b[39;00m \u001b[38;5;167;01mValueError\u001b[39;00m(\u001b[38;5;124m\"\u001b[39m\u001b[38;5;124mAge must be between 0 and 150.\u001b[39m\u001b[38;5;124m\"\u001b[39m)\n\u001b[0;32m      4\u001b[0m     \u001b[38;5;66;03m# rest of the code\u001b[39;00m\n\u001b[1;32m----> 6\u001b[0m \u001b[43mset_age\u001b[49m\u001b[43m(\u001b[49m\u001b[38;5;241;43m200\u001b[39;49m\u001b[43m)\u001b[49m\n",
      "Input \u001b[1;32mIn [13]\u001b[0m, in \u001b[0;36mset_age\u001b[1;34m(age)\u001b[0m\n\u001b[0;32m      1\u001b[0m \u001b[38;5;28;01mdef\u001b[39;00m \u001b[38;5;21mset_age\u001b[39m(age):\n\u001b[0;32m      2\u001b[0m     \u001b[38;5;28;01mif\u001b[39;00m age \u001b[38;5;241m<\u001b[39m \u001b[38;5;241m0\u001b[39m \u001b[38;5;129;01mor\u001b[39;00m age \u001b[38;5;241m>\u001b[39m \u001b[38;5;241m150\u001b[39m:\n\u001b[1;32m----> 3\u001b[0m         \u001b[38;5;28;01mraise\u001b[39;00m \u001b[38;5;167;01mValueError\u001b[39;00m(\u001b[38;5;124m\"\u001b[39m\u001b[38;5;124mAge must be between 0 and 150.\u001b[39m\u001b[38;5;124m\"\u001b[39m)\n",
      "\u001b[1;31mValueError\u001b[0m: Age must be between 0 and 150."
     ]
    }
   ],
   "source": [
    "def set_age(age):\n",
    "    if age < 0 or age > 150:\n",
    "        raise ValueError(\"Age must be between 0 and 150.\")\n",
    "    # rest of the code\n",
    "\n",
    "set_age(200)  # Output: ValueError: Age must be between 0 and 150.\n"
   ]
  },
  {
   "cell_type": "markdown",
   "id": "7783a167",
   "metadata": {},
   "source": [
    "Raise a FileNotFoundError if a file is not found:"
   ]
  },
  {
   "cell_type": "code",
   "execution_count": 14,
   "id": "ced3ef4c",
   "metadata": {},
   "outputs": [
    {
     "ename": "FileNotFoundError",
     "evalue": "File does not exist.",
     "output_type": "error",
     "traceback": [
      "\u001b[1;31m---------------------------------------------------------------------------\u001b[0m",
      "\u001b[1;31mFileNotFoundError\u001b[0m                         Traceback (most recent call last)",
      "Input \u001b[1;32mIn [14]\u001b[0m, in \u001b[0;36m<cell line: 1>\u001b[1;34m()\u001b[0m\n\u001b[0;32m      1\u001b[0m \u001b[38;5;28;01mtry\u001b[39;00m:\n\u001b[1;32m----> 2\u001b[0m     \u001b[38;5;28;01mwith\u001b[39;00m \u001b[38;5;28;43mopen\u001b[39;49m\u001b[43m(\u001b[49m\u001b[38;5;124;43m\"\u001b[39;49m\u001b[38;5;124;43mnon_existent_file.txt\u001b[39;49m\u001b[38;5;124;43m\"\u001b[39;49m\u001b[43m)\u001b[49m \u001b[38;5;28;01mas\u001b[39;00m f:\n\u001b[0;32m      3\u001b[0m         content \u001b[38;5;241m=\u001b[39m f\u001b[38;5;241m.\u001b[39mread()\n",
      "\u001b[1;31mFileNotFoundError\u001b[0m: [Errno 2] No such file or directory: 'non_existent_file.txt'",
      "\nDuring handling of the above exception, another exception occurred:\n",
      "\u001b[1;31mFileNotFoundError\u001b[0m                         Traceback (most recent call last)",
      "Input \u001b[1;32mIn [14]\u001b[0m, in \u001b[0;36m<cell line: 1>\u001b[1;34m()\u001b[0m\n\u001b[0;32m      3\u001b[0m         content \u001b[38;5;241m=\u001b[39m f\u001b[38;5;241m.\u001b[39mread()\n\u001b[0;32m      4\u001b[0m \u001b[38;5;28;01mexcept\u001b[39;00m \u001b[38;5;167;01mFileNotFoundError\u001b[39;00m:\n\u001b[1;32m----> 5\u001b[0m     \u001b[38;5;28;01mraise\u001b[39;00m \u001b[38;5;167;01mFileNotFoundError\u001b[39;00m(\u001b[38;5;124m\"\u001b[39m\u001b[38;5;124mFile does not exist.\u001b[39m\u001b[38;5;124m\"\u001b[39m)\n",
      "\u001b[1;31mFileNotFoundError\u001b[0m: File does not exist."
     ]
    }
   ],
   "source": [
    "try:\n",
    "    with open(\"non_existent_file.txt\") as f:\n",
    "        content = f.read()\n",
    "except FileNotFoundError:\n",
    "    raise FileNotFoundError(\"File does not exist.\")\n"
   ]
  },
  {
   "cell_type": "markdown",
   "id": "3bf2c9d6",
   "metadata": {},
   "source": [
    "Raise a KeyError if a key is not found in a dictionary:"
   ]
  },
  {
   "cell_type": "code",
   "execution_count": 15,
   "id": "a9e70950",
   "metadata": {},
   "outputs": [
    {
     "ename": "KeyError",
     "evalue": "\"Key 'address' not found in dictionary.\"",
     "output_type": "error",
     "traceback": [
      "\u001b[1;31m---------------------------------------------------------------------------\u001b[0m",
      "\u001b[1;31mKeyError\u001b[0m                                  Traceback (most recent call last)",
      "Input \u001b[1;32mIn [15]\u001b[0m, in \u001b[0;36m<cell line: 2>\u001b[1;34m()\u001b[0m\n\u001b[0;32m      2\u001b[0m \u001b[38;5;28;01mtry\u001b[39;00m:\n\u001b[1;32m----> 3\u001b[0m     address \u001b[38;5;241m=\u001b[39m \u001b[43mperson\u001b[49m\u001b[43m[\u001b[49m\u001b[38;5;124;43m'\u001b[39;49m\u001b[38;5;124;43maddress\u001b[39;49m\u001b[38;5;124;43m'\u001b[39;49m\u001b[43m]\u001b[49m\n\u001b[0;32m      4\u001b[0m \u001b[38;5;28;01mexcept\u001b[39;00m \u001b[38;5;167;01mKeyError\u001b[39;00m:\n",
      "\u001b[1;31mKeyError\u001b[0m: 'address'",
      "\nDuring handling of the above exception, another exception occurred:\n",
      "\u001b[1;31mKeyError\u001b[0m                                  Traceback (most recent call last)",
      "Input \u001b[1;32mIn [15]\u001b[0m, in \u001b[0;36m<cell line: 2>\u001b[1;34m()\u001b[0m\n\u001b[0;32m      3\u001b[0m     address \u001b[38;5;241m=\u001b[39m person[\u001b[38;5;124m'\u001b[39m\u001b[38;5;124maddress\u001b[39m\u001b[38;5;124m'\u001b[39m]\n\u001b[0;32m      4\u001b[0m \u001b[38;5;28;01mexcept\u001b[39;00m \u001b[38;5;167;01mKeyError\u001b[39;00m:\n\u001b[1;32m----> 5\u001b[0m     \u001b[38;5;28;01mraise\u001b[39;00m \u001b[38;5;167;01mKeyError\u001b[39;00m(\u001b[38;5;124m\"\u001b[39m\u001b[38;5;124mKey \u001b[39m\u001b[38;5;124m'\u001b[39m\u001b[38;5;124maddress\u001b[39m\u001b[38;5;124m'\u001b[39m\u001b[38;5;124m not found in dictionary.\u001b[39m\u001b[38;5;124m\"\u001b[39m)\n",
      "\u001b[1;31mKeyError\u001b[0m: \"Key 'address' not found in dictionary.\""
     ]
    }
   ],
   "source": [
    "person = {'name': 'John', 'age': 25}\n",
    "try:\n",
    "    address = person['address']\n",
    "except KeyError:\n",
    "    raise KeyError(\"Key 'address' not found in dictionary.\")\n"
   ]
  },
  {
   "cell_type": "markdown",
   "id": "ce0a4a0e",
   "metadata": {},
   "source": [
    "Raise a custom exception if a certain condition is not met:"
   ]
  },
  {
   "cell_type": "code",
   "execution_count": 16,
   "id": "045a51b1",
   "metadata": {},
   "outputs": [
    {
     "ename": "MyException",
     "evalue": "Value must be greater than zero.",
     "output_type": "error",
     "traceback": [
      "\u001b[1;31m---------------------------------------------------------------------------\u001b[0m",
      "\u001b[1;31mMyException\u001b[0m                               Traceback (most recent call last)",
      "Input \u001b[1;32mIn [16]\u001b[0m, in \u001b[0;36m<cell line: 8>\u001b[1;34m()\u001b[0m\n\u001b[0;32m      5\u001b[0m     \u001b[38;5;28;01mif\u001b[39;00m value \u001b[38;5;241m<\u001b[39m \u001b[38;5;241m0\u001b[39m:\n\u001b[0;32m      6\u001b[0m         \u001b[38;5;28;01mraise\u001b[39;00m MyException(\u001b[38;5;124m\"\u001b[39m\u001b[38;5;124mValue must be greater than zero.\u001b[39m\u001b[38;5;124m\"\u001b[39m)\n\u001b[1;32m----> 8\u001b[0m \u001b[43mcheck_value\u001b[49m\u001b[43m(\u001b[49m\u001b[38;5;241;43m-\u001b[39;49m\u001b[38;5;241;43m5\u001b[39;49m\u001b[43m)\u001b[49m\n",
      "Input \u001b[1;32mIn [16]\u001b[0m, in \u001b[0;36mcheck_value\u001b[1;34m(value)\u001b[0m\n\u001b[0;32m      4\u001b[0m \u001b[38;5;28;01mdef\u001b[39;00m \u001b[38;5;21mcheck_value\u001b[39m(value):\n\u001b[0;32m      5\u001b[0m     \u001b[38;5;28;01mif\u001b[39;00m value \u001b[38;5;241m<\u001b[39m \u001b[38;5;241m0\u001b[39m:\n\u001b[1;32m----> 6\u001b[0m         \u001b[38;5;28;01mraise\u001b[39;00m MyException(\u001b[38;5;124m\"\u001b[39m\u001b[38;5;124mValue must be greater than zero.\u001b[39m\u001b[38;5;124m\"\u001b[39m)\n",
      "\u001b[1;31mMyException\u001b[0m: Value must be greater than zero."
     ]
    }
   ],
   "source": [
    "class MyException(Exception):\n",
    "    pass\n",
    "\n",
    "def check_value(value):\n",
    "    if value < 0:\n",
    "        raise MyException(\"Value must be greater than zero.\")\n",
    "\n",
    "check_value(-5)  # Output: MyException: Value must be greater than zero.\n"
   ]
  },
  {
   "cell_type": "code",
   "execution_count": null,
   "id": "4e282428",
   "metadata": {},
   "outputs": [],
   "source": []
  },
  {
   "cell_type": "code",
   "execution_count": null,
   "id": "e7bb80d3",
   "metadata": {},
   "outputs": [],
   "source": []
  },
  {
   "cell_type": "markdown",
   "id": "c2106262",
   "metadata": {},
   "source": [
    "In Python, there are several built-in exceptions that you can use to handle different types of errors. Here are some of the most common exception types:\n",
    "\n",
    "AttributeError: This exception is raised when an attribute reference or assignment fails. For example, trying to access an attribute that doesn't exist:"
   ]
  },
  {
   "cell_type": "code",
   "execution_count": 5,
   "id": "6d7a715e",
   "metadata": {},
   "outputs": [
    {
     "ename": "AttributeError",
     "evalue": "'Person' object has no attribute 'name'",
     "output_type": "error",
     "traceback": [
      "\u001b[1;31m---------------------------------------------------------------------------\u001b[0m",
      "\u001b[1;31mAttributeError\u001b[0m                            Traceback (most recent call last)",
      "Input \u001b[1;32mIn [5]\u001b[0m, in \u001b[0;36m<cell line: 5>\u001b[1;34m()\u001b[0m\n\u001b[0;32m      2\u001b[0m     \u001b[38;5;28;01mpass\u001b[39;00m\n\u001b[0;32m      4\u001b[0m p \u001b[38;5;241m=\u001b[39m Person()\n\u001b[1;32m----> 5\u001b[0m \u001b[38;5;28mprint\u001b[39m(\u001b[43mp\u001b[49m\u001b[38;5;241;43m.\u001b[39;49m\u001b[43mname\u001b[49m)\n",
      "\u001b[1;31mAttributeError\u001b[0m: 'Person' object has no attribute 'name'"
     ]
    }
   ],
   "source": [
    "class Person:\n",
    "    pass\n",
    "\n",
    "p = Person()\n",
    "print(p.name) \n",
    "\n",
    "# Output: AttributeError: 'Person' object has no attribute 'name'\n"
   ]
  },
  {
   "cell_type": "markdown",
   "id": "c91ab508",
   "metadata": {},
   "source": [
    "IOError: This exception is raised when an input/output operation fails, such as when a file cannot be opened or read. For example, trying to read a file that doesn't exist:"
   ]
  },
  {
   "cell_type": "code",
   "execution_count": 6,
   "id": "fc147d15",
   "metadata": {},
   "outputs": [
    {
     "name": "stdout",
     "output_type": "stream",
     "text": [
      "File does not exist.\n"
     ]
    }
   ],
   "source": [
    "try:\n",
    "    with open(\"non_existent_file.txt\") as f:\n",
    "        content = f.read()\n",
    "except IOError:\n",
    "    print(\"File does not exist.\")\n"
   ]
  },
  {
   "cell_type": "markdown",
   "id": "91a08d35",
   "metadata": {},
   "source": [
    "IndexError: This exception is raised when a list or string index is out of range. For example, trying to access an element of a list using an index that is out of range:\n"
   ]
  },
  {
   "cell_type": "code",
   "execution_count": 7,
   "id": "b9e55e86",
   "metadata": {},
   "outputs": [
    {
     "ename": "IndexError",
     "evalue": "list index out of range",
     "output_type": "error",
     "traceback": [
      "\u001b[1;31m---------------------------------------------------------------------------\u001b[0m",
      "\u001b[1;31mIndexError\u001b[0m                                Traceback (most recent call last)",
      "Input \u001b[1;32mIn [7]\u001b[0m, in \u001b[0;36m<cell line: 2>\u001b[1;34m()\u001b[0m\n\u001b[0;32m      1\u001b[0m numbers \u001b[38;5;241m=\u001b[39m [\u001b[38;5;241m1\u001b[39m, \u001b[38;5;241m2\u001b[39m, \u001b[38;5;241m3\u001b[39m]\n\u001b[1;32m----> 2\u001b[0m \u001b[38;5;28mprint\u001b[39m(\u001b[43mnumbers\u001b[49m\u001b[43m[\u001b[49m\u001b[38;5;241;43m3\u001b[39;49m\u001b[43m]\u001b[49m)\n",
      "\u001b[1;31mIndexError\u001b[0m: list index out of range"
     ]
    }
   ],
   "source": [
    "numbers = [1, 2, 3]\n",
    "print(numbers[3])  # Output: IndexError: list index out of range\n"
   ]
  },
  {
   "cell_type": "markdown",
   "id": "7d5ffd18",
   "metadata": {},
   "source": [
    "KeyError: This exception is raised when a dictionary key is not found. For example, trying to access a key in a dictionary that doesn't exist:"
   ]
  },
  {
   "cell_type": "code",
   "execution_count": 8,
   "id": "b86d1108",
   "metadata": {},
   "outputs": [
    {
     "ename": "KeyError",
     "evalue": "'address'",
     "output_type": "error",
     "traceback": [
      "\u001b[1;31m---------------------------------------------------------------------------\u001b[0m",
      "\u001b[1;31mKeyError\u001b[0m                                  Traceback (most recent call last)",
      "Input \u001b[1;32mIn [8]\u001b[0m, in \u001b[0;36m<cell line: 2>\u001b[1;34m()\u001b[0m\n\u001b[0;32m      1\u001b[0m person \u001b[38;5;241m=\u001b[39m {\u001b[38;5;124m'\u001b[39m\u001b[38;5;124mname\u001b[39m\u001b[38;5;124m'\u001b[39m: \u001b[38;5;124m'\u001b[39m\u001b[38;5;124mJohn\u001b[39m\u001b[38;5;124m'\u001b[39m, \u001b[38;5;124m'\u001b[39m\u001b[38;5;124mage\u001b[39m\u001b[38;5;124m'\u001b[39m: \u001b[38;5;241m25\u001b[39m}\n\u001b[1;32m----> 2\u001b[0m \u001b[38;5;28mprint\u001b[39m(\u001b[43mperson\u001b[49m\u001b[43m[\u001b[49m\u001b[38;5;124;43m'\u001b[39;49m\u001b[38;5;124;43maddress\u001b[39;49m\u001b[38;5;124;43m'\u001b[39;49m\u001b[43m]\u001b[49m)\n",
      "\u001b[1;31mKeyError\u001b[0m: 'address'"
     ]
    }
   ],
   "source": [
    "person = {'name': 'John', 'age': 25}\n",
    "print(person['address'])  # Output: KeyError: 'address'\n"
   ]
  },
  {
   "cell_type": "markdown",
   "id": "8afd8db9",
   "metadata": {},
   "source": [
    "NameError: This exception is raised when a variable or function is not defined. For example, using a variable that hasn't been defined:"
   ]
  },
  {
   "cell_type": "code",
   "execution_count": 9,
   "id": "85c0348a",
   "metadata": {},
   "outputs": [
    {
     "ename": "NameError",
     "evalue": "name 'x' is not defined",
     "output_type": "error",
     "traceback": [
      "\u001b[1;31m---------------------------------------------------------------------------\u001b[0m",
      "\u001b[1;31mNameError\u001b[0m                                 Traceback (most recent call last)",
      "Input \u001b[1;32mIn [9]\u001b[0m, in \u001b[0;36m<cell line: 1>\u001b[1;34m()\u001b[0m\n\u001b[1;32m----> 1\u001b[0m \u001b[38;5;28mprint\u001b[39m(\u001b[43mx\u001b[49m)\n",
      "\u001b[1;31mNameError\u001b[0m: name 'x' is not defined"
     ]
    }
   ],
   "source": [
    "print(x)  # Output: NameError: name 'x' is not defined\n"
   ]
  },
  {
   "cell_type": "markdown",
   "id": "ac7dae0f",
   "metadata": {},
   "source": [
    "TypeError: This exception is raised when an operation or function is applied to the wrong type of object. For example, trying to concatenate a string and an int:"
   ]
  },
  {
   "cell_type": "code",
   "execution_count": 10,
   "id": "a5010bf7",
   "metadata": {},
   "outputs": [
    {
     "ename": "TypeError",
     "evalue": "can only concatenate str (not \"int\") to str",
     "output_type": "error",
     "traceback": [
      "\u001b[1;31m---------------------------------------------------------------------------\u001b[0m",
      "\u001b[1;31mTypeError\u001b[0m                                 Traceback (most recent call last)",
      "Input \u001b[1;32mIn [10]\u001b[0m, in \u001b[0;36m<cell line: 3>\u001b[1;34m()\u001b[0m\n\u001b[0;32m      1\u001b[0m a \u001b[38;5;241m=\u001b[39m \u001b[38;5;124m\"\u001b[39m\u001b[38;5;124mHello\u001b[39m\u001b[38;5;124m\"\u001b[39m\n\u001b[0;32m      2\u001b[0m b \u001b[38;5;241m=\u001b[39m \u001b[38;5;241m5\u001b[39m\n\u001b[1;32m----> 3\u001b[0m c \u001b[38;5;241m=\u001b[39m \u001b[43ma\u001b[49m\u001b[43m \u001b[49m\u001b[38;5;241;43m+\u001b[39;49m\u001b[43m \u001b[49m\u001b[43mb\u001b[49m\n",
      "\u001b[1;31mTypeError\u001b[0m: can only concatenate str (not \"int\") to str"
     ]
    }
   ],
   "source": [
    "a = \"Hello\"\n",
    "b = 5\n",
    "c = a + b  # Output: TypeError: can only concatenate str (not \"int\") to str\n"
   ]
  },
  {
   "cell_type": "markdown",
   "id": "32314074",
   "metadata": {},
   "source": [
    "ValueError: This exception is raised when a function or operation receives an argument of the correct type but an inappropriate value. For example, passing an invalid parameter to a function:"
   ]
  },
  {
   "cell_type": "code",
   "execution_count": 11,
   "id": "66ffa321",
   "metadata": {},
   "outputs": [
    {
     "name": "stdout",
     "output_type": "stream",
     "text": [
      "5.0\n"
     ]
    },
    {
     "ename": "ValueError",
     "evalue": "Cannot divide by zero.",
     "output_type": "error",
     "traceback": [
      "\u001b[1;31m---------------------------------------------------------------------------\u001b[0m",
      "\u001b[1;31mValueError\u001b[0m                                Traceback (most recent call last)",
      "Input \u001b[1;32mIn [11]\u001b[0m, in \u001b[0;36m<cell line: 7>\u001b[1;34m()\u001b[0m\n\u001b[0;32m      4\u001b[0m     \u001b[38;5;28;01mreturn\u001b[39;00m a \u001b[38;5;241m/\u001b[39m b\n\u001b[0;32m      6\u001b[0m \u001b[38;5;28mprint\u001b[39m(divide(\u001b[38;5;241m10\u001b[39m, \u001b[38;5;241m2\u001b[39m))  \u001b[38;5;66;03m# Output: 5.0\u001b[39;00m\n\u001b[1;32m----> 7\u001b[0m \u001b[38;5;28mprint\u001b[39m(\u001b[43mdivide\u001b[49m\u001b[43m(\u001b[49m\u001b[38;5;241;43m10\u001b[39;49m\u001b[43m,\u001b[49m\u001b[43m \u001b[49m\u001b[38;5;241;43m0\u001b[39;49m\u001b[43m)\u001b[49m)\n",
      "Input \u001b[1;32mIn [11]\u001b[0m, in \u001b[0;36mdivide\u001b[1;34m(a, b)\u001b[0m\n\u001b[0;32m      1\u001b[0m \u001b[38;5;28;01mdef\u001b[39;00m \u001b[38;5;21mdivide\u001b[39m(a, b):\n\u001b[0;32m      2\u001b[0m     \u001b[38;5;28;01mif\u001b[39;00m b \u001b[38;5;241m==\u001b[39m \u001b[38;5;241m0\u001b[39m:\n\u001b[1;32m----> 3\u001b[0m         \u001b[38;5;28;01mraise\u001b[39;00m \u001b[38;5;167;01mValueError\u001b[39;00m(\u001b[38;5;124m\"\u001b[39m\u001b[38;5;124mCannot divide by zero.\u001b[39m\u001b[38;5;124m\"\u001b[39m)\n\u001b[0;32m      4\u001b[0m     \u001b[38;5;28;01mreturn\u001b[39;00m a \u001b[38;5;241m/\u001b[39m b\n",
      "\u001b[1;31mValueError\u001b[0m: Cannot divide by zero."
     ]
    }
   ],
   "source": [
    "def divide(a, b):\n",
    "    if b == 0:\n",
    "        raise ValueError(\"Cannot divide by zero.\")\n",
    "    return a / b\n",
    "\n",
    "print(divide(10, 2))  # Output: 5.0\n",
    "print(divide(10, 0))  # Output: ValueError: Cannot divide by zero.\n"
   ]
  },
  {
   "cell_type": "code",
   "execution_count": null,
   "id": "8ee457d5",
   "metadata": {},
   "outputs": [],
   "source": []
  },
  {
   "cell_type": "code",
   "execution_count": 17,
   "id": "a5db7f06",
   "metadata": {},
   "outputs": [
    {
     "name": "stdout",
     "output_type": "stream",
     "text": [
      "Insufficient funds.\n"
     ]
    }
   ],
   "source": [
    "class BankAccount:\n",
    "    def __init__(self, balance):\n",
    "        self.balance = balance\n",
    "        \n",
    "    def withdraw(self, amount):\n",
    "        try:\n",
    "            if amount > self.balance:\n",
    "                raise ValueError(\"Insufficient funds.\")\n",
    "            self.balance -= amount\n",
    "        except ValueError as e:\n",
    "            print(e)\n",
    "\n",
    "account = BankAccount(1000)\n",
    "account.withdraw(2000)  # Output: Insufficient funds.\n"
   ]
  },
  {
   "cell_type": "code",
   "execution_count": null,
   "id": "ca8a482b",
   "metadata": {},
   "outputs": [],
   "source": []
  },
  {
   "cell_type": "markdown",
   "id": "d18d7fd2",
   "metadata": {},
   "source": [
    "In Python, the assert statement is a debugging aid that allows you to check if a certain condition is true, and if it is not, raise an exception (AssertionError). The basic syntax for using the assert statement is:"
   ]
  },
  {
   "cell_type": "markdown",
   "id": "f5bec8ca",
   "metadata": {},
   "source": [
    "assert condition, error_message"
   ]
  },
  {
   "cell_type": "markdown",
   "id": "4971e74c",
   "metadata": {},
   "source": [
    "Here are some examples of how the assert statement can be used:\n",
    "\n",
    "Checking if a variable has the expected value:"
   ]
  },
  {
   "cell_type": "code",
   "execution_count": 18,
   "id": "e64b6096",
   "metadata": {},
   "outputs": [
    {
     "ename": "AssertionError",
     "evalue": "x should be 5",
     "output_type": "error",
     "traceback": [
      "\u001b[1;31m---------------------------------------------------------------------------\u001b[0m",
      "\u001b[1;31mAssertionError\u001b[0m                            Traceback (most recent call last)",
      "Input \u001b[1;32mIn [18]\u001b[0m, in \u001b[0;36m<cell line: 5>\u001b[1;34m()\u001b[0m\n\u001b[0;32m      2\u001b[0m \u001b[38;5;28;01massert\u001b[39;00m x \u001b[38;5;241m==\u001b[39m \u001b[38;5;241m5\u001b[39m, \u001b[38;5;124m\"\u001b[39m\u001b[38;5;124mx should be 5\u001b[39m\u001b[38;5;124m\"\u001b[39m  \u001b[38;5;66;03m# This will not raise an exception\u001b[39;00m\n\u001b[0;32m      4\u001b[0m x \u001b[38;5;241m=\u001b[39m \u001b[38;5;241m6\u001b[39m\n\u001b[1;32m----> 5\u001b[0m \u001b[38;5;28;01massert\u001b[39;00m x \u001b[38;5;241m==\u001b[39m \u001b[38;5;241m5\u001b[39m, \u001b[38;5;124m\"\u001b[39m\u001b[38;5;124mx should be 5\u001b[39m\u001b[38;5;124m\"\u001b[39m\n",
      "\u001b[1;31mAssertionError\u001b[0m: x should be 5"
     ]
    }
   ],
   "source": [
    "x = 5\n",
    "assert x == 5, \"x should be 5\"  # This will not raise an exception\n",
    "\n",
    "x = 6\n",
    "assert x == 5, \"x should be 5\"  # This will raise an AssertionError: x should be 5\n"
   ]
  },
  {
   "cell_type": "markdown",
   "id": "30d1052f",
   "metadata": {},
   "source": [
    "Checking if a function returns the expected result:"
   ]
  },
  {
   "cell_type": "code",
   "execution_count": 19,
   "id": "7800e841",
   "metadata": {},
   "outputs": [
    {
     "ename": "AssertionError",
     "evalue": "The result should be 5",
     "output_type": "error",
     "traceback": [
      "\u001b[1;31m---------------------------------------------------------------------------\u001b[0m",
      "\u001b[1;31mAssertionError\u001b[0m                            Traceback (most recent call last)",
      "Input \u001b[1;32mIn [19]\u001b[0m, in \u001b[0;36m<cell line: 8>\u001b[1;34m()\u001b[0m\n\u001b[0;32m      5\u001b[0m \u001b[38;5;28;01massert\u001b[39;00m result \u001b[38;5;241m==\u001b[39m \u001b[38;5;241m5\u001b[39m, \u001b[38;5;124m\"\u001b[39m\u001b[38;5;124mThe result should be 5\u001b[39m\u001b[38;5;124m\"\u001b[39m  \u001b[38;5;66;03m# This will not raise an exception\u001b[39;00m\n\u001b[0;32m      7\u001b[0m result \u001b[38;5;241m=\u001b[39m add(\u001b[38;5;241m2\u001b[39m, \u001b[38;5;241m4\u001b[39m)\n\u001b[1;32m----> 8\u001b[0m \u001b[38;5;28;01massert\u001b[39;00m result \u001b[38;5;241m==\u001b[39m \u001b[38;5;241m5\u001b[39m, \u001b[38;5;124m\"\u001b[39m\u001b[38;5;124mThe result should be 5\u001b[39m\u001b[38;5;124m\"\u001b[39m\n",
      "\u001b[1;31mAssertionError\u001b[0m: The result should be 5"
     ]
    }
   ],
   "source": [
    "def add(a, b):\n",
    "    return a + b\n",
    "\n",
    "result = add(2, 3)\n",
    "assert result == 5, \"The result should be 5\"  # This will not raise an exception\n",
    "\n",
    "result = add(2, 4)\n",
    "assert result == 5, \"The result should be 5\"  # This will raise an AssertionError: The result should be 5\n"
   ]
  },
  {
   "cell_type": "markdown",
   "id": "f32bd376",
   "metadata": {},
   "source": [
    "Checking the preconditions of a function:\n"
   ]
  },
  {
   "cell_type": "code",
   "execution_count": 20,
   "id": "a0c0d64e",
   "metadata": {},
   "outputs": [
    {
     "name": "stdout",
     "output_type": "stream",
     "text": [
      "5.0\n"
     ]
    },
    {
     "ename": "AssertionError",
     "evalue": "Cannot divide by zero.",
     "output_type": "error",
     "traceback": [
      "\u001b[1;31m---------------------------------------------------------------------------\u001b[0m",
      "\u001b[1;31mAssertionError\u001b[0m                            Traceback (most recent call last)",
      "Input \u001b[1;32mIn [20]\u001b[0m, in \u001b[0;36m<cell line: 6>\u001b[1;34m()\u001b[0m\n\u001b[0;32m      3\u001b[0m     \u001b[38;5;28;01mreturn\u001b[39;00m a \u001b[38;5;241m/\u001b[39m b\n\u001b[0;32m      5\u001b[0m \u001b[38;5;28mprint\u001b[39m(divide(\u001b[38;5;241m10\u001b[39m, \u001b[38;5;241m2\u001b[39m)) \u001b[38;5;66;03m# Output : 5.0\u001b[39;00m\n\u001b[1;32m----> 6\u001b[0m \u001b[38;5;28mprint\u001b[39m(\u001b[43mdivide\u001b[49m\u001b[43m(\u001b[49m\u001b[38;5;241;43m10\u001b[39;49m\u001b[43m,\u001b[49m\u001b[43m \u001b[49m\u001b[38;5;241;43m0\u001b[39;49m\u001b[43m)\u001b[49m)\n",
      "Input \u001b[1;32mIn [20]\u001b[0m, in \u001b[0;36mdivide\u001b[1;34m(a, b)\u001b[0m\n\u001b[0;32m      1\u001b[0m \u001b[38;5;28;01mdef\u001b[39;00m \u001b[38;5;21mdivide\u001b[39m(a, b):\n\u001b[1;32m----> 2\u001b[0m     \u001b[38;5;28;01massert\u001b[39;00m b \u001b[38;5;241m!=\u001b[39m \u001b[38;5;241m0\u001b[39m, \u001b[38;5;124m\"\u001b[39m\u001b[38;5;124mCannot divide by zero.\u001b[39m\u001b[38;5;124m\"\u001b[39m\n\u001b[0;32m      3\u001b[0m     \u001b[38;5;28;01mreturn\u001b[39;00m a \u001b[38;5;241m/\u001b[39m b\n",
      "\u001b[1;31mAssertionError\u001b[0m: Cannot divide by zero."
     ]
    }
   ],
   "source": [
    "def divide(a, b):\n",
    "    assert b != 0, \"Cannot divide by zero.\"\n",
    "    return a / b\n",
    "\n",
    "print(divide(10, 2)) # Output : 5.0\n",
    "print(divide(10, 0)) # Output : AssertionError: Cannot divide by zero.\n"
   ]
  },
  {
   "cell_type": "code",
   "execution_count": 23,
   "id": "06d96b87",
   "metadata": {},
   "outputs": [
    {
     "ename": "AssertionError",
     "evalue": "Invalid amount",
     "output_type": "error",
     "traceback": [
      "\u001b[1;31m---------------------------------------------------------------------------\u001b[0m",
      "\u001b[1;31mAssertionError\u001b[0m                            Traceback (most recent call last)",
      "Input \u001b[1;32mIn [23]\u001b[0m, in \u001b[0;36m<cell line: 14>\u001b[1;34m()\u001b[0m\n\u001b[0;32m     12\u001b[0m account1 \u001b[38;5;241m=\u001b[39m BankAccount(\u001b[38;5;241m1000\u001b[39m)\n\u001b[0;32m     13\u001b[0m account2 \u001b[38;5;241m=\u001b[39m BankAccount(\u001b[38;5;241m500\u001b[39m)\n\u001b[1;32m---> 14\u001b[0m \u001b[43maccount1\u001b[49m\u001b[38;5;241;43m.\u001b[39;49m\u001b[43mtransfer\u001b[49m\u001b[43m(\u001b[49m\u001b[38;5;241;43m-\u001b[39;49m\u001b[38;5;241;43m200\u001b[39;49m\u001b[43m,\u001b[49m\u001b[43m \u001b[49m\u001b[43maccount2\u001b[49m\u001b[43m)\u001b[49m\n",
      "Input \u001b[1;32mIn [23]\u001b[0m, in \u001b[0;36mBankAccount.transfer\u001b[1;34m(self, amount, other_account)\u001b[0m\n\u001b[0;32m      5\u001b[0m \u001b[38;5;28;01mdef\u001b[39;00m \u001b[38;5;21mtransfer\u001b[39m(\u001b[38;5;28mself\u001b[39m, amount, other_account):\n\u001b[1;32m----> 6\u001b[0m     \u001b[38;5;28;01massert\u001b[39;00m amount \u001b[38;5;241m>\u001b[39m \u001b[38;5;241m0\u001b[39m, \u001b[38;5;124m\"\u001b[39m\u001b[38;5;124mInvalid amount\u001b[39m\u001b[38;5;124m\"\u001b[39m\n\u001b[0;32m      7\u001b[0m     \u001b[38;5;28;01massert\u001b[39;00m \u001b[38;5;28mself\u001b[39m\u001b[38;5;241m.\u001b[39mbalance \u001b[38;5;241m>\u001b[39m\u001b[38;5;241m=\u001b[39m amount, \u001b[38;5;124m\"\u001b[39m\u001b[38;5;124mInsufficient funds.\u001b[39m\u001b[38;5;124m\"\u001b[39m\n\u001b[0;32m      8\u001b[0m     \u001b[38;5;28;01massert\u001b[39;00m \u001b[38;5;28misinstance\u001b[39m(other_account, BankAccount), \u001b[38;5;124m\"\u001b[39m\u001b[38;5;124mInvalid account type.\u001b[39m\u001b[38;5;124m\"\u001b[39m\n",
      "\u001b[1;31mAssertionError\u001b[0m: Invalid amount"
     ]
    }
   ],
   "source": [
    "class BankAccount:\n",
    "    def __init__(self, balance):\n",
    "        self.balance = balance\n",
    "        \n",
    "    def transfer(self, amount, other_account):\n",
    "        assert amount > 0, \"Invalid amount\"\n",
    "        assert self.balance >= amount, \"Insufficient funds.\"\n",
    "        assert isinstance(other_account, BankAccount), \"Invalid account type.\"\n",
    "        self.balance -= amount\n",
    "        other_account.balance += amount\n",
    "\n",
    "account1 = BankAccount(1000)\n",
    "account2 = BankAccount(500)\n",
    "account1.transfer(-200, account2)  # Output: AssertionError: Invalid amount\n"
   ]
  },
  {
   "cell_type": "markdown",
   "id": "486fadb0",
   "metadata": {},
   "source": [
    "isinstance(obj, type) is a built-in function in Python that is used to check if an object is an instance of a particular class or type. The obj argument is the object that you want to check the type of, and the type argument is the class or type that you want to check against. The function returns True if the object is an instance of the specified type, and False otherwise.\n",
    "\n",
    "For example, consider the following code:"
   ]
  },
  {
   "cell_type": "code",
   "execution_count": 22,
   "id": "1c97415b",
   "metadata": {},
   "outputs": [
    {
     "name": "stdout",
     "output_type": "stream",
     "text": [
      "True\n",
      "False\n"
     ]
    }
   ],
   "source": [
    "a = 5\n",
    "print(isinstance(a, int))  # Output: True\n",
    "print(isinstance(a, str))  # Output: False\n"
   ]
  },
  {
   "cell_type": "markdown",
   "id": "d86bd715",
   "metadata": {},
   "source": [
    "In Python, a decorator is a way to modify or extend the behavior of a function or class without changing its source code. Decorators are defined using the \"@\" symbol, followed by the name of the decorator function.\n",
    "\n",
    "For example, let's say we have a simple function that prints \"Hello, World!\" when it is called. We can create a decorator that logs the time the function was called, like this:"
   ]
  },
  {
   "cell_type": "code",
   "execution_count": 24,
   "id": "733cbb9f",
   "metadata": {},
   "outputs": [
    {
     "name": "stdout",
     "output_type": "stream",
     "text": [
      "long_running_function took 0.0 seconds to run.\n"
     ]
    },
    {
     "data": {
      "text/plain": [
       "6"
      ]
     },
     "execution_count": 24,
     "metadata": {},
     "output_type": "execute_result"
    }
   ],
   "source": [
    "import time\n",
    "\n",
    "def time_it(func):\n",
    "    def wrapper(*args, **kwargs):\n",
    "        start = time.time()\n",
    "        result = func(*args, **kwargs)\n",
    "        end = time.time()\n",
    "        print(f\"{func.__name__} took {end - start} seconds to run.\")\n",
    "        return result\n",
    "    return wrapper\n",
    "\n",
    "@time_it\n",
    "def long_running_function():\n",
    "    # Do some time-consuming task here\n",
    "    return result\n",
    "\n",
    "long_running_function()\n",
    "# Output: long_running_function took 5.34 seconds to run.\n"
   ]
  },
  {
   "cell_type": "code",
   "execution_count": 27,
   "id": "0f80dd30",
   "metadata": {},
   "outputs": [
    {
     "name": "stdout",
     "output_type": "stream",
     "text": [
      "say_hello was called on John\n",
      "Hello, my name is John and I am 30 years old.\n"
     ]
    }
   ],
   "source": [
    "class Person:\n",
    "    def __init__(self, name, age):\n",
    "        self.name = name\n",
    "        self.age = age\n",
    "\n",
    "    def say_hello(self):\n",
    "        print(f\"Hello, my name is {self.name} and I am {self.age} years old.\")\n",
    "\n",
    "def log_method_call(func):\n",
    "    def wrapper(self, *args, **kwargs):\n",
    "        print(f\"{func.__name__} was called on {self.name}\")\n",
    "        return func(self, *args, **kwargs)\n",
    "    return wrapper\n",
    "\n",
    "class Person:\n",
    "    def __init__(self, name, age):\n",
    "        self.name = name\n",
    "        self.age = age\n",
    "\n",
    "    @log_method_call\n",
    "    def say_hello(self):\n",
    "        print(f\"Hello, my name is {self.name} and I am {self.age} years old.\")\n",
    "\n",
    "p = Person(\"John\", 30)\n",
    "p.say_hello()\n",
    "# Output: say_hello was called on John\n",
    "#        Hello, my name is John and I am 30 years old.\n"
   ]
  },
  {
   "cell_type": "code",
   "execution_count": null,
   "id": "df4c3609",
   "metadata": {},
   "outputs": [],
   "source": []
  },
  {
   "cell_type": "code",
   "execution_count": 31,
   "id": "34576bb5",
   "metadata": {},
   "outputs": [],
   "source": [
    "class MyDecorator:\n",
    "    @classmethod\n",
    "    def decorator(cls, func):\n",
    "        def wrapper(*args, **kwargs):\n",
    "            print(f\"{func.__name__} called on {cls.__name__}\")\n",
    "            return func(*args, **kwargs)\n",
    "        return wrapper\n",
    "\n",
    "@MyDecorator.decorator\n",
    "class MyClass:\n",
    "    def my_method(self):\n",
    "        print(\"Inside my_method\")\n"
   ]
  },
  {
   "cell_type": "code",
   "execution_count": null,
   "id": "57b4c46e",
   "metadata": {},
   "outputs": [],
   "source": []
  },
  {
   "cell_type": "code",
   "execution_count": 33,
   "id": "8055905b",
   "metadata": {},
   "outputs": [
    {
     "name": "stdout",
     "output_type": "stream",
     "text": [
      "Cannot divide by zero.\n",
      "Invalid value provided.\n",
      "File not found.\n",
      "List index out of range.\n",
      "Key not found in dictionary.\n",
      "Assertion Error: math is broken.\n",
      "An error occurred: can only concatenate str (not \"int\") to str\n",
      "Custom exception occurred: Custom exception message.\n"
     ]
    }
   ],
   "source": [
    "# Example 1: Division by Zero\n",
    "try:\n",
    "    x = 1 / 0\n",
    "except ZeroDivisionError:\n",
    "    print(\"Cannot divide by zero.\")\n",
    "\n",
    "# Example 2: Value Error\n",
    "try:\n",
    "    y = int(\"abc\")\n",
    "except ValueError:\n",
    "    print(\"Invalid value provided.\")\n",
    "\n",
    "# Example 3: File Not Found\n",
    "try:\n",
    "    with open(\"non_existent_file.txt\", \"r\") as file:\n",
    "        contents = file.read()\n",
    "except FileNotFoundError:\n",
    "    print(\"File not found.\")\n",
    "\n",
    "# Example 4: IndexError\n",
    "try:\n",
    "    my_list = [1, 2, 3]\n",
    "    print(my_list[3])\n",
    "except IndexError:\n",
    "    print(\"List index out of range.\")\n",
    "\n",
    "# Example 5: KeyError\n",
    "try:\n",
    "    my_dict = {\"a\": 1, \"b\": 2}\n",
    "    print(my_dict[\"c\"])\n",
    "except KeyError:\n",
    "    print(\"Key not found in dictionary.\")\n",
    "\n",
    "# Example 6: Assertion Error\n",
    "try:\n",
    "    assert 1 + 1 == 3, \"math is broken\"\n",
    "except AssertionError:\n",
    "    print(\"Assertion Error: math is broken.\")\n",
    "\n",
    "# Example 7: Exception\n",
    "try:\n",
    "    x = \"hello\" + 1\n",
    "except Exception as e:\n",
    "    print(\"An error occurred:\", e)\n",
    "\n",
    "# Example 8: custom Exception\n",
    "class MyException(Exception):\n",
    "    pass\n",
    "try:\n",
    "    raise MyException(\"Custom exception message.\")\n",
    "except MyException as e:\n",
    "    print(\"Custom exception occurred:\", e)\n"
   ]
  },
  {
   "cell_type": "code",
   "execution_count": 35,
   "id": "26fbc175",
   "metadata": {},
   "outputs": [
    {
     "name": "stdout",
     "output_type": "stream",
     "text": [
      "Enter a number: 1\n",
      "The number you entered is: 1\n"
     ]
    }
   ],
   "source": [
    "try:\n",
    "    user_input = input(\"Enter a number: \")\n",
    "    assert user_input.isdigit(), \"Input should be a number\"\n",
    "    x = int(user_input)\n",
    "except ValueError:\n",
    "    print(\"Invalid input. Please enter a valid number.\")\n",
    "except AssertionError as e:\n",
    "    print(e)\n",
    "else:\n",
    "    print(\"The number you entered is:\", x)\n",
    "\n",
    "    "
   ]
  },
  {
   "cell_type": "code",
   "execution_count": 36,
   "id": "e6bad84e",
   "metadata": {},
   "outputs": [
    {
     "name": "stdout",
     "output_type": "stream",
     "text": [
      "Enter a denominator: 1\n",
      "Result: 5.0\n"
     ]
    }
   ],
   "source": [
    "try:\n",
    "    x = 5\n",
    "    y = int(input(\"Enter a denominator: \"))\n",
    "    assert y != 0, \"Denominator should not be zero.\"\n",
    "    result = x / y\n",
    "except ZeroDivisionError:\n",
    "    print(\"Cannot divide by zero.\")\n",
    "except AssertionError as e:\n",
    "    print(e)\n",
    "else:\n",
    "    print(\"Result:\", result)\n"
   ]
  },
  {
   "cell_type": "code",
   "execution_count": null,
   "id": "adf7d1f8",
   "metadata": {},
   "outputs": [],
   "source": []
  },
  {
   "cell_type": "code",
   "execution_count": null,
   "id": "04b84a00",
   "metadata": {},
   "outputs": [],
   "source": []
  }
 ],
 "metadata": {
  "kernelspec": {
   "display_name": "Python 3 (ipykernel)",
   "language": "python",
   "name": "python3"
  },
  "language_info": {
   "codemirror_mode": {
    "name": "ipython",
    "version": 3
   },
   "file_extension": ".py",
   "mimetype": "text/x-python",
   "name": "python",
   "nbconvert_exporter": "python",
   "pygments_lexer": "ipython3",
   "version": "3.9.12"
  }
 },
 "nbformat": 4,
 "nbformat_minor": 5
}
