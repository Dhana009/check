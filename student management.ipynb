{
 "cells": [
  {
   "cell_type": "code",
   "execution_count": 15,
   "id": "4a6c9696",
   "metadata": {},
   "outputs": [],
   "source": [
    "from tkinter import *\n",
    "from PIL import ImageTk\n",
    "from tkinter import messagebox\n",
    "\n",
    "def login():\n",
    "    if usernameentry.get()=='' or passwordentry=='' :\n",
    "        messagebox.showerror('Error',\"Fields can't be empty\")\n",
    "        \n",
    "    elif usernameentry.get()=='dj' and passwordentry.get()=='1234' :\n",
    "        messagebox.showinfo('Success','Welcome')\n",
    "        \n",
    "    else:\n",
    "        messagebox.showerror('Error','pls enter correct credentials')\n",
    "\n",
    "root=Tk()\n",
    "root.geometry('1280x720+10+10')\n",
    "root.resizable(0,0)\n",
    "background=ImageTk.PhotoImage(file='bg.jpg')\n",
    "\n",
    "backimage=Label(root,image=background)\n",
    "backimage.place(x=0,y=0)\n",
    "\n",
    "loginframe = Frame(root,bg='white')\n",
    "loginframe.place(x=500,y=150)\n",
    "\n",
    "logoimage=PhotoImage(file='logo.png',)\n",
    "\n",
    "logolabel = Label(loginframe,image=logoimage)\n",
    "logolabel.grid(row=0,column=0,columnspan=2,pady=20)\n",
    "\n",
    "usernamelogo = PhotoImage(file='user.png')\n",
    "username = Label(loginframe,text=\"User Name\",image=usernamelogo,\n",
    "                 compound=LEFT,font=('Roboto',18,'bold'),bg='white')\n",
    "username.grid(row=1,column=0,pady=10,padx=20)\n",
    "\n",
    "usernameentry = Entry(loginframe,font=('Roboto',15,'bold'),bg='white',bd=3,fg='blue')\n",
    "usernameentry.grid(row=1,column=1,pady=20)\n",
    "\n",
    "passwordlogo = PhotoImage(file='password.png')\n",
    "password = Label(loginframe,text=\"Password\",image=passwordlogo,\n",
    "                 compound=LEFT,font=('Roboto',18,'bold'),bg='white')\n",
    "password.grid(row=2,column=0,pady=10,padx=20)\n",
    "\n",
    "passwordentry = Entry(loginframe,font=('Roboto',15,'bold'),bg='white',bd=3,fg='blue')\n",
    "passwordentry.grid(row=2,column=1)\n",
    "\n",
    "loginbutton = Button(loginframe,text='Login',width=10,font=('Roboto',15,'bold'),\n",
    "                     bg='skyblue',cursor='hand2',command=login)\n",
    "loginbutton.grid(row=0,column=1,pady=15)\n",
    "\n",
    "                 \n",
    "root.mainloop()"
   ]
  },
  {
   "cell_type": "code",
   "execution_count": null,
   "id": "403c7c75",
   "metadata": {},
   "outputs": [],
   "source": [
    "\n"
   ]
  }
 ],
 "metadata": {
  "kernelspec": {
   "display_name": "Python 3 (ipykernel)",
   "language": "python",
   "name": "python3"
  },
  "language_info": {
   "codemirror_mode": {
    "name": "ipython",
    "version": 3
   },
   "file_extension": ".py",
   "mimetype": "text/x-python",
   "name": "python",
   "nbconvert_exporter": "python",
   "pygments_lexer": "ipython3",
   "version": "3.9.12"
  }
 },
 "nbformat": 4,
 "nbformat_minor": 5
}
