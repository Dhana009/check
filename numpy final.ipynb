{
 "cells": [
  {
   "cell_type": "markdown",
   "id": "07afa110",
   "metadata": {},
   "source": [
    "# NumPy: Python library for numerical operations on arrays and matrices. Capabilities include efficient mathematical operations."
   ]
  },
  {
   "cell_type": "markdown",
   "id": "033bca53",
   "metadata": {},
   "source": [
    "Support for mathematical operations and functions that can be applied to entire arrays at once, without the need for loops or iteration."
   ]
  },
  {
   "cell_type": "code",
   "execution_count": 10,
   "id": "be8240ab",
   "metadata": {},
   "outputs": [],
   "source": [
    "import numpy as np\n",
    "\n",
    "# create a 1-dimensional array from a list\n",
    "arr1d = np.array([1, 2, 3, 4, 5])\n",
    "\n",
    "# create a 2-dimensional array from a list of lists\n",
    "arr2d = np.array([[1, 2, 3], [4, 5, 6]])\n",
    "\n",
    "# create a 3-dimensional array from a list of lists of lists\n",
    "arr3d = np.array([[[1, 2], [3, 4]], [[5, 6], [7, 8]]])\n"
   ]
  },
  {
   "cell_type": "markdown",
   "id": "49cad6bf",
   "metadata": {},
   "source": [
    "Sure, here's an example code that creates an n-dimensional NumPy array based on user input:"
   ]
  },
  {
   "cell_type": "code",
   "execution_count": 79,
   "id": "3f97cc9f",
   "metadata": {},
   "outputs": [
    {
     "name": "stdout",
     "output_type": "stream",
     "text": [
      "Enter shape of array (separated by commas): 3,2\n",
      "[[0. 0.]\n",
      " [0. 0.]\n",
      " [0. 0.]]\n"
     ]
    }
   ],
   "source": [
    "import numpy as np\n",
    "\n",
    "# get user input for array shape\n",
    "shape_str = input(\"Enter shape of array (separated by commas): \")\n",
    "shape = tuple(map(int, shape_str.split(\",\")))\n",
    "\n",
    "# create n-dimensional array of zeros with user-defined shape\n",
    "arr = np.zeros(shape)\n",
    "\n",
    "print(arr)\n"
   ]
  },
  {
   "cell_type": "markdown",
   "id": "f7a9eb70",
   "metadata": {},
   "source": [
    "In a 3D array, the first dimension refers to the outermost layer or the \"z-axis\". The second dimension refers to the \"y-axis\", and the third dimension refers to the \"x-axis\".\n",
    "\n",
    "To illustrate this, consider a simple 3D array that represents a cube. The shape of the array could be (3, 3, 3), indicating that it has three elements along each of its dimensions. In this case, the first dimension corresponds to the height of the cube, the second dimension corresponds to the width of the cube, and the third dimension corresponds to the depth of the cube.\n",
    "\n",
    "(x,y) = (1,1) \n",
    "\n",
    "(z,y,x) = (0,0,0)"
   ]
  },
  {
   "cell_type": "code",
   "execution_count": 168,
   "id": "11a4395c",
   "metadata": {},
   "outputs": [
    {
     "data": {
      "text/plain": [
       "(3, 3, 3)"
      ]
     },
     "execution_count": 168,
     "metadata": {},
     "output_type": "execute_result"
    }
   ],
   "source": [
    "a=np.array([[[ 1,  2,  3],\n",
    "        [ 4,  5,  6],\n",
    "        [ 7,  8,  9]],\n",
    "\n",
    "       [[10, 11, 12],\n",
    "        [13, 14, 15],\n",
    "        [16, 17, 18]],\n",
    "\n",
    "       [[19, 20, 21],\n",
    "        [22, 23, 24],\n",
    "        [25, 26, 27]]])\n",
    "\n",
    "a.shape"
   ]
  },
  {
   "cell_type": "code",
   "execution_count": null,
   "id": "c2fae632",
   "metadata": {},
   "outputs": [],
   "source": []
  },
  {
   "cell_type": "markdown",
   "id": "6c9c1391",
   "metadata": {},
   "source": [
    "# ndarray.shape,ndim,size,dtype,astype"
   ]
  },
  {
   "cell_type": "code",
   "execution_count": 88,
   "id": "ca2b4308",
   "metadata": {},
   "outputs": [],
   "source": [
    "n = np.array([[[1,1,1],[2,2,2],[3,3,3]],[[1,1,1],[2,2,2],[3,3,3]]])"
   ]
  },
  {
   "cell_type": "code",
   "execution_count": 89,
   "id": "7b112d8e",
   "metadata": {},
   "outputs": [
    {
     "data": {
      "text/plain": [
       "(2, 3, 3)"
      ]
     },
     "execution_count": 89,
     "metadata": {},
     "output_type": "execute_result"
    }
   ],
   "source": [
    "n.shape"
   ]
  },
  {
   "cell_type": "code",
   "execution_count": 90,
   "id": "d3085119",
   "metadata": {},
   "outputs": [
    {
     "data": {
      "text/plain": [
       "3"
      ]
     },
     "execution_count": 90,
     "metadata": {},
     "output_type": "execute_result"
    }
   ],
   "source": [
    "n.ndim"
   ]
  },
  {
   "cell_type": "code",
   "execution_count": 91,
   "id": "d4b7c41d",
   "metadata": {},
   "outputs": [
    {
     "data": {
      "text/plain": [
       "18"
      ]
     },
     "execution_count": 91,
     "metadata": {},
     "output_type": "execute_result"
    }
   ],
   "source": [
    "n.size"
   ]
  },
  {
   "cell_type": "code",
   "execution_count": 92,
   "id": "fe5c6e9d",
   "metadata": {},
   "outputs": [
    {
     "data": {
      "text/plain": [
       "dtype('int32')"
      ]
     },
     "execution_count": 92,
     "metadata": {},
     "output_type": "execute_result"
    }
   ],
   "source": [
    "n.dtype"
   ]
  },
  {
   "cell_type": "code",
   "execution_count": 93,
   "id": "cffd42a5",
   "metadata": {},
   "outputs": [
    {
     "data": {
      "text/plain": [
       "array([[[1., 1., 1.],\n",
       "        [2., 2., 2.],\n",
       "        [3., 3., 3.]],\n",
       "\n",
       "       [[1., 1., 1.],\n",
       "        [2., 2., 2.],\n",
       "        [3., 3., 3.]]])"
      ]
     },
     "execution_count": 93,
     "metadata": {},
     "output_type": "execute_result"
    }
   ],
   "source": [
    "n.astype('float')"
   ]
  },
  {
   "cell_type": "code",
   "execution_count": null,
   "id": "9b3d20f8",
   "metadata": {},
   "outputs": [],
   "source": []
  },
  {
   "cell_type": "markdown",
   "id": "769e1744",
   "metadata": {},
   "source": [
    "# creating arrays in differnt ways"
   ]
  },
  {
   "cell_type": "markdown",
   "id": "0eb08fed",
   "metadata": {},
   "source": [
    "ndarray.empty,ones,zeros,arange,linspace,random.random,random.randint,full,identity,list,tuple"
   ]
  },
  {
   "cell_type": "code",
   "execution_count": 105,
   "id": "0d4acf1f",
   "metadata": {},
   "outputs": [
    {
     "data": {
      "text/plain": [
       "array([[ 1000345280,         327,  1023042736],\n",
       "       [        327,           0, -2147483648]])"
      ]
     },
     "execution_count": 105,
     "metadata": {},
     "output_type": "execute_result"
    }
   ],
   "source": [
    "k = np.empty([2,3],dtype=int)\n",
    "k"
   ]
  },
  {
   "cell_type": "code",
   "execution_count": 114,
   "id": "ef81666d",
   "metadata": {},
   "outputs": [
    {
     "data": {
      "text/plain": [
       "array([[1, 1, 1],\n",
       "       [1, 1, 1],\n",
       "       [1, 1, 1]])"
      ]
     },
     "execution_count": 114,
     "metadata": {},
     "output_type": "execute_result"
    }
   ],
   "source": [
    "k = np.ones([3,3], dtype=int)\n",
    "k"
   ]
  },
  {
   "cell_type": "code",
   "execution_count": 119,
   "id": "0f33ecdc",
   "metadata": {},
   "outputs": [
    {
     "data": {
      "text/plain": [
       "array([[0, 0],\n",
       "       [0, 0]])"
      ]
     },
     "execution_count": 119,
     "metadata": {},
     "output_type": "execute_result"
    }
   ],
   "source": [
    "k = np.zeros([2,2],dtype=int)\n",
    "k"
   ]
  },
  {
   "cell_type": "code",
   "execution_count": 122,
   "id": "166f3c70",
   "metadata": {},
   "outputs": [
    {
     "data": {
      "text/plain": [
       "array([0, 1, 2, 3, 4, 5, 6, 7, 8, 9])"
      ]
     },
     "execution_count": 122,
     "metadata": {},
     "output_type": "execute_result"
    }
   ],
   "source": [
    "k = np.arange(10)\n",
    "k"
   ]
  },
  {
   "cell_type": "code",
   "execution_count": 124,
   "id": "a07dfe3d",
   "metadata": {},
   "outputs": [
    {
     "data": {
      "text/plain": [
       "array([10, 30, 50, 70, 90])"
      ]
     },
     "execution_count": 124,
     "metadata": {},
     "output_type": "execute_result"
    }
   ],
   "source": [
    "k = np.arange(10,100,20, dtype = int)\n",
    "k"
   ]
  },
  {
   "cell_type": "code",
   "execution_count": 128,
   "id": "b422faf3",
   "metadata": {},
   "outputs": [
    {
     "data": {
      "text/plain": [
       "(array([ 10,  20,  30,  40,  50,  60,  70,  80,  90, 100]), 10.0)"
      ]
     },
     "execution_count": 128,
     "metadata": {},
     "output_type": "execute_result"
    }
   ],
   "source": [
    "k = np.linspace(10,100,10,endpoint=True,\n",
    "    retstep=True,\n",
    "    dtype=int,\n",
    "    axis=0)\n",
    "\n",
    "k"
   ]
  },
  {
   "cell_type": "code",
   "execution_count": 185,
   "id": "8b69679c",
   "metadata": {},
   "outputs": [
    {
     "data": {
      "text/plain": [
       "array([[[0.80374009, 0.35339801, 0.50661438],\n",
       "        [0.4079187 , 0.97135184, 0.33152037],\n",
       "        [0.98562897, 0.54181329, 0.46643995]],\n",
       "\n",
       "       [[0.53350665, 0.32122474, 0.74290703],\n",
       "        [0.28359541, 0.77001526, 0.93646233],\n",
       "        [0.2050705 , 0.60313976, 0.15573939]],\n",
       "\n",
       "       [[0.7582368 , 0.75457086, 0.96104824],\n",
       "        [0.76777823, 0.79947619, 0.94938457],\n",
       "        [0.24917811, 0.41935416, 0.59577889]]])"
      ]
     },
     "execution_count": 185,
     "metadata": {},
     "output_type": "execute_result"
    }
   ],
   "source": [
    "k = np.random.random(((3,3,3)))\n",
    "k"
   ]
  },
  {
   "cell_type": "code",
   "execution_count": 142,
   "id": "a5ead953",
   "metadata": {},
   "outputs": [
    {
     "data": {
      "text/plain": [
       "array([[[7, 4, 4],\n",
       "        [9, 0, 0],\n",
       "        [3, 5, 1]],\n",
       "\n",
       "       [[4, 5, 2],\n",
       "        [8, 3, 4],\n",
       "        [4, 2, 1]],\n",
       "\n",
       "       [[6, 8, 5],\n",
       "        [6, 8, 4],\n",
       "        [1, 4, 9]]])"
      ]
     },
     "execution_count": 142,
     "metadata": {},
     "output_type": "execute_result"
    }
   ],
   "source": [
    "k = np.random.randint(0,10,size=(3,3,3))\n",
    "k"
   ]
  },
  {
   "cell_type": "code",
   "execution_count": 149,
   "id": "36b2cd3b",
   "metadata": {},
   "outputs": [
    {
     "data": {
      "text/plain": [
       "array([[[10, 10, 10],\n",
       "        [10, 10, 10],\n",
       "        [10, 10, 10]],\n",
       "\n",
       "       [[10, 10, 10],\n",
       "        [10, 10, 10],\n",
       "        [10, 10, 10]],\n",
       "\n",
       "       [[10, 10, 10],\n",
       "        [10, 10, 10],\n",
       "        [10, 10, 10]]])"
      ]
     },
     "execution_count": 149,
     "metadata": {},
     "output_type": "execute_result"
    }
   ],
   "source": [
    "k = np.full((3,3,3),10)\n",
    "k"
   ]
  },
  {
   "cell_type": "code",
   "execution_count": 151,
   "id": "20aff415",
   "metadata": {},
   "outputs": [
    {
     "data": {
      "text/plain": [
       "array([[1, 0, 0, 0, 0],\n",
       "       [0, 1, 0, 0, 0],\n",
       "       [0, 0, 1, 0, 0],\n",
       "       [0, 0, 0, 1, 0],\n",
       "       [0, 0, 0, 0, 1]])"
      ]
     },
     "execution_count": 151,
     "metadata": {},
     "output_type": "execute_result"
    }
   ],
   "source": [
    "k = np.identity(5,dtype=int)\n",
    "k"
   ]
  },
  {
   "cell_type": "code",
   "execution_count": 156,
   "id": "908cd481",
   "metadata": {},
   "outputs": [
    {
     "data": {
      "text/plain": [
       "array([[1, 2, 3],\n",
       "       [1, 1, 1]])"
      ]
     },
     "execution_count": 156,
     "metadata": {},
     "output_type": "execute_result"
    }
   ],
   "source": [
    "k=((1,2,3),(1,1,1))\n",
    "np.asarray(k)"
   ]
  },
  {
   "cell_type": "code",
   "execution_count": null,
   "id": "43baaeb6",
   "metadata": {},
   "outputs": [],
   "source": []
  },
  {
   "cell_type": "markdown",
   "id": "b7328181",
   "metadata": {},
   "source": [
    "# indexing and slicing"
   ]
  },
  {
   "cell_type": "code",
   "execution_count": 162,
   "id": "5e26364e",
   "metadata": {},
   "outputs": [
    {
     "data": {
      "text/plain": [
       "array([[[89, 85, 12],\n",
       "        [50, 85, 37],\n",
       "        [91, 23, 80]]])"
      ]
     },
     "execution_count": 162,
     "metadata": {},
     "output_type": "execute_result"
    }
   ],
   "source": [
    "k = np.random.randint(1,100,size=(1,3,3))\n",
    "k"
   ]
  },
  {
   "cell_type": "code",
   "execution_count": 160,
   "id": "4c91a4d6",
   "metadata": {},
   "outputs": [
    {
     "data": {
      "text/plain": [
       "89"
      ]
     },
     "execution_count": 160,
     "metadata": {},
     "output_type": "execute_result"
    }
   ],
   "source": [
    "k[0,1,1]"
   ]
  },
  {
   "cell_type": "code",
   "execution_count": 169,
   "id": "c8ec276d",
   "metadata": {},
   "outputs": [
    {
     "data": {
      "text/plain": [
       "array([[50, 85, 37]])"
      ]
     },
     "execution_count": 169,
     "metadata": {},
     "output_type": "execute_result"
    }
   ],
   "source": [
    "k[:,1,:] #(z,x,y) #(: whole)"
   ]
  },
  {
   "cell_type": "code",
   "execution_count": null,
   "id": "4df460dc",
   "metadata": {},
   "outputs": [],
   "source": []
  },
  {
   "cell_type": "markdown",
   "id": "62ca9b65",
   "metadata": {},
   "source": [
    "# array manipulation"
   ]
  },
  {
   "cell_type": "markdown",
   "id": "b93f0e92",
   "metadata": {},
   "source": [
    "np.transpose,reshape,resize,flatten"
   ]
  },
  {
   "cell_type": "code",
   "execution_count": 180,
   "id": "613220cf",
   "metadata": {},
   "outputs": [
    {
     "data": {
      "text/plain": [
       "(2, 3, 3)"
      ]
     },
     "execution_count": 180,
     "metadata": {},
     "output_type": "execute_result"
    }
   ],
   "source": [
    "k = np.random.randint(1,29,size=(2,3,3))\n",
    "k.shape"
   ]
  },
  {
   "cell_type": "code",
   "execution_count": 181,
   "id": "0c059209",
   "metadata": {},
   "outputs": [
    {
     "data": {
      "text/plain": [
       "(3, 3, 2)"
      ]
     },
     "execution_count": 181,
     "metadata": {},
     "output_type": "execute_result"
    }
   ],
   "source": [
    "k.transpose().shape"
   ]
  },
  {
   "cell_type": "code",
   "execution_count": 177,
   "id": "304e73d9",
   "metadata": {},
   "outputs": [
    {
     "data": {
      "text/plain": [
       "6"
      ]
     },
     "execution_count": 177,
     "metadata": {},
     "output_type": "execute_result"
    }
   ],
   "source": [
    "k.size"
   ]
  },
  {
   "cell_type": "code",
   "execution_count": 184,
   "id": "2139d0ab",
   "metadata": {},
   "outputs": [
    {
     "data": {
      "text/plain": [
       "array([[[ 3, 18],\n",
       "        [ 9, 19],\n",
       "        [ 1, 14],\n",
       "        [ 6,  1],\n",
       "        [22,  5],\n",
       "        [ 9, 25],\n",
       "        [ 1, 19],\n",
       "        [22, 26],\n",
       "        [ 7, 12]]])"
      ]
     },
     "execution_count": 184,
     "metadata": {},
     "output_type": "execute_result"
    }
   ],
   "source": [
    "k.reshape(1,9,2)"
   ]
  },
  {
   "cell_type": "code",
   "execution_count": 197,
   "id": "caebe587",
   "metadata": {},
   "outputs": [
    {
     "data": {
      "text/plain": [
       "array([[[0.67531379, 0.49200234],\n",
       "        [0.69854776, 0.91092252],\n",
       "        [0.47560582, 0.93234846]],\n",
       "\n",
       "       [[0.11231955, 0.7085014 ],\n",
       "        [0.3658782 , 0.41555829],\n",
       "        [0.49886869, 0.928919  ]]])"
      ]
     },
     "execution_count": 197,
     "metadata": {},
     "output_type": "execute_result"
    }
   ],
   "source": [
    "k=np.random.random(((2,3,2)))\n",
    "k"
   ]
  },
  {
   "cell_type": "code",
   "execution_count": 199,
   "id": "267c2609",
   "metadata": {},
   "outputs": [
    {
     "data": {
      "text/plain": [
       "array([[[0.67531379, 0.49200234, 0.69854776],\n",
       "        [0.91092252, 0.47560582, 0.93234846],\n",
       "        [0.11231955, 0.7085014 , 0.3658782 ]],\n",
       "\n",
       "       [[0.41555829, 0.49886869, 0.928919  ],\n",
       "        [0.67531379, 0.49200234, 0.69854776],\n",
       "        [0.91092252, 0.47560582, 0.93234846]],\n",
       "\n",
       "       [[0.11231955, 0.7085014 , 0.3658782 ],\n",
       "        [0.41555829, 0.49886869, 0.928919  ],\n",
       "        [0.67531379, 0.49200234, 0.69854776]]])"
      ]
     },
     "execution_count": 199,
     "metadata": {},
     "output_type": "execute_result"
    }
   ],
   "source": [
    "np.resize(k,(3,3,3))"
   ]
  },
  {
   "cell_type": "code",
   "execution_count": 200,
   "id": "3ef14ac4",
   "metadata": {},
   "outputs": [
    {
     "data": {
      "text/plain": [
       "array([0.67531379, 0.49200234, 0.69854776, 0.91092252, 0.47560582,\n",
       "       0.93234846, 0.11231955, 0.7085014 , 0.3658782 , 0.41555829,\n",
       "       0.49886869, 0.928919  ])"
      ]
     },
     "execution_count": 200,
     "metadata": {},
     "output_type": "execute_result"
    }
   ],
   "source": [
    "k.flatten()"
   ]
  },
  {
   "cell_type": "code",
   "execution_count": null,
   "id": "c32ea9e0",
   "metadata": {},
   "outputs": [],
   "source": []
  },
  {
   "cell_type": "code",
   "execution_count": null,
   "id": "bdeeb48b",
   "metadata": {},
   "outputs": [],
   "source": []
  },
  {
   "cell_type": "markdown",
   "id": "e0a2cd36",
   "metadata": {},
   "source": [
    "# copy and view"
   ]
  },
  {
   "cell_type": "code",
   "execution_count": 201,
   "id": "de39b907",
   "metadata": {},
   "outputs": [],
   "source": [
    "k = np.random.randint(1,20,size=(1,2,3))"
   ]
  },
  {
   "cell_type": "code",
   "execution_count": 202,
   "id": "41461335",
   "metadata": {},
   "outputs": [],
   "source": [
    "m= k.copy()"
   ]
  },
  {
   "cell_type": "code",
   "execution_count": 212,
   "id": "74d34f40",
   "metadata": {},
   "outputs": [
    {
     "data": {
      "text/plain": [
       "array([[[ 2, 13,  5],\n",
       "        [ 1, 14, 13]]])"
      ]
     },
     "execution_count": 212,
     "metadata": {},
     "output_type": "execute_result"
    }
   ],
   "source": [
    "k"
   ]
  },
  {
   "cell_type": "code",
   "execution_count": 210,
   "id": "595e9dc2",
   "metadata": {},
   "outputs": [],
   "source": [
    "m[0,0,0] = 3"
   ]
  },
  {
   "cell_type": "code",
   "execution_count": 211,
   "id": "108503cb",
   "metadata": {},
   "outputs": [
    {
     "data": {
      "text/plain": [
       "array([[[ 3, 13,  5],\n",
       "        [ 1, 14, 13]]])"
      ]
     },
     "execution_count": 211,
     "metadata": {},
     "output_type": "execute_result"
    }
   ],
   "source": [
    "m"
   ]
  },
  {
   "cell_type": "code",
   "execution_count": null,
   "id": "9081538f",
   "metadata": {},
   "outputs": [],
   "source": []
  },
  {
   "cell_type": "markdown",
   "id": "5c30c6e2",
   "metadata": {},
   "source": [
    "# insert,append,delete,unique"
   ]
  },
  {
   "cell_type": "code",
   "execution_count": 213,
   "id": "67ecf87c",
   "metadata": {},
   "outputs": [
    {
     "data": {
      "text/plain": [
       "array([[[ 2, 13,  5],\n",
       "        [ 1, 14, 13]]])"
      ]
     },
     "execution_count": 213,
     "metadata": {},
     "output_type": "execute_result"
    }
   ],
   "source": [
    "np.array()"
   ]
  },
  {
   "cell_type": "markdown",
   "id": "99475f62",
   "metadata": {},
   "source": [
    "When performing operations on 2D arrays, the axis parameter is used to specify which axis to perform the operation on. For example, if we want to compute the sum of each row in the array, we would set axis=1:   \n",
    "\n",
    "If we want to compute the sum of each column, we would set axis=0:\n",
    "\n",
    "\n",
    "axis=0: column\n",
    "\n",
    "axis=1 : row"
   ]
  },
  {
   "cell_type": "code",
   "execution_count": 218,
   "id": "66b78f56",
   "metadata": {},
   "outputs": [],
   "source": [
    "arr = np.array([[1, 2, 3], [4, 5, 6]])"
   ]
  },
  {
   "cell_type": "code",
   "execution_count": 219,
   "id": "509f8ba1",
   "metadata": {},
   "outputs": [
    {
     "name": "stdout",
     "output_type": "stream",
     "text": [
      "21\n"
     ]
    }
   ],
   "source": [
    "total_sum = np.sum(arr, axis=None)\n",
    "print(total_sum)  # Output: 21\n"
   ]
  },
  {
   "cell_type": "code",
   "execution_count": 222,
   "id": "324f00b1",
   "metadata": {},
   "outputs": [
    {
     "name": "stdout",
     "output_type": "stream",
     "text": [
      "[ 6 15]\n"
     ]
    }
   ],
   "source": [
    "row_sum = np.sum(arr, axis=1)\n",
    "print(row_sum)  # Output: [ 6 15]\n"
   ]
  },
  {
   "cell_type": "code",
   "execution_count": 224,
   "id": "164559a0",
   "metadata": {},
   "outputs": [
    {
     "name": "stdout",
     "output_type": "stream",
     "text": [
      "[5 7 9]\n"
     ]
    }
   ],
   "source": [
    "row_sum = np.sum(arr, axis=0)\n",
    "print(row_sum)\n"
   ]
  },
  {
   "cell_type": "code",
   "execution_count": 234,
   "id": "12925aa6",
   "metadata": {},
   "outputs": [],
   "source": [
    "# Create a new column with 3 elements\n",
    "new_col = np.array([[[13, 14,12]]])"
   ]
  },
  {
   "cell_type": "code",
   "execution_count": 235,
   "id": "6147f435",
   "metadata": {},
   "outputs": [
    {
     "data": {
      "text/plain": [
       "array([[[ 2, 13,  5],\n",
       "        [ 1, 14, 13]]])"
      ]
     },
     "execution_count": 235,
     "metadata": {},
     "output_type": "execute_result"
    }
   ],
   "source": [
    "k"
   ]
  },
  {
   "cell_type": "code",
   "execution_count": 236,
   "id": "bf2b986c",
   "metadata": {},
   "outputs": [
    {
     "data": {
      "text/plain": [
       "array([[[ 2, 13,  5],\n",
       "        [13, 14, 12],\n",
       "        [ 1, 14, 13]]])"
      ]
     },
     "execution_count": 236,
     "metadata": {},
     "output_type": "execute_result"
    }
   ],
   "source": [
    "np.insert(k,1,new_col,axis=1)"
   ]
  },
  {
   "cell_type": "code",
   "execution_count": 238,
   "id": "b7951847",
   "metadata": {},
   "outputs": [
    {
     "data": {
      "text/plain": [
       "array([[[13, 14, 12],\n",
       "        [13, 14, 12]],\n",
       "\n",
       "       [[ 2, 13,  5],\n",
       "        [ 1, 14, 13]]])"
      ]
     },
     "execution_count": 238,
     "metadata": {},
     "output_type": "execute_result"
    }
   ],
   "source": [
    "np.insert(k,0,new_col,axis=0)"
   ]
  },
  {
   "cell_type": "code",
   "execution_count": null,
   "id": "fc85304c",
   "metadata": {},
   "outputs": [],
   "source": []
  },
  {
   "cell_type": "code",
   "execution_count": 241,
   "id": "355133c7",
   "metadata": {},
   "outputs": [
    {
     "data": {
      "text/plain": [
       "array([[[84, 82, 38],\n",
       "        [13, 16, 99]],\n",
       "\n",
       "       [[17, 36, 62],\n",
       "        [12, 91, 20]],\n",
       "\n",
       "       [[34, 52, 32],\n",
       "        [20, 96, 57]]])"
      ]
     },
     "execution_count": 241,
     "metadata": {},
     "output_type": "execute_result"
    }
   ],
   "source": [
    "#EXAMPLE 2\n",
    "\n",
    "k = np.random.randint(1,100,(3,2,3))\n",
    "k"
   ]
  },
  {
   "cell_type": "code",
   "execution_count": 244,
   "id": "1cb93da3",
   "metadata": {},
   "outputs": [],
   "source": [
    "l=np.random.randint(1,189,(1,2,3))"
   ]
  },
  {
   "cell_type": "code",
   "execution_count": 267,
   "id": "87c45ad5",
   "metadata": {},
   "outputs": [
    {
     "data": {
      "text/plain": [
       "array([[[ 84,  82,  38],\n",
       "        [ 13,  16,  99]],\n",
       "\n",
       "       [[ 17,  36,  62],\n",
       "        [ 12,  91,  20]],\n",
       "\n",
       "       [[ 34,  52,  32],\n",
       "        [ 20,  96,  57]],\n",
       "\n",
       "       [[107, 107, 107],\n",
       "        [ 68,  68,  68]],\n",
       "\n",
       "       [[ 73,  73,  73],\n",
       "        [150, 150, 150]],\n",
       "\n",
       "       [[ 73,  73,  73],\n",
       "        [ 32,  32,  32]],\n",
       "\n",
       "       [[172, 172, 172],\n",
       "        [149, 149, 149]]])"
      ]
     },
     "execution_count": 267,
     "metadata": {},
     "output_type": "execute_result"
    }
   ],
   "source": [
    "np.insert(k,3,l,axis=0)"
   ]
  },
  {
   "cell_type": "code",
   "execution_count": 271,
   "id": "1a3d421a",
   "metadata": {},
   "outputs": [
    {
     "data": {
      "text/plain": [
       "array([[[ 27,  43,  22]],\n",
       "\n",
       "       [[ 37, 179, 107]],\n",
       "\n",
       "       [[  6,  56, 110]],\n",
       "\n",
       "       [[182,  88,   1]]])"
      ]
     },
     "execution_count": 271,
     "metadata": {},
     "output_type": "execute_result"
    }
   ],
   "source": [
    "l=np.random.randint(1,189,(4,1,3))\n",
    "l"
   ]
  },
  {
   "cell_type": "code",
   "execution_count": 272,
   "id": "b65e882a",
   "metadata": {},
   "outputs": [
    {
     "data": {
      "text/plain": [
       "array([[[ 84,  82,  38],\n",
       "        [ 13,  16,  99],\n",
       "        [ 27,  43,  22],\n",
       "        [ 37, 179, 107],\n",
       "        [  6,  56, 110],\n",
       "        [182,  88,   1]],\n",
       "\n",
       "       [[ 17,  36,  62],\n",
       "        [ 12,  91,  20],\n",
       "        [ 27,  43,  22],\n",
       "        [ 37, 179, 107],\n",
       "        [  6,  56, 110],\n",
       "        [182,  88,   1]],\n",
       "\n",
       "       [[ 34,  52,  32],\n",
       "        [ 20,  96,  57],\n",
       "        [ 27,  43,  22],\n",
       "        [ 37, 179, 107],\n",
       "        [  6,  56, 110],\n",
       "        [182,  88,   1]]])"
      ]
     },
     "execution_count": 272,
     "metadata": {},
     "output_type": "execute_result"
    }
   ],
   "source": [
    "np.insert(k,2,l,axis=1)"
   ]
  },
  {
   "cell_type": "code",
   "execution_count": 275,
   "id": "5b385b2f",
   "metadata": {},
   "outputs": [
    {
     "data": {
      "text/plain": [
       "array([[[ 27,  43,  22]],\n",
       "\n",
       "       [[ 37, 179, 107]],\n",
       "\n",
       "       [[  6,  56, 110]],\n",
       "\n",
       "       [[182,  88,   1]]])"
      ]
     },
     "execution_count": 275,
     "metadata": {},
     "output_type": "execute_result"
    }
   ],
   "source": [
    "l"
   ]
  },
  {
   "cell_type": "code",
   "execution_count": 276,
   "id": "1d89ca1b",
   "metadata": {},
   "outputs": [
    {
     "data": {
      "text/plain": [
       "array([[[70, 82, 39]],\n",
       "\n",
       "       [[49, 98,  2]],\n",
       "\n",
       "       [[82, 81, 25]],\n",
       "\n",
       "       [[22, 96, 39]]])"
      ]
     },
     "execution_count": 276,
     "metadata": {},
     "output_type": "execute_result"
    }
   ],
   "source": [
    "k = np.random.randint(1,100,(4,1,3))\n",
    "k"
   ]
  },
  {
   "cell_type": "code",
   "execution_count": 277,
   "id": "594d3be5",
   "metadata": {},
   "outputs": [
    {
     "data": {
      "text/plain": [
       "array([[[ 27,  43,  22],\n",
       "        [ 70,  82,  39]],\n",
       "\n",
       "       [[ 37, 179, 107],\n",
       "        [ 49,  98,   2]],\n",
       "\n",
       "       [[  6,  56, 110],\n",
       "        [ 82,  81,  25]],\n",
       "\n",
       "       [[182,  88,   1],\n",
       "        [ 22,  96,  39]]])"
      ]
     },
     "execution_count": 277,
     "metadata": {},
     "output_type": "execute_result"
    }
   ],
   "source": [
    "np.append(l,k,axis=1)"
   ]
  },
  {
   "cell_type": "code",
   "execution_count": null,
   "id": "d44ab9db",
   "metadata": {},
   "outputs": [],
   "source": []
  },
  {
   "cell_type": "code",
   "execution_count": 289,
   "id": "bb09ed49",
   "metadata": {},
   "outputs": [
    {
     "data": {
      "text/plain": [
       "(array([ 2, 22, 25, 39, 49, 70, 81, 82, 96, 98]),\n",
       " array([ 5,  9,  8,  2,  3,  0,  7,  1, 10,  4], dtype=int64),\n",
       " array([1, 1, 1, 2, 1, 1, 1, 2, 1, 1], dtype=int64))"
      ]
     },
     "execution_count": 289,
     "metadata": {},
     "output_type": "execute_result"
    }
   ],
   "source": [
    "np.unique(k, return_index=True,\n",
    "    return_counts=True,\n",
    "    axis=None,)"
   ]
  },
  {
   "cell_type": "code",
   "execution_count": 290,
   "id": "471d0397",
   "metadata": {},
   "outputs": [
    {
     "data": {
      "text/plain": [
       "array([[[70, 82, 39]],\n",
       "\n",
       "       [[49, 98,  2]],\n",
       "\n",
       "       [[82, 81, 25]],\n",
       "\n",
       "       [[22, 96, 39]]])"
      ]
     },
     "execution_count": 290,
     "metadata": {},
     "output_type": "execute_result"
    }
   ],
   "source": [
    "k"
   ]
  },
  {
   "cell_type": "code",
   "execution_count": 291,
   "id": "3189d125",
   "metadata": {},
   "outputs": [
    {
     "data": {
      "text/plain": [
       "array([[[49, 98,  2]],\n",
       "\n",
       "       [[82, 81, 25]],\n",
       "\n",
       "       [[22, 96, 39]]])"
      ]
     },
     "execution_count": 291,
     "metadata": {},
     "output_type": "execute_result"
    }
   ],
   "source": [
    "np.delete(k,0,axis=0)"
   ]
  },
  {
   "cell_type": "code",
   "execution_count": null,
   "id": "1f981e0b",
   "metadata": {},
   "outputs": [],
   "source": []
  },
  {
   "cell_type": "markdown",
   "id": "c9d5f021",
   "metadata": {},
   "source": [
    "# Broadcasting is a powerful feature of NumPy that allows arrays with different shapes to be used in arithmetic operations. The basic idea is that smaller arrays are \"broadcast\" across the larger arrays so that they have compatible shapes.\n",
    "\n",
    "In general, broadcasting works when the arrays have the same number of dimensions, and the size of each dimension either matches or is equal to 1. Broadcasting is performed along the dimensions where the sizes differ."
   ]
  },
  {
   "cell_type": "code",
   "execution_count": 296,
   "id": "db2335b8",
   "metadata": {},
   "outputs": [],
   "source": [
    "import numpy as np\n",
    "\n",
    "a = np.array([[1, 2, 3], [4, 5, 6]])\n",
    "b = np.array([1, 2, 3])\n",
    "\n",
    "c = a + b\n"
   ]
  },
  {
   "cell_type": "code",
   "execution_count": 297,
   "id": "53776a37",
   "metadata": {},
   "outputs": [
    {
     "data": {
      "text/plain": [
       "array([[2, 4, 6],\n",
       "       [5, 7, 9]])"
      ]
     },
     "execution_count": 297,
     "metadata": {},
     "output_type": "execute_result"
    }
   ],
   "source": [
    "c"
   ]
  },
  {
   "cell_type": "code",
   "execution_count": 298,
   "id": "7ea0c0c0",
   "metadata": {},
   "outputs": [
    {
     "data": {
      "text/plain": [
       "(2, 3)"
      ]
     },
     "execution_count": 298,
     "metadata": {},
     "output_type": "execute_result"
    }
   ],
   "source": [
    "a.shape"
   ]
  },
  {
   "cell_type": "code",
   "execution_count": 299,
   "id": "93623c8c",
   "metadata": {},
   "outputs": [
    {
     "data": {
      "text/plain": [
       "(3,)"
      ]
     },
     "execution_count": 299,
     "metadata": {},
     "output_type": "execute_result"
    }
   ],
   "source": [
    "b.shape"
   ]
  },
  {
   "cell_type": "code",
   "execution_count": 300,
   "id": "4c1f0538",
   "metadata": {},
   "outputs": [
    {
     "data": {
      "text/plain": [
       "(2, 3)"
      ]
     },
     "execution_count": 300,
     "metadata": {},
     "output_type": "execute_result"
    }
   ],
   "source": [
    "c.shape"
   ]
  },
  {
   "cell_type": "code",
   "execution_count": 301,
   "id": "133c8ed2",
   "metadata": {},
   "outputs": [
    {
     "name": "stdout",
     "output_type": "stream",
     "text": [
      "Array a:\n",
      "[[ 1  2  3  4]\n",
      " [ 5  6  7  8]\n",
      " [ 9 10 11 12]]\n",
      "Array b:\n",
      "[ 1  0 -1  2]\n",
      "Array c:\n",
      "[[2]\n",
      " [3]\n",
      " [4]]\n",
      "Array d:\n",
      "[[  1   0  -3   8]\n",
      " [  5   0  -7  16]\n",
      " [  9   0 -11  24]]\n",
      "Array e:\n",
      "[[ 3  2 -1 10]\n",
      " [ 8  3 -4 19]\n",
      " [13  4 -7 28]]\n"
     ]
    }
   ],
   "source": [
    "import numpy as np\n",
    "\n",
    "# create a 2D array with shape (3, 4)\n",
    "a = np.array([[1, 2, 3, 4],\n",
    "              [5, 6, 7, 8],\n",
    "              [9, 10, 11, 12]])\n",
    "\n",
    "# create a 1D array with shape (4,)\n",
    "b = np.array([1, 0, -1, 2])\n",
    "\n",
    "# create a 2D array with shape (3, 1)\n",
    "c = np.array([[2], [3], [4]])\n",
    "\n",
    "# multiply a by b element-wise along the second dimension\n",
    "d = a * b\n",
    "\n",
    "# add c to d along the first dimension\n",
    "e = c + d\n",
    "\n",
    "print(\"Array a:\")\n",
    "print(a)\n",
    "\n",
    "print(\"Array b:\")\n",
    "print(b)\n",
    "\n",
    "print(\"Array c:\")\n",
    "print(c)\n",
    "\n",
    "print(\"Array d:\")\n",
    "print(d)\n",
    "\n",
    "print(\"Array e:\")\n",
    "print(e)\n"
   ]
  },
  {
   "cell_type": "code",
   "execution_count": null,
   "id": "313ebdb2",
   "metadata": {},
   "outputs": [],
   "source": []
  },
  {
   "cell_type": "code",
   "execution_count": 302,
   "id": "0476c457",
   "metadata": {},
   "outputs": [
    {
     "data": {
      "text/plain": [
       "array([[ 1,  2,  3,  4],\n",
       "       [ 5,  6,  7,  8],\n",
       "       [ 9, 10, 11, 12]])"
      ]
     },
     "execution_count": 302,
     "metadata": {},
     "output_type": "execute_result"
    }
   ],
   "source": [
    "a"
   ]
  },
  {
   "cell_type": "code",
   "execution_count": 303,
   "id": "1cae7db2",
   "metadata": {},
   "outputs": [
    {
     "data": {
      "text/plain": [
       "array([ 1,  0, -1,  2])"
      ]
     },
     "execution_count": 303,
     "metadata": {},
     "output_type": "execute_result"
    }
   ],
   "source": [
    "b"
   ]
  },
  {
   "cell_type": "code",
   "execution_count": 306,
   "id": "7ac7834a",
   "metadata": {},
   "outputs": [
    {
     "data": {
      "text/plain": [
       "array([[ 2,  2,  2,  6],\n",
       "       [ 6,  6,  6, 10],\n",
       "       [10, 10, 10, 14]])"
      ]
     },
     "execution_count": 306,
     "metadata": {},
     "output_type": "execute_result"
    }
   ],
   "source": [
    "np.add(a,b)"
   ]
  },
  {
   "cell_type": "code",
   "execution_count": 312,
   "id": "54f717d1",
   "metadata": {},
   "outputs": [
    {
     "data": {
      "text/plain": [
       "array([[ 0,  2,  4,  2],\n",
       "       [ 4,  6,  8,  6],\n",
       "       [ 8, 10, 12, 10]])"
      ]
     },
     "execution_count": 312,
     "metadata": {},
     "output_type": "execute_result"
    }
   ],
   "source": [
    "np.subtract(a,b)"
   ]
  },
  {
   "cell_type": "code",
   "execution_count": 313,
   "id": "9901e325",
   "metadata": {},
   "outputs": [
    {
     "data": {
      "text/plain": [
       "array([[  1,   0,  -3,   8],\n",
       "       [  5,   0,  -7,  16],\n",
       "       [  9,   0, -11,  24]])"
      ]
     },
     "execution_count": 313,
     "metadata": {},
     "output_type": "execute_result"
    }
   ],
   "source": [
    "np.multiply(a,b)"
   ]
  },
  {
   "cell_type": "code",
   "execution_count": 314,
   "id": "2cef81f4",
   "metadata": {},
   "outputs": [
    {
     "name": "stderr",
     "output_type": "stream",
     "text": [
      "C:\\Users\\LENOVO\\AppData\\Local\\Temp\\ipykernel_216\\2626738034.py:1: RuntimeWarning: divide by zero encountered in true_divide\n",
      "  np.divide(a,b)\n"
     ]
    },
    {
     "data": {
      "text/plain": [
       "array([[  1.,  inf,  -3.,   2.],\n",
       "       [  5.,  inf,  -7.,   4.],\n",
       "       [  9.,  inf, -11.,   6.]])"
      ]
     },
     "execution_count": 314,
     "metadata": {},
     "output_type": "execute_result"
    }
   ],
   "source": [
    "np.divide(a,b)"
   ]
  },
  {
   "cell_type": "code",
   "execution_count": 316,
   "id": "bc398167",
   "metadata": {},
   "outputs": [
    {
     "data": {
      "text/plain": [
       "78"
      ]
     },
     "execution_count": 316,
     "metadata": {},
     "output_type": "execute_result"
    }
   ],
   "source": [
    "np.sum(a)"
   ]
  },
  {
   "cell_type": "code",
   "execution_count": 317,
   "id": "2b0c4d06",
   "metadata": {},
   "outputs": [
    {
     "data": {
      "text/plain": [
       "1"
      ]
     },
     "execution_count": 317,
     "metadata": {},
     "output_type": "execute_result"
    }
   ],
   "source": [
    "np.min(a)"
   ]
  },
  {
   "cell_type": "code",
   "execution_count": 318,
   "id": "68162486",
   "metadata": {},
   "outputs": [
    {
     "data": {
      "text/plain": [
       "12"
      ]
     },
     "execution_count": 318,
     "metadata": {},
     "output_type": "execute_result"
    }
   ],
   "source": [
    "np.max(a)"
   ]
  },
  {
   "cell_type": "code",
   "execution_count": 319,
   "id": "14c11c02",
   "metadata": {},
   "outputs": [
    {
     "data": {
      "text/plain": [
       "6.5"
      ]
     },
     "execution_count": 319,
     "metadata": {},
     "output_type": "execute_result"
    }
   ],
   "source": [
    "np.mean(a)"
   ]
  },
  {
   "cell_type": "code",
   "execution_count": 320,
   "id": "5ae40c02",
   "metadata": {},
   "outputs": [
    {
     "data": {
      "text/plain": [
       "array([[ 1,  2,  3,  4],\n",
       "       [ 5,  6,  7,  8],\n",
       "       [ 9, 10, 11, 12]])"
      ]
     },
     "execution_count": 320,
     "metadata": {},
     "output_type": "execute_result"
    }
   ],
   "source": [
    "np.sort(a)"
   ]
  },
  {
   "cell_type": "code",
   "execution_count": null,
   "id": "9f8de009",
   "metadata": {},
   "outputs": [],
   "source": []
  },
  {
   "cell_type": "code",
   "execution_count": 340,
   "id": "b6a6492a",
   "metadata": {},
   "outputs": [
    {
     "data": {
      "text/plain": [
       "array([[1, 2, 3],\n",
       "       [1, 2, 3],\n",
       "       [1, 2, 3]])"
      ]
     },
     "execution_count": 340,
     "metadata": {},
     "output_type": "execute_result"
    }
   ],
   "source": [
    "np.ones((3,3),dtype=int) +  np.arange(3)"
   ]
  },
  {
   "cell_type": "code",
   "execution_count": null,
   "id": "e72b5c11",
   "metadata": {},
   "outputs": [],
   "source": []
  }
 ],
 "metadata": {
  "kernelspec": {
   "display_name": "Python 3 (ipykernel)",
   "language": "python",
   "name": "python3"
  },
  "language_info": {
   "codemirror_mode": {
    "name": "ipython",
    "version": 3
   },
   "file_extension": ".py",
   "mimetype": "text/x-python",
   "name": "python",
   "nbconvert_exporter": "python",
   "pygments_lexer": "ipython3",
   "version": "3.9.12"
  }
 },
 "nbformat": 4,
 "nbformat_minor": 5
}
