{
 "cells": [
  {
   "cell_type": "markdown",
   "id": "48354596",
   "metadata": {},
   "source": [
    "\"Print 1D array with 5 zeros.\""
   ]
  },
  {
   "cell_type": "code",
   "execution_count": 2,
   "id": "c359e3b2",
   "metadata": {},
   "outputs": [
    {
     "name": "stdout",
     "output_type": "stream",
     "text": [
      "[0. 0. 0. 0. 0.]\n"
     ]
    }
   ],
   "source": [
    "import numpy as np\n",
    "\n",
    "array_with_5_zeros = np.zeros(5)\n",
    "print(array_with_5_zeros)\n"
   ]
  },
  {
   "cell_type": "markdown",
   "id": "c7613a0d",
   "metadata": {},
   "source": [
    "\"Print Range Between 1 To 15 and show 4 integers random numbers\""
   ]
  },
  {
   "cell_type": "code",
   "execution_count": 3,
   "id": "3554c87c",
   "metadata": {},
   "outputs": [
    {
     "name": "stdout",
     "output_type": "stream",
     "text": [
      "[ 1  2  3  4  5  6  7  8  9 10 11 12 13 14 15]\n",
      "[88 99 88 86]\n"
     ]
    }
   ],
   "source": [
    "import numpy as np\n",
    "\n",
    "# Printing the range between 1 to 15\n",
    "print(np.arange(1,16))\n",
    "\n",
    "# Showing 4 random integers\n",
    "print(np.random.randint(0, 100, 4))\n"
   ]
  },
  {
   "cell_type": "markdown",
   "id": "d47c8219",
   "metadata": {},
   "source": [
    "\"Print the odd number from arrange of 1 to 99 using arange function.\""
   ]
  },
  {
   "cell_type": "code",
   "execution_count": 4,
   "id": "77710cdf",
   "metadata": {},
   "outputs": [
    {
     "name": "stdout",
     "output_type": "stream",
     "text": [
      "[ 1  3  5  7  9 11 13 15 17 19 21 23 25 27 29 31 33 35 37 39 41 43 45 47\n",
      " 49 51 53 55 57 59 61 63 65 67 69 71 73 75 77 79 81 83 85 87 89 91 93 95\n",
      " 97 99]\n"
     ]
    }
   ],
   "source": [
    "import numpy as np\n",
    "\n",
    "odd_numbers = np.arange(1, 100, 2)\n",
    "print(odd_numbers)\n"
   ]
  },
  {
   "cell_type": "markdown",
   "id": "fc1337fc",
   "metadata": {},
   "source": [
    "\"Print the numpy version and the configuration\""
   ]
  },
  {
   "cell_type": "code",
   "execution_count": 5,
   "id": "0a3643a2",
   "metadata": {},
   "outputs": [
    {
     "name": "stdout",
     "output_type": "stream",
     "text": [
      "NumPy version: 1.21.5\n",
      "blas_mkl_info:\n",
      "    libraries = ['mkl_rt']\n",
      "    library_dirs = ['C:/Users/LENOVO/anaconda3\\\\Library\\\\lib']\n",
      "    define_macros = [('SCIPY_MKL_H', None), ('HAVE_CBLAS', None)]\n",
      "    include_dirs = ['C:/Users/LENOVO/anaconda3\\\\Library\\\\include']\n",
      "blas_opt_info:\n",
      "    libraries = ['mkl_rt']\n",
      "    library_dirs = ['C:/Users/LENOVO/anaconda3\\\\Library\\\\lib']\n",
      "    define_macros = [('SCIPY_MKL_H', None), ('HAVE_CBLAS', None)]\n",
      "    include_dirs = ['C:/Users/LENOVO/anaconda3\\\\Library\\\\include']\n",
      "lapack_mkl_info:\n",
      "    libraries = ['mkl_rt']\n",
      "    library_dirs = ['C:/Users/LENOVO/anaconda3\\\\Library\\\\lib']\n",
      "    define_macros = [('SCIPY_MKL_H', None), ('HAVE_CBLAS', None)]\n",
      "    include_dirs = ['C:/Users/LENOVO/anaconda3\\\\Library\\\\include']\n",
      "lapack_opt_info:\n",
      "    libraries = ['mkl_rt']\n",
      "    library_dirs = ['C:/Users/LENOVO/anaconda3\\\\Library\\\\lib']\n",
      "    define_macros = [('SCIPY_MKL_H', None), ('HAVE_CBLAS', None)]\n",
      "    include_dirs = ['C:/Users/LENOVO/anaconda3\\\\Library\\\\include']\n",
      "Supported SIMD extensions in this NumPy install:\n",
      "    baseline = SSE,SSE2,SSE3\n",
      "    found = SSSE3,SSE41,POPCNT,SSE42,AVX,F16C,FMA3,AVX2\n",
      "    not found = AVX512F,AVX512CD,AVX512_SKX,AVX512_CLX,AVX512_CNL\n"
     ]
    }
   ],
   "source": [
    "import numpy as np\n",
    "\n",
    "print(\"NumPy version:\", np.__version__)\n",
    "np.show_config()\n"
   ]
  },
  {
   "cell_type": "markdown",
   "id": "cda0e26b",
   "metadata": {},
   "source": [
    "\"How to get the positions where elements of two arrays match?\""
   ]
  },
  {
   "cell_type": "code",
   "execution_count": 6,
   "id": "c3b64393",
   "metadata": {},
   "outputs": [
    {
     "name": "stdout",
     "output_type": "stream",
     "text": [
      "(array([], dtype=int64),)\n"
     ]
    }
   ],
   "source": [
    "import numpy as np\n",
    "\n",
    "array1 = np.array([1, 2, 3, 4, 5])\n",
    "array2 = np.array([2, 4, 6, 8, 10])\n",
    "\n",
    "matching_positions = np.where(array1 == array2)\n",
    "\n",
    "print(matching_positions)\n"
   ]
  },
  {
   "cell_type": "markdown",
   "id": "087e440c",
   "metadata": {},
   "source": [
    "\"Write a NumPy program to test element-wise for NaN of a given array.\""
   ]
  },
  {
   "cell_type": "code",
   "execution_count": 7,
   "id": "04196924",
   "metadata": {},
   "outputs": [
    {
     "name": "stdout",
     "output_type": "stream",
     "text": [
      "[False False  True False False]\n"
     ]
    }
   ],
   "source": [
    "import numpy as np\n",
    "\n",
    "arr = np.array([1, 2, np.nan, 4, 5])\n",
    "print(np.isnan(arr))\n"
   ]
  },
  {
   "cell_type": "markdown",
   "id": "c2c40b18",
   "metadata": {},
   "source": [
    "\"What is negative indexing in a NumPy array\""
   ]
  },
  {
   "cell_type": "markdown",
   "id": "e875a857",
   "metadata": {},
   "source": [
    "Negative indexing in a NumPy array refers to accessing elements in the array by counting from the end of the array, rather than from the beginning. "
   ]
  },
  {
   "cell_type": "markdown",
   "id": "0b55d077",
   "metadata": {},
   "source": [
    "\"What is numpy.zeros()? Explain with example\""
   ]
  },
  {
   "cell_type": "markdown",
   "id": "bd73c07a",
   "metadata": {},
   "source": [
    "numpy.zeros() is a function in the NumPy library that creates a new array of specified size and fills it with zeros."
   ]
  },
  {
   "cell_type": "code",
   "execution_count": 8,
   "id": "bef5889d",
   "metadata": {},
   "outputs": [
    {
     "name": "stdout",
     "output_type": "stream",
     "text": [
      "[0. 0. 0. 0. 0.]\n"
     ]
    }
   ],
   "source": [
    "import numpy as np\n",
    "\n",
    "# Creating a 1D array with 5 zeros\n",
    "a = np.zeros(5)\n",
    "print(a)\n"
   ]
  },
  {
   "cell_type": "markdown",
   "id": "f1525434",
   "metadata": {},
   "source": [
    "\"Create a 3x3x3 array with random values\""
   ]
  },
  {
   "cell_type": "code",
   "execution_count": 9,
   "id": "da357dc6",
   "metadata": {},
   "outputs": [
    {
     "name": "stdout",
     "output_type": "stream",
     "text": [
      "[[[0.65843431 0.68290287 0.63973427]\n",
      "  [0.17930213 0.93474876 0.83745702]\n",
      "  [0.96668328 0.18368663 0.30917321]]\n",
      "\n",
      " [[0.78789019 0.88331516 0.07933934]\n",
      "  [0.31296114 0.96291576 0.9050814 ]\n",
      "  [0.65364379 0.20765345 0.26601528]]\n",
      "\n",
      " [[0.75537649 0.01979038 0.40985099]\n",
      "  [0.21990486 0.7607352  0.30341625]\n",
      "  [0.97883988 0.41241283 0.23365681]]]\n"
     ]
    }
   ],
   "source": [
    "import numpy as np\n",
    "\n",
    "array = np.random.rand(3, 3, 3)\n",
    "print(array)\n"
   ]
  },
  {
   "cell_type": "markdown",
   "id": "e4b9b342",
   "metadata": {},
   "source": [
    "\"Normalize a 5x5 random matrix\""
   ]
  },
  {
   "cell_type": "code",
   "execution_count": 10,
   "id": "d6451b93",
   "metadata": {},
   "outputs": [
    {
     "name": "stdout",
     "output_type": "stream",
     "text": [
      "Original matrix:\n",
      " [[0.8291971  0.38596598 0.78799971 0.59577002 0.38275257]\n",
      " [0.4019394  0.49469353 0.08457566 0.79729774 0.33264215]\n",
      " [0.31430629 0.39493949 0.50716926 0.94748661 0.89330696]\n",
      " [0.37632428 0.47376898 0.65098105 0.44745453 0.29734229]\n",
      " [0.24446482 0.67958618 0.87382965 0.2605723  0.88171724]]\n",
      "Normalized matrix:\n",
      " [[ 1.24037026 -0.61850964  1.06759132  0.26139363 -0.63198646]\n",
      " [-0.55151823 -0.16251399 -1.88251928  1.10658659 -0.84214601]\n",
      " [-0.9190453  -0.58087537 -0.11019167  1.73646808  1.50924244]\n",
      " [-0.65894624 -0.25027009  0.49294476 -0.36063101 -0.9901911 ]\n",
      " [-1.21195548  0.61291264  1.42755599 -1.14440186  1.460636  ]]\n"
     ]
    }
   ],
   "source": [
    "import numpy as np\n",
    "\n",
    "# Create a 5x5 random matrix\n",
    "matrix = np.random.rand(5, 5)\n",
    "\n",
    "# Normalize the matrix by subtracting the mean and dividing by the standard deviation\n",
    "normalized_matrix = (matrix - matrix.mean()) / matrix.std()\n",
    "\n",
    "print(\"Original matrix:\\n\", matrix)\n",
    "print(\"Normalized matrix:\\n\", normalized_matrix)\n"
   ]
  },
  {
   "cell_type": "markdown",
   "id": "47e5a1c4",
   "metadata": {},
   "source": [
    "\"Why is NumPy used in Python?\""
   ]
  },
  {
   "cell_type": "markdown",
   "id": "e066233d",
   "metadata": {},
   "source": [
    "NumPy is used in Python for scientific computing and data analysis. The main reason for its widespread usage is because it provides a high-performance multi-dimensional array object, called ndarray, that allows to store and manipulate large arrays of homogeneous data (i.e., elements of the same type). "
   ]
  },
  {
   "cell_type": "markdown",
   "id": "3c102769",
   "metadata": {},
   "source": [
    "\"Create a 10 x 10 array of zeros and then \"frame\" it with a border of ones.\""
   ]
  },
  {
   "cell_type": "code",
   "execution_count": 11,
   "id": "db7c9254",
   "metadata": {},
   "outputs": [
    {
     "name": "stdout",
     "output_type": "stream",
     "text": [
      "[[1. 1. 1. 1. 1. 1. 1. 1. 1. 1.]\n",
      " [1. 0. 0. 0. 0. 0. 0. 0. 0. 1.]\n",
      " [1. 0. 0. 0. 0. 0. 0. 0. 0. 1.]\n",
      " [1. 0. 0. 0. 0. 0. 0. 0. 0. 1.]\n",
      " [1. 0. 0. 0. 0. 0. 0. 0. 0. 1.]\n",
      " [1. 0. 0. 0. 0. 0. 0. 0. 0. 1.]\n",
      " [1. 0. 0. 0. 0. 0. 0. 0. 0. 1.]\n",
      " [1. 0. 0. 0. 0. 0. 0. 0. 0. 1.]\n",
      " [1. 0. 0. 0. 0. 0. 0. 0. 0. 1.]\n",
      " [1. 1. 1. 1. 1. 1. 1. 1. 1. 1.]]\n"
     ]
    }
   ],
   "source": [
    "import numpy as np\n",
    "\n",
    "# Create a 10x10 array of zeros\n",
    "array = np.zeros((10, 10))\n",
    "\n",
    "# Create a border of ones around the array\n",
    "array[0,:] = 1\n",
    "array[:,0] = 1\n",
    "array[-1,:] = 1\n",
    "array[:,-1] = 1\n",
    "\n",
    "print(array)\n"
   ]
  },
  {
   "cell_type": "markdown",
   "id": "67a9bccc",
   "metadata": {},
   "source": [
    "\"How to get the diagonal of a dot product?\""
   ]
  },
  {
   "cell_type": "markdown",
   "id": "1b59a07b",
   "metadata": {},
   "source": [
    "The diagonal of a dot product is simply the product of the diagonal elements of the two matrices being multiplied."
   ]
  },
  {
   "cell_type": "code",
   "execution_count": 13,
   "id": "d0152d77",
   "metadata": {},
   "outputs": [
    {
     "data": {
      "text/plain": [
       "242"
      ]
     },
     "execution_count": 13,
     "metadata": {},
     "output_type": "execute_result"
    }
   ],
   "source": [
    "import numpy as np\n",
    "\n",
    "A = np.array([[1, 2, 3], [4, 5, 6], [7, 8, 9]])\n",
    "B = np.array([[10, 11, 12], [13, 14, 15], [16, 17, 18]])\n",
    "\n",
    "diag_A = np.diag(A)\n",
    "diag_B = np.diag(B)\n",
    "\n",
    "dot_product = np.dot(diag_A, diag_B)\n",
    "dot_product "
   ]
  },
  {
   "cell_type": "markdown",
   "id": "8eaa140b",
   "metadata": {},
   "source": [
    "\"What is numpy.zeros()? Explain with example\""
   ]
  },
  {
   "cell_type": "markdown",
   "id": "0f33dd14",
   "metadata": {},
   "source": [
    "numpy.zeros() is a function in the NumPy library for Python that creates a new array of specified size and type, filled with zeros."
   ]
  },
  {
   "cell_type": "code",
   "execution_count": 14,
   "id": "17180815",
   "metadata": {},
   "outputs": [
    {
     "name": "stdout",
     "output_type": "stream",
     "text": [
      "[[0 0 0 0]\n",
      " [0 0 0 0]\n",
      " [0 0 0 0]]\n"
     ]
    }
   ],
   "source": [
    "import numpy as np\n",
    "\n",
    "# Create a 3x4 array filled with zeros\n",
    "a = np.zeros((3, 4), dtype=int)\n",
    "print(a)\n"
   ]
  },
  {
   "cell_type": "markdown",
   "id": "b029d03f",
   "metadata": {},
   "source": [
    "\"Create a random number of size 10 and find the mean value\""
   ]
  },
  {
   "cell_type": "code",
   "execution_count": 15,
   "id": "f21423f5",
   "metadata": {},
   "outputs": [
    {
     "name": "stdout",
     "output_type": "stream",
     "text": [
      "[0.27342613 0.52276187 0.55734207 0.37949476 0.15429099 0.75286313\n",
      " 0.0010496  0.56419726 0.88183915 0.86017766]\n",
      "0.49474426306429564\n"
     ]
    }
   ],
   "source": [
    "import numpy as np\n",
    "\n",
    "# Create a random number of size 10\n",
    "a = np.random.rand(10)\n",
    "print(a)\n",
    "\n",
    "# Find the mean value\n",
    "mean_value = np.mean(a)\n",
    "print(mean_value)\n"
   ]
  },
  {
   "cell_type": "code",
   "execution_count": null,
   "id": "09fb2f75",
   "metadata": {},
   "outputs": [],
   "source": []
  }
 ],
 "metadata": {
  "kernelspec": {
   "display_name": "Python 3 (ipykernel)",
   "language": "python",
   "name": "python3"
  },
  "language_info": {
   "codemirror_mode": {
    "name": "ipython",
    "version": 3
   },
   "file_extension": ".py",
   "mimetype": "text/x-python",
   "name": "python",
   "nbconvert_exporter": "python",
   "pygments_lexer": "ipython3",
   "version": "3.9.12"
  }
 },
 "nbformat": 4,
 "nbformat_minor": 5
}
