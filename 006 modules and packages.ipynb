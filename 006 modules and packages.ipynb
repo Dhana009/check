{
 "cells": [
  {
   "cell_type": "markdown",
   "id": "2263e760",
   "metadata": {},
   "source": [
    "Modules are a way to organize your Python code into reusable components. When you create a module, you can define functions, classes, variables, and other objects within it. By putting these objects into a module, you can use them in multiple parts of your code without having to copy and paste the same code over and over again.\n",
    "\n",
    "To use a module in your code, you need to import it. For example, if you have a module named mymodule.py, you would import it in your code like this:"
   ]
  },
  {
   "cell_type": "markdown",
   "id": "c258fec1",
   "metadata": {},
   "source": [
    "Once the module is imported, you can access the objects within it by prefixing the object names with the module name, like this:"
   ]
  },
  {
   "cell_type": "code",
   "execution_count": null,
   "id": "88e2263a",
   "metadata": {},
   "outputs": [],
   "source": [
    "import mymodule\n",
    "mymodule.myfunction()\n"
   ]
  },
  {
   "cell_type": "markdown",
   "id": "84d1cf5a",
   "metadata": {},
   "source": [
    "Packages are a way to organize multiple modules into a single, reusable component. A package is simply a directory that contains one or more modules. When you create a package, you can put related modules into the package, making it easier to manage and use the modules together."
   ]
  },
  {
   "cell_type": "markdown",
   "id": "ba8a5148",
   "metadata": {},
   "source": [
    "To use a package, you need to import one or more modules from the package. For example, if you have a package named mypackage that contains two modules named module1.py and module2.py, you would import the modules in your code like this:"
   ]
  },
  {
   "cell_type": "code",
   "execution_count": null,
   "id": "1449bb64",
   "metadata": {},
   "outputs": [],
   "source": [
    "from mypackage import module1, module2\n",
    "module1.myfunction()\n",
    "module2.myfunction()\n"
   ]
  },
  {
   "cell_type": "markdown",
   "id": "e4c0162b",
   "metadata": {},
   "source": [
    "When you import an object using the from ... import ... statement, the object becomes a part of your code's namespace, which means you can use it directly, without having to prefix it with the module or package name."
   ]
  },
  {
   "cell_type": "code",
   "execution_count": null,
   "id": "669603fd",
   "metadata": {},
   "outputs": [],
   "source": [
    "from mypackage.module1 import myfunction\n",
    "\n",
    "myfunction() # prints \"This is myfunction from the mypackage.module1 module\"\n"
   ]
  },
  {
   "cell_type": "code",
   "execution_count": null,
   "id": "c5c711e0",
   "metadata": {},
   "outputs": [],
   "source": []
  },
  {
   "cell_type": "code",
   "execution_count": 1,
   "id": "66d81018",
   "metadata": {},
   "outputs": [
    {
     "name": "stdout",
     "output_type": "stream",
     "text": [
      "3.9.12 (main, Apr  4 2022, 05:22:27) [MSC v.1916 64 bit (AMD64)]\n"
     ]
    }
   ],
   "source": [
    "import sys\n",
    "\n",
    "print(sys.version)\n"
   ]
  },
  {
   "cell_type": "code",
   "execution_count": 2,
   "id": "ecb528af",
   "metadata": {},
   "outputs": [
    {
     "name": "stdout",
     "output_type": "stream",
     "text": [
      "win32\n"
     ]
    }
   ],
   "source": [
    "import sys\n",
    "\n",
    "print(sys.platform)\n"
   ]
  },
  {
   "cell_type": "code",
   "execution_count": 3,
   "id": "9e0fbb80",
   "metadata": {},
   "outputs": [
    {
     "name": "stdout",
     "output_type": "stream",
     "text": [
      "['C:\\\\Users\\\\LENOVO\\\\Videos\\\\skill lync', 'C:\\\\Users\\\\LENOVO\\\\anaconda3\\\\python39.zip', 'C:\\\\Users\\\\LENOVO\\\\anaconda3\\\\DLLs', 'C:\\\\Users\\\\LENOVO\\\\anaconda3\\\\lib', 'C:\\\\Users\\\\LENOVO\\\\anaconda3', '', 'C:\\\\Users\\\\LENOVO\\\\AppData\\\\Roaming\\\\Python\\\\Python39\\\\site-packages', 'C:\\\\Users\\\\LENOVO\\\\anaconda3\\\\lib\\\\site-packages', 'C:\\\\Users\\\\LENOVO\\\\anaconda3\\\\lib\\\\site-packages\\\\win32', 'C:\\\\Users\\\\LENOVO\\\\anaconda3\\\\lib\\\\site-packages\\\\win32\\\\lib', 'C:\\\\Users\\\\LENOVO\\\\anaconda3\\\\lib\\\\site-packages\\\\Pythonwin']\n"
     ]
    }
   ],
   "source": [
    "import sys\n",
    "\n",
    "print(sys.path)\n"
   ]
  },
  {
   "cell_type": "code",
   "execution_count": 5,
   "id": "f842920c",
   "metadata": {},
   "outputs": [
    {
     "name": "stdout",
     "output_type": "stream",
     "text": [
      "9223372036854775807\n"
     ]
    }
   ],
   "source": [
    "import sys\n",
    "\n",
    "print(sys.maxsize)\n"
   ]
  },
  {
   "cell_type": "code",
   "execution_count": null,
   "id": "b1e57f27",
   "metadata": {},
   "outputs": [],
   "source": []
  }
 ],
 "metadata": {
  "kernelspec": {
   "display_name": "Python 3 (ipykernel)",
   "language": "python",
   "name": "python3"
  },
  "language_info": {
   "codemirror_mode": {
    "name": "ipython",
    "version": 3
   },
   "file_extension": ".py",
   "mimetype": "text/x-python",
   "name": "python",
   "nbconvert_exporter": "python",
   "pygments_lexer": "ipython3",
   "version": "3.9.12"
  }
 },
 "nbformat": 4,
 "nbformat_minor": 5
}
