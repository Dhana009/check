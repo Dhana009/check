{
 "cells": [
  {
   "cell_type": "markdown",
   "id": "f6f50b1f",
   "metadata": {},
   "source": [
    "In Python, a class is a blueprint for creating objects (a particular data structure), providing initial values for state (member variables or attributes), and implementations of behavior (member functions or methods).\n",
    "\n",
    "For example, a \"Car\" class might have member variables such as make, model, and year, and member functions such as start_engine() and stop_engine().\n",
    "\n",
    "An object, on the other hand, is an instance of a class. When you create an object, you are creating a specific example of a class. Each object has its own set of member variables and can access the methods defined in the class.\n",
    "\n",
    "For example, you could create two objects from the \"Car\" class, one for a 2019 Ford Mustang and one for a 2020 Chevy Camaro, and each would have its own values for make, model, and year and can access the start_engine() and stop_engine() methods.\n",
    "\n",
    "You can create an object of a class using the class name followed by parentheses."
   ]
  },
  {
   "cell_type": "code",
   "execution_count": 1,
   "id": "470bc49e",
   "metadata": {},
   "outputs": [],
   "source": [
    "class Car:\n",
    "    def __init__(self, make, model, year):\n",
    "        self.make = make\n",
    "        self.model = model\n",
    "        self.year = year\n",
    "\n",
    "mustang = Car(\"Ford\", \"Mustang\", 2019)\n",
    "camaro = Car(\"Chevy\", \"Camaro\", 2020)\n"
   ]
  },
  {
   "cell_type": "markdown",
   "id": "5ffaefb5",
   "metadata": {},
   "source": [
    "In Python, there are several types of inheritance that allow classes to inherit properties and methods from other classes:\n",
    "\n",
    "Single Inheritance: A subclass inherits from a single superclass. For example, a \"SportsCar\" class might inherit from a \"Car\" class.\n",
    "\n",
    "Multiple Inheritance: A subclass inherits from multiple superclasses. For example, a \"ConvertibleSportsCar\" class might inherit from both a \"SportsCar\" class and a \"Convertible\" class.\n",
    "\n",
    "Multi-level Inheritance: A subclass inherits from a superclass, which in turn inherits from another superclass. For example, a \"RaceCar\" class might inherit from a \"SportsCar\" class, which in turn inherits from a \"Car\" class.\n",
    "\n",
    "Hierarchical Inheritance: Multiple subclasses inherit from a single superclass. For example, a \"Sedan\" class and a \"SUV\" class might both inherit from a \"Car\" class.\n",
    "\n",
    "Hybrid Inheritance: A combination of one or more types of inheritance. For example, a \"SuperCar\" class might inherit from both a \"SportsCar\" class and a \"Convertible\" class, and also have a multi-level inheritance.\n",
    "\n",
    "In python, you can use the super() function to call the methods of the superclass, and use the className.__bases__ to access the super class of a class."
   ]
  },
  {
   "cell_type": "code",
   "execution_count": 2,
   "id": "2a658041",
   "metadata": {},
   "outputs": [],
   "source": [
    "class Car:\n",
    "    def __init__(self, make, model, year):\n",
    "        self.make = make\n",
    "        self.model = model\n",
    "        self.year = year\n",
    "\n",
    "class SportsCar(Car):\n",
    "    def __init__(self, make, model, year, top_speed):\n",
    "        super().__init__(make, model, year)\n",
    "        self.top_speed = top_speed\n"
   ]
  },
  {
   "cell_type": "markdown",
   "id": "1d729a8c",
   "metadata": {},
   "source": [
    "Here's an example of single inheritance in Python:"
   ]
  },
  {
   "cell_type": "code",
   "execution_count": 3,
   "id": "6a0742a3",
   "metadata": {},
   "outputs": [
    {
     "name": "stdout",
     "output_type": "stream",
     "text": [
      "My car is a Ford Mustang.\n",
      "Ford Mustang engine started.\n",
      "Ford Mustang honked.\n",
      "Ford Mustang engine stopped.\n"
     ]
    }
   ],
   "source": [
    "class Vehicle:\n",
    "    def __init__(self, make, model, year):\n",
    "        self.make = make\n",
    "        self.model = model\n",
    "        self.year = year\n",
    "    \n",
    "    def start_engine(self):\n",
    "        print(f\"{self.make} {self.model} engine started.\")\n",
    "        \n",
    "    def stop_engine(self):\n",
    "        print(f\"{self.make} {self.model} engine stopped.\")\n",
    "\n",
    "class Car(Vehicle):\n",
    "    def __init__(self, make, model, year, num_doors):\n",
    "        super().__init__(make, model, year)\n",
    "        self.num_doors = num_doors\n",
    "        \n",
    "    def honk(self):\n",
    "        print(f\"{self.make} {self.model} honked.\")\n",
    "\n",
    "# create an object of Car class\n",
    "my_car = Car(\"Ford\", \"Mustang\", 2019, 4)\n",
    "\n",
    "# access the properties and methods of Car class\n",
    "print(f\"My car is a {my_car.make} {my_car.model}.\")\n",
    "my_car.start_engine()\n",
    "my_car.honk()\n",
    "my_car.stop_engine()\n"
   ]
  },
  {
   "cell_type": "markdown",
   "id": "5e01b1e4",
   "metadata": {},
   "source": [
    "Here's an example of multiple inheritance in Python using Mixin classes:\n",
    "\n"
   ]
  },
  {
   "cell_type": "code",
   "execution_count": 4,
   "id": "354410a6",
   "metadata": {},
   "outputs": [
    {
     "name": "stdout",
     "output_type": "stream",
     "text": [
      "My car is a Ford Mustang.\n",
      "Ford Mustang engine started.\n",
      "Ford Mustang honked.\n",
      "Ford Mustang engine stopped.\n"
     ]
    }
   ],
   "source": [
    "class Engine:\n",
    "    def start_engine(self):\n",
    "        print(f\"{self.make} {self.model} engine started.\")\n",
    "        \n",
    "    def stop_engine(self):\n",
    "        print(f\"{self.make} {self.model} engine stopped.\")\n",
    "        \n",
    "class Doors:\n",
    "    def __init__(self, num_doors):\n",
    "        self.num_doors = num_doors\n",
    "        \n",
    "    def honk(self):\n",
    "        print(f\"{self.make} {self.model} honked.\")\n",
    "        \n",
    "class Car(Engine, Doors):\n",
    "    def __init__(self, make, model, year, num_doors):\n",
    "        Engine.__init__(self)\n",
    "        Doors.__init__(self, num_doors)\n",
    "        self.make = make\n",
    "        self.model = model\n",
    "        self.year = year\n",
    "\n",
    "# create an object of Car class\n",
    "my_car = Car(\"Ford\", \"Mustang\", 2019, 4)\n",
    "\n",
    "# access the properties and methods of Car class\n",
    "print(f\"My car is a {my_car.make} {my_car.model}.\")\n",
    "my_car.start_engine()\n",
    "my_car.honk()\n",
    "my_car.stop_engine()\n"
   ]
  },
  {
   "cell_type": "markdown",
   "id": "1b39a002",
   "metadata": {},
   "source": [
    "Here's an example of multi-level inheritance in Python:"
   ]
  },
  {
   "cell_type": "code",
   "execution_count": 5,
   "id": "2cef18f5",
   "metadata": {},
   "outputs": [
    {
     "name": "stdout",
     "output_type": "stream",
     "text": [
      "My car is a Ford Mustang.\n",
      "Ford Mustang engine started.\n",
      "Ford Mustang honked.\n",
      "Ford Mustang accelerated to 150 mph.\n",
      "Ford Mustang engine stopped.\n"
     ]
    }
   ],
   "source": [
    "class Vehicle:\n",
    "    def __init__(self, make, model, year):\n",
    "        self.make = make\n",
    "        self.model = model\n",
    "        self.year = year\n",
    "    \n",
    "    def start_engine(self):\n",
    "        print(f\"{self.make} {self.model} engine started.\")\n",
    "        \n",
    "    def stop_engine(self):\n",
    "        print(f\"{self.make} {self.model} engine stopped.\")\n",
    "\n",
    "class Car(Vehicle):\n",
    "    def __init__(self, make, model, year, num_doors):\n",
    "        super().__init__(make, model, year)\n",
    "        self.num_doors = num_doors\n",
    "        \n",
    "    def honk(self):\n",
    "        print(f\"{self.make} {self.model} honked.\")\n",
    "        \n",
    "class SportsCar(Car):\n",
    "    def __init__(self, make, model, year, num_doors, top_speed):\n",
    "        super().__init__(make, model, year, num_doors)\n",
    "        self.top_speed = top_speed\n",
    "        \n",
    "    def accelerate(self):\n",
    "        print(f\"{self.make} {self.model} accelerated to {self.top_speed} mph.\")\n",
    "\n",
    "# create an object of SportsCar class\n",
    "my_car = SportsCar(\"Ford\", \"Mustang\", 2019, 4, 150)\n",
    "\n",
    "# access the properties and methods of SportsCar class\n",
    "print(f\"My car is a {my_car.make} {my_car.model}.\")\n",
    "my_car.start_engine()\n",
    "my_car.honk()\n",
    "my_car.accelerate()\n",
    "my_car.stop_engine()\n"
   ]
  },
  {
   "cell_type": "markdown",
   "id": "816640b8",
   "metadata": {},
   "source": [
    "Here's an example of hierarchical inheritance in Python:"
   ]
  },
  {
   "cell_type": "code",
   "execution_count": 6,
   "id": "4cef1bbb",
   "metadata": {},
   "outputs": [
    {
     "name": "stdout",
     "output_type": "stream",
     "text": [
      "My sedan is a Toyota Camry.\n",
      "My SUV is a Toyota Highlander.\n",
      "Toyota Camry engine started.\n",
      "Toyota Highlander engine started.\n",
      "Toyota Camry engine stopped.\n",
      "Toyota Highlander engine stopped.\n"
     ]
    }
   ],
   "source": [
    "class Vehicle:\n",
    "    def __init__(self, make, model, year):\n",
    "        self.make = make\n",
    "        self.model = model\n",
    "        self.year = year\n",
    "    \n",
    "    def start_engine(self):\n",
    "        print(f\"{self.make} {self.model} engine started.\")\n",
    "        \n",
    "    def stop_engine(self):\n",
    "        print(f\"{self.make} {self.model} engine stopped.\")\n",
    "        \n",
    "class Car(Vehicle):\n",
    "    def __init__(self, make, model, year, num_doors):\n",
    "        super().__init__(make, model, year)\n",
    "        self.num_doors = num_doors\n",
    "        \n",
    "class Sedan(Car):\n",
    "    def __init__(self, make, model, year, num_doors, num_seats):\n",
    "        super().__init__(make, model, year, num_doors)\n",
    "        self.num_seats = num_seats\n",
    "        \n",
    "class SUV(Car):\n",
    "    def __init__(self, make, model, year, num_doors, num_rows):\n",
    "        super().__init__(make, model, year, num_doors)\n",
    "        self.num_rows = num_rows\n",
    "\n",
    "# create objects of Sedan and SUV classes\n",
    "my_sedan = Sedan(\"Toyota\", \"Camry\", 2020, 4, 5)\n",
    "my_suv = SUV(\"Toyota\", \"Highlander\", 2020, 4, 3)\n",
    "\n",
    "# access the properties and methods of Sedan and SUV classes\n",
    "print(f\"My sedan is a {my_sedan.make} {my_sedan.model}.\")\n",
    "print(f\"My SUV is a {my_suv.make} {my_suv.model}.\")\n",
    "my_sedan.start_engine()\n",
    "my_suv.start_engine()\n",
    "my_sedan.stop_engine()\n",
    "my_suv.stop_engine()\n"
   ]
  },
  {
   "cell_type": "markdown",
   "id": "1ec42ab5",
   "metadata": {},
   "source": [
    "Here's an example of hybrid inheritance in Python:"
   ]
  },
  {
   "cell_type": "code",
   "execution_count": 7,
   "id": "f41461e7",
   "metadata": {},
   "outputs": [
    {
     "name": "stdout",
     "output_type": "stream",
     "text": [
      "My car is a Ford Mustang.\n",
      "Ford Mustang engine started.\n",
      "Ford Mustang honked.\n",
      "Ford Mustang accelerated to 150 mph.\n",
      "Ford Mustang engine stopped.\n"
     ]
    }
   ],
   "source": [
    "class Engine:\n",
    "    def start_engine(self):\n",
    "        print(f\"{self.make} {self.model} engine started.\")\n",
    "        \n",
    "    def stop_engine(self):\n",
    "        print(f\"{self.make} {self.model} engine stopped.\")\n",
    "        \n",
    "class Doors:\n",
    "    def __init__(self, num_doors):\n",
    "        self.num_doors = num_doors\n",
    "        \n",
    "    def honk(self):\n",
    "        print(f\"{self.make} {self.model} honked.\")\n",
    "\n",
    "class Car:\n",
    "    def __init__(self, make, model, year):\n",
    "        self.make = make\n",
    "        self.model = model\n",
    "        self.year = year\n",
    "\n",
    "class SportsCar(Car, Engine, Doors):\n",
    "    def __init__(self, make, model, year, num_doors, top_speed):\n",
    "        Car.__init__(self,make,model,year)\n",
    "        Engine.__init__(self)\n",
    "        Doors.__init__(self, num_doors)\n",
    "        self.top_speed = top_speed\n",
    "\n",
    "    def accelerate(self):\n",
    "        print(f\"{self.make} {self.model} accelerated to {self.top_speed} mph.\")\n",
    "\n",
    "# create an object of SportsCar class\n",
    "my_car = SportsCar(\"Ford\", \"Mustang\", 2019, 4, 150)\n",
    "\n",
    "# access the properties and methods of SportsCar class\n",
    "print(f\"My car is a {my_car.make} {my_car.model}.\")\n",
    "my_car.start_engine()\n",
    "my_car.honk()\n",
    "my_car.accelerate()\n",
    "my_car.stop_engine()\n"
   ]
  },
  {
   "cell_type": "markdown",
   "id": "f5d53fe4",
   "metadata": {},
   "source": [
    "Here are five examples of using the super() function in Python:\n",
    "\n",
    "Overriding a method in a subclass and still being able to call the original implementation in the superclass:"
   ]
  },
  {
   "cell_type": "code",
   "execution_count": 8,
   "id": "66b76d73",
   "metadata": {},
   "outputs": [
    {
     "name": "stdout",
     "output_type": "stream",
     "text": [
      "This is a square\n",
      "4\n"
     ]
    }
   ],
   "source": [
    "class Shape:\n",
    "    def __init__(self, sides):\n",
    "        self.sides = sides\n",
    "\n",
    "    def get_sides(self):\n",
    "        return self.sides\n",
    "    \n",
    "class Square(Shape):\n",
    "    def __init__(self, sides):\n",
    "        super().__init__(sides)\n",
    "        \n",
    "    def get_sides(self):\n",
    "        print(\"This is a square\")\n",
    "        return super().get_sides()\n",
    "    \n",
    "sq = Square(4)\n",
    "print(sq.get_sides()) #This is a square 4\n"
   ]
  },
  {
   "cell_type": "markdown",
   "id": "d2bd37d2",
   "metadata": {},
   "source": [
    "Initializing multiple levels of inheritance:"
   ]
  },
  {
   "cell_type": "code",
   "execution_count": null,
   "id": "8db7f969",
   "metadata": {},
   "outputs": [],
   "source": [
    "class Animal:\n",
    "    def __init__(self, species):\n",
    "        self.species = species\n",
    "        \n",
    "class Mammal(Animal):\n",
    "    def __init__(self, species, name):\n",
    "        super().__init__(species)\n",
    "        self.name = name\n",
    "        \n",
    "class Dog(Mammal):\n",
    "    def __init__(self, species, name, breed):\n",
    "        super().__init__(species, name)\n",
    "        self.breed = breed\n",
    "        \n",
    "dog = Dog(\"Canis lupus familiaris\", \"Max\", \"Golden Retriever\")\n"
   ]
  },
  {
   "cell_type": "markdown",
   "id": "d84d3d85",
   "metadata": {},
   "source": [
    "Using the super() function in a multi-level inheritance to call a method of the immediate parent class:"
   ]
  },
  {
   "cell_type": "code",
   "execution_count": null,
   "id": "b4d7627a",
   "metadata": {},
   "outputs": [],
   "source": [
    "class A:\n",
    "    def method(self):\n",
    "        print(\"method of class A\")\n",
    "\n",
    "class B(A):\n",
    "    def method(self):\n",
    "        print(\"method of class B\")\n",
    "        super().method()\n",
    "\n",
    "class C(B):\n",
    "    def method(self):\n",
    "        print(\"method of class C\")\n",
    "        super().method()\n",
    "\n",
    "c = C()\n",
    "c.method()\n",
    "# Output : method of class C\n",
    "#          method of class B\n",
    "#          method of class A\n"
   ]
  },
  {
   "cell_type": "markdown",
   "id": "3c4a5237",
   "metadata": {},
   "source": [
    "Using super() to call a method of the parent class with a different number of arguments:"
   ]
  },
  {
   "cell_type": "code",
   "execution_count": 1,
   "id": "99752277",
   "metadata": {},
   "outputs": [],
   "source": [
    "class A:\n",
    "    def __init__(self, x):\n",
    "        self.x = x\n",
    "\n",
    "class B(A):\n",
    "    def __init__(self, x, y):\n",
    "        super().__init__(x)\n",
    "        self.y = y\n",
    "\n",
    "b = B(1, 2)\n"
   ]
  },
  {
   "cell_type": "markdown",
   "id": "d5c838e7",
   "metadata": {},
   "source": [
    "Using super() to call a method of a parent class from a class that has multiple inheritance:"
   ]
  },
  {
   "cell_type": "code",
   "execution_count": null,
   "id": "3cb8f6b8",
   "metadata": {},
   "outputs": [],
   "source": [
    "class A:\n",
    "    def method(self):\n",
    "        print(\"method of class A\")\n",
    "\n",
    "class B:\n",
    "    def method(self):\n",
    "        print(\"method of class B\")\n",
    "\n",
    "class C(A, B):\n",
    "    def method(self):\n",
    "        print(\"method of class C\")\n",
    "        super(A, self).method()\n",
    "\n",
    "c = C()\n",
    "c.method()\n",
    "# Output : method of class C\n",
    "#          method of class B\n"
   ]
  },
  {
   "cell_type": "markdown",
   "id": "f5a246b7",
   "metadata": {},
   "source": [
    "In Python, you can use the super() function to call the __init__ method of a parent class and pass the necessary arguments. Here are a few examples:\n",
    "\n",
    "Using super() to call the __init__ method of a parent class and pass additional arguments:"
   ]
  },
  {
   "cell_type": "code",
   "execution_count": 3,
   "id": "c11e371c",
   "metadata": {},
   "outputs": [
    {
     "data": {
      "text/plain": [
       "1"
      ]
     },
     "execution_count": 3,
     "metadata": {},
     "output_type": "execute_result"
    }
   ],
   "source": [
    "class Parent:\n",
    "    def __init__(self, arg1, arg2):\n",
    "        self.arg1 = arg1\n",
    "        self.arg2 = arg2\n",
    "\n",
    "class Child(Parent):\n",
    "    def __init__(self, arg1, arg2, arg3):\n",
    "        super().__init__(arg1, arg2)\n",
    "        self.arg3 = arg3\n",
    "\n",
    "c = Child(1, 2, 3)\n",
    "c.\n"
   ]
  },
  {
   "cell_type": "markdown",
   "id": "e4769eaf",
   "metadata": {},
   "source": [
    "Using super() to call the __init__ method of a parent class and pass a different number of arguments:"
   ]
  },
  {
   "cell_type": "code",
   "execution_count": 14,
   "id": "e96112d6",
   "metadata": {},
   "outputs": [],
   "source": [
    "class Parent:\n",
    "    def __init__(self, arg1, arg2):\n",
    "        self.arg1 = arg1\n",
    "        self.arg2 = arg2\n",
    "\n",
    "class Child(Parent):\n",
    "    def __init__(self, arg1):\n",
    "        super().__init__(arg1, None)\n",
    "\n",
    "c = Child(1)\n"
   ]
  },
  {
   "cell_type": "markdown",
   "id": "01d7b4e1",
   "metadata": {},
   "source": [
    "Using super() to call the __init__ method of a parent class and pass additional keyword arguments:"
   ]
  },
  {
   "cell_type": "code",
   "execution_count": 5,
   "id": "17717243",
   "metadata": {},
   "outputs": [
    {
     "data": {
      "text/plain": [
       "{'arg3': 3, 'arg4': 4}"
      ]
     },
     "execution_count": 5,
     "metadata": {},
     "output_type": "execute_result"
    }
   ],
   "source": [
    "class Parent:\n",
    "    def __init__(self, arg1, arg2):\n",
    "        self.arg1 = arg1\n",
    "        self.arg2 = arg2\n",
    "\n",
    "class Child(Parent):\n",
    "    def __init__(self, arg1, arg2, **kwargs):\n",
    "        super().__init__(arg1, arg2)\n",
    "        self.kwargs = kwargs\n",
    "\n",
    "c = Child(1, 2, arg3=3, arg4=4)\n",
    "\n",
    "c.kwargs"
   ]
  },
  {
   "cell_type": "markdown",
   "id": "52bf2538",
   "metadata": {},
   "source": [
    "Using super() to call the __init__ method of a parent class and pass additional arguments using the *args parameter:"
   ]
  },
  {
   "cell_type": "code",
   "execution_count": 9,
   "id": "1874ba2c",
   "metadata": {},
   "outputs": [
    {
     "data": {
      "text/plain": [
       "(3, 4, 5)"
      ]
     },
     "execution_count": 9,
     "metadata": {},
     "output_type": "execute_result"
    }
   ],
   "source": [
    "class Parent:\n",
    "    def __init__(self, arg1, arg2):\n",
    "        self.arg1 = arg1\n",
    "        self.arg2 = arg2\n",
    "\n",
    "class Child(Parent):\n",
    "    def __init__(self, arg1, arg2, *args):\n",
    "        super().__init__(arg1, arg2)\n",
    "        self.args = args\n",
    "\n",
    "c = Child(1, 2, 3, 4, 5)\n",
    "c.args"
   ]
  },
  {
   "cell_type": "code",
   "execution_count": null,
   "id": "83c2eefd",
   "metadata": {},
   "outputs": [],
   "source": []
  },
  {
   "cell_type": "markdown",
   "id": "d3a1e8a7",
   "metadata": {},
   "source": [
    "Sure, here are examples of using *args and **kwargs to call the __init__ method of a parent class:\n",
    "\n",
    "Using *args to pass a variable number of positional arguments:"
   ]
  },
  {
   "cell_type": "code",
   "execution_count": 8,
   "id": "eab1e058",
   "metadata": {},
   "outputs": [
    {
     "name": "stdout",
     "output_type": "stream",
     "text": [
      "5\n"
     ]
    }
   ],
   "source": [
    "class Parent:\n",
    "    def __init__(self, *args):\n",
    "        self.args = args\n",
    "\n",
    "class Child(Parent):\n",
    "    def __init__(self, *args):\n",
    "        super().__init__(*args)\n",
    "        self.arg3 = args[4]\n",
    "\n",
    "c = Child(1, 2, 3, 4, 5)\n",
    "print(c.arg3) #3\n"
   ]
  },
  {
   "cell_type": "markdown",
   "id": "32381be2",
   "metadata": {},
   "source": [
    "Using **kwargs to pass a variable number of keyword arguments:"
   ]
  },
  {
   "cell_type": "code",
   "execution_count": 19,
   "id": "d2ad8b90",
   "metadata": {},
   "outputs": [
    {
     "name": "stdout",
     "output_type": "stream",
     "text": [
      "3\n"
     ]
    }
   ],
   "source": [
    "class Parent:\n",
    "    def __init__(self, **kwargs):\n",
    "        self.kwargs = kwargs\n",
    "\n",
    "class Child(Parent):\n",
    "    def __init__(self, **kwargs):\n",
    "        super().__init__(**kwargs)\n",
    "        self.arg3 = kwargs[\"arg3\"]\n",
    "\n",
    "c = Child(arg1=1, arg2=2, arg3=3)\n",
    "print(c.arg3) #3\n"
   ]
  },
  {
   "cell_type": "markdown",
   "id": "92e09619",
   "metadata": {},
   "source": [
    "Using both *args and **kwargs to pass a variable number of positional and keyword arguments:\n"
   ]
  },
  {
   "cell_type": "code",
   "execution_count": 20,
   "id": "0b7ba1d8",
   "metadata": {},
   "outputs": [
    {
     "name": "stdout",
     "output_type": "stream",
     "text": [
      "3\n"
     ]
    }
   ],
   "source": [
    "class Parent:\n",
    "    def __init__(self, *args, **kwargs):\n",
    "        self.args = args\n",
    "        self.kwargs = kwargs\n",
    "\n",
    "class Child(Parent):\n",
    "    def __init__(self, *args, **kwargs):\n",
    "        super().__init__(*args, **kwargs)\n",
    "        self.arg3 = kwargs[\"arg3\"]\n",
    "\n",
    "c = Child(1, 2, arg3=3, arg4=4)\n",
    "print(c.arg3) #3\n"
   ]
  },
  {
   "cell_type": "code",
   "execution_count": 29,
   "id": "54ba1acf",
   "metadata": {},
   "outputs": [
    {
     "name": "stdout",
     "output_type": "stream",
     "text": [
      "rectangle\n",
      "(4, 4)\n",
      "(4, 4)\n",
      "True\n",
      "5\n",
      "10\n"
     ]
    }
   ],
   "source": [
    "class Shape:\n",
    "    def __init__(self, *args, **kwargs):\n",
    "        self.name = kwargs.get('name')\n",
    "        self.sides = args\n",
    "\n",
    "class Polygon(Shape):\n",
    "    def __init__(self, *args, **kwargs):\n",
    "        super().__init__(*args, **kwargs)\n",
    "        self.angles = args\n",
    "\n",
    "class Quadrilateral(Polygon):\n",
    "    def __init__(self, *args, **kwargs):\n",
    "        super().__init__(*args, **kwargs)\n",
    "        self.parallel_sides = kwargs.get('parallel_sides')\n",
    "\n",
    "class Rectangle(Quadrilateral):\n",
    "    def __init__(self, *args, **kwargs):\n",
    "        super().__init__(*args, **kwargs)\n",
    "        self.length = kwargs.get('length')\n",
    "        self.width = kwargs.get('width')\n",
    "\n",
    "r = Rectangle(4, 4, name=\"rectangle\", parallel_sides=True, length=5, width=10)\n",
    "print(r.name) # rectangle\n",
    "print(r.sides) # (4, 4)\n",
    "print(r.angles) # (4, 4)\n",
    "print(r.parallel_sides) # True\n",
    "print(r.length) # 5\n",
    "print(r.width) # 10\n"
   ]
  },
  {
   "cell_type": "markdown",
   "id": "74edf366",
   "metadata": {},
   "source": [
    "Polymorphism is a concept in object-oriented programming that allows objects of different classes to be used interchangeably. Polymorphism allows for code reusability, flexibility, and extensibility.\n",
    "\n",
    "There are two main types of polymorphism in Python:\n",
    "\n",
    "Duck Typing: Duck typing is a type of polymorphism in which the behavior of an object is determined by its methods and properties rather than its class or type. Duck typing allows objects of different classes to be used interchangeably as long as they have the same methods and properties. For example, a function that takes a list as an argument can also take a tuple or a set as an argument, as long as the argument has the necessary methods and properties."
   ]
  },
  {
   "cell_type": "code",
   "execution_count": 21,
   "id": "08663064",
   "metadata": {},
   "outputs": [
    {
     "name": "stdout",
     "output_type": "stream",
     "text": [
      "6\n",
      "15\n",
      "24\n"
     ]
    }
   ],
   "source": [
    "def add_items(items):\n",
    "    return sum(items)\n",
    "\n",
    "list_items = [1, 2, 3]\n",
    "tuple_items = (4, 5, 6)\n",
    "set_items = {7, 8, 9}\n",
    "\n",
    "print(add_items(list_items)) #6\n",
    "print(add_items(tuple_items)) #15\n",
    "print(add_items(set_items)) #24\n"
   ]
  },
  {
   "cell_type": "markdown",
   "id": "2a30e085",
   "metadata": {},
   "source": [
    "Method Overriding: Method overriding is a type of polymorphism in which a subclass overrides a method of its parent class. This allows the same method to have different behavior based on the class it is called on.\n",
    "\n",
    "In Python, polymorphism is mainly achieved through the use of inheritance and interfaces, and it allows for a high level of code reusability, flexibility and extensibility in our code."
   ]
  },
  {
   "cell_type": "code",
   "execution_count": 10,
   "id": "04434cff",
   "metadata": {},
   "outputs": [
    {
     "name": "stdout",
     "output_type": "stream",
     "text": [
      "Child method\n",
      "Parent method\n"
     ]
    }
   ],
   "source": [
    "class Parent:\n",
    "    def method(self):\n",
    "        print(\"Parent method\")\n",
    "\n",
    "class Child(Parent):\n",
    "    def method(self):\n",
    "        print(\"Child method\")\n",
    "        super().method()\n",
    "\n",
    "c = Child()\n",
    "c.method()\n",
    "# Output: Child method\n",
    "#         Parent method\n"
   ]
  },
  {
   "cell_type": "markdown",
   "id": "b58e979a",
   "metadata": {},
   "source": [
    "Here's an example of Method overloading in Python:"
   ]
  },
  {
   "cell_type": "code",
   "execution_count": 27,
   "id": "274b1487",
   "metadata": {},
   "outputs": [
    {
     "name": "stdout",
     "output_type": "stream",
     "text": [
      "3\n",
      "6\n"
     ]
    }
   ],
   "source": [
    "class Calculator:\n",
    "    def add(self, a, b=0, c=0):\n",
    "        return a + b + c\n",
    "\n",
    "calc = Calculator()\n",
    "print(calc.add(1, 2)) # 3\n",
    "print(calc.add(1, 2, 3)) # 6\n"
   ]
  },
  {
   "cell_type": "markdown",
   "id": "ace76d7e",
   "metadata": {},
   "source": [
    "Sure, here's another example of how you can use *args and **kwargs to simulate method overloading in Python:"
   ]
  },
  {
   "cell_type": "code",
   "execution_count": 28,
   "id": "3d0a9d06",
   "metadata": {},
   "outputs": [
    {
     "name": "stdout",
     "output_type": "stream",
     "text": [
      "3\n",
      "10\n"
     ]
    }
   ],
   "source": [
    "class Calculator:\n",
    "    def add(self, *args, **kwargs):\n",
    "        if 'c' in kwargs:\n",
    "            return sum(args) + kwargs['c']\n",
    "        else:\n",
    "            return sum(args)\n",
    "\n",
    "calc = Calculator()\n",
    "print(calc.add(1, 2)) # 3\n",
    "print(calc.add(1, 2, 3, c=4)) # 10\n"
   ]
  },
  {
   "cell_type": "code",
   "execution_count": 30,
   "id": "8b992e0c",
   "metadata": {},
   "outputs": [
    {
     "name": "stdout",
     "output_type": "stream",
     "text": [
      "6\n",
      "2\n",
      "6\n"
     ]
    }
   ],
   "source": [
    "class Calculator:\n",
    "    def operation(self, operator, *args, **kwargs):\n",
    "        if operator == 'add':\n",
    "            return sum(args)\n",
    "        elif operator == 'subtract':\n",
    "            if 'subtrahend' in kwargs:\n",
    "                return args[0] - kwargs['subtrahend']\n",
    "            else:\n",
    "                return args[0] - args[1]\n",
    "        elif operator == 'multiply':\n",
    "            return args[0] * args[1]\n",
    "\n",
    "calc = Calculator()\n",
    "print(calc.operation('add', 1, 2, 3)) # 6\n",
    "print(calc.operation('subtract', 5, subtrahend=3)) # 2\n",
    "print(calc.operation('multiply', 2, 3)) # 6\n"
   ]
  },
  {
   "cell_type": "markdown",
   "id": "10a010df",
   "metadata": {},
   "source": [
    "Sure, here's an example of multi-level inheritance with method overloading using *args and **kwargs:"
   ]
  },
  {
   "cell_type": "code",
   "execution_count": 31,
   "id": "4b8ded3d",
   "metadata": {},
   "outputs": [
    {
     "name": "stdout",
     "output_type": "stream",
     "text": [
      "50\n"
     ]
    }
   ],
   "source": [
    "class Shape:\n",
    "    def __init__(self, *args, **kwargs):\n",
    "        self.name = kwargs.get('name')\n",
    "        \n",
    "    def calculate_area(self, *args, **kwargs):\n",
    "        pass\n",
    "\n",
    "class Polygon(Shape):\n",
    "    def __init__(self, *args, **kwargs):\n",
    "        super().__init__(*args, **kwargs)\n",
    "        self.sides = kwargs.get('sides')\n",
    "        \n",
    "    def calculate_area(self, *args, **kwargs):\n",
    "        if 'sides' in kwargs:\n",
    "            return (kwargs['sides'] * kwargs['sides_length'])/(4*(math.tan(math.pi/kwargs['sides'])))\n",
    "        else:\n",
    "            return super().calculate_area(*args, **kwargs)\n",
    "\n",
    "class Quadrilateral(Polygon):\n",
    "    def __init__(self, *args, **kwargs):\n",
    "        super().__init__(*args, **kwargs)\n",
    "        self.parallel_sides = kwargs.get('parallel_sides')\n",
    "        \n",
    "    def calculate_area(self, *args, **kwargs):\n",
    "        if 'length' in kwargs and 'width' in kwargs:\n",
    "            return kwargs['length']*kwargs['width']\n",
    "        else:\n",
    "            return super().calculate_area(*args, **kwargs)\n",
    "\n",
    "class Rectangle(Quadrilateral):\n",
    "    def __init__(self, *args, **kwargs):\n",
    "        super().__init__(*args, **kwargs)\n",
    "        self.length = kwargs.get('length')\n",
    "        self.width = kwargs.get('width')\n",
    "        \n",
    "r = Rectangle(name=\"rectangle\", parallel_sides=True, length=5, width=10)\n",
    "print(r.calculate_area(length=5, width=10)) # 50\n"
   ]
  },
  {
   "cell_type": "markdown",
   "id": "492a7e20",
   "metadata": {},
   "source": [
    "Sure, here's an example of method overriding in Python:"
   ]
  },
  {
   "cell_type": "code",
   "execution_count": 32,
   "id": "b76eae11",
   "metadata": {},
   "outputs": [
    {
     "name": "stdout",
     "output_type": "stream",
     "text": [
      "78.5\n",
      "50\n"
     ]
    }
   ],
   "source": [
    "class Shape:\n",
    "    def area(self):\n",
    "        pass\n",
    "\n",
    "class Circle(Shape):\n",
    "    def __init__(self, radius):\n",
    "        self.radius = radius\n",
    "\n",
    "    def area(self):\n",
    "        return 3.14 * self.radius * self.radius\n",
    "\n",
    "class Rectangle(Shape):\n",
    "    def __init__(self, length, width):\n",
    "        self.length = length\n",
    "        self.width = width\n",
    "\n",
    "    def area(self):\n",
    "        return self.length * self.width\n",
    "\n",
    "c = Circle(5)\n",
    "print(c.area()) # 78.5\n",
    "\n",
    "r = Rectangle(10, 5)\n",
    "print(r.area()) # 50\n"
   ]
  },
  {
   "cell_type": "markdown",
   "id": "b3c721c6",
   "metadata": {},
   "source": [
    "Sure, here's an example of method overriding with *args and **kwargs:"
   ]
  },
  {
   "cell_type": "code",
   "execution_count": 33,
   "id": "dedf1266",
   "metadata": {},
   "outputs": [
    {
     "name": "stdout",
     "output_type": "stream",
     "text": [
      "78.5\n",
      "113.03999999999999\n",
      "50\n",
      "150\n"
     ]
    }
   ],
   "source": [
    "class Shape:\n",
    "    def area(self, *args, **kwargs):\n",
    "        pass\n",
    "\n",
    "class Circle(Shape):\n",
    "    def __init__(self, radius):\n",
    "        self.radius = radius\n",
    "\n",
    "    def area(self, *args, **kwargs):\n",
    "        if 'radius' in kwargs:\n",
    "            return 3.14 * kwargs['radius'] * kwargs['radius']\n",
    "        else:\n",
    "            return 3.14 * self.radius * self.radius\n",
    "\n",
    "class Rectangle(Shape):\n",
    "    def __init__(self, length, width):\n",
    "        self.length = length\n",
    "        self.width = width\n",
    "\n",
    "    def area(self, *args, **kwargs):\n",
    "        if 'length' in kwargs and 'width' in kwargs:\n",
    "            return kwargs['length'] * kwargs['width']\n",
    "        else:\n",
    "            return self.length * self.width\n",
    "\n",
    "c = Circle(5)\n",
    "print(c.area()) # 78.5\n",
    "print(c.area(radius=6)) # 113.04\n",
    "\n",
    "r = Rectangle(10, 5)\n",
    "print(r.area()) # 50\n",
    "print(r.area(length=15, width=10)) # 150\n"
   ]
  },
  {
   "cell_type": "markdown",
   "id": "c95cbca6",
   "metadata": {},
   "source": [
    "Encapsulation is the mechanism of binding the data (i.e. variables) and the functions that operate on that data within a single unit (i.e. class). In Python, encapsulation is achieved by using the concepts of classes and objects.\n",
    "\n",
    "There are three types of encapsulation in Python:\n",
    "\n",
    "Public Encapsulation: Variables and methods that are declared public can be accessed from anywhere, inside or outside of the class. In Python, by default, all the variables and methods are public.\n",
    "\n",
    "Private Encapsulation: Variables and methods that are declared private can only be accessed within the class and not outside of it. In Python, a variable or method can be made private by prefixing its name with double underscores (__).\n",
    "\n",
    "Protected Encapsulation: Variables and methods that are declared protected can be accessed within the class and its subclasses, but not outside of them. In Python, a variable or method can be made protected by prefixing its name with a single underscore (_).\n",
    "\n",
    "Here's an example:"
   ]
  },
  {
   "cell_type": "code",
   "execution_count": 34,
   "id": "65bacde9",
   "metadata": {},
   "outputs": [
    {
     "name": "stdout",
     "output_type": "stream",
     "text": [
      "10\n"
     ]
    },
    {
     "ename": "AttributeError",
     "evalue": "'MyClass' object has no attribute '__x'",
     "output_type": "error",
     "traceback": [
      "\u001b[1;31m---------------------------------------------------------------------------\u001b[0m",
      "\u001b[1;31mAttributeError\u001b[0m                            Traceback (most recent call last)",
      "Input \u001b[1;32mIn [34]\u001b[0m, in \u001b[0;36m<cell line: 10>\u001b[1;34m()\u001b[0m\n\u001b[0;32m      8\u001b[0m obj \u001b[38;5;241m=\u001b[39m MyClass()\n\u001b[0;32m      9\u001b[0m \u001b[38;5;28mprint\u001b[39m(obj\u001b[38;5;241m.\u001b[39mget_x()) \u001b[38;5;66;03m# 10\u001b[39;00m\n\u001b[1;32m---> 10\u001b[0m \u001b[38;5;28mprint\u001b[39m(\u001b[43mobj\u001b[49m\u001b[38;5;241;43m.\u001b[39;49m\u001b[43m__x\u001b[49m)\n",
      "\u001b[1;31mAttributeError\u001b[0m: 'MyClass' object has no attribute '__x'"
     ]
    }
   ],
   "source": [
    "class MyClass:\n",
    "    def __init__(self):\n",
    "        self.__x = 10\n",
    "\n",
    "    def get_x(self):\n",
    "        return self.__x\n",
    "\n",
    "obj = MyClass()\n",
    "print(obj.get_x()) # 10\n",
    "print(obj.__x) # AttributeError: 'MyClass' object has no attribute '__x'\n"
   ]
  },
  {
   "cell_type": "markdown",
   "id": "80ba1372",
   "metadata": {},
   "source": [
    "Public Encapsulation: Variables and methods that are declared public can be accessed from anywhere, inside or outside of the class. In Python, by default, all the variables and methods are public."
   ]
  },
  {
   "cell_type": "code",
   "execution_count": 35,
   "id": "8b167997",
   "metadata": {},
   "outputs": [
    {
     "name": "stdout",
     "output_type": "stream",
     "text": [
      "10\n",
      "20\n",
      "This is a public method\n"
     ]
    }
   ],
   "source": [
    "class MyClass:\n",
    "    def __init__(self):\n",
    "        self.x = 10\n",
    "        self.y = 20\n",
    "        \n",
    "    def my_method(self):\n",
    "        print(\"This is a public method\")\n",
    "        \n",
    "obj = MyClass()\n",
    "print(obj.x) # 10\n",
    "print(obj.y) # 20\n",
    "obj.my_method() # This is a public method\n"
   ]
  },
  {
   "cell_type": "code",
   "execution_count": 36,
   "id": "cc4000b4",
   "metadata": {},
   "outputs": [
    {
     "name": "stdout",
     "output_type": "stream",
     "text": [
      "10\n",
      "11\n"
     ]
    }
   ],
   "source": [
    "class MyNumber:\n",
    "    def __init__(self, number):\n",
    "        self.number = number\n",
    "        \n",
    "    def show_number(self):\n",
    "        return self.number\n",
    "    \n",
    "    def increment_number(self):\n",
    "        self.number += 1\n",
    "\n",
    "num = MyNumber(10)\n",
    "print(num.show_number()) # 10\n",
    "num.increment_number()\n",
    "print(num.show_number()) # 11\n"
   ]
  },
  {
   "cell_type": "markdown",
   "id": "eab5b063",
   "metadata": {},
   "source": [
    "Sure, here's an example of Private Encapsulation in Python:"
   ]
  },
  {
   "cell_type": "code",
   "execution_count": 37,
   "id": "8626b17f",
   "metadata": {},
   "outputs": [
    {
     "name": "stdout",
     "output_type": "stream",
     "text": [
      "10\n",
      "20\n",
      "This is a private method\n"
     ]
    },
    {
     "ename": "AttributeError",
     "evalue": "'MyClass' object has no attribute '__x'",
     "output_type": "error",
     "traceback": [
      "\u001b[1;31m---------------------------------------------------------------------------\u001b[0m",
      "\u001b[1;31mAttributeError\u001b[0m                            Traceback (most recent call last)",
      "Input \u001b[1;32mIn [37]\u001b[0m, in \u001b[0;36m<cell line: 19>\u001b[1;34m()\u001b[0m\n\u001b[0;32m     17\u001b[0m \u001b[38;5;28mprint\u001b[39m(obj\u001b[38;5;241m.\u001b[39mget_y()) \u001b[38;5;66;03m# 20\u001b[39;00m\n\u001b[0;32m     18\u001b[0m obj\u001b[38;5;241m.\u001b[39mmy_method() \u001b[38;5;66;03m# This is a private method\u001b[39;00m\n\u001b[1;32m---> 19\u001b[0m \u001b[38;5;28mprint\u001b[39m(\u001b[43mobj\u001b[49m\u001b[38;5;241;43m.\u001b[39;49m\u001b[43m__x\u001b[49m) \u001b[38;5;66;03m# AttributeError: 'MyClass' object has no attribute '__x'\u001b[39;00m\n\u001b[0;32m     20\u001b[0m \u001b[38;5;28mprint\u001b[39m(obj\u001b[38;5;241m.\u001b[39m__y)\n",
      "\u001b[1;31mAttributeError\u001b[0m: 'MyClass' object has no attribute '__x'"
     ]
    }
   ],
   "source": [
    "class MyClass:\n",
    "    def __init__(self):\n",
    "        self.__x = 10\n",
    "        self.__y = 20\n",
    "        \n",
    "    def my_method(self):\n",
    "        print(\"This is a private method\")\n",
    "        \n",
    "    def get_x(self):\n",
    "        return self.__x\n",
    "    \n",
    "    def get_y(self):\n",
    "        return self.__y\n",
    "\n",
    "obj = MyClass()\n",
    "print(obj.get_x()) # 10\n",
    "print(obj.get_y()) # 20\n",
    "obj.my_method() # This is a private method\n",
    "print(obj.__x) # AttributeError: 'MyClass' object has no attribute '__x'\n",
    "print(obj.__y) # AttributeError: 'MyClass' object has no attribute '__y'\n"
   ]
  },
  {
   "cell_type": "code",
   "execution_count": 38,
   "id": "1f01f6ed",
   "metadata": {},
   "outputs": [
    {
     "name": "stdout",
     "output_type": "stream",
     "text": [
      "1100\n",
      "900\n",
      "900\n"
     ]
    },
    {
     "ename": "AttributeError",
     "evalue": "'BankAccount' object has no attribute '__balance'",
     "output_type": "error",
     "traceback": [
      "\u001b[1;31m---------------------------------------------------------------------------\u001b[0m",
      "\u001b[1;31mAttributeError\u001b[0m                            Traceback (most recent call last)",
      "Input \u001b[1;32mIn [38]\u001b[0m, in \u001b[0;36m<cell line: 22>\u001b[1;34m()\u001b[0m\n\u001b[0;32m     20\u001b[0m \u001b[38;5;28mprint\u001b[39m(acc\u001b[38;5;241m.\u001b[39mwithdraw(\u001b[38;5;241m200\u001b[39m)) \u001b[38;5;66;03m# 900\u001b[39;00m\n\u001b[0;32m     21\u001b[0m \u001b[38;5;28mprint\u001b[39m(acc\u001b[38;5;241m.\u001b[39mget_balance()) \u001b[38;5;66;03m# 900\u001b[39;00m\n\u001b[1;32m---> 22\u001b[0m \u001b[38;5;28mprint\u001b[39m(\u001b[43macc\u001b[49m\u001b[38;5;241;43m.\u001b[39;49m\u001b[43m__balance\u001b[49m)\n",
      "\u001b[1;31mAttributeError\u001b[0m: 'BankAccount' object has no attribute '__balance'"
     ]
    }
   ],
   "source": [
    "class BankAccount:\n",
    "    def __init__(self, balance):\n",
    "        self.__balance = balance\n",
    "        \n",
    "    def deposit(self, amount):\n",
    "        self.__balance += amount\n",
    "        return self.__balance\n",
    "    \n",
    "    def withdraw(self, amount):\n",
    "        if self.__balance >= amount:\n",
    "            self.__balance -= amount\n",
    "            return self.__balance\n",
    "        else:\n",
    "            return \"Insufficient balance\"\n",
    "    def get_balance(self):\n",
    "        return self.__balance\n",
    "\n",
    "acc = BankAccount(1000)\n",
    "print(acc.deposit(100)) # 1100\n",
    "print(acc.withdraw(200)) # 900\n",
    "print(acc.get_balance()) # 900\n",
    "print(acc.__balance) # AttributeError: 'BankAccount' object has no attribute '__balance'\n"
   ]
  },
  {
   "cell_type": "markdown",
   "id": "642b225a",
   "metadata": {},
   "source": [
    "Getters and Setters are methods used to access and modify the values of private class variables.\n",
    "\n",
    "A getter method is used to retrieve the value of a private variable. It's also known as an accessor method. It allows you to read the value of a private variable, but not to modify it.\n",
    "\n",
    "A setter method is used to modify the value of a private variable. It's also known as a mutator method. It allows you to change the value of a private variable, but not to read it.\n",
    "\n",
    "In Python, getters and setters are often used to provide a way to access and modify private variables in a class without breaking encapsulation. They can also be used to add validation checks or other logic before returning or modifying the variables.\n",
    "\n",
    "Here is an example of using getters and setters:"
   ]
  },
  {
   "cell_type": "code",
   "execution_count": 39,
   "id": "d4dd7eb6",
   "metadata": {},
   "outputs": [
    {
     "name": "stdout",
     "output_type": "stream",
     "text": [
      "10\n",
      "15\n"
     ]
    }
   ],
   "source": [
    "class MyClass:\n",
    "    def __init__(self):\n",
    "        self.__x = 10\n",
    "\n",
    "    def set_x(self, value):\n",
    "        if value > 0:\n",
    "            self.__x = value\n",
    "\n",
    "    def get_x(self):\n",
    "        return self.__x\n",
    "\n",
    "obj = MyClass()\n",
    "print(obj.get_x()) # 10\n",
    "obj.set_x(15)\n",
    "print(obj.get_x()) # 15\n"
   ]
  },
  {
   "cell_type": "markdown",
   "id": "57a73d4b",
   "metadata": {},
   "source": [
    "Sure, here's an example of using *args and **kwargs with getters and setters:"
   ]
  },
  {
   "cell_type": "code",
   "execution_count": 46,
   "id": "c310ef39",
   "metadata": {},
   "outputs": [
    {
     "name": "stdout",
     "output_type": "stream",
     "text": [
      "5\n",
      "15\n",
      "25\n",
      "30\n"
     ]
    }
   ],
   "source": [
    "class MyClass:\n",
    "    def __init__(self, *args, **kwargs):\n",
    "        self.__x = kwargs.get(\"x\", 10)\n",
    "        self.__y = kwargs.get(\"y\", 20)\n",
    "\n",
    "    def set_x(self, *args, **kwargs):\n",
    "        if \"x\" in kwargs and kwargs[\"x\"] > 0:\n",
    "            self.__x = kwargs[\"x\"]\n",
    "\n",
    "    def get_x(self, *args, **kwargs):\n",
    "        return self.__x\n",
    "\n",
    "    def set_y(self, *args, **kwargs):\n",
    "        if \"y\" in kwargs and kwargs[\"y\"] > 0:\n",
    "            self.__y = kwargs[\"y\"]\n",
    "\n",
    "    def get_y(self, *args, **kwargs):\n",
    "        return self.__y\n",
    "\n",
    "obj = MyClass(x=5, y=25)\n",
    "print(obj.get_x()) # 5\n",
    "obj.set_x(x=15)\n",
    "print(obj.get_x()) # 15\n",
    "print(obj.get_y()) # 25\n",
    "obj.set_y(y=30)\n",
    "print(obj.get_y()) # 30\n"
   ]
  },
  {
   "cell_type": "markdown",
   "id": "94534173",
   "metadata": {},
   "source": [
    "Sure, here's another complex example of using *args and **kwargs with getters and setters:"
   ]
  },
  {
   "cell_type": "code",
   "execution_count": 47,
   "id": "8dcb3ec6",
   "metadata": {},
   "outputs": [
    {
     "name": "stdout",
     "output_type": "stream",
     "text": [
      "[1, 2, 3, 4, 5]\n",
      "3\n",
      "[1, 2, 3, 4, 5, 6]\n",
      "[1, 3, 4, 5, 6]\n"
     ]
    }
   ],
   "source": [
    "class MyClass:\n",
    "    def __init__(self, *args, **kwargs):\n",
    "        self.__data = kwargs.get(\"data\", [])\n",
    "\n",
    "    def set_data(self, *args, **kwargs):\n",
    "        if \"data\" in kwargs:\n",
    "            self.__data = kwargs[\"data\"]\n",
    "\n",
    "    def get_data(self, *args, **kwargs):\n",
    "        if \"index\" in kwargs:\n",
    "            return self.__data[kwargs[\"index\"]]\n",
    "        else:\n",
    "            return self.__data\n",
    "\n",
    "    def add_data(self, *args, **kwargs):\n",
    "        if \"item\" in kwargs:\n",
    "            self.__data.append(kwargs[\"item\"])\n",
    "\n",
    "    def remove_data(self, *args, **kwargs):\n",
    "        if \"item\" in kwargs:\n",
    "            self.__data.remove(kwargs[\"item\"])\n",
    "\n",
    "obj = MyClass(data=[1, 2, 3, 4, 5])\n",
    "print(obj.get_data()) # [1, 2, 3, 4, 5]\n",
    "print(obj.get_data(index=2)) # 3\n",
    "obj.add_data(item=6)\n",
    "print(obj.get_data()) # [1, 2, 3, 4, 5, 6]\n",
    "obj.remove_data(item=2)\n",
    "print(obj.get_data()) # [1, 3, 4, 5, 6]\n"
   ]
  },
  {
   "cell_type": "markdown",
   "id": "53a40355",
   "metadata": {},
   "source": [
    "Sure, here's another example of accessing a private variable using the name mangling feature:"
   ]
  },
  {
   "cell_type": "code",
   "execution_count": 48,
   "id": "35cf7f9c",
   "metadata": {},
   "outputs": [
    {
     "name": "stdout",
     "output_type": "stream",
     "text": [
      "10\n"
     ]
    }
   ],
   "source": [
    "class MyClass:\n",
    "    def __init__(self):\n",
    "        self.__x = 10\n",
    "\n",
    "    def get_x(self):\n",
    "        return self.__x\n",
    "\n",
    "obj = MyClass()\n",
    "print(obj._MyClass__x) # 10\n"
   ]
  },
  {
   "cell_type": "code",
   "execution_count": 49,
   "id": "d3c6f96a",
   "metadata": {},
   "outputs": [
    {
     "name": "stdout",
     "output_type": "stream",
     "text": [
      "[1, 2, 3, 4, 5]\n"
     ]
    }
   ],
   "source": [
    "class MyClass:\n",
    "    def __init__(self, *args, **kwargs):\n",
    "        self.__data = kwargs.get(\"data\", [])\n",
    "\n",
    "    def get_data(self, *args, **kwargs):\n",
    "        if \"index\" in kwargs:\n",
    "            return self.__data[kwargs[\"index\"]]\n",
    "        else:\n",
    "            return self.__data\n",
    "\n",
    "obj = MyClass(data=[1, 2, 3, 4, 5])\n",
    "print(obj._MyClass__data) # [1, 2, 3, 4, 5]\n"
   ]
  },
  {
   "cell_type": "code",
   "execution_count": 50,
   "id": "4f534c56",
   "metadata": {},
   "outputs": [
    {
     "name": "stdout",
     "output_type": "stream",
     "text": [
      "This is a private variable\n",
      "This is a private variable\n"
     ]
    }
   ],
   "source": [
    "class MyClass:\n",
    "    def __init__(self):\n",
    "        self._private_variable = \"This is a private variable\"\n",
    "\n",
    "    def print_variable(self):\n",
    "        print(self._private_variable)\n",
    "\n",
    "my_object = MyClass()\n",
    "my_object.print_variable() # Output: \"This is a private variable\"\n",
    "print(my_object._private_variable) # Output: AttributeError: 'MyClass' object has no attribute '_private_variable'\n"
   ]
  },
  {
   "cell_type": "code",
   "execution_count": 51,
   "id": "00d0101f",
   "metadata": {},
   "outputs": [
    {
     "name": "stdout",
     "output_type": "stream",
     "text": [
      "This is a protected method\n",
      "This is a overridden protected method\n"
     ]
    }
   ],
   "source": [
    "class MyParentClass:\n",
    "    def __init__(self):\n",
    "        self.public_variable = \"This is a public variable\"\n",
    "\n",
    "    def _protected_method(self):\n",
    "        print(\"This is a protected method\")\n",
    "\n",
    "class MyChildClass(MyParentClass):\n",
    "    def __init__(self):\n",
    "        super().__init__()\n",
    "\n",
    "    def _protected_method(self):\n",
    "        print(\"This is a overridden protected method\")\n",
    "\n",
    "my_parent_object = MyParentClass()\n",
    "my_parent_object._protected_method() # Output: \"This is a protected method\"\n",
    "\n",
    "my_child_object = MyChildClass()\n",
    "my_child_object._protected_method() # Output: \"This is a overridden protected method\"\n"
   ]
  },
  {
   "cell_type": "code",
   "execution_count": 52,
   "id": "8742a773",
   "metadata": {},
   "outputs": [
    {
     "name": "stdout",
     "output_type": "stream",
     "text": [
      "1500\n",
      "500\n",
      "Insufficient funds\n",
      "Invalid transaction amount\n"
     ]
    }
   ],
   "source": [
    "class BankAccount:\n",
    "    def __init__(self, balance):\n",
    "        self.balance = balance\n",
    "\n",
    "    def _validate_transaction(self, amount):\n",
    "        if amount < 0:\n",
    "            raise ValueError(\"Invalid transaction amount\")\n",
    "        if amount > self.balance:\n",
    "            raise ValueError(\"Insufficient funds\")\n",
    "\n",
    "    def deposit(self, amount):\n",
    "        self._validate_transaction(amount)\n",
    "        self.balance += amount\n",
    "\n",
    "    def withdraw(self, amount):\n",
    "        self._validate_transaction(amount)\n",
    "        self.balance -= amount\n",
    "\n",
    "account = BankAccount(1000)\n",
    "account.deposit(500)\n",
    "print(account.balance) # Output: 1500\n",
    "account.withdraw(1000)\n",
    "print(account.balance) # Output: 500\n",
    "\n",
    "try:\n",
    "    account.withdraw(2000)\n",
    "except ValueError as e:\n",
    "    print(e) # Output: \"Insufficient funds\"\n",
    "\n",
    "try:\n",
    "    account.deposit(-100)\n",
    "except ValueError as e:\n",
    "    print(e) # Output: \"Invalid transaction amount\"\n"
   ]
  },
  {
   "cell_type": "code",
   "execution_count": null,
   "id": "c7f01ae2",
   "metadata": {},
   "outputs": [],
   "source": []
  }
 ],
 "metadata": {
  "kernelspec": {
   "display_name": "Python 3 (ipykernel)",
   "language": "python",
   "name": "python3"
  },
  "language_info": {
   "codemirror_mode": {
    "name": "ipython",
    "version": 3
   },
   "file_extension": ".py",
   "mimetype": "text/x-python",
   "name": "python",
   "nbconvert_exporter": "python",
   "pygments_lexer": "ipython3",
   "version": "3.9.12"
  }
 },
 "nbformat": 4,
 "nbformat_minor": 5
}
