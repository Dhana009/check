{
 "cells": [
  {
   "cell_type": "code",
   "execution_count": 1,
   "id": "489f4dc7",
   "metadata": {},
   "outputs": [],
   "source": [
    "import numpy as np"
   ]
  },
  {
   "cell_type": "code",
   "execution_count": 2,
   "id": "e555cc86",
   "metadata": {},
   "outputs": [
    {
     "name": "stdout",
     "output_type": "stream",
     "text": [
      "1.23 µs ± 35.4 ns per loop (mean ± std. dev. of 7 runs, 1,000,000 loops each)\n"
     ]
    }
   ],
   "source": [
    "%timeit (j**4 for j in range(1,9))"
   ]
  },
  {
   "cell_type": "code",
   "execution_count": 3,
   "id": "66b0e507",
   "metadata": {},
   "outputs": [],
   "source": [
    "l=[1,3,5,4]\n",
    "a=np.array(l)"
   ]
  },
  {
   "cell_type": "code",
   "execution_count": 4,
   "id": "2afd78b1",
   "metadata": {},
   "outputs": [
    {
     "name": "stdout",
     "output_type": "stream",
     "text": [
      "[1 3 5 4]\n"
     ]
    }
   ],
   "source": [
    "print(a)"
   ]
  },
  {
   "cell_type": "code",
   "execution_count": 5,
   "id": "52cc1a84",
   "metadata": {},
   "outputs": [
    {
     "name": "stdout",
     "output_type": "stream",
     "text": [
      "enter number1\n",
      "enter number2\n",
      "enter number3\n",
      "enter number4\n",
      "[1 2 3 4]\n"
     ]
    }
   ],
   "source": [
    "l=[]\n",
    "for i in range(1,5):\n",
    "    int_l=int(input('enter number'))\n",
    "    l.append(int_l)\n",
    "print(np.array(l))\n"
   ]
  },
  {
   "cell_type": "code",
   "execution_count": 7,
   "id": "ea3f8241",
   "metadata": {},
   "outputs": [
    {
     "name": "stdout",
     "output_type": "stream",
     "text": [
      "[[ 1 24  5]\n",
      " [ 3 54  7]]\n",
      "2\n"
     ]
    }
   ],
   "source": [
    "ar=np.array([[1,24,5],[3,54,7]])\n",
    "print(ar)\n",
    "print(ar.ndim)"
   ]
  },
  {
   "cell_type": "code",
   "execution_count": 9,
   "id": "5c51b776",
   "metadata": {},
   "outputs": [
    {
     "name": "stdout",
     "output_type": "stream",
     "text": [
      "[[[[[[[1 2 3 4]]]]]]]\n",
      "7\n"
     ]
    }
   ],
   "source": [
    "arr=np.array(l,ndmin=7)\n",
    "print(arr)\n",
    "print(arr.ndim)"
   ]
  },
  {
   "cell_type": "code",
   "execution_count": 10,
   "id": "b7fcd305",
   "metadata": {},
   "outputs": [
    {
     "data": {
      "text/plain": [
       "array([0., 0., 0., 0.])"
      ]
     },
     "execution_count": 10,
     "metadata": {},
     "output_type": "execute_result"
    }
   ],
   "source": [
    "np.zeros(4)"
   ]
  },
  {
   "cell_type": "code",
   "execution_count": 12,
   "id": "c2a96243",
   "metadata": {},
   "outputs": [
    {
     "data": {
      "text/plain": [
       "array([[0., 0., 0., 0.],\n",
       "       [0., 0., 0., 0.],\n",
       "       [0., 0., 0., 0.]])"
      ]
     },
     "execution_count": 12,
     "metadata": {},
     "output_type": "execute_result"
    }
   ],
   "source": [
    "np.zeros((3,4))"
   ]
  },
  {
   "cell_type": "code",
   "execution_count": 13,
   "id": "cd1240a0",
   "metadata": {},
   "outputs": [
    {
     "data": {
      "text/plain": [
       "array([1., 1., 1., 1., 1.])"
      ]
     },
     "execution_count": 13,
     "metadata": {},
     "output_type": "execute_result"
    }
   ],
   "source": [
    "np.ones(5)"
   ]
  },
  {
   "cell_type": "code",
   "execution_count": 14,
   "id": "730e4899",
   "metadata": {},
   "outputs": [
    {
     "data": {
      "text/plain": [
       "array([[1., 1., 1., 1.],\n",
       "       [1., 1., 1., 1.],\n",
       "       [1., 1., 1., 1.],\n",
       "       [1., 1., 1., 1.]])"
      ]
     },
     "execution_count": 14,
     "metadata": {},
     "output_type": "execute_result"
    }
   ],
   "source": [
    "np.ones((4,4))"
   ]
  },
  {
   "cell_type": "code",
   "execution_count": 15,
   "id": "8f275e03",
   "metadata": {},
   "outputs": [],
   "source": [
    "ar_em=np.empty(4)"
   ]
  },
  {
   "cell_type": "code",
   "execution_count": 16,
   "id": "7d7b1123",
   "metadata": {},
   "outputs": [
    {
     "data": {
      "text/plain": [
       "array([0., 0., 0., 0.])"
      ]
     },
     "execution_count": 16,
     "metadata": {},
     "output_type": "execute_result"
    }
   ],
   "source": [
    "ar_em"
   ]
  },
  {
   "cell_type": "code",
   "execution_count": 17,
   "id": "d57f12ca",
   "metadata": {},
   "outputs": [
    {
     "data": {
      "text/plain": [
       "array([[1., 1., 1., 1.],\n",
       "       [1., 1., 1., 1.],\n",
       "       [1., 1., 1., 1.],\n",
       "       [1., 1., 1., 1.]])"
      ]
     },
     "execution_count": 17,
     "metadata": {},
     "output_type": "execute_result"
    }
   ],
   "source": [
    "np.empty((4,4))"
   ]
  },
  {
   "cell_type": "code",
   "execution_count": 18,
   "id": "d5e89b8f",
   "metadata": {},
   "outputs": [
    {
     "data": {
      "text/plain": [
       "array([0, 1, 2, 3])"
      ]
     },
     "execution_count": 18,
     "metadata": {},
     "output_type": "execute_result"
    }
   ],
   "source": [
    "np.arange(4)"
   ]
  },
  {
   "cell_type": "code",
   "execution_count": 23,
   "id": "3ae1f52c",
   "metadata": {},
   "outputs": [
    {
     "data": {
      "text/plain": [
       "array([[1., 0., 0., 0.],\n",
       "       [0., 1., 0., 0.],\n",
       "       [0., 0., 1., 0.],\n",
       "       [0., 0., 0., 1.]])"
      ]
     },
     "execution_count": 23,
     "metadata": {},
     "output_type": "execute_result"
    }
   ],
   "source": [
    "np.eye(4)"
   ]
  },
  {
   "cell_type": "code",
   "execution_count": 25,
   "id": "ee0811dd",
   "metadata": {},
   "outputs": [
    {
     "data": {
      "text/plain": [
       "array([[1., 0., 0., 0., 0.],\n",
       "       [0., 1., 0., 0., 0.],\n",
       "       [0., 0., 1., 0., 0.]])"
      ]
     },
     "execution_count": 25,
     "metadata": {},
     "output_type": "execute_result"
    }
   ],
   "source": [
    "np.eye(3,5)"
   ]
  },
  {
   "cell_type": "code",
   "execution_count": 26,
   "id": "24335864",
   "metadata": {},
   "outputs": [
    {
     "data": {
      "text/plain": [
       "array([ 1.        ,  3.57142857,  6.14285714,  8.71428571, 11.28571429,\n",
       "       13.85714286, 16.42857143, 19.        ])"
      ]
     },
     "execution_count": 26,
     "metadata": {},
     "output_type": "execute_result"
    }
   ],
   "source": [
    "np.linspace(1,19,num=8)"
   ]
  },
  {
   "cell_type": "code",
   "execution_count": 27,
   "id": "dba20248",
   "metadata": {},
   "outputs": [
    {
     "data": {
      "text/plain": [
       "array([0.17459859, 0.39514125, 0.60006594, 0.44950618])"
      ]
     },
     "execution_count": 27,
     "metadata": {},
     "output_type": "execute_result"
    }
   ],
   "source": [
    "np.random.rand(4)"
   ]
  },
  {
   "cell_type": "code",
   "execution_count": 29,
   "id": "677f84a0",
   "metadata": {},
   "outputs": [
    {
     "name": "stdout",
     "output_type": "stream",
     "text": [
      "[[0.58339972 0.64956614 0.4970306  0.71476433 0.34856643]\n",
      " [0.94110326 0.45595878 0.71506398 0.22357232 0.41101864]\n",
      " [0.7447464  0.5286752  0.164666   0.34806818 0.83432526]\n",
      " [0.49843511 0.54520412 0.58407892 0.21583636 0.37833838]]\n"
     ]
    }
   ],
   "source": [
    "print(np.random.rand(4,5))"
   ]
  },
  {
   "cell_type": "code",
   "execution_count": 30,
   "id": "32526786",
   "metadata": {},
   "outputs": [
    {
     "data": {
      "text/plain": [
       "array([ 0.11874749, -0.865296  , -0.28009239,  1.25456484,  0.85822909])"
      ]
     },
     "execution_count": 30,
     "metadata": {},
     "output_type": "execute_result"
    }
   ],
   "source": [
    "np.random.randn(5)"
   ]
  },
  {
   "cell_type": "code",
   "execution_count": 31,
   "id": "a2c1cc5e",
   "metadata": {},
   "outputs": [
    {
     "data": {
      "text/plain": [
       "array([[ 0.78329764,  0.22553876, -1.20954292,  0.02103802],\n",
       "       [ 0.06485393,  0.44229953, -0.46020073, -0.71225035],\n",
       "       [ 0.00896922,  1.25683429,  0.23782422,  0.08437912]])"
      ]
     },
     "execution_count": 31,
     "metadata": {},
     "output_type": "execute_result"
    }
   ],
   "source": [
    "np.random.randn(3,4)"
   ]
  },
  {
   "cell_type": "code",
   "execution_count": 33,
   "id": "dad85169",
   "metadata": {},
   "outputs": [
    {
     "data": {
      "text/plain": [
       "array([0.44568944, 0.15378866, 0.55135261])"
      ]
     },
     "execution_count": 33,
     "metadata": {},
     "output_type": "execute_result"
    }
   ],
   "source": [
    "np.random.ranf(3)"
   ]
  },
  {
   "cell_type": "code",
   "execution_count": 35,
   "id": "e4428f1f",
   "metadata": {},
   "outputs": [
    {
     "data": {
      "text/plain": [
       "array([[0.7904414 , 0.29460997, 0.64058362],\n",
       "       [0.55214163, 0.56339601, 0.33326077],\n",
       "       [0.71704664, 0.58242834, 0.22526541]])"
      ]
     },
     "execution_count": 35,
     "metadata": {},
     "output_type": "execute_result"
    }
   ],
   "source": [
    "np.random.ranf((3,3))"
   ]
  },
  {
   "cell_type": "code",
   "execution_count": 39,
   "id": "d4703993",
   "metadata": {},
   "outputs": [
    {
     "data": {
      "text/plain": [
       "array([20, 21, 27,  6, 12])"
      ]
     },
     "execution_count": 39,
     "metadata": {},
     "output_type": "execute_result"
    }
   ],
   "source": [
    "np.random.randint(3,34,5)"
   ]
  },
  {
   "cell_type": "code",
   "execution_count": 40,
   "id": "fa2e5fd5",
   "metadata": {},
   "outputs": [
    {
     "data": {
      "text/plain": [
       "array([[25, 27, 17],\n",
       "       [22, 10, 22],\n",
       "       [15,  4, 20]])"
      ]
     },
     "execution_count": 40,
     "metadata": {},
     "output_type": "execute_result"
    }
   ],
   "source": [
    "np.random.randint(4,29,(3,3))"
   ]
  },
  {
   "cell_type": "code",
   "execution_count": 41,
   "id": "078f8c09",
   "metadata": {},
   "outputs": [
    {
     "name": "stdout",
     "output_type": "stream",
     "text": [
      "int32\n"
     ]
    }
   ],
   "source": [
    "var=np.array([2,3,45,5])\n",
    "print(var.dtype)"
   ]
  },
  {
   "cell_type": "code",
   "execution_count": 43,
   "id": "fe16003f",
   "metadata": {},
   "outputs": [
    {
     "name": "stdout",
     "output_type": "stream",
     "text": [
      "<U11\n"
     ]
    }
   ],
   "source": [
    "var=np.array(['3','d',3,4,44])\n",
    "print(var.dtype)"
   ]
  },
  {
   "cell_type": "code",
   "execution_count": 45,
   "id": "687c38f5",
   "metadata": {},
   "outputs": [
    {
     "name": "stdout",
     "output_type": "stream",
     "text": [
      "int32\n",
      "[3 4]\n"
     ]
    },
    {
     "name": "stderr",
     "output_type": "stream",
     "text": [
      "C:\\Users\\HP\\AppData\\Local\\Temp\\ipykernel_12660\\455313550.py:1: DeprecationWarning: `np.int` is a deprecated alias for the builtin `int`. To silence this warning, use `int` by itself. Doing this will not modify any behavior and is safe. When replacing `np.int`, you may wish to use e.g. `np.int64` or `np.int32` to specify the precision. If you wish to review your current use, check the release note link for additional information.\n",
      "Deprecated in NumPy 1.20; for more details and guidance: https://numpy.org/devdocs/release/1.20.0-notes.html#deprecations\n",
      "  a=np.array(['3','4'],dtype=np.int)\n"
     ]
    }
   ],
   "source": [
    "a=np.array(['3','4'],dtype=np.int)\n",
    "print(a.dtype)\n",
    "print(a)\n"
   ]
  },
  {
   "cell_type": "code",
   "execution_count": 46,
   "id": "b4a2e05f",
   "metadata": {},
   "outputs": [
    {
     "name": "stdout",
     "output_type": "stream",
     "text": [
      "[ 1  4 46]\n",
      "[ 1.  4. 46.]\n"
     ]
    }
   ],
   "source": [
    "x=np.array([1,4,46])\n",
    "new=x.astype(float)\n",
    "print(x)\n",
    "print(new)"
   ]
  },
  {
   "cell_type": "code",
   "execution_count": 49,
   "id": "76cd7ea6",
   "metadata": {},
   "outputs": [
    {
     "data": {
      "text/plain": [
       "array([ 4,  7, 51, 69])"
      ]
     },
     "execution_count": 49,
     "metadata": {},
     "output_type": "execute_result"
    }
   ],
   "source": [
    "a=np.array([1,3,45,6])\n",
    "b=np.array([3,4,6,63])\n",
    "np.add(a,b)"
   ]
  },
  {
   "cell_type": "code",
   "execution_count": 50,
   "id": "3fe347bc",
   "metadata": {},
   "outputs": [
    {
     "data": {
      "text/plain": [
       "array([0.33333333, 0.75      , 7.5       , 0.0952381 ])"
      ]
     },
     "execution_count": 50,
     "metadata": {},
     "output_type": "execute_result"
    }
   ],
   "source": [
    "np.divide(a,b)"
   ]
  },
  {
   "cell_type": "code",
   "execution_count": 52,
   "id": "6bbcaf55",
   "metadata": {},
   "outputs": [
    {
     "data": {
      "text/plain": [
       "array([1, 3, 3, 6], dtype=int32)"
      ]
     },
     "execution_count": 52,
     "metadata": {},
     "output_type": "execute_result"
    }
   ],
   "source": [
    "np.mod(a,b)"
   ]
  },
  {
   "cell_type": "code",
   "execution_count": 53,
   "id": "af71aaf0",
   "metadata": {},
   "outputs": [
    {
     "data": {
      "text/plain": [
       "array([ -2,  -1,  39, -57])"
      ]
     },
     "execution_count": 53,
     "metadata": {},
     "output_type": "execute_result"
    }
   ],
   "source": [
    "np.subtract(a,b)"
   ]
  },
  {
   "cell_type": "code",
   "execution_count": 54,
   "id": "f0d343de",
   "metadata": {},
   "outputs": [
    {
     "data": {
      "text/plain": [
       "array([  3,  12, 270, 378])"
      ]
     },
     "execution_count": 54,
     "metadata": {},
     "output_type": "execute_result"
    }
   ],
   "source": [
    "np.multiply(a,b)"
   ]
  },
  {
   "cell_type": "code",
   "execution_count": 56,
   "id": "9650d26d",
   "metadata": {},
   "outputs": [
    {
     "data": {
      "text/plain": [
       "array([         1,         81, -286168967,          0], dtype=int32)"
      ]
     },
     "execution_count": 56,
     "metadata": {},
     "output_type": "execute_result"
    }
   ],
   "source": [
    "np.power(a,b)"
   ]
  },
  {
   "cell_type": "code",
   "execution_count": 58,
   "id": "6f175f5f",
   "metadata": {},
   "outputs": [
    {
     "data": {
      "text/plain": [
       "array([1.        , 0.33333333, 0.02222222, 0.16666667])"
      ]
     },
     "execution_count": 58,
     "metadata": {},
     "output_type": "execute_result"
    }
   ],
   "source": [
    "np.reciprocal(a,dtype='float')"
   ]
  },
  {
   "cell_type": "code",
   "execution_count": 68,
   "id": "a241336a",
   "metadata": {},
   "outputs": [
    {
     "name": "stdout",
     "output_type": "stream",
     "text": [
      "[ 1  3 45  6]\n"
     ]
    }
   ],
   "source": [
    "print(a)"
   ]
  },
  {
   "cell_type": "code",
   "execution_count": 59,
   "id": "82a3b781",
   "metadata": {},
   "outputs": [
    {
     "data": {
      "text/plain": [
       "1"
      ]
     },
     "execution_count": 59,
     "metadata": {},
     "output_type": "execute_result"
    }
   ],
   "source": [
    "np.min(a)"
   ]
  },
  {
   "cell_type": "code",
   "execution_count": 60,
   "id": "c6b5ce3d",
   "metadata": {},
   "outputs": [
    {
     "data": {
      "text/plain": [
       "45"
      ]
     },
     "execution_count": 60,
     "metadata": {},
     "output_type": "execute_result"
    }
   ],
   "source": [
    "np.max(a)"
   ]
  },
  {
   "cell_type": "code",
   "execution_count": 66,
   "id": "67fe856a",
   "metadata": {},
   "outputs": [
    {
     "data": {
      "text/plain": [
       "0"
      ]
     },
     "execution_count": 66,
     "metadata": {},
     "output_type": "execute_result"
    }
   ],
   "source": [
    "np.argmin(a)"
   ]
  },
  {
   "cell_type": "code",
   "execution_count": 67,
   "id": "d5f9dde0",
   "metadata": {},
   "outputs": [
    {
     "data": {
      "text/plain": [
       "2"
      ]
     },
     "execution_count": 67,
     "metadata": {},
     "output_type": "execute_result"
    }
   ],
   "source": [
    "np.argmax(a)"
   ]
  },
  {
   "cell_type": "code",
   "execution_count": 61,
   "id": "5c263629",
   "metadata": {},
   "outputs": [
    {
     "data": {
      "text/plain": [
       "array([1.        , 1.73205081, 6.70820393, 2.44948974])"
      ]
     },
     "execution_count": 61,
     "metadata": {},
     "output_type": "execute_result"
    }
   ],
   "source": [
    "np.sqrt(a)"
   ]
  },
  {
   "cell_type": "code",
   "execution_count": 62,
   "id": "17ed1323",
   "metadata": {},
   "outputs": [
    {
     "data": {
      "text/plain": [
       "array([ 0.84147098,  0.14112001,  0.85090352, -0.2794155 ])"
      ]
     },
     "execution_count": 62,
     "metadata": {},
     "output_type": "execute_result"
    }
   ],
   "source": [
    "np.sin(a)"
   ]
  },
  {
   "cell_type": "code",
   "execution_count": 63,
   "id": "b1025616",
   "metadata": {},
   "outputs": [
    {
     "data": {
      "text/plain": [
       "array([ 0.54030231, -0.9899925 ,  0.52532199,  0.96017029])"
      ]
     },
     "execution_count": 63,
     "metadata": {},
     "output_type": "execute_result"
    }
   ],
   "source": [
    "np.cos(a)"
   ]
  },
  {
   "cell_type": "code",
   "execution_count": 64,
   "id": "8687ca95",
   "metadata": {},
   "outputs": [
    {
     "data": {
      "text/plain": [
       "array([ 1,  4, 49, 55], dtype=int32)"
      ]
     },
     "execution_count": 64,
     "metadata": {},
     "output_type": "execute_result"
    }
   ],
   "source": [
    "np.cumsum(a)"
   ]
  },
  {
   "cell_type": "code",
   "execution_count": 72,
   "id": "2db7557f",
   "metadata": {},
   "outputs": [
    {
     "name": "stdout",
     "output_type": "stream",
     "text": [
      "[1 3 6 6]\n"
     ]
    }
   ],
   "source": [
    "var=np.array([a,b],ndmin=2)\n",
    "print(np.min(var,axis=0))## 0  means column"
   ]
  },
  {
   "cell_type": "code",
   "execution_count": 74,
   "id": "95051a4b",
   "metadata": {},
   "outputs": [
    {
     "name": "stdout",
     "output_type": "stream",
     "text": [
      "[[ 1  3 45  6]\n",
      " [ 3  4  6 63]]\n"
     ]
    }
   ],
   "source": [
    "print(var)"
   ]
  },
  {
   "cell_type": "code",
   "execution_count": 75,
   "id": "1b948588",
   "metadata": {},
   "outputs": [
    {
     "name": "stdout",
     "output_type": "stream",
     "text": [
      "(2, 4)\n"
     ]
    }
   ],
   "source": [
    "print(var.shape)"
   ]
  },
  {
   "cell_type": "code",
   "execution_count": 76,
   "id": "e9fc4afb",
   "metadata": {},
   "outputs": [
    {
     "name": "stdout",
     "output_type": "stream",
     "text": [
      "[[[[2 4 6 3]]]]\n",
      "(1, 1, 1, 4)\n"
     ]
    }
   ],
   "source": [
    "var1=np.array([2,4,6,3],ndmin=4)\n",
    "print(var1)\n",
    "print(var1.shape)"
   ]
  },
  {
   "cell_type": "code",
   "execution_count": 92,
   "id": "c59929d5",
   "metadata": {},
   "outputs": [
    {
     "name": "stdout",
     "output_type": "stream",
     "text": [
      "[[ 3]\n",
      " [ 4]\n",
      " [45]\n",
      " [33]\n",
      " [32]]\n"
     ]
    }
   ],
   "source": [
    "var11=np.array([3,4,45,33,32])\n",
    "x=var11.reshape((5,1))\n",
    "print(x)"
   ]
  },
  {
   "cell_type": "code",
   "execution_count": 86,
   "id": "5971cd6c",
   "metadata": {},
   "outputs": [
    {
     "name": "stdout",
     "output_type": "stream",
     "text": [
      "(5, 1)\n",
      "2\n",
      "1\n"
     ]
    }
   ],
   "source": [
    "print(x.shape)\n",
    "print(x.ndim)\n",
    "print(var11.ndim)"
   ]
  },
  {
   "cell_type": "code",
   "execution_count": 93,
   "id": "f5678d30",
   "metadata": {},
   "outputs": [
    {
     "name": "stdout",
     "output_type": "stream",
     "text": [
      "[[ 6  7 48 36 35]\n",
      " [ 7  8 49 37 36]\n",
      " [48 49 90 78 77]\n",
      " [36 37 78 66 65]\n",
      " [35 36 77 65 64]]\n"
     ]
    }
   ],
   "source": [
    "print(var11+x)"
   ]
  },
  {
   "cell_type": "code",
   "execution_count": 94,
   "id": "50659405",
   "metadata": {},
   "outputs": [
    {
     "name": "stdout",
     "output_type": "stream",
     "text": [
      "[ 9  3 22  5]\n",
      "5\n"
     ]
    }
   ],
   "source": [
    "var=np.array([9,3,22,5])\n",
    "print(var)\n",
    "print(var[-1])"
   ]
  },
  {
   "cell_type": "code",
   "execution_count": 97,
   "id": "d68e6343",
   "metadata": {},
   "outputs": [
    {
     "name": "stdout",
     "output_type": "stream",
     "text": [
      "[[ 1  3 45  6]\n",
      " [ 3  4  6 63]]\n",
      "6\n"
     ]
    }
   ],
   "source": [
    "varr=np.array([a,b])\n",
    "print(varr)\n",
    "print(varr[0,3])"
   ]
  },
  {
   "cell_type": "code",
   "execution_count": 98,
   "id": "8eaa59d6",
   "metadata": {},
   "outputs": [
    {
     "name": "stdout",
     "output_type": "stream",
     "text": [
      "[[1 3]\n",
      " [3 4]]\n"
     ]
    }
   ],
   "source": [
    "print(varr[:,:2])"
   ]
  },
  {
   "cell_type": "code",
   "execution_count": 99,
   "id": "cb24a1d6",
   "metadata": {},
   "outputs": [
    {
     "name": "stdout",
     "output_type": "stream",
     "text": [
      "9\n",
      "3\n",
      "22\n",
      "5\n"
     ]
    }
   ],
   "source": [
    "for i in var:\n",
    "    print(i)"
   ]
  },
  {
   "cell_type": "code",
   "execution_count": 100,
   "id": "97bfbfc5",
   "metadata": {},
   "outputs": [
    {
     "name": "stdout",
     "output_type": "stream",
     "text": [
      "[[ 1  3 45  6]\n",
      " [ 3  4  6 63]]\n",
      "1\n",
      "3\n",
      "45\n",
      "6\n",
      "3\n",
      "4\n",
      "6\n",
      "63\n"
     ]
    }
   ],
   "source": [
    "print(varr)\n",
    "for i in varr:\n",
    "    for j in i:\n",
    "        print(j)"
   ]
  },
  {
   "cell_type": "code",
   "execution_count": 102,
   "id": "48f999c3",
   "metadata": {},
   "outputs": [],
   "source": [
    "varr1=np.array((a,b),ndmin=3)"
   ]
  },
  {
   "cell_type": "code",
   "execution_count": 103,
   "id": "227f51bb",
   "metadata": {},
   "outputs": [
    {
     "name": "stdout",
     "output_type": "stream",
     "text": [
      "1\n",
      "3\n",
      "45\n",
      "6\n",
      "3\n",
      "4\n",
      "6\n",
      "63\n"
     ]
    }
   ],
   "source": [
    "for i in varr1:\n",
    "    for j in i:\n",
    "        for k in j:\n",
    "            print(k)"
   ]
  },
  {
   "cell_type": "code",
   "execution_count": 104,
   "id": "f1397ea9",
   "metadata": {},
   "outputs": [
    {
     "name": "stdout",
     "output_type": "stream",
     "text": [
      "(0, 0, 0) 1\n",
      "(0, 0, 1) 3\n",
      "(0, 0, 2) 45\n",
      "(0, 0, 3) 6\n",
      "(0, 1, 0) 3\n",
      "(0, 1, 1) 4\n",
      "(0, 1, 2) 6\n",
      "(0, 1, 3) 63\n"
     ]
    }
   ],
   "source": [
    "for i,d in np.ndenumerate(varr1):\n",
    "    print(i,d)"
   ]
  },
  {
   "cell_type": "code",
   "execution_count": 107,
   "id": "f49ba8dd",
   "metadata": {},
   "outputs": [
    {
     "name": "stdout",
     "output_type": "stream",
     "text": [
      "1\n",
      "3\n",
      "45\n",
      "6\n",
      "3\n",
      "4\n",
      "6\n",
      "63\n"
     ]
    }
   ],
   "source": [
    "for i in np.nditer(varr):\n",
    "    print(i)"
   ]
  },
  {
   "cell_type": "code",
   "execution_count": 108,
   "id": "cbb2feee",
   "metadata": {},
   "outputs": [],
   "source": [
    "var2=var1.copy()"
   ]
  },
  {
   "cell_type": "code",
   "execution_count": 109,
   "id": "663699a3",
   "metadata": {},
   "outputs": [
    {
     "name": "stdout",
     "output_type": "stream",
     "text": [
      "arr: [[[[2 4 6 3]]]]\n",
      "copy: [[[[2 4 6 3]]]]\n"
     ]
    }
   ],
   "source": [
    "print('arr:',var1)\n",
    "print('copy:',var2)"
   ]
  },
  {
   "cell_type": "code",
   "execution_count": 110,
   "id": "aabaf356",
   "metadata": {},
   "outputs": [
    {
     "data": {
      "text/plain": [
       "array([[[[2, 4, 6, 3]]]])"
      ]
     },
     "execution_count": 110,
     "metadata": {},
     "output_type": "execute_result"
    }
   ],
   "source": [
    "var2.view()"
   ]
  },
  {
   "cell_type": "code",
   "execution_count": 117,
   "id": "cc5a9e11",
   "metadata": {},
   "outputs": [
    {
     "name": "stdout",
     "output_type": "stream",
     "text": [
      "[ 1  3 45  6  3  4  6 63]\n"
     ]
    }
   ],
   "source": [
    "var=np.array(a)\n",
    "var1=np.array(b)\n",
    "ar=np.concatenate((var,var1),axis=0)\n",
    "print(ar)"
   ]
  },
  {
   "cell_type": "code",
   "execution_count": 122,
   "id": "21af00d7",
   "metadata": {},
   "outputs": [
    {
     "name": "stdout",
     "output_type": "stream",
     "text": [
      "[[ 1  3 45  6]\n",
      " [ 3  4  6 63]]\n"
     ]
    }
   ],
   "source": [
    "print(np.stack((var,var1)))"
   ]
  },
  {
   "cell_type": "code",
   "execution_count": 121,
   "id": "4df467c1",
   "metadata": {},
   "outputs": [
    {
     "name": "stdout",
     "output_type": "stream",
     "text": [
      "[[ 1  3 45  6]\n",
      " [ 3  4  6 63]]\n",
      "[ 1  3 45  6  3  4  6 63]\n",
      "[[[ 1  3]\n",
      "  [ 3  4]\n",
      "  [45  6]\n",
      "  [ 6 63]]]\n"
     ]
    }
   ],
   "source": [
    "print(np.vstack((var,var1)))\n",
    "print(np.hstack((var,var1)))\n",
    "print(np.dstack((var,var1)))\n"
   ]
  },
  {
   "cell_type": "code",
   "execution_count": 131,
   "id": "db31fc36",
   "metadata": {},
   "outputs": [],
   "source": [
    "ass=np.array_split(var,2,axis=0)"
   ]
  },
  {
   "cell_type": "code",
   "execution_count": 132,
   "id": "110f89da",
   "metadata": {},
   "outputs": [
    {
     "data": {
      "text/plain": [
       "array([1, 3])"
      ]
     },
     "execution_count": 132,
     "metadata": {},
     "output_type": "execute_result"
    }
   ],
   "source": [
    "ass[0]"
   ]
  },
  {
   "cell_type": "code",
   "execution_count": 133,
   "id": "0a3bc4ae",
   "metadata": {},
   "outputs": [
    {
     "data": {
      "text/plain": [
       "array([45,  6])"
      ]
     },
     "execution_count": 133,
     "metadata": {},
     "output_type": "execute_result"
    }
   ],
   "source": [
    "ass[1]"
   ]
  },
  {
   "cell_type": "code",
   "execution_count": 169,
   "id": "239a51a7",
   "metadata": {},
   "outputs": [
    {
     "name": "stdout",
     "output_type": "stream",
     "text": [
      "(array([2, 3], dtype=int64),)\n"
     ]
    }
   ],
   "source": [
    "variable=np.array([1,2,3,3,4,5,6,4,0])\n",
    "x=np.where(variable==3)\n",
    "print(x)"
   ]
  },
  {
   "cell_type": "code",
   "execution_count": 170,
   "id": "ca0647b6",
   "metadata": {},
   "outputs": [
    {
     "name": "stdout",
     "output_type": "stream",
     "text": [
      "(array([2, 3, 6, 8], dtype=int64),)\n"
     ]
    }
   ],
   "source": [
    "y=np.where(variable%3==0)\n",
    "print(y)"
   ]
  },
  {
   "cell_type": "code",
   "execution_count": 171,
   "id": "23c81db9",
   "metadata": {},
   "outputs": [],
   "source": [
    "x1=np.searchsorted(variable,0)"
   ]
  },
  {
   "cell_type": "code",
   "execution_count": 172,
   "id": "676ef64a",
   "metadata": {},
   "outputs": [
    {
     "name": "stdout",
     "output_type": "stream",
     "text": [
      "0\n"
     ]
    }
   ],
   "source": [
    "print(x1)"
   ]
  },
  {
   "cell_type": "code",
   "execution_count": 173,
   "id": "544781bf",
   "metadata": {},
   "outputs": [],
   "source": [
    "x2=np.searchsorted(variable,[9,10,11])"
   ]
  },
  {
   "cell_type": "code",
   "execution_count": 174,
   "id": "63e86272",
   "metadata": {},
   "outputs": [
    {
     "name": "stdout",
     "output_type": "stream",
     "text": [
      "[9 9 9]\n"
     ]
    }
   ],
   "source": [
    "print(x2)"
   ]
  },
  {
   "cell_type": "code",
   "execution_count": 175,
   "id": "3d51f9aa",
   "metadata": {},
   "outputs": [
    {
     "name": "stdout",
     "output_type": "stream",
     "text": [
      "[0 1 2 3 3 4 4 5 6]\n"
     ]
    }
   ],
   "source": [
    "print(np.sort(variable))"
   ]
  },
  {
   "cell_type": "code",
   "execution_count": 176,
   "id": "d739a235",
   "metadata": {},
   "outputs": [],
   "source": [
    "variablealpha=np.array(list('pavk'))\n",
    "x=np.sort(variablealpha)"
   ]
  },
  {
   "cell_type": "code",
   "execution_count": 177,
   "id": "ea75401c",
   "metadata": {},
   "outputs": [
    {
     "name": "stdout",
     "output_type": "stream",
     "text": [
      "['a' 'k' 'p' 'v']\n"
     ]
    }
   ],
   "source": [
    "print(x)"
   ]
  },
  {
   "cell_type": "code",
   "execution_count": 178,
   "id": "3163f07c",
   "metadata": {},
   "outputs": [
    {
     "name": "stdout",
     "output_type": "stream",
     "text": [
      "['p' 'a']\n"
     ]
    }
   ],
   "source": [
    "f=[True,True,False,False]\n",
    "n=variablealpha[f]\n",
    "print(n)"
   ]
  },
  {
   "cell_type": "code",
   "execution_count": 179,
   "id": "0f6e247a",
   "metadata": {},
   "outputs": [
    {
     "name": "stdout",
     "output_type": "stream",
     "text": [
      "['k' 'a' 'v' 'p']\n"
     ]
    }
   ],
   "source": [
    "np.random.shuffle(variablealpha)\n",
    "print(variablealpha)"
   ]
  },
  {
   "cell_type": "code",
   "execution_count": 180,
   "id": "f005285e",
   "metadata": {},
   "outputs": [
    {
     "name": "stdout",
     "output_type": "stream",
     "text": [
      "(array([0, 1, 2, 3, 4, 5, 6]), array([8, 0, 1, 2, 4, 5, 6], dtype=int64), array([1, 1, 1, 2, 2, 1, 1], dtype=int64))\n"
     ]
    }
   ],
   "source": [
    "x=np.unique(variable,return_index=True,return_counts=True)\n",
    "print(x)"
   ]
  },
  {
   "cell_type": "code",
   "execution_count": 181,
   "id": "a80aebeb",
   "metadata": {},
   "outputs": [],
   "source": [
    "r=np.resize(variable,(3,3))"
   ]
  },
  {
   "cell_type": "code",
   "execution_count": 182,
   "id": "1d57a250",
   "metadata": {},
   "outputs": [
    {
     "name": "stdout",
     "output_type": "stream",
     "text": [
      "[[1 2 3]\n",
      " [3 4 5]\n",
      " [6 4 0]]\n"
     ]
    }
   ],
   "source": [
    "print(r)"
   ]
  },
  {
   "cell_type": "code",
   "execution_count": 183,
   "id": "fc4f592f",
   "metadata": {},
   "outputs": [
    {
     "name": "stdout",
     "output_type": "stream",
     "text": [
      "[1 2 3 3 4 5 6 4 0]\n"
     ]
    }
   ],
   "source": [
    "print(r.flatten())"
   ]
  },
  {
   "cell_type": "code",
   "execution_count": 184,
   "id": "2bfb9ba9",
   "metadata": {},
   "outputs": [
    {
     "name": "stdout",
     "output_type": "stream",
     "text": [
      "[1 2 3 3 4 5 6 4 0]\n"
     ]
    }
   ],
   "source": [
    "print(np.ravel(r))"
   ]
  },
  {
   "cell_type": "code",
   "execution_count": 185,
   "id": "fab6ee46",
   "metadata": {},
   "outputs": [
    {
     "name": "stdout",
     "output_type": "stream",
     "text": [
      "[ 1  2 10  3  3  4  5  6  4  0]\n"
     ]
    }
   ],
   "source": [
    "variable=np.insert(variable,2,10)\n",
    "print(variable)"
   ]
  },
  {
   "cell_type": "code",
   "execution_count": 187,
   "id": "e37c2170",
   "metadata": {},
   "outputs": [
    {
     "name": "stdout",
     "output_type": "stream",
     "text": [
      "[ 1  3 10 45 80  6]\n"
     ]
    }
   ],
   "source": [
    "print(np.insert(var,(2,3),(10,80)))#####doubt"
   ]
  },
  {
   "cell_type": "code",
   "execution_count": 196,
   "id": "a3ba897c",
   "metadata": {},
   "outputs": [
    {
     "name": "stdout",
     "output_type": "stream",
     "text": [
      "[[  2   6  90  12]\n",
      " [  6   8  12 126]]\n",
      "[[0 0 0 0]\n",
      " [0 0 0 0]]\n",
      "[[ 307  579]\n",
      " [ 579 4026]]\n",
      "[[  10   15   63  195]\n",
      " [  63  159 2061  648]\n",
      " [  15   25  159  270]\n",
      " [ 195  270  648 4005]]\n",
      "[[ 1  3 45  6]\n",
      " [ 3  4  6 63]]\n"
     ]
    }
   ],
   "source": [
    "va=np.matrix([a,b])\n",
    "va1=va.copy()\n",
    "print(va+va1)\n",
    "print(va-va1)\n",
    "va2=va1.reshape((4,2))\n",
    "print(va*va2)\n",
    "print(va2*va)\n",
    "print(va)\n"
   ]
  },
  {
   "cell_type": "code",
   "execution_count": 197,
   "id": "ce4e706c",
   "metadata": {},
   "outputs": [
    {
     "name": "stdout",
     "output_type": "stream",
     "text": [
      "[[ 1  3]\n",
      " [ 3  4]\n",
      " [45  6]\n",
      " [ 6 63]]\n"
     ]
    }
   ],
   "source": [
    "print(np.transpose(va))"
   ]
  },
  {
   "cell_type": "code",
   "execution_count": 199,
   "id": "7502a3dc",
   "metadata": {},
   "outputs": [
    {
     "name": "stdout",
     "output_type": "stream",
     "text": [
      "[[ 1  3]\n",
      " [ 3  4]\n",
      " [45  6]\n",
      " [ 6 63]]\n"
     ]
    }
   ],
   "source": [
    "print(np.swapaxes(va,0,1))"
   ]
  },
  {
   "cell_type": "code",
   "execution_count": 201,
   "id": "4f456aa2",
   "metadata": {},
   "outputs": [
    {
     "name": "stdout",
     "output_type": "stream",
     "text": [
      "[[-2.   1. ]\n",
      " [ 1.5 -0.5]]\n"
     ]
    }
   ],
   "source": [
    "vasquare=np.matrix([[1,2],[3,4]])\n",
    "print(np.linalg.inv(vasquare))"
   ]
  },
  {
   "cell_type": "code",
   "execution_count": 202,
   "id": "a0e15fb3",
   "metadata": {},
   "outputs": [
    {
     "name": "stdout",
     "output_type": "stream",
     "text": [
      "[[1 2]\n",
      " [3 4]]\n"
     ]
    }
   ],
   "source": [
    "print(vasquare)"
   ]
  },
  {
   "cell_type": "code",
   "execution_count": 204,
   "id": "387317fa",
   "metadata": {},
   "outputs": [
    {
     "data": {
      "text/plain": [
       "matrix([[ 7, 10],\n",
       "        [15, 22]])"
      ]
     },
     "execution_count": 204,
     "metadata": {},
     "output_type": "execute_result"
    }
   ],
   "source": [
    "np.linalg.matrix_power(vasquare,2)"
   ]
  },
  {
   "cell_type": "code",
   "execution_count": 205,
   "id": "7b11ab1e",
   "metadata": {},
   "outputs": [
    {
     "data": {
      "text/plain": [
       "matrix([[1, 0],\n",
       "        [0, 1]])"
      ]
     },
     "execution_count": 205,
     "metadata": {},
     "output_type": "execute_result"
    }
   ],
   "source": [
    "np.linalg.matrix_power(vasquare,0)"
   ]
  },
  {
   "cell_type": "code",
   "execution_count": 206,
   "id": "6aa2414e",
   "metadata": {},
   "outputs": [
    {
     "data": {
      "text/plain": [
       "matrix([[-14.75 ,   6.75 ],\n",
       "        [ 10.125,  -4.625]])"
      ]
     },
     "execution_count": 206,
     "metadata": {},
     "output_type": "execute_result"
    }
   ],
   "source": [
    "np.linalg.matrix_power(vasquare,-3)"
   ]
  },
  {
   "cell_type": "code",
   "execution_count": 211,
   "id": "c824cb8d",
   "metadata": {},
   "outputs": [
    {
     "name": "stdout",
     "output_type": "stream",
     "text": [
      "-2.0\n"
     ]
    }
   ],
   "source": [
    "print(round(np.linalg.det(vasquare),1))"
   ]
  },
  {
   "cell_type": "code",
   "execution_count": 2,
   "id": "383be5ec",
   "metadata": {},
   "outputs": [
    {
     "data": {
      "text/plain": [
       "'1.21.5'"
      ]
     },
     "execution_count": 2,
     "metadata": {},
     "output_type": "execute_result"
    }
   ],
   "source": [
    "import numpy as np\n",
    "np.__version__"
   ]
  },
  {
   "cell_type": "code",
   "execution_count": 6,
   "id": "68f6351c",
   "metadata": {},
   "outputs": [
    {
     "data": {
      "text/plain": [
       "array([[0, 1, 2, 3, 4, 5, 6, 7, 8, 9, 0, 1, 2, 3, 4, 5, 6, 7, 8, 9, 0, 1,\n",
       "        2, 3, 4, 5, 6, 7, 8, 9, 0, 1, 2, 3, 4, 5, 6, 7, 8, 9],\n",
       "       [0, 1, 2, 3, 4, 5, 6, 7, 8, 9, 0, 1, 2, 3, 4, 5, 6, 7, 8, 9, 0, 1,\n",
       "        2, 3, 4, 5, 6, 7, 8, 9, 0, 1, 2, 3, 4, 5, 6, 7, 8, 9],\n",
       "       [0, 1, 2, 3, 4, 5, 6, 7, 8, 9, 0, 1, 2, 3, 4, 5, 6, 7, 8, 9, 0, 1,\n",
       "        2, 3, 4, 5, 6, 7, 8, 9, 0, 1, 2, 3, 4, 5, 6, 7, 8, 9],\n",
       "       [0, 1, 2, 3, 4, 5, 6, 7, 8, 9, 0, 1, 2, 3, 4, 5, 6, 7, 8, 9, 0, 1,\n",
       "        2, 3, 4, 5, 6, 7, 8, 9, 0, 1, 2, 3, 4, 5, 6, 7, 8, 9],\n",
       "       [0, 1, 2, 3, 4, 5, 6, 7, 8, 9, 0, 1, 2, 3, 4, 5, 6, 7, 8, 9, 0, 1,\n",
       "        2, 3, 4, 5, 6, 7, 8, 9, 0, 1, 2, 3, 4, 5, 6, 7, 8, 9]])"
      ]
     },
     "execution_count": 6,
     "metadata": {},
     "output_type": "execute_result"
    }
   ],
   "source": [
    "np.tile(np.arange(10),(5,4))"
   ]
  },
  {
   "cell_type": "code",
   "execution_count": 7,
   "id": "293a3e89",
   "metadata": {},
   "outputs": [
    {
     "data": {
      "text/plain": [
       "array([[0, 1, 2, 3, 4, 0, 1, 2, 3, 4],\n",
       "       [0, 1, 2, 3, 4, 0, 1, 2, 3, 4]])"
      ]
     },
     "execution_count": 7,
     "metadata": {},
     "output_type": "execute_result"
    }
   ],
   "source": [
    "np.tile(np.arange(5),(2,2))"
   ]
  },
  {
   "cell_type": "code",
   "execution_count": 8,
   "id": "2c7ca191",
   "metadata": {},
   "outputs": [
    {
     "data": {
      "text/plain": [
       "array([1, 1, 1, 1, 1, 2, 2, 2, 2, 2])"
      ]
     },
     "execution_count": 8,
     "metadata": {},
     "output_type": "execute_result"
    }
   ],
   "source": [
    "np.repeat([1,2],5)"
   ]
  },
  {
   "cell_type": "code",
   "execution_count": 9,
   "id": "6404e2d5",
   "metadata": {},
   "outputs": [
    {
     "data": {
      "text/plain": [
       "array([1.  , 1.75, 2.5 , 3.25, 4.  ])"
      ]
     },
     "execution_count": 9,
     "metadata": {},
     "output_type": "execute_result"
    }
   ],
   "source": [
    "np.linspace(1,4,5)"
   ]
  },
  {
   "cell_type": "code",
   "execution_count": 10,
   "id": "9be77c44",
   "metadata": {},
   "outputs": [
    {
     "data": {
      "text/plain": [
       "matrix([[1, 2],\n",
       "        [3, 4]])"
      ]
     },
     "execution_count": 10,
     "metadata": {},
     "output_type": "execute_result"
    }
   ],
   "source": [
    "np.matrix('1,2;3,4')"
   ]
  },
  {
   "cell_type": "code",
   "execution_count": 11,
   "id": "e4860620",
   "metadata": {},
   "outputs": [],
   "source": [
    "a=np.arange(20).reshape(4,5,1)"
   ]
  },
  {
   "cell_type": "code",
   "execution_count": 12,
   "id": "5cd4d73d",
   "metadata": {},
   "outputs": [
    {
     "data": {
      "text/plain": [
       "array([[[ 0],\n",
       "        [ 1],\n",
       "        [ 2],\n",
       "        [ 3],\n",
       "        [ 4]],\n",
       "\n",
       "       [[ 5],\n",
       "        [ 6],\n",
       "        [ 7],\n",
       "        [ 8],\n",
       "        [ 9]],\n",
       "\n",
       "       [[10],\n",
       "        [11],\n",
       "        [12],\n",
       "        [13],\n",
       "        [14]],\n",
       "\n",
       "       [[15],\n",
       "        [16],\n",
       "        [17],\n",
       "        [18],\n",
       "        [19]]])"
      ]
     },
     "execution_count": 12,
     "metadata": {},
     "output_type": "execute_result"
    }
   ],
   "source": [
    "a"
   ]
  },
  {
   "cell_type": "code",
   "execution_count": 14,
   "id": "55f51f0a",
   "metadata": {},
   "outputs": [],
   "source": [
    "ab=np.arange(20).reshape(5,4)"
   ]
  },
  {
   "cell_type": "code",
   "execution_count": 16,
   "id": "d2692844",
   "metadata": {},
   "outputs": [
    {
     "data": {
      "text/plain": [
       "array([[ 0,  1,  2,  3],\n",
       "       [ 4,  5,  6,  7],\n",
       "       [ 8,  9, 10, 11],\n",
       "       [12, 13, 14, 15],\n",
       "       [16, 17, 18, 19]])"
      ]
     },
     "execution_count": 16,
     "metadata": {},
     "output_type": "execute_result"
    }
   ],
   "source": [
    "ab"
   ]
  },
  {
   "cell_type": "code",
   "execution_count": 17,
   "id": "0c6656b4",
   "metadata": {},
   "outputs": [
    {
     "data": {
      "text/plain": [
       "(4, 5, 1)"
      ]
     },
     "execution_count": 17,
     "metadata": {},
     "output_type": "execute_result"
    }
   ],
   "source": [
    "a.shape"
   ]
  },
  {
   "cell_type": "code",
   "execution_count": 18,
   "id": "e42c6cb3",
   "metadata": {},
   "outputs": [
    {
     "data": {
      "text/plain": [
       "array([[5],\n",
       "       [6],\n",
       "       [7],\n",
       "       [8],\n",
       "       [9]])"
      ]
     },
     "execution_count": 18,
     "metadata": {},
     "output_type": "execute_result"
    }
   ],
   "source": [
    "a[1]"
   ]
  },
  {
   "cell_type": "code",
   "execution_count": 19,
   "id": "29114c7b",
   "metadata": {},
   "outputs": [
    {
     "data": {
      "text/plain": [
       "array([7])"
      ]
     },
     "execution_count": 19,
     "metadata": {},
     "output_type": "execute_result"
    }
   ],
   "source": [
    "a[1,2]"
   ]
  },
  {
   "cell_type": "code",
   "execution_count": 20,
   "id": "55f01a93",
   "metadata": {},
   "outputs": [
    {
     "data": {
      "text/plain": [
       "array([[10],\n",
       "       [11],\n",
       "       [12],\n",
       "       [13],\n",
       "       [14]])"
      ]
     },
     "execution_count": 20,
     "metadata": {},
     "output_type": "execute_result"
    }
   ],
   "source": [
    "a[2]"
   ]
  },
  {
   "cell_type": "code",
   "execution_count": 21,
   "id": "0a93d74c",
   "metadata": {},
   "outputs": [
    {
     "data": {
      "text/plain": [
       "array([11])"
      ]
     },
     "execution_count": 21,
     "metadata": {},
     "output_type": "execute_result"
    }
   ],
   "source": [
    "a[2,1]"
   ]
  },
  {
   "cell_type": "code",
   "execution_count": 22,
   "id": "175ee3fa",
   "metadata": {},
   "outputs": [],
   "source": [
    "a=a.squeeze()"
   ]
  },
  {
   "cell_type": "code",
   "execution_count": 23,
   "id": "09324c9b",
   "metadata": {},
   "outputs": [
    {
     "data": {
      "text/plain": [
       "array([[ 0,  1,  2,  3,  4],\n",
       "       [ 5,  6,  7,  8,  9],\n",
       "       [10, 11, 12, 13, 14],\n",
       "       [15, 16, 17, 18, 19]])"
      ]
     },
     "execution_count": 23,
     "metadata": {},
     "output_type": "execute_result"
    }
   ],
   "source": [
    "a"
   ]
  },
  {
   "cell_type": "code",
   "execution_count": 25,
   "id": "025833ec",
   "metadata": {},
   "outputs": [
    {
     "data": {
      "text/plain": [
       "(4, 5)"
      ]
     },
     "execution_count": 25,
     "metadata": {},
     "output_type": "execute_result"
    }
   ],
   "source": [
    "a.shape"
   ]
  },
  {
   "cell_type": "code",
   "execution_count": 28,
   "id": "0c37df0e",
   "metadata": {},
   "outputs": [],
   "source": [
    "x=a[0:3].copy()"
   ]
  },
  {
   "cell_type": "code",
   "execution_count": 29,
   "id": "6a1f5f84",
   "metadata": {},
   "outputs": [
    {
     "name": "stdout",
     "output_type": "stream",
     "text": [
      "[[ 0  1  2  3  4]\n",
      " [ 5  6  7  8  9]\n",
      " [10 11 12 13 14]]\n"
     ]
    }
   ],
   "source": [
    "print(x)"
   ]
  },
  {
   "cell_type": "code",
   "execution_count": 30,
   "id": "825bac7c",
   "metadata": {},
   "outputs": [
    {
     "data": {
      "text/plain": [
       "3.141592653589793"
      ]
     },
     "execution_count": 30,
     "metadata": {},
     "output_type": "execute_result"
    }
   ],
   "source": [
    "np.pi"
   ]
  },
  {
   "cell_type": "code",
   "execution_count": 31,
   "id": "97e9de58",
   "metadata": {},
   "outputs": [
    {
     "data": {
      "text/plain": [
       "array([[3.14159265, 3.14159265, 3.14159265, 3.14159265],\n",
       "       [3.14159265, 3.14159265, 3.14159265, 3.14159265],\n",
       "       [3.14159265, 3.14159265, 3.14159265, 3.14159265]])"
      ]
     },
     "execution_count": 31,
     "metadata": {},
     "output_type": "execute_result"
    }
   ],
   "source": [
    "np.full((3,4),np.pi)"
   ]
  },
  {
   "cell_type": "code",
   "execution_count": 32,
   "id": "c95e70ed",
   "metadata": {},
   "outputs": [
    {
     "data": {
      "text/plain": [
       "array([[2, 2],\n",
       "       [2, 2]])"
      ]
     },
     "execution_count": 32,
     "metadata": {},
     "output_type": "execute_result"
    }
   ],
   "source": [
    "np.full((2,2),2)"
   ]
  },
  {
   "cell_type": "code",
   "execution_count": 33,
   "id": "c9709cb8",
   "metadata": {},
   "outputs": [
    {
     "data": {
      "text/plain": [
       "array([[6.23042070e-307, 4.67296746e-307, 1.69121096e-306],\n",
       "       [6.23047842e-307, 2.22526399e-307, 2.05837348e-312]])"
      ]
     },
     "execution_count": 33,
     "metadata": {},
     "output_type": "execute_result"
    }
   ],
   "source": [
    "np.empty((2,3))"
   ]
  },
  {
   "cell_type": "code",
   "execution_count": 34,
   "id": "e00a7339",
   "metadata": {},
   "outputs": [
    {
     "data": {
      "text/plain": [
       "array([1., 2., 3., 4.], dtype=float32)"
      ]
     },
     "execution_count": 34,
     "metadata": {},
     "output_type": "execute_result"
    }
   ],
   "source": [
    "np.arange(1,5,dtype='f')"
   ]
  },
  {
   "cell_type": "code",
   "execution_count": 35,
   "id": "9aeddef1",
   "metadata": {},
   "outputs": [
    {
     "data": {
      "text/plain": [
       "array([1, 2, 3], dtype=int32)"
      ]
     },
     "execution_count": 35,
     "metadata": {},
     "output_type": "execute_result"
    }
   ],
   "source": [
    "np.arange(1,4,dtype='i')"
   ]
  },
  {
   "cell_type": "code",
   "execution_count": 36,
   "id": "fae73d11",
   "metadata": {},
   "outputs": [
    {
     "data": {
      "text/plain": [
       "array([1.  , 1.25, 1.5 , 1.75, 2.  , 2.25, 2.5 , 2.75, 3.  , 3.25, 3.5 ,\n",
       "       3.75, 4.  , 4.25, 4.5 , 4.75])"
      ]
     },
     "execution_count": 36,
     "metadata": {},
     "output_type": "execute_result"
    }
   ],
   "source": [
    "np.arange(1,5,0.25)"
   ]
  },
  {
   "cell_type": "code",
   "execution_count": 37,
   "id": "0652a152",
   "metadata": {},
   "outputs": [
    {
     "data": {
      "text/plain": [
       "array([[ 0,  1,  2,  3,  4],\n",
       "       [ 5,  6,  7,  8,  9],\n",
       "       [10, 11, 12, 13, 14],\n",
       "       [15, 16, 17, 18, 19]])"
      ]
     },
     "execution_count": 37,
     "metadata": {},
     "output_type": "execute_result"
    }
   ],
   "source": [
    "a"
   ]
  },
  {
   "cell_type": "code",
   "execution_count": 40,
   "id": "9a6ac6ba",
   "metadata": {},
   "outputs": [],
   "source": [
    "a=a.ravel()"
   ]
  },
  {
   "cell_type": "code",
   "execution_count": 41,
   "id": "728a3258",
   "metadata": {},
   "outputs": [
    {
     "data": {
      "text/plain": [
       "array([ 0,  1,  2,  3,  4,  5,  6,  7,  8,  9, 10, 11, 12, 13, 14, 15, 16,\n",
       "       17, 18, 19])"
      ]
     },
     "execution_count": 41,
     "metadata": {},
     "output_type": "execute_result"
    }
   ],
   "source": [
    "a"
   ]
  },
  {
   "cell_type": "code",
   "execution_count": 42,
   "id": "c5619484",
   "metadata": {},
   "outputs": [],
   "source": [
    "q=np.full((3,4),1.2)"
   ]
  },
  {
   "cell_type": "code",
   "execution_count": 43,
   "id": "0629df95",
   "metadata": {},
   "outputs": [],
   "source": [
    "q1=np.full((2,4),1.3)\n",
    "q2=np.full((2,4),1)"
   ]
  },
  {
   "cell_type": "code",
   "execution_count": 44,
   "id": "7f0bf018",
   "metadata": {},
   "outputs": [],
   "source": [
    "q3=np.vstack((q,q1,q2))"
   ]
  },
  {
   "cell_type": "code",
   "execution_count": 45,
   "id": "b1169b0d",
   "metadata": {},
   "outputs": [
    {
     "data": {
      "text/plain": [
       "array([[1.2, 1.2, 1.2, 1.2],\n",
       "       [1.2, 1.2, 1.2, 1.2],\n",
       "       [1.2, 1.2, 1.2, 1.2],\n",
       "       [1.3, 1.3, 1.3, 1.3],\n",
       "       [1.3, 1.3, 1.3, 1.3],\n",
       "       [1. , 1. , 1. , 1. ],\n",
       "       [1. , 1. , 1. , 1. ]])"
      ]
     },
     "execution_count": 45,
     "metadata": {},
     "output_type": "execute_result"
    }
   ],
   "source": [
    "q3"
   ]
  },
  {
   "cell_type": "code",
   "execution_count": 47,
   "id": "a650257e",
   "metadata": {},
   "outputs": [
    {
     "ename": "ValueError",
     "evalue": "all the input array dimensions for the concatenation axis must match exactly, but along dimension 0, the array at index 0 has size 3 and the array at index 1 has size 2",
     "output_type": "error",
     "traceback": [
      "\u001b[1;31m---------------------------------------------------------------------------\u001b[0m",
      "\u001b[1;31mValueError\u001b[0m                                Traceback (most recent call last)",
      "Input \u001b[1;32mIn [47]\u001b[0m, in \u001b[0;36m<cell line: 1>\u001b[1;34m()\u001b[0m\n\u001b[1;32m----> 1\u001b[0m q4\u001b[38;5;241m=\u001b[39m\u001b[43mnp\u001b[49m\u001b[38;5;241;43m.\u001b[39;49m\u001b[43mhstack\u001b[49m\u001b[43m(\u001b[49m\u001b[43m(\u001b[49m\u001b[43mq\u001b[49m\u001b[43m,\u001b[49m\u001b[43mq1\u001b[49m\u001b[43m)\u001b[49m\u001b[43m)\u001b[49m\n",
      "File \u001b[1;32m<__array_function__ internals>:5\u001b[0m, in \u001b[0;36mhstack\u001b[1;34m(*args, **kwargs)\u001b[0m\n",
      "File \u001b[1;32m~\\anaconda3\\lib\\site-packages\\numpy\\core\\shape_base.py:345\u001b[0m, in \u001b[0;36mhstack\u001b[1;34m(tup)\u001b[0m\n\u001b[0;32m    343\u001b[0m     \u001b[38;5;28;01mreturn\u001b[39;00m _nx\u001b[38;5;241m.\u001b[39mconcatenate(arrs, \u001b[38;5;241m0\u001b[39m)\n\u001b[0;32m    344\u001b[0m \u001b[38;5;28;01melse\u001b[39;00m:\n\u001b[1;32m--> 345\u001b[0m     \u001b[38;5;28;01mreturn\u001b[39;00m \u001b[43m_nx\u001b[49m\u001b[38;5;241;43m.\u001b[39;49m\u001b[43mconcatenate\u001b[49m\u001b[43m(\u001b[49m\u001b[43marrs\u001b[49m\u001b[43m,\u001b[49m\u001b[43m \u001b[49m\u001b[38;5;241;43m1\u001b[39;49m\u001b[43m)\u001b[49m\n",
      "File \u001b[1;32m<__array_function__ internals>:5\u001b[0m, in \u001b[0;36mconcatenate\u001b[1;34m(*args, **kwargs)\u001b[0m\n",
      "\u001b[1;31mValueError\u001b[0m: all the input array dimensions for the concatenation axis must match exactly, but along dimension 0, the array at index 0 has size 3 and the array at index 1 has size 2"
     ]
    }
   ],
   "source": [
    "q4=np.hstack((q,q1))"
   ]
  },
  {
   "cell_type": "code",
   "execution_count": 48,
   "id": "24899ffe",
   "metadata": {},
   "outputs": [],
   "source": [
    "q1=np.full((3,4),2)"
   ]
  },
  {
   "cell_type": "code",
   "execution_count": 50,
   "id": "14b9810e",
   "metadata": {},
   "outputs": [],
   "source": [
    "q4=np.hstack((q,q1))"
   ]
  },
  {
   "cell_type": "code",
   "execution_count": 51,
   "id": "7f770026",
   "metadata": {},
   "outputs": [
    {
     "data": {
      "text/plain": [
       "array([[1.2, 1.2, 1.2, 1.2, 2. , 2. , 2. , 2. ],\n",
       "       [1.2, 1.2, 1.2, 1.2, 2. , 2. , 2. , 2. ],\n",
       "       [1.2, 1.2, 1.2, 1.2, 2. , 2. , 2. , 2. ]])"
      ]
     },
     "execution_count": 51,
     "metadata": {},
     "output_type": "execute_result"
    }
   ],
   "source": [
    "q4"
   ]
  },
  {
   "cell_type": "code",
   "execution_count": 52,
   "id": "2238dbd1",
   "metadata": {},
   "outputs": [
    {
     "data": {
      "text/plain": [
       "(3, 8)"
      ]
     },
     "execution_count": 52,
     "metadata": {},
     "output_type": "execute_result"
    }
   ],
   "source": [
    "q4.shape"
   ]
  },
  {
   "cell_type": "code",
   "execution_count": 53,
   "id": "5715e4b6",
   "metadata": {},
   "outputs": [
    {
     "data": {
      "text/plain": [
       "array([[1.2, 1.2, 1.2],\n",
       "       [1.2, 1.2, 1.2],\n",
       "       [1.2, 1.2, 1.2],\n",
       "       [1.2, 1.2, 1.2],\n",
       "       [2. , 2. , 2. ],\n",
       "       [2. , 2. , 2. ],\n",
       "       [2. , 2. , 2. ],\n",
       "       [2. , 2. , 2. ]])"
      ]
     },
     "execution_count": 53,
     "metadata": {},
     "output_type": "execute_result"
    }
   ],
   "source": [
    "q4.transpose()"
   ]
  },
  {
   "cell_type": "code",
   "execution_count": 54,
   "id": "44bb7726",
   "metadata": {},
   "outputs": [
    {
     "data": {
      "text/plain": [
       "array([[1.2, 1.2],\n",
       "       [1.2, 1.2]])"
      ]
     },
     "execution_count": 54,
     "metadata": {},
     "output_type": "execute_result"
    }
   ],
   "source": [
    "q4[(1,2),2:4]## rows 0 and 2,columns 2 to 4"
   ]
  },
  {
   "cell_type": "code",
   "execution_count": 55,
   "id": "dec5e431",
   "metadata": {},
   "outputs": [
    {
     "data": {
      "text/plain": [
       "array([[1.2, 1.2],\n",
       "       [1.2, 1.2]])"
      ]
     },
     "execution_count": 55,
     "metadata": {},
     "output_type": "execute_result"
    }
   ],
   "source": [
    "q4[1:3,2:4]"
   ]
  },
  {
   "cell_type": "code",
   "execution_count": 57,
   "id": "ca828ae8",
   "metadata": {},
   "outputs": [
    {
     "data": {
      "text/plain": [
       "array([[ 0,  1,  2,  3,  4,  5,  6,  7,  8,  9, 10, 11],\n",
       "       [12, 13, 14, 15, 16, 17, 18, 19, 20, 21, 22, 23],\n",
       "       [24, 25, 26, 27, 28, 29, 30, 31, 32, 33, 34, 35],\n",
       "       [36, 37, 38, 39, 40, 41, 42, 43, 44, 45, 46, 47]])"
      ]
     },
     "execution_count": 57,
     "metadata": {},
     "output_type": "execute_result"
    }
   ],
   "source": [
    "b=np.arange(48).reshape(4,12)\n",
    "b\n"
   ]
  },
  {
   "cell_type": "code",
   "execution_count": 58,
   "id": "05e7487a",
   "metadata": {},
   "outputs": [
    {
     "data": {
      "text/plain": [
       "array([[ 2,  3,  4],\n",
       "       [26, 27, 28]])"
      ]
     },
     "execution_count": 58,
     "metadata": {},
     "output_type": "execute_result"
    }
   ],
   "source": [
    "b[(0,2),2:5]"
   ]
  },
  {
   "cell_type": "code",
   "execution_count": 59,
   "id": "592685d2",
   "metadata": {},
   "outputs": [
    {
     "data": {
      "text/plain": [
       "array([[11,  2, 11],\n",
       "       [23, 14, 23],\n",
       "       [35, 26, 35],\n",
       "       [47, 38, 47]])"
      ]
     },
     "execution_count": 59,
     "metadata": {},
     "output_type": "execute_result"
    }
   ],
   "source": [
    "b[:,(-1,2,-1)]"
   ]
  },
  {
   "cell_type": "code",
   "execution_count": 61,
   "id": "a78db7d3",
   "metadata": {},
   "outputs": [],
   "source": [
    "c=b.reshape(4,2,6)"
   ]
  },
  {
   "cell_type": "code",
   "execution_count": 62,
   "id": "621322b8",
   "metadata": {},
   "outputs": [
    {
     "data": {
      "text/plain": [
       "array([[[ 0,  1,  2,  3,  4,  5],\n",
       "        [ 6,  7,  8,  9, 10, 11]],\n",
       "\n",
       "       [[12, 13, 14, 15, 16, 17],\n",
       "        [18, 19, 20, 21, 22, 23]],\n",
       "\n",
       "       [[24, 25, 26, 27, 28, 29],\n",
       "        [30, 31, 32, 33, 34, 35]],\n",
       "\n",
       "       [[36, 37, 38, 39, 40, 41],\n",
       "        [42, 43, 44, 45, 46, 47]]])"
      ]
     },
     "execution_count": 62,
     "metadata": {},
     "output_type": "execute_result"
    }
   ],
   "source": [
    "c"
   ]
  },
  {
   "cell_type": "code",
   "execution_count": 64,
   "id": "80062aca",
   "metadata": {},
   "outputs": [
    {
     "data": {
      "text/plain": [
       "16"
      ]
     },
     "execution_count": 64,
     "metadata": {},
     "output_type": "execute_result"
    }
   ],
   "source": [
    "c[1,0,4]# matrix 1,row 0,col4 element"
   ]
  },
  {
   "cell_type": "code",
   "execution_count": 65,
   "id": "5fdc6b15",
   "metadata": {},
   "outputs": [
    {
     "data": {
      "text/plain": [
       "array([[12, 13, 14, 15, 16, 17],\n",
       "       [18, 19, 20, 21, 22, 23]])"
      ]
     },
     "execution_count": 65,
     "metadata": {},
     "output_type": "execute_result"
    }
   ],
   "source": [
    "c[1,...]#matrix 1 ,all rows,all columns"
   ]
  },
  {
   "cell_type": "code",
   "execution_count": 67,
   "id": "101fe1e4",
   "metadata": {},
   "outputs": [
    {
     "data": {
      "text/plain": [
       "array([18, 19, 20, 21, 22, 23])"
      ]
     },
     "execution_count": 67,
     "metadata": {},
     "output_type": "execute_result"
    }
   ],
   "source": [
    "c[1,1,...]##matrix 1 ,row1,all columns"
   ]
  },
  {
   "cell_type": "code",
   "execution_count": 69,
   "id": "6cd1478f",
   "metadata": {},
   "outputs": [
    {
     "data": {
      "text/plain": [
       "array([15, 21])"
      ]
     },
     "execution_count": 69,
     "metadata": {},
     "output_type": "execute_result"
    }
   ],
   "source": [
    "c[1,...,3]#matrix 1 ,all rows,column3"
   ]
  },
  {
   "cell_type": "code",
   "execution_count": 72,
   "id": "444337b1",
   "metadata": {},
   "outputs": [
    {
     "data": {
      "text/plain": [
       "array([[ 3,  9],\n",
       "       [15, 21],\n",
       "       [27, 33],\n",
       "       [39, 45]])"
      ]
     },
     "execution_count": 72,
     "metadata": {},
     "output_type": "execute_result"
    }
   ],
   "source": [
    "c[...,3]#all matrices ,all rows , column 3"
   ]
  },
  {
   "cell_type": "code",
   "execution_count": 78,
   "id": "4cb94170",
   "metadata": {},
   "outputs": [
    {
     "name": "stdout",
     "output_type": "stream",
     "text": [
      "item: 0\n",
      "[[ 0  1  2  3  4  5]\n",
      " [ 6  7  8  9 10 11]]\n",
      "item: 1\n",
      "[[12 13 14 15 16 17]\n",
      " [18 19 20 21 22 23]]\n",
      "item: 2\n",
      "[[24 25 26 27 28 29]\n",
      " [30 31 32 33 34 35]]\n",
      "item: 3\n",
      "[[36 37 38 39 40 41]\n",
      " [42 43 44 45 46 47]]\n"
     ]
    }
   ],
   "source": [
    "for i, m in enumerate(c):\n",
    "    print('item:',i)\n",
    "    print(m)\n",
    "    "
   ]
  },
  {
   "cell_type": "code",
   "execution_count": 79,
   "id": "626af01a",
   "metadata": {},
   "outputs": [],
   "source": [
    "m=np.arange(9).reshape(3,3)"
   ]
  },
  {
   "cell_type": "code",
   "execution_count": 80,
   "id": "036391ce",
   "metadata": {},
   "outputs": [
    {
     "data": {
      "text/plain": [
       "array([[0, 1, 2],\n",
       "       [3, 4, 5],\n",
       "       [6, 7, 8]])"
      ]
     },
     "execution_count": 80,
     "metadata": {},
     "output_type": "execute_result"
    }
   ],
   "source": [
    "m"
   ]
  },
  {
   "cell_type": "code",
   "execution_count": 81,
   "id": "adf2bef1",
   "metadata": {},
   "outputs": [],
   "source": [
    "q,r=np.linalg.qr(m)"
   ]
  },
  {
   "cell_type": "code",
   "execution_count": 82,
   "id": "d55b17a6",
   "metadata": {},
   "outputs": [
    {
     "data": {
      "text/plain": [
       "array([[ 0.        ,  0.91287093,  0.40824829],\n",
       "       [-0.4472136 ,  0.36514837, -0.81649658],\n",
       "       [-0.89442719, -0.18257419,  0.40824829]])"
      ]
     },
     "execution_count": 82,
     "metadata": {},
     "output_type": "execute_result"
    }
   ],
   "source": [
    "q"
   ]
  },
  {
   "cell_type": "code",
   "execution_count": 83,
   "id": "8347003c",
   "metadata": {},
   "outputs": [
    {
     "data": {
      "text/plain": [
       "array([[-6.70820393e+00, -8.04984472e+00, -9.39148551e+00],\n",
       "       [ 0.00000000e+00,  1.09544512e+00,  2.19089023e+00],\n",
       "       [ 0.00000000e+00,  0.00000000e+00, -3.65307819e-16]])"
      ]
     },
     "execution_count": 83,
     "metadata": {},
     "output_type": "execute_result"
    }
   ],
   "source": [
    "r"
   ]
  },
  {
   "cell_type": "code",
   "execution_count": 84,
   "id": "aa240874",
   "metadata": {},
   "outputs": [
    {
     "data": {
      "text/plain": [
       "array([[0., 1., 2.],\n",
       "       [3., 4., 5.],\n",
       "       [6., 7., 8.]])"
      ]
     },
     "execution_count": 84,
     "metadata": {},
     "output_type": "execute_result"
    }
   ],
   "source": [
    "q.dot(r)"
   ]
  },
  {
   "cell_type": "code",
   "execution_count": 85,
   "id": "794c0777",
   "metadata": {},
   "outputs": [
    {
     "data": {
      "text/plain": [
       "0.0"
      ]
     },
     "execution_count": 85,
     "metadata": {},
     "output_type": "execute_result"
    }
   ],
   "source": [
    "np.linalg.det(m)"
   ]
  },
  {
   "cell_type": "code",
   "execution_count": 87,
   "id": "097dfab1",
   "metadata": {},
   "outputs": [],
   "source": [
    "ev,eve=np.linalg.eig(m)"
   ]
  },
  {
   "cell_type": "code",
   "execution_count": 88,
   "id": "dfaf67ed",
   "metadata": {},
   "outputs": [
    {
     "data": {
      "text/plain": [
       "array([ 1.33484692e+01, -1.34846923e+00, -1.26963291e-15])"
      ]
     },
     "execution_count": 88,
     "metadata": {},
     "output_type": "execute_result"
    }
   ],
   "source": [
    "ev"
   ]
  },
  {
   "cell_type": "code",
   "execution_count": 89,
   "id": "1a521286",
   "metadata": {},
   "outputs": [
    {
     "data": {
      "text/plain": [
       "array([[ 0.16476382,  0.79969966,  0.40824829],\n",
       "       [ 0.50577448,  0.10420579, -0.81649658],\n",
       "       [ 0.84678513, -0.59128809,  0.40824829]])"
      ]
     },
     "execution_count": 89,
     "metadata": {},
     "output_type": "execute_result"
    }
   ],
   "source": [
    "eve"
   ]
  },
  {
   "cell_type": "code",
   "execution_count": null,
   "id": "c08d5f0e",
   "metadata": {},
   "outputs": [],
   "source": []
  }
 ],
 "metadata": {
  "kernelspec": {
   "display_name": "Python 3 (ipykernel)",
   "language": "python",
   "name": "python3"
  },
  "language_info": {
   "codemirror_mode": {
    "name": "ipython",
    "version": 3
   },
   "file_extension": ".py",
   "mimetype": "text/x-python",
   "name": "python",
   "nbconvert_exporter": "python",
   "pygments_lexer": "ipython3",
   "version": "3.9.12"
  }
 },
 "nbformat": 4,
 "nbformat_minor": 5
}
