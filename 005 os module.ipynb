{
 "cells": [
  {
   "cell_type": "raw",
   "id": "0c3cee5d",
   "metadata": {},
   "source": [
    "Here are some of the most popular and frequently used functions in the os module in Python:\n",
    "\n",
    "os.path: Used for working with file paths and filenames.\n",
    "os.mkdir: Used to create a new directory.\n",
    "os.chdir: Used to change the current working directory.\n",
    "os.rmdir: Used to delete an empty directory.\n",
    "os.listdir: Used to get a list of all files and directories in a directory.\n",
    "os.environ: Used to access environment variables.\n",
    "os.getcwd: Returns the current working directory.\n",
    "os.rename: Used to rename a file or directory.\n",
    "os.remove: Used to delete a file.\n",
    "os.stat: Returns information about a file, such as the size, last access time, etc."
   ]
  },
  {
   "cell_type": "code",
   "execution_count": 24,
   "id": "970747fa",
   "metadata": {},
   "outputs": [
    {
     "name": "stdout",
     "output_type": "stream",
     "text": [
      "apple.txt\n",
      "C:\\Users\\LENOVO\\Videos\\skill lync\\apple.txt\n"
     ]
    }
   ],
   "source": [
    "#os.path\n",
    "\n",
    "import os\n",
    "\n",
    "a='apple.txt'\n",
    "\n",
    "print(os.path.basename(a))\n",
    "print(os.path.abspath(a))"
   ]
  },
  {
   "cell_type": "code",
   "execution_count": 29,
   "id": "42e87dbb",
   "metadata": {},
   "outputs": [],
   "source": [
    "#make new directory or new folder\n",
    "\n",
    "import os \n",
    "\n",
    "folder= 'newfolder1'\n",
    "\n",
    "os.mkdir(folder)"
   ]
  },
  {
   "cell_type": "code",
   "execution_count": 3,
   "id": "d5aa1a71",
   "metadata": {},
   "outputs": [],
   "source": [
    "#change directory\n",
    "\n",
    "import os\n",
    "\n",
    "os.chdir(\"/\") # changes the current working directory to the root directory\n"
   ]
  },
  {
   "cell_type": "code",
   "execution_count": 31,
   "id": "42fce902",
   "metadata": {},
   "outputs": [],
   "source": [
    "#DELETE DIRECCTORY\n",
    "\n",
    "import os\n",
    "os.rmdir('newfolder1')"
   ]
  },
  {
   "cell_type": "code",
   "execution_count": 38,
   "id": "2d5e771f",
   "metadata": {},
   "outputs": [
    {
     "name": "stdout",
     "output_type": "stream",
     "text": [
      "['.ipynb_checkpoints', '002 different types of f-strings and .format in python.ipynb', '005 os module.ipynb', '05 Input and Output.ipynb', '06 Exception Handling.ipynb', '07 Iterator and generator.ipynb', '08 OOPS.ipynb', '09 logging.ipynb', '10 Regular Expressions.ipynb', 'activity.log', 'airfield.log', 'app.log', 'apple', 'apple.json', 'apple.txt', 'apple11', 'apple2.txt', 'applicaion.log', 'application.log', 'applicaton.log', 'ChildClass.log', 'complete oops concept.ipynb', 'complete python with examples', 'example.bin', 'example.csv', 'example.jpg', 'example.json', 'example.png', 'example.txt', 'Examples.ipynb', 'filename.txt', 'filename1.txt', 'filename11.txt', 'image.jpg', 'iterator and iterable.ipynb', 'log.txt', 'loginbg.png', 'MyBaseClass.log', 'MyClass.log', 'MyComplexClass.log', 'mylog.log', 'new_directory', 'oops 1.ipynb', 'oops.ipynb', 'testing', 'testing.txt', 'Untitled Folder', 'Untitled.ipynb', 'user1.log', 'user2.log', 'week 6 file input  and output.ipynb', 'wholesale_shop.log']\n"
     ]
    }
   ],
   "source": [
    "import os\n",
    "\n",
    "directory = \".\"\n",
    "print(os.listdir('.')) # returns a list of all files and directories in the current working directory\n"
   ]
  },
  {
   "cell_type": "code",
   "execution_count": 6,
   "id": "92d272fc",
   "metadata": {},
   "outputs": [
    {
     "name": "stdout",
     "output_type": "stream",
     "text": [
      "C:\\Users\\LENOVO\\anaconda3;C:\\Users\\LENOVO\\anaconda3\\Library\\mingw-w64\\bin;C:\\Users\\LENOVO\\anaconda3\\Library\\usr\\bin;C:\\Users\\LENOVO\\anaconda3\\Library\\bin;C:\\Users\\LENOVO\\anaconda3\\Scripts;C:\\Windows\\system32;C:\\Windows;C:\\Windows\\System32\\Wbem;C:\\Windows\\System32\\WindowsPowerShell\\v1.0\\;C:\\Windows\\System32\\OpenSSH\\;C:\\Program Files\\dotnet\\;C:\\Program Files\\Tesseract-OCR;C:\\Program Files\\MySQL\\MySQL Shell 8.0\\bin\\;C:\\Users\\LENOVO\\AppData\\Local\\Microsoft\\WindowsApps;C:\\Program Files\\heroku\\bin\n"
     ]
    }
   ],
   "source": [
    "import os\n",
    "\n",
    "print(os.environ[\"PATH\"]) # returns the value of the PATH environment variable\n"
   ]
  },
  {
   "cell_type": "code",
   "execution_count": 7,
   "id": "f78c2e78",
   "metadata": {},
   "outputs": [
    {
     "name": "stdout",
     "output_type": "stream",
     "text": [
      "C:\\\n"
     ]
    }
   ],
   "source": [
    "import os\n",
    "\n",
    "print(os.getcwd()) # returns the current working directory\n"
   ]
  },
  {
   "cell_type": "code",
   "execution_count": 40,
   "id": "c7d1bd9a",
   "metadata": {},
   "outputs": [],
   "source": [
    "import os\n",
    "\n",
    "os.rename(\"apple11\", \"new_file_name.txt\") # renames the file from \"old_file_name.txt\" to \"new_file_name.txt\"\n"
   ]
  },
  {
   "cell_type": "code",
   "execution_count": 9,
   "id": "1fbe0822",
   "metadata": {},
   "outputs": [
    {
     "ename": "FileNotFoundError",
     "evalue": "[WinError 2] The system cannot find the file specified: 'file_to_delete.txt'",
     "output_type": "error",
     "traceback": [
      "\u001b[1;31m---------------------------------------------------------------------------\u001b[0m",
      "\u001b[1;31mFileNotFoundError\u001b[0m                         Traceback (most recent call last)",
      "Input \u001b[1;32mIn [9]\u001b[0m, in \u001b[0;36m<cell line: 3>\u001b[1;34m()\u001b[0m\n\u001b[0;32m      1\u001b[0m \u001b[38;5;28;01mimport\u001b[39;00m \u001b[38;5;21;01mos\u001b[39;00m\n\u001b[1;32m----> 3\u001b[0m \u001b[43mos\u001b[49m\u001b[38;5;241;43m.\u001b[39;49m\u001b[43mremove\u001b[49m\u001b[43m(\u001b[49m\u001b[38;5;124;43m\"\u001b[39;49m\u001b[38;5;124;43mfile_to_delete.txt\u001b[39;49m\u001b[38;5;124;43m\"\u001b[39;49m\u001b[43m)\u001b[49m\n",
      "\u001b[1;31mFileNotFoundError\u001b[0m: [WinError 2] The system cannot find the file specified: 'file_to_delete.txt'"
     ]
    }
   ],
   "source": [
    "import os\n",
    "\n",
    "os.remove(\"file_to_delete.txt\") # deletes the file \"file_to_delete.txt\"\n"
   ]
  },
  {
   "cell_type": "code",
   "execution_count": 39,
   "id": "bbbc7905",
   "metadata": {},
   "outputs": [
    {
     "name": "stdout",
     "output_type": "stream",
     "text": [
      "Size of the file: 4\n",
      "Last access time: 1676149442.2765458\n"
     ]
    }
   ],
   "source": [
    "import os\n",
    "\n",
    "file = \"apple.txt\"\n",
    "info = os.stat(file)\n",
    "print(\"Size of the file:\", info.st_size) # returns the size of the file\n",
    "print(\"Last access time:\", info.st_atime) # returns the last access time of the file\n"
   ]
  },
  {
   "cell_type": "code",
   "execution_count": 19,
   "id": "32f82376",
   "metadata": {},
   "outputs": [
    {
     "data": {
      "text/plain": [
       "'C:\\\\Users\\\\LENOVO\\\\Videos\\\\skill lync'"
      ]
     },
     "execution_count": 19,
     "metadata": {},
     "output_type": "execute_result"
    }
   ],
   "source": [
    "os.getcwd()"
   ]
  },
  {
   "cell_type": "code",
   "execution_count": 18,
   "id": "7340bcca",
   "metadata": {},
   "outputs": [],
   "source": [
    "os.chdir(r'C:\\Users\\LENOVO\\Videos\\skill lync')"
   ]
  },
  {
   "cell_type": "code",
   "execution_count": null,
   "id": "be4cae32",
   "metadata": {},
   "outputs": [],
   "source": []
  }
 ],
 "metadata": {
  "kernelspec": {
   "display_name": "Python 3 (ipykernel)",
   "language": "python",
   "name": "python3"
  },
  "language_info": {
   "codemirror_mode": {
    "name": "ipython",
    "version": 3
   },
   "file_extension": ".py",
   "mimetype": "text/x-python",
   "name": "python",
   "nbconvert_exporter": "python",
   "pygments_lexer": "ipython3",
   "version": "3.9.12"
  }
 },
 "nbformat": 4,
 "nbformat_minor": 5
}
