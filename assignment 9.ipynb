{
 "cells": [
  {
   "cell_type": "markdown",
   "id": "439c4b8c",
   "metadata": {},
   "source": [
    "Create a data frame called DataFrame1. It should contain data about five employees. Each employee data consists of employee number, name, salary, department number and designation."
   ]
  },
  {
   "cell_type": "code",
   "execution_count": 18,
   "id": "c0b0483f",
   "metadata": {},
   "outputs": [
    {
     "name": "stdout",
     "output_type": "stream",
     "text": [
      "   Employee Number   Name  Salary  Department Number        Designation\n",
      "0                1   John   50000                 10            Manager\n",
      "1                2   Jane   60000                 20  Assistant Manager\n",
      "2                3    Jim   65000                 30    Senior Engineer\n",
      "3                4  Jenny   70000                 40    Junior Engineer\n",
      "4                5   Jack   55000                 50          Associate\n"
     ]
    }
   ],
   "source": [
    "import pandas as pd\n",
    "\n",
    "employee_data = {\n",
    "    'Employee Number': [1, 2, 3, 4, 5],\n",
    "    'Name': ['John', 'Jane', 'Jim', 'Jenny', 'Jack'],\n",
    "    'Salary': [50000, 60000, 65000, 70000, 55000],\n",
    "    'Department Number': [10, 20, 30, 40, 50],\n",
    "    'Designation': ['Manager', 'Assistant Manager', 'Senior Engineer', 'Junior Engineer', 'Associate']\n",
    "}\n",
    "\n",
    "DataFrame1 = pd.DataFrame(employee_data)\n",
    "\n",
    "print(DataFrame1)\n"
   ]
  },
  {
   "cell_type": "markdown",
   "id": "43950f02",
   "metadata": {},
   "source": [
    "In the DataFrame1 defined in Q.No. 1, add appropriate column names to the columns. Find the mean of the salary in the DataFrame1."
   ]
  },
  {
   "cell_type": "code",
   "execution_count": 19,
   "id": "df713d3d",
   "metadata": {},
   "outputs": [
    {
     "name": "stdout",
     "output_type": "stream",
     "text": [
      "The mean of the salary is: 60000.0\n"
     ]
    }
   ],
   "source": [
    "import pandas as pd\n",
    "\n",
    "employee_data = {\n",
    "    'Employee Number': [1, 2, 3, 4, 5],\n",
    "    'Name': ['John', 'Jane', 'Jim', 'Jenny', 'Jack'],\n",
    "    'Salary': [50000, 60000, 65000, 70000, 55000],\n",
    "    'Department Number': [10, 20, 30, 40, 50],\n",
    "    'Designation': ['Manager', 'Assistant Manager', 'Senior Engineer', 'Junior Engineer', 'Associate']\n",
    "}\n",
    "\n",
    "DataFrame1 = pd.DataFrame(employee_data)\n",
    "\n",
    "# Adding column names\n",
    "DataFrame1.columns = ['Employee Number', 'Name', 'Salary', 'Department Number', 'Designation']\n",
    "\n",
    "# Calculating the mean of the salary\n",
    "mean_salary = DataFrame1['Salary'].mean()\n",
    "\n",
    "print(\"The mean of the salary is:\", mean_salary)\n"
   ]
  },
  {
   "cell_type": "markdown",
   "id": "a77bf740",
   "metadata": {},
   "source": [
    "Create a dictionary called dept. In this dictionary, the columns are deptno, deptname and location. Create a data frame called DataFrame2 from the dictionary dept."
   ]
  },
  {
   "cell_type": "code",
   "execution_count": 20,
   "id": "ee4f161c",
   "metadata": {},
   "outputs": [],
   "source": [
    "dept = {\n",
    "    'deptno': [1, 2, 3, 4, 5],\n",
    "    'deptname': ['Sales', 'Marketing', 'IT', 'HR', 'Finance'],\n",
    "    'location': ['New York', 'London', 'Paris', 'Tokyo', 'Sydney']\n",
    "}\n",
    "\n",
    "DataFrame2 = pd.DataFrame(dept)\n"
   ]
  },
  {
   "cell_type": "markdown",
   "id": "ea27cf10",
   "metadata": {},
   "source": [
    "Consider a sales.csv file with the following data:\n",
    "Dinesh\n",
    "\n",
    "7800\n",
    "\n",
    "6500\n",
    "\n",
    "4590\n",
    "\n",
    "Mahesh\n",
    "\n",
    "8900\n",
    "\n",
    " \n",
    "\n",
    "3790\n",
    "\n",
    "Ramesh\n",
    "\n",
    "10800\n",
    "\n",
    "2300\n",
    "\n",
    " \n",
    "\n",
    "Suresh\n",
    "\n",
    "5600\n",
    "\n",
    "6790\n",
    "\n",
    "2300\n",
    "\n",
    "Basha\n",
    "\n",
    "7600\n",
    "\n",
    "2300\n",
    "\n",
    "2400\n",
    "\n",
    "The data represents salesman name and sales in three regions: region1, region2 and region3. Load sles.csv into a data frame called DataFrame3. Give appropriate column names to the columns in DataFrame3. Display the contents of DataFrame3."
   ]
  },
  {
   "cell_type": "code",
   "execution_count": 21,
   "id": "c8602d87",
   "metadata": {},
   "outputs": [
    {
     "name": "stdout",
     "output_type": "stream",
     "text": [
      "  Salesman  Region 1  Region 2 Region 3\n",
      "0   Dinesh      7800      6500     4590\n",
      "1   Mahesh      8900      3790         \n",
      "2   Ramesh     10800      2300         \n",
      "3   Suresh      5600      6790     2300\n",
      "4    Basha      7600      2300     2400\n"
     ]
    }
   ],
   "source": [
    "import pandas as pd\n",
    "\n",
    "data = {'Salesman': ['Dinesh', 'Mahesh', 'Ramesh', 'Suresh', 'Basha'],\n",
    "        'Region1': [7800, 8900, 10800, 5600, 7600],\n",
    "        'Region2': [6500, 3790, 2300, 6790, 2300],\n",
    "        'Region3': [4590, '', '', 2300, 2400]}\n",
    "\n",
    "df = pd.DataFrame(data)\n",
    "\n",
    "df.rename(columns={'Region1': 'Region 1', 'Region2': 'Region 2', 'Region3': 'Region 3'}, inplace=True)\n",
    "\n",
    "print(df)\n"
   ]
  },
  {
   "cell_type": "markdown",
   "id": "27218c16",
   "metadata": {},
   "source": [
    "In this exercise, demonstrate different methods of handling missing data in data frames. For reference, consider the DataFrame3 created in Q.No. 4. In DataFrame3, do the following: fill missing values with zeroes, fill missing values with the mean of their respective column, drop the rows containing missing values, drop the columns containing missing values."
   ]
  },
  {
   "cell_type": "code",
   "execution_count": 22,
   "id": "0c66f034",
   "metadata": {},
   "outputs": [
    {
     "name": "stdout",
     "output_type": "stream",
     "text": [
      "     Name  Region1  Region2  Region3\n",
      "0  Dinesh     7800   6500.0   4590.0\n",
      "1  Mahesh     8900      0.0   3790.0\n",
      "2  Ramesh    10800   2300.0      0.0\n",
      "3  Suresh     5600   6790.0   2300.0\n",
      "4   Basha     7600   2300.0   2400.0\n"
     ]
    },
    {
     "name": "stderr",
     "output_type": "stream",
     "text": [
      "C:\\Users\\LENOVO\\AppData\\Local\\Temp\\ipykernel_15724\\285601743.py:16: FutureWarning: Dropping of nuisance columns in DataFrame reductions (with 'numeric_only=None') is deprecated; in a future version this will raise TypeError.  Select only valid columns before calling the reduction.\n",
      "  DataFrame3.fillna(DataFrame3.mean(), inplace=True)\n"
     ]
    }
   ],
   "source": [
    "import pandas as pd\n",
    "import numpy as np\n",
    "\n",
    "# Load sales.csv into a data frame\n",
    "data = {'Name': ['Dinesh', 'Mahesh', 'Ramesh', 'Suresh', 'Basha'],\n",
    "        'Region1': [7800, 8900, 10800, 5600, 7600],\n",
    "        'Region2': [6500, np.nan, 2300, 6790, 2300],\n",
    "        'Region3': [4590, 3790, np.nan, 2300, 2400]}\n",
    "\n",
    "DataFrame3 = pd.DataFrame(data)\n",
    "\n",
    "# Fill missing values with zeroes\n",
    "DataFrame3.fillna(0, inplace=True)\n",
    "\n",
    "# Fill missing values with the mean of their respective column\n",
    "DataFrame3.fillna(DataFrame3.mean(), inplace=True)\n",
    "\n",
    "# Drop the rows containing missing values\n",
    "DataFrame3.dropna(axis=0, inplace=True)\n",
    "\n",
    "# Drop the columns containing missing values\n",
    "DataFrame3.dropna(axis=1, inplace=True)\n",
    "\n",
    "# Display the contents of DataFrame3\n",
    "print(DataFrame3)\n"
   ]
  },
  {
   "cell_type": "markdown",
   "id": "58456041",
   "metadata": {},
   "source": [
    "From DataFrame1 create a new data frame called DataFrame4. In DataFrame4, set the employee number as an in-place index. Display data from the 3rd row and 4th column using label-based and integer-based indexing."
   ]
  },
  {
   "cell_type": "code",
   "execution_count": 23,
   "id": "bbc6d295",
   "metadata": {},
   "outputs": [
    {
     "name": "stdout",
     "output_type": "stream",
     "text": [
      "Senior Engineer\n",
      "Senior Engineer\n"
     ]
    }
   ],
   "source": [
    "DataFrame4 = DataFrame1.set_index(\"Employee Number\")\n",
    "print(DataFrame4.iloc[2, 3])\n",
    "print(DataFrame4.iat[2, 3])\n"
   ]
  },
  {
   "cell_type": "markdown",
   "id": "c89269e4",
   "metadata": {},
   "source": [
    "In DataFrame3 created in Q.No. 5, find the salesmen whose sales are greater than 7000 in region1 but less than 3000 in region2"
   ]
  },
  {
   "cell_type": "code",
   "execution_count": 24,
   "id": "95c432ec",
   "metadata": {},
   "outputs": [
    {
     "data": {
      "text/html": [
       "<div>\n",
       "<style scoped>\n",
       "    .dataframe tbody tr th:only-of-type {\n",
       "        vertical-align: middle;\n",
       "    }\n",
       "\n",
       "    .dataframe tbody tr th {\n",
       "        vertical-align: top;\n",
       "    }\n",
       "\n",
       "    .dataframe thead th {\n",
       "        text-align: right;\n",
       "    }\n",
       "</style>\n",
       "<table border=\"1\" class=\"dataframe\">\n",
       "  <thead>\n",
       "    <tr style=\"text-align: right;\">\n",
       "      <th></th>\n",
       "      <th>Name</th>\n",
       "      <th>Region1</th>\n",
       "      <th>Region2</th>\n",
       "      <th>Region3</th>\n",
       "    </tr>\n",
       "  </thead>\n",
       "  <tbody>\n",
       "    <tr>\n",
       "      <th>1</th>\n",
       "      <td>Mahesh</td>\n",
       "      <td>8900</td>\n",
       "      <td>0.0</td>\n",
       "      <td>3790.0</td>\n",
       "    </tr>\n",
       "    <tr>\n",
       "      <th>2</th>\n",
       "      <td>Ramesh</td>\n",
       "      <td>10800</td>\n",
       "      <td>2300.0</td>\n",
       "      <td>0.0</td>\n",
       "    </tr>\n",
       "    <tr>\n",
       "      <th>4</th>\n",
       "      <td>Basha</td>\n",
       "      <td>7600</td>\n",
       "      <td>2300.0</td>\n",
       "      <td>2400.0</td>\n",
       "    </tr>\n",
       "  </tbody>\n",
       "</table>\n",
       "</div>"
      ],
      "text/plain": [
       "     Name  Region1  Region2  Region3\n",
       "1  Mahesh     8900      0.0   3790.0\n",
       "2  Ramesh    10800   2300.0      0.0\n",
       "4   Basha     7600   2300.0   2400.0"
      ]
     },
     "execution_count": 24,
     "metadata": {},
     "output_type": "execute_result"
    }
   ],
   "source": [
    "condition = (DataFrame3['Region1'] > 7000) & (DataFrame3['Region2'] < 3000)\n",
    "result = DataFrame3[condition]\n",
    "result"
   ]
  },
  {
   "cell_type": "markdown",
   "id": "8d8c0eba",
   "metadata": {},
   "source": [
    "In DataFrame1 created in Q. No. 1, find the employees with the highest salary in each department. Use the group by clause and the max() function. Similarly, in DataFrame3 created in Q. No. 5, find the salesman with the highest amount of sales for each region."
   ]
  },
  {
   "cell_type": "code",
   "execution_count": 25,
   "id": "8495c6e0",
   "metadata": {},
   "outputs": [
    {
     "name": "stdout",
     "output_type": "stream",
     "text": [
      "Department Number\n",
      "10    50000\n",
      "20    60000\n",
      "30    65000\n",
      "40    70000\n",
      "50    55000\n",
      "Name: Salary, dtype: int64\n"
     ]
    }
   ],
   "source": [
    "grouped = DataFrame1.groupby(['Department Number'])\n",
    "result = grouped['Salary'].max()\n",
    "print(result)\n"
   ]
  },
  {
   "cell_type": "code",
   "execution_count": 26,
   "id": "b261203a",
   "metadata": {},
   "outputs": [
    {
     "name": "stdout",
     "output_type": "stream",
     "text": [
      "        Region1  Region2  Region3\n",
      "Name                             \n",
      "Basha      7600   2300.0   2400.0\n",
      "Dinesh     7800   6500.0   4590.0\n",
      "Mahesh     8900      0.0   3790.0\n",
      "Ramesh    10800   2300.0      0.0\n",
      "Suresh     5600   6790.0   2300.0\n"
     ]
    }
   ],
   "source": [
    "grouped = DataFrame3.groupby(['Name'])\n",
    "result = grouped.max()\n",
    "print(result)\n"
   ]
  },
  {
   "cell_type": "markdown",
   "id": "0b8bd549",
   "metadata": {},
   "source": [
    "In DataFrame1 created in Q. No. 1, add a new column called Address. In this new column, set the value as ‘Chennai’ for all the existing rows"
   ]
  },
  {
   "cell_type": "code",
   "execution_count": 27,
   "id": "55da3843",
   "metadata": {},
   "outputs": [
    {
     "name": "stdout",
     "output_type": "stream",
     "text": [
      "   Employee Number   Name  Salary  Department Number        Designation  \\\n",
      "0                1   John   50000                 10            Manager   \n",
      "1                2   Jane   60000                 20  Assistant Manager   \n",
      "2                3    Jim   65000                 30    Senior Engineer   \n",
      "3                4  Jenny   70000                 40    Junior Engineer   \n",
      "4                5   Jack   55000                 50          Associate   \n",
      "\n",
      "   Address  \n",
      "0  Chennai  \n",
      "1  Chennai  \n",
      "2  Chennai  \n",
      "3  Chennai  \n",
      "4  Chennai  \n"
     ]
    }
   ],
   "source": [
    "DataFrame1[\"Address\"] = \"Chennai\"\n",
    "print(DataFrame1)\n"
   ]
  },
  {
   "cell_type": "markdown",
   "id": "3da5f49e",
   "metadata": {},
   "source": [
    "Create a line graph and bar chart to visualize the two data frames, DataFrame1 and DataFrame3."
   ]
  },
  {
   "cell_type": "code",
   "execution_count": 32,
   "id": "86c55a91",
   "metadata": {},
   "outputs": [
    {
     "data": {
      "image/png": "[encoded data removed]",
      "text/plain": [
       "<Figure size 432x288 with 1 Axes>"
      ]
     },
     "metadata": {
      "needs_background": "light"
     },
     "output_type": "display_data"
    },
    {
     "data": {
      "image/png": "[encoded data removed]",
      "text/plain": [
       "<Figure size 432x288 with 1 Axes>"
      ]
     },
     "metadata": {
      "needs_background": "light"
     },
     "output_type": "display_data"
    }
   ],
   "source": [
    "import matplotlib.pyplot as plt\n",
    "\n",
    "# Line Graph for DataFrame1\n",
    "plt.plot(DataFrame1['Employee Number'], DataFrame1['Salary'])\n",
    "plt.xlabel('Employee Number')\n",
    "plt.ylabel('Salary')\n",
    "plt.title('Line Graph of Employee Salaries')\n",
    "plt.show()\n",
    "\n",
    "# Bar Chart for DataFrame3\n",
    "plt.bar(DataFrame3['Name'], DataFrame3['Region1'])\n",
    "plt.xlabel('Name')\n",
    "plt.ylabel('Region1')\n",
    "plt.title('Bar Chart of DataFrame3')\n",
    "plt.show()\n"
   ]
  },
  {
   "cell_type": "markdown",
   "id": "8ce38a56",
   "metadata": {},
   "source": []
  },
  {
   "cell_type": "markdown",
   "id": "35b47070",
   "metadata": {},
   "source": []
  },
  {
   "cell_type": "code",
   "execution_count": null,
   "id": "6080d7e5",
   "metadata": {},
   "outputs": [],
   "source": []
  }
 ],
 "metadata": {
  "kernelspec": {
   "display_name": "Python 3 (ipykernel)",
   "language": "python",
   "name": "python3"
  },
  "language_info": {
   "codemirror_mode": {
    "name": "ipython",
    "version": 3
   },
   "file_extension": ".py",
   "mimetype": "text/x-python",
   "name": "python",
   "nbconvert_exporter": "python",
   "pygments_lexer": "ipython3",
   "version": "3.9.12"
  }
 },
 "nbformat": 4,
 "nbformat_minor": 5
}
