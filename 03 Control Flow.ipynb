{
 "cells": [
  {
   "cell_type": "markdown",
   "id": "b90478d4",
   "metadata": {},
   "source": [
    "Control flow statements in Python are used to control the order in which certain statements or blocks of code are executed. Some of the most commonly used control flow statements include if-elif-else, for, while, break, continue, and pass.\n",
    "\n",
    "If-elif-else: The if-elif-else statement is used to check multiple conditions and execute a block of code based on the first condition that is true. The \"elif\" (short for \"else if\") clause allows the programmer to check additional conditions if the first \"if\" condition is false. The \"else\" clause is executed if none of the previous conditions are true. For example, the following code checks if a variable x is greater than 5, and if so, it prints \"x is greater than 5\". If x is less than or equal to 5 and greater than 2, it prints \"x is between 2 and 5\". Otherwise, it prints \"x is less than or equal to 2\"."
   ]
  },
  {
   "cell_type": "code",
   "execution_count": 1,
   "id": "1f89c565",
   "metadata": {},
   "outputs": [
    {
     "name": "stdout",
     "output_type": "stream",
     "text": [
      "x is between 2 and 5\n"
     ]
    }
   ],
   "source": [
    "x = 3\n",
    "if x > 5:\n",
    "    print(\"x is greater than 5\")\n",
    "elif 2 < x <= 5:\n",
    "    print(\"x is between 2 and 5\")\n",
    "else:\n",
    "    print(\"x is less than or equal to 2\")\n"
   ]
  },
  {
   "cell_type": "markdown",
   "id": "f1e4c3bb",
   "metadata": {},
   "source": [
    "For: The for loop is used to iterate over a sequence of items, such as a list or a tuple, and execute a block of code for each item. For example, the following code prints the numbers from 0 to 9.\n"
   ]
  },
  {
   "cell_type": "code",
   "execution_count": 2,
   "id": "b19ae311",
   "metadata": {},
   "outputs": [
    {
     "name": "stdout",
     "output_type": "stream",
     "text": [
      "0\n",
      "1\n",
      "2\n",
      "3\n",
      "4\n",
      "5\n",
      "6\n",
      "7\n",
      "8\n",
      "9\n"
     ]
    }
   ],
   "source": [
    "for i in range(10):\n",
    "    print(i)\n"
   ]
  },
  {
   "cell_type": "markdown",
   "id": "99a7c75b",
   "metadata": {},
   "source": [
    "While: The while loop is used to execute a block of code repeatedly until a certain condition is met. For example, the following code prints the numbers from 0 to 9."
   ]
  },
  {
   "cell_type": "code",
   "execution_count": 3,
   "id": "5ac468f9",
   "metadata": {},
   "outputs": [
    {
     "name": "stdout",
     "output_type": "stream",
     "text": [
      "0\n",
      "1\n",
      "2\n",
      "3\n",
      "4\n",
      "5\n",
      "6\n",
      "7\n",
      "8\n",
      "9\n"
     ]
    }
   ],
   "source": [
    "i = 0\n",
    "while i < 10:\n",
    "    print(i)\n",
    "    i += 1\n"
   ]
  },
  {
   "cell_type": "markdown",
   "id": "6a89309b",
   "metadata": {},
   "source": [
    "Break: The break statement is used to exit a loop early. For example, the following code prints the numbers from 0 to 9, but exits the loop if the number is 5."
   ]
  },
  {
   "cell_type": "code",
   "execution_count": 5,
   "id": "be0714df",
   "metadata": {},
   "outputs": [
    {
     "name": "stdout",
     "output_type": "stream",
     "text": [
      "0\n",
      "1\n",
      "2\n",
      "3\n",
      "4\n"
     ]
    }
   ],
   "source": [
    "for i in range(10):\n",
    "    if i == 5:\n",
    "        break\n",
    "    print(i)\n"
   ]
  },
  {
   "cell_type": "markdown",
   "id": "493130ca",
   "metadata": {},
   "source": [
    "Continue: The continue statement is used to skip the current iteration of a loop and move on to the next iteration. For example, the following code prints the numbers from 0 to 9, but skips the number 5.\n"
   ]
  },
  {
   "cell_type": "code",
   "execution_count": null,
   "id": "e0c50d6c",
   "metadata": {},
   "outputs": [],
   "source": [
    "for i in range(10):\n",
    "    if i == 5:\n",
    "        continue\n",
    "    print(i)\n"
   ]
  },
  {
   "cell_type": "markdown",
   "id": "f0450aea",
   "metadata": {},
   "source": [
    "Pass: The pass statement is used to define a block of code that does nothing. It is often used as a placeholder for future code. For example, the following code defines a function that does nothing."
   ]
  },
  {
   "cell_type": "code",
   "execution_count": 8,
   "id": "b7d74c98",
   "metadata": {},
   "outputs": [],
   "source": [
    "def do_nothing():\n",
    "    pass\n"
   ]
  },
  {
   "cell_type": "markdown",
   "id": "88e89ea1",
   "metadata": {},
   "source": [
    "Using if-elif-else: In this example, we create a class called \"Person\" with a constructor that takes in a person's name and age. We then define a method called \"check_age\" that uses an if-elif-else statement to check the person's age and return a message accordingly."
   ]
  },
  {
   "cell_type": "code",
   "execution_count": 17,
   "id": "a2521d47",
   "metadata": {},
   "outputs": [
    {
     "name": "stdout",
     "output_type": "stream",
     "text": [
      "You are an adult.\n"
     ]
    }
   ],
   "source": [
    "class Person:\n",
    "    def __init__(self, name, age):\n",
    "        self.name = name\n",
    "        self.age = age\n",
    "\n",
    "    def check_age(self):\n",
    "        if self.age < 18:\n",
    "            return \"You are a minor.\"\n",
    "        elif 18 <= self.age <= 65:\n",
    "            return \"You are an adult.\"\n",
    "        else:\n",
    "            return \"You are a senior.\"\n",
    "\n",
    "person = Person(\"John\", 25)\n",
    "print(person.check_age()) # Prints \"You are an adult.\"\n"
   ]
  },
  {
   "cell_type": "markdown",
   "id": "00365933",
   "metadata": {},
   "source": [
    "Using for: In this example, we create a class called \"ShoppingCart\" with a constructor that takes in a list of items. We then define a method called \"display_items\" that uses a for loop to iterate over the list of items and print each item."
   ]
  },
  {
   "cell_type": "code",
   "execution_count": 11,
   "id": "bf77a932",
   "metadata": {},
   "outputs": [
    {
     "name": "stdout",
     "output_type": "stream",
     "text": [
      "Apple\n",
      "Banana\n",
      "Orange\n"
     ]
    }
   ],
   "source": [
    "class ShoppingCart:\n",
    "    def __init__(self, items):\n",
    "        self.items = items\n",
    "\n",
    "    def display_items(self):\n",
    "        for item in self.items:\n",
    "            print(item)\n",
    "\n",
    "cart = ShoppingCart([\"Apple\", \"Banana\", \"Orange\"])\n",
    "cart.display_items() # Prints \"Apple\", \"Banana\", \"Orange\"\n"
   ]
  },
  {
   "cell_type": "markdown",
   "id": "c6dac804",
   "metadata": {},
   "source": [
    "Using while: In this example, we create a class called \"Countdown\" with a constructor that takes in a number. We then define a method called \"count\" that uses a while loop to count down from the number to 0 and print each number."
   ]
  },
  {
   "cell_type": "code",
   "execution_count": 12,
   "id": "9414d4aa",
   "metadata": {},
   "outputs": [
    {
     "name": "stdout",
     "output_type": "stream",
     "text": [
      "5\n",
      "4\n",
      "3\n",
      "2\n",
      "1\n",
      "0\n"
     ]
    }
   ],
   "source": [
    "class Countdown:\n",
    "    def __init__(self, number):\n",
    "        self.number = number\n",
    "\n",
    "    def count(self):\n",
    "        while self.number >= 0:\n",
    "            print(self.number)\n",
    "            self.number -= 1\n",
    "\n",
    "countdown = Countdown(5)\n",
    "countdown.count() # Prints \"5\", \"4\", \"3\", \"2\", \"1\", \"0\"\n"
   ]
  },
  {
   "cell_type": "markdown",
   "id": "4fb84599",
   "metadata": {},
   "source": [
    "Using break: In this example, we create a class called \"NumberFinder\" with a constructor that takes in a list of numbers. We then define a method called \"find_number\" that uses a for loop and the break statement to find a specific number in the list and return its index."
   ]
  },
  {
   "cell_type": "code",
   "execution_count": 13,
   "id": "3cbb114d",
   "metadata": {},
   "outputs": [
    {
     "name": "stdout",
     "output_type": "stream",
     "text": [
      "2\n"
     ]
    }
   ],
   "source": [
    "class NumberFinder:\n",
    "    def __init__(self, numbers):\n",
    "        self.numbers = numbers\n",
    "\n",
    "    def find_number(self, number):\n",
    "        for index, value in enumerate(self.numbers):\n",
    "            if value == number:\n",
    "                return index\n",
    "\n",
    "finder = NumberFinder([1, 2, 3, 4, 5])\n",
    "print(finder.find_number(3)) # Prints \"2\"\n"
   ]
  },
  {
   "cell_type": "markdown",
   "id": "84f887d8",
   "metadata": {},
   "source": [
    "Using continue:"
   ]
  },
  {
   "cell_type": "code",
   "execution_count": 14,
   "id": "acc5735c",
   "metadata": {},
   "outputs": [
    {
     "name": "stdout",
     "output_type": "stream",
     "text": [
      "True\n"
     ]
    }
   ],
   "source": [
    "class PrimeChecker:\n",
    "    def __init__(self, number):\n",
    "        self.number = number\n",
    "\n",
    "    def is_prime(self):\n",
    "        if self.number < 2:\n",
    "            return False\n",
    "        for i in range(2, self.number):\n",
    "            if self.number % i == 0:\n",
    "                return False\n",
    "        return True\n",
    "\n",
    "checker = PrimeChecker(5)\n",
    "print(checker.is_prime()) # Prints \"True\"\n"
   ]
  },
  {
   "cell_type": "markdown",
   "id": "70d429ed",
   "metadata": {},
   "source": [
    "Using pass: "
   ]
  },
  {
   "cell_type": "code",
   "execution_count": 15,
   "id": "a1f3e501",
   "metadata": {},
   "outputs": [],
   "source": [
    "class Task:\n",
    "    def __init__(self, name):\n",
    "        self.name = name\n",
    "\n",
    "    def do_task(self):\n",
    "        pass\n",
    "\n",
    "task = Task(\"Clean the house\")\n",
    "task.do_task() # Does nothing\n"
   ]
  },
  {
   "cell_type": "markdown",
   "id": "21baec1c",
   "metadata": {},
   "source": [
    "In this example, we will create a class called \"BankAccount\" which will represent a bank account with a balance, name, and account number. The class will have several methods that use different control flow statements to perform various actions such as deposit, withdraw, check balance, and check account type."
   ]
  },
  {
   "cell_type": "code",
   "execution_count": 18,
   "id": "d9748bf4",
   "metadata": {},
   "outputs": [
    {
     "name": "stdout",
     "output_type": "stream",
     "text": [
      "Deposit successful, your new balance is: $2500\n",
      "Withdrawal successful, your new balance is: $1500\n",
      "Your current balance is: $1500\n",
      "You have a Silver Account\n"
     ]
    }
   ],
   "source": [
    "class BankAccount:\n",
    "    def __init__(self, name, account_number, balance):\n",
    "        self.name = name\n",
    "        self.account_number = account_number\n",
    "        self.balance = balance\n",
    "\n",
    "    def deposit(self, amount):\n",
    "        if amount > 0:\n",
    "            self.balance += amount\n",
    "            return \"Deposit successful, your new balance is: ${}\".format(self.balance)\n",
    "        else:\n",
    "            return \"Invalid deposit amount\"\n",
    "\n",
    "    def withdraw(self, amount):\n",
    "        if 0 < amount <= self.balance:\n",
    "            self.balance -= amount\n",
    "            return \"Withdrawal successful, your new balance is: ${}\".format(self.balance)\n",
    "        else:\n",
    "            return \"Insufficient funds or Invalid withdrawal amount\"\n",
    "\n",
    "    def check_balance(self):\n",
    "        return \"Your current balance is: ${}\".format(self.balance)\n",
    "\n",
    "    def check_account_type(self):\n",
    "        if self.balance < 1000:\n",
    "            return \"You have a Basic Account\"\n",
    "        elif 1000 <= self.balance < 5000:\n",
    "            return \"You have a Silver Account\"\n",
    "        else:\n",
    "            return \"You have a Gold Account\"\n",
    "\n",
    "    def transaction_history(self):\n",
    "        for i in self.transactions:\n",
    "            print(i)\n",
    "\n",
    "\n",
    "account = BankAccount(\"John Doe\", 1234567890, 2000)\n",
    "\n",
    "print(account.deposit(500))\n",
    "# Deposit successful, your new balance is: $2500\n",
    "\n",
    "print(account.withdraw(1000))\n",
    "#Withdrawal successful, your new balance is: $1500\n",
    "\n",
    "print(account.check_balance())\n",
    "#Your current balance is: $1500\n",
    "\n",
    "print(account.check_account_type())\n",
    "#You have a Silver Account\n"
   ]
  },
  {
   "cell_type": "code",
   "execution_count": null,
   "id": "05b1ec9d",
   "metadata": {},
   "outputs": [],
   "source": []
  }
 ],
 "metadata": {
  "kernelspec": {
   "display_name": "Python 3 (ipykernel)",
   "language": "python",
   "name": "python3"
  },
  "language_info": {
   "codemirror_mode": {
    "name": "ipython",
    "version": 3
   },
   "file_extension": ".py",
   "mimetype": "text/x-python",
   "name": "python",
   "nbconvert_exporter": "python",
   "pygments_lexer": "ipython3",
   "version": "3.9.12"
  }
 },
 "nbformat": 4,
 "nbformat_minor": 5
}
