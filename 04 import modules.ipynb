{
 "cells": [
  {
   "cell_type": "markdown",
   "id": "2e0e6dd0",
   "metadata": {},
   "source": [
    "Import the entire module:"
   ]
  },
  {
   "cell_type": "code",
   "execution_count": 1,
   "id": "afe77b34",
   "metadata": {},
   "outputs": [
    {
     "name": "stdout",
     "output_type": "stream",
     "text": [
      "3.141592653589793\n",
      "1.0\n"
     ]
    }
   ],
   "source": [
    "import math\n",
    "\n",
    "print(math.pi) # 3.141592653589793\n",
    "print(math.sin(math.pi/2)) # 1.0\n"
   ]
  },
  {
   "cell_type": "markdown",
   "id": "f184c5ec",
   "metadata": {},
   "source": [
    "Import specific objects from a module:"
   ]
  },
  {
   "cell_type": "code",
   "execution_count": 2,
   "id": "2ce36cfa",
   "metadata": {},
   "outputs": [
    {
     "name": "stdout",
     "output_type": "stream",
     "text": [
      "3.141592653589793\n",
      "1.0\n"
     ]
    }
   ],
   "source": [
    "from math import pi, sin\n",
    "\n",
    "print(pi) # 3.141592653589793\n",
    "print(sin(pi/2)) # 1.0\n"
   ]
  },
  {
   "cell_type": "markdown",
   "id": "5ea2e064",
   "metadata": {},
   "source": [
    "Rename a module or an object:"
   ]
  },
  {
   "cell_type": "code",
   "execution_count": 3,
   "id": "e236421c",
   "metadata": {},
   "outputs": [
    {
     "name": "stdout",
     "output_type": "stream",
     "text": [
      "3.141592653589793\n",
      "1.0\n"
     ]
    }
   ],
   "source": [
    "import math as m\n",
    "\n",
    "print(m.pi) # 3.141592653589793\n",
    "print(m.sin(m.pi/2)) # 1.0\n"
   ]
  },
  {
   "cell_type": "markdown",
   "id": "1363076e",
   "metadata": {},
   "source": [
    "Import all objects from a module:"
   ]
  },
  {
   "cell_type": "code",
   "execution_count": 4,
   "id": "d51a0c28",
   "metadata": {},
   "outputs": [
    {
     "name": "stdout",
     "output_type": "stream",
     "text": [
      "3.141592653589793\n",
      "1.0\n"
     ]
    }
   ],
   "source": [
    "from math import *\n",
    "\n",
    "print(pi) # 3.141592653589793\n",
    "print(sin(pi/2)) # 1.0\n"
   ]
  },
  {
   "cell_type": "markdown",
   "id": "ccba5e52",
   "metadata": {},
   "source": [
    "Importing a module using the __import__() function:"
   ]
  },
  {
   "cell_type": "code",
   "execution_count": 5,
   "id": "496bb92f",
   "metadata": {},
   "outputs": [
    {
     "name": "stdout",
     "output_type": "stream",
     "text": [
      "3.141592653589793\n",
      "1.0\n"
     ]
    }
   ],
   "source": [
    "math = __import__(\"math\")\n",
    "print(math.pi) # 3.141592653589793\n",
    "print(math.sin(math.pi/2)) # 1.0\n"
   ]
  },
  {
   "cell_type": "code",
   "execution_count": null,
   "id": "ac3c2fce",
   "metadata": {},
   "outputs": [],
   "source": []
  }
 ],
 "metadata": {
  "kernelspec": {
   "display_name": "Python 3 (ipykernel)",
   "language": "python",
   "name": "python3"
  },
  "language_info": {
   "codemirror_mode": {
    "name": "ipython",
    "version": 3
   },
   "file_extension": ".py",
   "mimetype": "text/x-python",
   "name": "python",
   "nbconvert_exporter": "python",
   "pygments_lexer": "ipython3",
   "version": "3.9.12"
  }
 },
 "nbformat": 4,
 "nbformat_minor": 5
}
