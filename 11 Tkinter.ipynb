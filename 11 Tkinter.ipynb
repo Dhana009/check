{
 "cells": [
  {
   "cell_type": "raw",
   "id": "9c027e59",
   "metadata": {},
   "source": [
    "Tkinter is a built-in Python module that provides a powerful object-oriented interface for creating graphical user interfaces (GUIs). Here are some key concepts and features of Tkinter that you should know to master it:\n",
    "\n",
    "Widgets: \n",
    "Tkinter provides a wide variety of widgets that can be used to create different types of GUI elements such as buttons, labels, text boxes, check boxes, radio buttons, etc. Some of the most commonly used widgets in Tkinter are:\n",
    "\n",
    "Tk(): The root window that contains all other widgets.\n",
    "Label(): A widget that displays text or an image.\n",
    "Button(): A widget that the user can click to perform an action.\n",
    "Entry(): A widget that the user can use to enter text.\n",
    "Checkbutton(): A widget that the user can use to turn an option on or off.\n",
    "Radiobutton(): A widget that the user can use to select one option out of several.\n",
    "Listbox(): A widget that the user can use to select one or more items from a list.\n",
    "Menu(): A widget that the user can use to create a menu bar.\n",
    "\n",
    "Geometry management: \n",
    "Tkinter provides three methods for controlling the layout of widgets: pack(), grid(), and place(). Each method has its own advantages and disadvantages, and you should choose the one that best fits your needs.\n",
    "\n",
    "pack(): \n",
    "This method organizes widgets in blocks before placing them in the parent widget. It is the simplest method and it is easy to use, but it is not very flexible.\n",
    "grid(): \n",
    "This method organizes widgets in a grid. It is more flexible than pack, but it can be more complex to use.\n",
    "place(): \n",
    "This method allows you to specify the exact position of a widget. It gives you the most control over the layout, but it can be the most difficult to use.\n",
    "\n",
    "Events: \n",
    "Tkinter allows you to create event-driven applications by binding functions to events. For example, you can bind a function to a button's \"Click\" event so that the function is called when the button is clicked.\n",
    "\n",
    "Styling: \n",
    "Tkinter allows you to customize the appearance of widgets using options such as fg (foreground color), bg (background color), font (font), etc. You can also use the ttk module which is an extension of tkinter that provides additional widgets and styles.\n",
    "\n",
    "Other features: \n",
    "Tkinter also provides other features such as dialogs,menus, message boxes and file dialogs.\n",
    "\n",
    "Message boxes: \n",
    "Tkinter provides several functions for creating different types of message boxes such as showinfo(), showwarning(), showerror() and askquestion(), askokcancel(), askyesno() etc. These functions are useful for displaying information, warnings, and errors to the user.\n",
    "\n",
    "File dialogs: \n",
    "Tkinter provides several functions for creating file dialogs such as askopenfilename(), asksaveasfilename() etc. These functions allow the user to select a file to open or save.\n",
    "\n",
    "Menus: \n",
    "Tkinter provides several widgets for creating menus, such as Menu(), MenuBar(), MenuButton(), PopupMenu() etc. These widgets allow the user to access different options and commands in the application.\n",
    "\n",
    "Threading: \n",
    "Tkinter is not thread-safe, which means that you should not update the GUI from multiple threads at the same time. To avoid this problem, you can use the threading module and the after() method to update the GUI from a separate thread.\n",
    "\n",
    "Tips:\n",
    "\n",
    "You should always call the mainloop() method at the end of your program to start the GUI event loop.\n",
    "You should always call the destroy() method when you are done with a widget to remove it from memory.\n",
    "You should always test your program on different platforms and with different window managers.\n",
    "These are the most important concepts and features of Tkinter that you should know to master it. I recommend you to practice with examples and try to make your own projects, this will help you to understand the concepts better and become more proficient in Tkinter."
   ]
  },
  {
   "cell_type": "code",
   "execution_count": null,
   "id": "8c2008a0",
   "metadata": {},
   "outputs": [],
   "source": []
  },
  {
   "cell_type": "markdown",
   "id": "74065d41",
   "metadata": {},
   "source": [
    "Here are some of the most commonly used widgets in Tkinter, along with examples of how to use them:\n",
    "\n",
    "Tk(): This is the root window that contains all other widgets. It is the top-level widget and it is created automatically when you import the tkinter module. Example:"
   ]
  },
  {
   "cell_type": "code",
   "execution_count": null,
   "id": "8febe1bb",
   "metadata": {},
   "outputs": [],
   "source": [
    "import tkinter as tk\n",
    "root = tk.Tk()\n",
    "root.mainloop()\n"
   ]
  },
  {
   "cell_type": "markdown",
   "id": "2e8222a3",
   "metadata": {},
   "source": [
    "Here are some examples of using the Label() widget in Tkinter:\n",
    "\n",
    "Creating a simple label: This example demonstrates how to create a simple label that displays text."
   ]
  },
  {
   "cell_type": "code",
   "execution_count": null,
   "id": "7d6e0f10",
   "metadata": {},
   "outputs": [],
   "source": [
    "import tkinter as tk\n",
    "root = tk.Tk()\n",
    "label = tk.Label(root, text=\"Hello World!\")\n",
    "label.pack()\n",
    "root.mainloop()\n"
   ]
  },
  {
   "cell_type": "markdown",
   "id": "8c3453bd",
   "metadata": {},
   "source": [
    "Customizing the font and color: This example demonstrates how to customize the font and color of a label."
   ]
  },
  {
   "cell_type": "code",
   "execution_count": null,
   "id": "16aae10a",
   "metadata": {},
   "outputs": [],
   "source": [
    "import tkinter as tk\n",
    "root = tk.Tk()\n",
    "label = tk.Label(root, text=\"Hello World!\", font=(\"Helvetica\", 20), fg=\"blue\")\n",
    "label.pack()\n",
    "root.mainloop()\n"
   ]
  },
  {
   "cell_type": "markdown",
   "id": "4fe7df34",
   "metadata": {},
   "source": [
    "Displaying an image: This example demonstrates how to display an image on a label."
   ]
  },
  {
   "cell_type": "code",
   "execution_count": null,
   "id": "47b7e594",
   "metadata": {},
   "outputs": [],
   "source": [
    "import tkinter as tk\n",
    "root = tk.Tk()\n",
    "image = tk.PhotoImage(file=\"image.png\")\n",
    "label = tk.Label(root, image=image)\n",
    "label.pack()\n",
    "root.mainloop()\n"
   ]
  },
  {
   "cell_type": "markdown",
   "id": "7751659c",
   "metadata": {},
   "source": [
    "Creating a label with multiple lines: This example demonstrates how to create a label that displays multiple lines of text."
   ]
  },
  {
   "cell_type": "code",
   "execution_count": null,
   "id": "5bf5ae68",
   "metadata": {},
   "outputs": [],
   "source": [
    "import tkinter as tk\n",
    "root = tk.Tk()\n",
    "label = tk.Label(root, text=\"Line 1\\nLine 2\\nLine 3\")\n",
    "label.pack()\n",
    "root.mainloop()\n"
   ]
  },
  {
   "cell_type": "markdown",
   "id": "ca97d0b4",
   "metadata": {},
   "source": [
    "Positioning the label: This example demonstrates how to position the label using the grid() geometry manager."
   ]
  },
  {
   "cell_type": "code",
   "execution_count": null,
   "id": "2f96f831",
   "metadata": {},
   "outputs": [],
   "source": [
    "import tkinter as tk\n",
    "root = tk.Tk()\n",
    "label = tk.Label(root, text=\"Hello World!\")\n",
    "label.grid(row=0, column=0)\n",
    "root.mainloop()\n"
   ]
  },
  {
   "cell_type": "markdown",
   "id": "e7d51f02",
   "metadata": {},
   "source": [
    "Anchoring the label: This example demonstrates how to anchor the label to a specific position within its parent widget.\n",
    "\n",
    "In this example, the label is anchored to the west (left) side of its parent widget. You can use other options like \"n\" for north (top), \"s\" for south (bottom), \"e\" for east (right) and \"center\" for center."
   ]
  },
  {
   "cell_type": "code",
   "execution_count": null,
   "id": "738b2362",
   "metadata": {},
   "outputs": [],
   "source": [
    "import tkinter as tk\n",
    "root = tk.Tk()\n",
    "label = tk.Label(root, text=\"Hello World!\", anchor=\"w\")\n",
    "label.pack()\n",
    "root.mainloop()\n"
   ]
  },
  {
   "cell_type": "markdown",
   "id": "e99f2cef",
   "metadata": {},
   "source": [
    "Creating a label with a background color: This example demonstrates how to create a label with a background color."
   ]
  },
  {
   "cell_type": "code",
   "execution_count": null,
   "id": "29e743a7",
   "metadata": {},
   "outputs": [],
   "source": [
    "import tkinter as tk\n",
    "root = tk.Tk()\n",
    "label = tk.Label(root, text=\"Hello World!\", bg=\"pink\")\n",
    "label.pack()\n",
    "root.mainloop()\n"
   ]
  },
  {
   "cell_type": "markdown",
   "id": "9c1bbc05",
   "metadata": {},
   "source": [
    "Displaying dynamic text: This example demonstrates how to display dynamic text on a label, such as the current date and time.\n",
    "\n",
    "In this example, the update_time function is called every second using the after() method, to update the text displayed on the label."
   ]
  },
  {
   "cell_type": "code",
   "execution_count": null,
   "id": "1abf7d1f",
   "metadata": {},
   "outputs": [],
   "source": [
    "import tkinter as tk\n",
    "import datetime\n",
    "root = tk.Tk()\n",
    "label = tk.Label(root)\n",
    "label.pack()\n",
    "\n",
    "def update_time():\n",
    "    current_time = datetime.datetime.now().strftime(\"%H:%M:%S %p\")\n",
    "    label.config(text=current_time)\n",
    "    label.after(1000, update_time)\n",
    "\n",
    "update_time()\n",
    "root.mainloop()\n"
   ]
  },
  {
   "cell_type": "markdown",
   "id": "c0d6ac89",
   "metadata": {},
   "source": [
    "Displaying text from a variable: This example demonstrates how to display text from a variable on a label.\n",
    "\n",
    "In this example, the text displayed on the label is taken from the text variable, so you can change the text dynamically by changing the value of the variable."
   ]
  },
  {
   "cell_type": "code",
   "execution_count": null,
   "id": "c0ae317e",
   "metadata": {},
   "outputs": [],
   "source": [
    "import tkinter as tk\n",
    "root = tk.Tk()\n",
    "text = tk.StringVar()\n",
    "text.set(\"Hello World!\")\n",
    "label = tk.Label(root, textvariable=text)\n",
    "label.pack()\n",
    "root.mainloop()\n"
   ]
  },
  {
   "cell_type": "markdown",
   "id": "11502427",
   "metadata": {},
   "source": [
    "Displaying text with different font styles: This example demonstrates how to display text with different font styles such as bold and italic.\n",
    "\n",
    "In this example, the font is set to \"Helvetica\" with a size of 20 and the text is displayed in bold and italic."
   ]
  },
  {
   "cell_type": "code",
   "execution_count": null,
   "id": "5bdb750c",
   "metadata": {},
   "outputs": [],
   "source": [
    "import tkinter as tk\n",
    "root = tk.Tk()\n",
    "label = tk.Label(root, text=\"Hello World!\", font=(\"Helvetica\", 20, \"bold italic\"))\n",
    "label.pack()\n",
    "root.mainloop()\n"
   ]
  },
  {
   "cell_type": "markdown",
   "id": "02ee62ab",
   "metadata": {},
   "source": [
    "Creating a label with a border: This example demonstrates how to create a label with a border.\n",
    "\n",
    "In this example, the bd option is set to 2, which creates a 2-pixel border around the label and the relief option is set to \"solid\", which gives the label a solid border."
   ]
  },
  {
   "cell_type": "code",
   "execution_count": null,
   "id": "7424c76e",
   "metadata": {},
   "outputs": [],
   "source": [
    "import tkinter as tk\n",
    "root = tk.Tk()\n",
    "label = tk.Label(root, text=\"Hello World!\", bd=2, relief=\"solid\")\n",
    "label.pack()\n",
    "root.mainloop()\n"
   ]
  },
  {
   "cell_type": "markdown",
   "id": "dc4c2c9c",
   "metadata": {},
   "source": [
    "Creating a label with padding: This example demonstrates how to create a label with padding.\n",
    "\n",
    "In this example, the padx option is set to 10, which adds 10 pixels of horizontal padding around the label and the pady option is set to 10, which adds 10 pixels of vertical padding around the"
   ]
  },
  {
   "cell_type": "code",
   "execution_count": null,
   "id": "442126fa",
   "metadata": {},
   "outputs": [],
   "source": [
    "import tkinter as tk\n",
    "root = tk.Tk()\n",
    "label = tk.Label(root, text=\"Hello World!\", padx=10, pady=10)\n",
    "label.pack()\n",
    "root.mainloop()\n"
   ]
  },
  {
   "cell_type": "markdown",
   "id": "159e390f",
   "metadata": {},
   "source": [
    "Creating a label with an underline: This example demonstrates how to create a label with an underline.\n",
    "\n",
    "In this example, the underline option is set to 2, which underlines the second character of the text."
   ]
  },
  {
   "cell_type": "code",
   "execution_count": null,
   "id": "7de85133",
   "metadata": {},
   "outputs": [],
   "source": [
    "import tkinter as tk\n",
    "root = tk.Tk()\n",
    "label = tk.Label(root, text=\"Hello World!\", underline=2)\n",
    "label.pack()\n",
    "root.mainloop()\n"
   ]
  },
  {
   "cell_type": "markdown",
   "id": "99fa7b9f",
   "metadata": {},
   "source": [
    "Creating a label with an image and text: This example demonstrates how to create a label with an image and text.\n",
    "\n",
    "In this example, the compound option is set to \"left\", which places the image to the left of the text. You can also set it to \"right\", \"top\" or \"bottom\" to place the image accordingly."
   ]
  },
  {
   "cell_type": "code",
   "execution_count": null,
   "id": "220e4700",
   "metadata": {},
   "outputs": [],
   "source": [
    "import tkinter as tk\n",
    "root = tk.Tk()\n",
    "image = tk.PhotoImage(file=\"image.png\")\n",
    "label = tk.Label(root, image=image, text=\"Hello World!\", compound=\"left\")\n",
    "label.pack()\n",
    "root.mainloop()\n"
   ]
  },
  {
   "cell_type": "markdown",
   "id": "ecc16174",
   "metadata": {},
   "source": [
    "Creating a label with a tooltip: This example demonstrates how to create a label with a tooltip.\n",
    "\n",
    "In this example, when the mouse pointer is moved over the label, the cursor changes to \"hand\" and when the label is clicked, a message box with the text \"Hello World!\" is displayed."
   ]
  },
  {
   "cell_type": "code",
   "execution_count": null,
   "id": "51193eb2",
   "metadata": {},
   "outputs": [],
   "source": [
    "import tkinter as tk\n",
    "root = tk.Tk()\n",
    "label = tk.Label(root, text=\"Hello World!\")\n",
    "label.pack()\n",
    "label.bind(\"<Enter>\", lambda event: label.config(cursor=\"hand\"))\n",
    "label.bind(\"<Leave>\", lambda event: label.config(cursor=\"\"))\n",
    "label.bind(\"<Button-1>\", lambda event: tk.messagebox.showinfo(\"Information\", \"Hello World!\"))\n",
    "root.mainloop()\n"
   ]
  },
  {
   "cell_type": "raw",
   "id": "966b768e",
   "metadata": {},
   "source": [
    "The Tkinter Button() widget has a variety of properties that you can set to customize its appearance and behavior. Here are some of the most commonly used properties of the Button() widget:\n",
    "\n",
    "text: sets the text displayed on the button.\n",
    "command: sets the function to be called when the button is clicked.\n",
    "width: sets the width of the button in characters.\n",
    "height: sets the height of the button in characters.\n",
    "fg: sets the foreground color of the button text.\n",
    "bg: sets the background color of the button.\n",
    "activebackground: sets the background color of the button when it is active.\n",
    "activeforeground: sets the foreground color of the button text when it is active.\n",
    "bd: sets the size of the button border in pixels.\n",
    "cursor: sets the cursor displayed when the mouse pointer is over the button.\n",
    "state: sets the state of the button, such as \"normal\", \"disabled\", or \"active\".\n",
    "font: sets the font of the button text.\n",
    "image: sets an image to be displayed on the button.\n",
    "compound: sets the position of the image relative to the text.\n",
    "relief: sets the button's relief style, such as \"raised\", \"sunken\", or \"flat\".\n",
    "overrelief: sets the button's relief style when the mouse pointer is over the button."
   ]
  },
  {
   "cell_type": "markdown",
   "id": "a45008e1",
   "metadata": {},
   "source": [
    "Sure, here are some examples of how to use the Button() widget in Tkinter:\n",
    "\n",
    "Creating a basic button: This example creates a button with the text \"Click me!\" that, when clicked, will print \"Button clicked!\" to the console."
   ]
  },
  {
   "cell_type": "code",
   "execution_count": null,
   "id": "502f92cd",
   "metadata": {},
   "outputs": [],
   "source": [
    "import tkinter as tk\n",
    "\n",
    "def on_button_click():\n",
    "    print(\"Button clicked!\")\n",
    "\n",
    "root = tk.Tk()\n",
    "button = tk.Button(root, text=\"Click me!\", command=on_button_click)\n",
    "button.pack()\n",
    "root.mainloop()\n"
   ]
  },
  {
   "cell_type": "markdown",
   "id": "e6816908",
   "metadata": {},
   "source": [
    "Creating a button with a different background color: This example creates a button with the text \"Click me!\" and a red background color."
   ]
  },
  {
   "cell_type": "code",
   "execution_count": null,
   "id": "446caaf1",
   "metadata": {},
   "outputs": [],
   "source": [
    "import tkinter as tk\n",
    "\n",
    "def on_button_click():\n",
    "    print(\"Button clicked!\")\n",
    "\n",
    "root = tk.Tk()\n",
    "button = tk.Button(root, text=\"Click me!\", bg=\"red\", command=on_button_click)\n",
    "button.pack()\n",
    "root.mainloop()\n"
   ]
  },
  {
   "cell_type": "markdown",
   "id": "4cf362f5",
   "metadata": {},
   "source": [
    "Creating a button with a different font: This example creates a button with the text \"Click me!\" and a font size of 20."
   ]
  },
  {
   "cell_type": "code",
   "execution_count": null,
   "id": "55281e25",
   "metadata": {},
   "outputs": [],
   "source": [
    "import tkinter as tk\n",
    "\n",
    "def on_button_click():\n",
    "    print(\"Button clicked!\")\n",
    "\n",
    "root = tk.Tk()\n",
    "button = tk.Button(root, text=\"Click me!\", font=(\"Helvetica\", 20), command=on_button_click)\n",
    "button.pack()\n",
    "root.mainloop()\n"
   ]
  },
  {
   "cell_type": "markdown",
   "id": "de89eaac",
   "metadata": {},
   "source": [
    "Creating a button with a different image: This example creates a button with an image."
   ]
  },
  {
   "cell_type": "code",
   "execution_count": null,
   "id": "1c3faeae",
   "metadata": {},
   "outputs": [],
   "source": [
    "import tkinter as tk\n",
    "from PIL import Image, ImageTk\n",
    "\n",
    "def on_button_click():\n",
    "    print(\"Button clicked!\")\n",
    "\n",
    "root = tk.Tk()\n",
    "img = Image.open(\"image.png\")\n",
    "img = img.resize((100,100), Image.ANTIALIAS)\n",
    "img = ImageTk.PhotoImage(img)\n",
    "button = tk.Button(root, image=img, command=on_button_click)\n",
    "button.pack()\n",
    "root.mainloop()\n"
   ]
  },
  {
   "cell_type": "markdown",
   "id": "9191ca28",
   "metadata": {},
   "source": [
    "Creating a button with a different width and height: This example creates a button with the text \"Click me!\" and a width of 200 and height of 50."
   ]
  },
  {
   "cell_type": "code",
   "execution_count": null,
   "id": "3792c850",
   "metadata": {},
   "outputs": [],
   "source": [
    "import tkinter as tk\n",
    "\n",
    "def on_button_click():\n",
    "    print(\"Button clicked!\")\n",
    "\n",
    "root = tk.Tk()\n",
    "button = tk.Button(root, text=\"Click me!\", width=200, height=50, command=on_button_click)\n",
    "button.pack()\n",
    "root.mainloop()\n"
   ]
  },
  {
   "cell_type": "markdown",
   "id": "1d2a95a8",
   "metadata": {},
   "source": [
    "Creating a button with a different border width: This example creates a button with the text \"Click me!\" and a border width of 10."
   ]
  },
  {
   "cell_type": "code",
   "execution_count": null,
   "id": "96fc37ff",
   "metadata": {},
   "outputs": [],
   "source": [
    "import tkinter as tk\n",
    "\n",
    "def on_button_click():\n",
    "    print(\"Button clicked!\")\n",
    "\n",
    "root = tk.Tk()\n",
    "button = tk.Button(root, text=\"Click me!\", bd=10, command=on_button_click)\n",
    "button.pack()\n",
    "root.mainloop()\n"
   ]
  },
  {
   "cell_type": "markdown",
   "id": "6b1a6269",
   "metadata": {},
   "source": [
    "Creating a button with a different cursor: This example creates a button with the text \"Click me!\" and a cursor that changes to a hand when the mouse hovers over the button."
   ]
  },
  {
   "cell_type": "code",
   "execution_count": null,
   "id": "d5d7570f",
   "metadata": {},
   "outputs": [],
   "source": [
    "import tkinter as tk\n",
    "\n",
    "def on_button_click():\n",
    "    print(\"Button clicked!\")\n",
    "\n",
    "root = tk.Tk()\n",
    "button = tk.Button(root, text=\"Click me!\", cursor=\"hand2\", command=on_button_click)\n",
    "button.pack()\n",
    "root.mainloop()\n"
   ]
  },
  {
   "cell_type": "markdown",
   "id": "a58c681a",
   "metadata": {},
   "source": [
    "Creating a button with a different relief style: This example creates a button with the text \"Click me!\" and a relief style of \"sunken\" which gives the button a pressed-in look.\n"
   ]
  },
  {
   "cell_type": "code",
   "execution_count": null,
   "id": "9e901ddb",
   "metadata": {},
   "outputs": [],
   "source": [
    "import tkinter as tk\n",
    "\n",
    "def on_button_click():\n",
    "    print(\"Button clicked!\")\n",
    "\n",
    "root = tk.Tk()\n",
    "button = tk.Button(root, text=\"Click me!\", relief=\"sunken\", command=on_button_click)\n",
    "button.pack()\n",
    "root.mainloop()\n"
   ]
  },
  {
   "cell_type": "markdown",
   "id": "9cdefd44",
   "metadata": {},
   "source": [
    "Creating a button that changes color when clicked: This example creates a button with the text \"Click me!\" that changes color from red to green when clicked."
   ]
  },
  {
   "cell_type": "code",
   "execution_count": null,
   "id": "d88fbf9f",
   "metadata": {},
   "outputs": [],
   "source": [
    "import tkinter as tk\n",
    "\n",
    "def on_button_click(button):\n",
    "    current_color = button.cget(\"background\")\n",
    "    new_color = \"green\" if current_color == \"red\" else \"red\"\n",
    "    button.configure(background=new_color)\n",
    "\n",
    "root = tk.Tk()\n",
    "button = tk.Button(root, text=\"Click me!\", background=\"red\", command=lambda: on_button_click(button))\n",
    "button.pack()\n",
    "root.mainloop()\n"
   ]
  },
  {
   "cell_type": "markdown",
   "id": "87b5dcf1",
   "metadata": {},
   "source": [
    "Creating a button that increments a counter: This example creates a button with the text \"Click me!\" that increments a counter each time it is clicked and displays the count on the button."
   ]
  },
  {
   "cell_type": "code",
   "execution_count": null,
   "id": "35c0521b",
   "metadata": {},
   "outputs": [],
   "source": [
    "import tkinter as tk\n",
    "\n",
    "def on_button_click(button):\n",
    "    count = int(button[\"text\"].split()[-1])\n",
    "    count += 1\n",
    "    button.configure(text=f\"Click me! ({count})\")\n",
    "\n",
    "root = tk.Tk()\n",
    "button = tk.Button(root, text=\"Click me! (0)\", command=lambda: on_button_click(button))\n",
    "button.pack()\n",
    "root.mainloop()\n"
   ]
  },
  {
   "cell_type": "markdown",
   "id": "73330d6e",
   "metadata": {},
   "source": [
    "Creating a button that pops up a message box: This example creates a button with the text \"Click me!\" that pops up a message box with the text \"Button clicked!\" when clicked."
   ]
  },
  {
   "cell_type": "code",
   "execution_count": null,
   "id": "edf12c7e",
   "metadata": {},
   "outputs": [],
   "source": [
    "import tkinter as tk\n",
    "from tkinter import messagebox\n",
    "\n",
    "def on_button_click():\n",
    "    messagebox.showinfo(\"Info\", \"Button clicked!\")\n",
    "\n",
    "root = tk.Tk()\n",
    "button = tk.Button(root, text=\"Click me!\", command=on_button_click)\n",
    "button.pack()\n",
    "root.mainloop()\n"
   ]
  },
  {
   "cell_type": "markdown",
   "id": "39273858",
   "metadata": {},
   "source": [
    "Creating a button that opens a file dialog: This example creates a button with the text \"Open file\" that, when clicked, opens a file dialog for the user to select a file."
   ]
  },
  {
   "cell_type": "code",
   "execution_count": null,
   "id": "d76d6a0c",
   "metadata": {},
   "outputs": [],
   "source": [
    "import tkinter as tk\n",
    "from tkinter import filedialog\n",
    "\n",
    "def on_button_click():\n",
    "    filepath = filedialog.askopenfilename()\n",
    "    print(\"Selected file:\", filepath)\n",
    "\n",
    "root = tk.Tk()\n",
    "button = tk.Button(root, text=\"Open file\", command=on_button_click)\n",
    "button.pack()\n",
    "root.mainloop()\n"
   ]
  },
  {
   "cell_type": "markdown",
   "id": "41f6280d",
   "metadata": {},
   "source": [
    "Creating a button that toggles a checkbox: This example creates a button with the text \"Toggle checkbox\" and a checkbox that, when clicked, will toggle the check state of the checkbox."
   ]
  },
  {
   "cell_type": "code",
   "execution_count": null,
   "id": "907ffe67",
   "metadata": {},
   "outputs": [],
   "source": [
    "import tkinter as tk\n",
    "\n",
    "def on_button_click():\n",
    "    checkbox_var.set(not checkbox_var.get())\n",
    "\n",
    "root = tk.Tk()\n",
    "checkbox_var = tk.BooleanVar()\n",
    "checkbox = tk.Checkbutton(root, text=\"Checkbox\", variable=checkbox_var)\n",
    "checkbox.pack()\n",
    "button = tk.Button(root, text=\"Toggle checkbox\", command=on_button_click)\n",
    "button.pack()\n",
    "root.mainloop()\n"
   ]
  },
  {
   "cell_type": "markdown",
   "id": "6056299d",
   "metadata": {},
   "source": [
    "Creating a button with a hover effect: This example creates a button with the text \"Hover over me!\" that changes color when the mouse hovers over it."
   ]
  },
  {
   "cell_type": "code",
   "execution_count": null,
   "id": "19d2c961",
   "metadata": {},
   "outputs": [],
   "source": [
    "import tkinter as tk\n",
    "\n",
    "def on_enter(e):\n",
    "    button.config(bg='lightblue')\n",
    "\n",
    "def on_leave(e):\n",
    "    button.config(bg='white')\n",
    "\n",
    "root = tk.Tk()\n",
    "button = tk.Button(root, text=\"Hover over me!\")\n",
    "button.config(bg='white')\n",
    "button.bind(\"<Enter>\", on_enter)\n",
    "button.bind(\"<Leave>\", on_leave)\n",
    "button.pack()\n",
    "root.mainloop()\n"
   ]
  },
  {
   "cell_type": "markdown",
   "id": "041a1925",
   "metadata": {},
   "source": [
    "Creating a button with a changing cursor: This example creates a button with the text \"Hover over me!\" that changes the cursor to a hand when the mouse pointer hovers over it."
   ]
  },
  {
   "cell_type": "code",
   "execution_count": null,
   "id": "2439ad09",
   "metadata": {},
   "outputs": [],
   "source": [
    "import tkinter as tk\n",
    "\n",
    "def on_enter(e):\n",
    "    button.config(cursor=\"hand2\")\n",
    "\n",
    "def on_leave(e):\n",
    "    button.config(cursor=\"\")\n",
    "\n",
    "root = tk.Tk()\n",
    "button = tk.Button(root, text=\"Hover over me!\")\n",
    "button.bind(\"<Enter>\", on_enter)\n",
    "button.bind(\"<Leave>\", on_leave)\n",
    "button.pack()\n",
    "root.mainloop()\n"
   ]
  },
  {
   "cell_type": "markdown",
   "id": "4844d1f4",
   "metadata": {},
   "source": [
    "Creating a button with a tooltip: This example creates a button with the text \"Hover over me!\" that displays a tooltip with the text \"I am a button\" when the mouse pointer hovers over it."
   ]
  },
  {
   "cell_type": "code",
   "execution_count": null,
   "id": "d773a3dd",
   "metadata": {},
   "outputs": [],
   "source": [
    "import tkinter as tk\n",
    "\n",
    "def on_enter(e):\n",
    "    button.config(cursor=\"hand2\")\n",
    "    button.bind(\"<Enter>\", on_enter)\n",
    "    button.bind(\"<Leave>\", on_leave)\n",
    "    button.pack()\n",
    "    root.mainloop()\n",
    "\n",
    "def on_leave(e):\n",
    "    button.config(cursor=\"\")\n",
    "    button.unbind(\"<Enter>\")\n",
    "    button.unbind(\"<Leave>\")\n",
    "\n",
    "root = tk.Tk()\n",
    "button = tk.Button(root, text=\"Hover over me!\")\n",
    "button.bind(\"<Enter>\", on_enter)\n",
    "button.bind(\"<Leave>\", on_leave)\n",
    "button.pack()\n",
    "root.mainloop()\n"
   ]
  },
  {
   "cell_type": "markdown",
   "id": "fc63a767",
   "metadata": {},
   "source": [
    "Creating a button that plays a sound on click: This example creates a button with the text \"Click me!\" that plays a sound when clicked."
   ]
  },
  {
   "cell_type": "code",
   "execution_count": null,
   "id": "2abb9102",
   "metadata": {},
   "outputs": [],
   "source": [
    "import tkinter as tk\n",
    "import winsound\n",
    "\n",
    "def on_button_click():\n",
    "    winsound.PlaySound(\"sound.wav\", winsound.SND_ASYNC)\n",
    "\n",
    "root = tk.Tk()\n",
    "button = tk.Button(root, text=\"Click me!\", command=on_button_click)\n",
    "button.pack()\n",
    "root.mainloop()\n"
   ]
  },
  {
   "cell_type": "markdown",
   "id": "c75f03ff",
   "metadata": {},
   "source": [
    "Creating a button with a drop-down menu: This example creates a button with a drop-down menu that appears when the button is clicked."
   ]
  },
  {
   "cell_type": "code",
   "execution_count": null,
   "id": "cc336ede",
   "metadata": {},
   "outputs": [],
   "source": [
    "import tkinter as tk\n",
    "\n",
    "def on_button_click():\n",
    "    menu = tk.Menu(button, tearoff=0)\n",
    "    menu.add_command(label=\"Option 1\", command=lambda: print(\"Option 1 selected\"))\n",
    "    menu.add_command(label=\"Option 2\", command=lambda: print(\"Option 2 selected\"))\n",
    "    menu.add_separator()\n",
    "    menu.add_command(label=\"Exit\", command=root.quit)\n",
    "    menu.post(x=button.winfo_x(), y=button.winfo_y()+button.winfo_height())\n",
    "\n",
    "root = tk.Tk()\n",
    "button = tk.Button(root, text=\"Drop-down Menu\", command=on_button_click)\n",
    "button.pack()\n",
    "root.mainloop()\n"
   ]
  },
  {
   "cell_type": "markdown",
   "id": "5e0b0ba0",
   "metadata": {},
   "source": [
    "Creating a button that opens a new window: This example creates a button that opens a new window when clicked."
   ]
  },
  {
   "cell_type": "code",
   "execution_count": null,
   "id": "c438dfec",
   "metadata": {},
   "outputs": [],
   "source": [
    "import tkinter as tk\n",
    "\n",
    "def on_button_click():\n",
    "    new_window = tk.Toplevel(root)\n",
    "    new_window.title(\"New Window\")\n",
    "    label = tk.Label(new_window, text=\"This is a new window.\")\n",
    "    label.pack()\n",
    "\n",
    "root = tk.Tk()\n",
    "button = tk.Button(root, text=\"Open New Window\", command=on_button_click)\n",
    "button.pack()\n",
    "root.mainloop()\n"
   ]
  },
  {
   "cell_type": "markdown",
   "id": "759ffbe9",
   "metadata": {},
   "source": [
    "Creating a button with an image: This example creates a button that displays an image."
   ]
  },
  {
   "cell_type": "code",
   "execution_count": null,
   "id": "f218c6b6",
   "metadata": {},
   "outputs": [],
   "source": [
    "import tkinter as tk\n",
    "from PIL import Image, ImageTk\n",
    "\n",
    "root = tk.Tk()\n",
    "img = Image.open(\"image.jpg\")\n",
    "img = img.resize((50, 50), Image.ANTIALIAS)\n",
    "img = ImageTk.PhotoImage(img)\n",
    "\n",
    "button = tk.Button(root, image=img)\n",
    "button.pack()\n",
    "root.mainloop()\n"
   ]
  },
  {
   "cell_type": "markdown",
   "id": "503d7f8a",
   "metadata": {},
   "source": [
    "Sure, here are a few examples of creating and using the Tkinter Entry() widget:"
   ]
  },
  {
   "cell_type": "markdown",
   "id": "c604e013",
   "metadata": {},
   "source": [
    "Creating a basic entry widget: This example creates a basic entry widget that allows the user to enter text."
   ]
  },
  {
   "cell_type": "code",
   "execution_count": null,
   "id": "d360e6c3",
   "metadata": {},
   "outputs": [],
   "source": [
    "import tkinter as tk\n",
    "\n",
    "root = tk.Tk()\n",
    "entry = tk.Entry(root)\n",
    "entry.pack()\n",
    "root.mainloop()\n"
   ]
  },
  {
   "cell_type": "markdown",
   "id": "279ad3fb",
   "metadata": {},
   "source": [
    "Retrieving the text entered in the entry widget: This example creates an entry widget and a button that retrieves the text entered in the entry widget and prints it to the console."
   ]
  },
  {
   "cell_type": "code",
   "execution_count": null,
   "id": "f8c81cc5",
   "metadata": {},
   "outputs": [],
   "source": [
    "import tkinter as tk\n",
    "\n",
    "def retrieve_text():\n",
    "    text = entry.get()\n",
    "    print(text)\n",
    "\n",
    "root = tk.Tk()\n",
    "entry = tk.Entry(root)\n",
    "entry.pack()\n",
    "button = tk.Button(root, text=\"Retrieve Text\", command=retrieve_text)\n",
    "button.pack()\n",
    "root.mainloop()\n"
   ]
  },
  {
   "cell_type": "markdown",
   "id": "60f4bc3b",
   "metadata": {},
   "source": [
    "Setting the default text in the entry widget: This example creates an entry widget with default text \"Enter text here\""
   ]
  },
  {
   "cell_type": "code",
   "execution_count": null,
   "id": "94962b5d",
   "metadata": {},
   "outputs": [],
   "source": [
    "import tkinter as tk\n",
    "\n",
    "root = tk.Tk()\n",
    "entry = tk.Entry(root, textvariable = tk.StringVar(value = 'Enter text here'))\n",
    "entry.pack()\n",
    "root.mainloop()\n"
   ]
  },
  {
   "cell_type": "markdown",
   "id": "6ca14ca4",
   "metadata": {},
   "source": [
    "Setting the width of the entry widget: This example creates an entry widget with a width of 20 characters."
   ]
  },
  {
   "cell_type": "code",
   "execution_count": null,
   "id": "4da286f3",
   "metadata": {},
   "outputs": [],
   "source": [
    "import tkinter as tk\n",
    "\n",
    "root = tk.Tk()\n",
    "entry = tk.Entry(root, width=20)\n",
    "entry.pack()\n",
    "root.mainloop()\n"
   ]
  },
  {
   "cell_type": "markdown",
   "id": "0c226f6f",
   "metadata": {},
   "source": [
    "Enabling/Disabling the entry widget: This example creates an entry widget and a button that enables or disables the entry widget"
   ]
  },
  {
   "cell_type": "code",
   "execution_count": null,
   "id": "81b1dd63",
   "metadata": {},
   "outputs": [],
   "source": [
    "import tkinter as tk\n",
    "\n",
    "def enable_disable():\n",
    "    if entry.cget(\"state\") == \"normal\":\n",
    "        entry.config(state=\"disable\")\n",
    "    else:\n",
    "        entry.config(state=\"normal\")\n",
    "\n",
    "root = tk.Tk()\n",
    "entry = tk.Entry(root)\n",
    "entry.pack()\n",
    "button = tk.Button(root, text=\"Enable/Disable\", command=enable_disable)\n",
    "button.pack()\n",
    "root.mainloop()\n"
   ]
  },
  {
   "cell_type": "markdown",
   "id": "55238989",
   "metadata": {},
   "source": [
    "Creating an entry widget with a password mask: This example creates an entry widget that masks the text entered by displaying asterisks (*) instead of the actual characters."
   ]
  },
  {
   "cell_type": "code",
   "execution_count": null,
   "id": "be623c6d",
   "metadata": {},
   "outputs": [],
   "source": [
    "import tkinter as tk\n",
    "\n",
    "root = tk.Tk()\n",
    "entry = tk.Entry(root, show=\"*\")\n",
    "entry.pack()\n",
    "root.mainloop()\n"
   ]
  },
  {
   "cell_type": "markdown",
   "id": "7d192585",
   "metadata": {},
   "source": [
    "Creating an entry widget with a custom font: This example creates an entry widget with a custom font."
   ]
  },
  {
   "cell_type": "code",
   "execution_count": null,
   "id": "566cd57f",
   "metadata": {},
   "outputs": [],
   "source": [
    "import tkinter as tk\n",
    "\n",
    "root = tk.Tk()\n",
    "entry = tk.Entry(root, font=(\"Arial\", 20))\n",
    "entry.pack()\n",
    "root.mainloop()\n"
   ]
  },
  {
   "cell_type": "markdown",
   "id": "a2c2f8cc",
   "metadata": {},
   "source": [
    "Creating an entry widget with a background color: This example creates an entry widget with a background color."
   ]
  },
  {
   "cell_type": "code",
   "execution_count": null,
   "id": "3fcfa57f",
   "metadata": {},
   "outputs": [],
   "source": [
    "import tkinter as tk\n",
    "\n",
    "root = tk.Tk()\n",
    "entry = tk.Entry(root, bg=\"lightblue\")\n",
    "entry.pack()\n",
    "root.mainloop()\n"
   ]
  },
  {
   "cell_type": "markdown",
   "id": "d23a4769",
   "metadata": {},
   "source": [
    "Creating an entry widget with a border: This example creates an entry widget with a border."
   ]
  },
  {
   "cell_type": "code",
   "execution_count": null,
   "id": "0910efd3",
   "metadata": {},
   "outputs": [],
   "source": [
    "import tkinter as tk\n",
    "\n",
    "root = tk.Tk()\n",
    "entry = tk.Entry(root, bd=5)\n",
    "entry.pack()\n",
    "root.mainloop()\n"
   ]
  },
  {
   "cell_type": "markdown",
   "id": "f29d049a",
   "metadata": {},
   "source": [
    "Creating an entry widget that only accepts numeric input: This example creates an entry widget that only accepts numeric input."
   ]
  },
  {
   "cell_type": "code",
   "execution_count": null,
   "id": "93a86b35",
   "metadata": {},
   "outputs": [],
   "source": [
    "import tkinter as tk\n",
    "\n",
    "root = tk.Tk()\n",
    "var = tk.StringVar()\n",
    "entry = tk.Entry(root, textvariable=var)\n",
    "entry.pack()\n",
    "\n",
    "# only allow numeric input\n",
    "entry.config(validate=\"key\")\n",
    "entry.config(validatecommand=(entry.register(lambda P: P.isdigit()), \"%P\"))\n",
    "\n",
    "root.mainloop()\n"
   ]
  },
  {
   "cell_type": "markdown",
   "id": "2fbb63d7",
   "metadata": {},
   "source": [
    "Creating an entry widget with a context menu: This example creates an entry widget with a context menu that appears when the user right-clicks on the widget."
   ]
  },
  {
   "cell_type": "code",
   "execution_count": null,
   "id": "c00321e5",
   "metadata": {},
   "outputs": [],
   "source": [
    "import tkinter as tk\n",
    "\n",
    "def show_context_menu(event):\n",
    "    context_menu.post(event.x_root, event.y_root)\n",
    "\n",
    "root = tk.Tk()\n",
    "entry = tk.Entry(root)\n",
    "entry.pack()\n",
    "\n",
    "context_menu = tk.Menu(entry, tearoff=0)\n",
    "context_menu.add_command(label=\"Cut\", command=lambda: entry.event_generate(\"<<Cut>>\"))\n",
    "context_menu.add_command(label=\"Copy\", command=lambda: entry.event_generate(\"<<Copy>>\"))\n",
    "context_menu.add_command(label=\"Paste\", command=lambda: entry.event_generate(\"<<Paste>>\"))\n",
    "\n",
    "entry.bind(\"<Button-3>\", show_context_menu)\n",
    "\n",
    "root.mainloop()\n"
   ]
  },
  {
   "cell_type": "markdown",
   "id": "4a31af2f",
   "metadata": {},
   "source": [
    "Creating an entry widget with a maximum character limit: This example creates an entry widget that has a maximum character limit of 10 characters."
   ]
  },
  {
   "cell_type": "code",
   "execution_count": null,
   "id": "cedd3e43",
   "metadata": {},
   "outputs": [],
   "source": [
    "import tkinter as tk\n",
    "\n",
    "def check_length(event):\n",
    "    text = entry.get()\n",
    "    if len(text) > 10:\n",
    "        entry.delete(10, tk.END)\n",
    "\n",
    "root = tk.Tk()\n",
    "entry = tk.Entry(root)\n",
    "entry.pack()\n",
    "entry.bind(\"<KeyRelease>\", check_length)\n",
    "root.mainloop()\n"
   ]
  },
  {
   "cell_type": "markdown",
   "id": "82bf0277",
   "metadata": {},
   "source": [
    "Creating an entry widget with an input validation: This example creates an entry widget that only allows the user to enter alphabetic characters."
   ]
  },
  {
   "cell_type": "code",
   "execution_count": null,
   "id": "a530d9dd",
   "metadata": {},
   "outputs": [],
   "source": [
    "import tkinter as tk\n",
    "\n",
    "def validate(new_text):\n",
    "    if not new_text.isalpha():\n",
    "        return False\n",
    "    return True\n",
    "\n",
    "root = tk.Tk()\n",
    "var = tk.StringVar()\n",
    "entry = tk.Entry(root, textvariable=var)\n",
    "entry.pack()\n",
    "var.trace(\"w\", lambda name, index, mode, var=var: var.set(var.get()[:10]))\n",
    "entry.config(validate=\"key\", validatecommand=(entry.register(validate), \"%P\"))\n",
    "root.mainloop()\n"
   ]
  },
  {
   "cell_type": "markdown",
   "id": "b8283e54",
   "metadata": {},
   "source": [
    "Creating an entry widget with a virtual event: This example creates an entry widget that triggers a virtual event \"FocusOut\" when the widget loses focus."
   ]
  },
  {
   "cell_type": "code",
   "execution_count": null,
   "id": "72785dd4",
   "metadata": {},
   "outputs": [],
   "source": [
    "import tkinter as tk\n",
    "\n",
    "def focus_out(event):\n",
    "    print(\"Focus out\")\n",
    "\n",
    "root = tk.Tk()\n",
    "entry = tk.Entry(root)\n",
    "entry.pack()\n",
    "entry.bind(\"<FocusOut>\", focus_out)\n",
    "root.mainloop()\n"
   ]
  },
  {
   "cell_type": "markdown",
   "id": "9d315ad4",
   "metadata": {},
   "source": [
    "Creating an entry widget with a tooltip: This example creates an entry widget that displays a tooltip when the mouse pointer hovers over the widget."
   ]
  },
  {
   "cell_type": "code",
   "execution_count": null,
   "id": "358c88e9",
   "metadata": {},
   "outputs": [],
   "source": [
    "import tkinter as tk\n",
    "from tkinter import messagebox\n",
    "\n",
    "root = tk.Tk()\n",
    "entry = tk.Entry(root)\n",
    "entry.pack()\n",
    "entry.bind(\"<Enter>\", lambda event: entry.config(cursor=\"question_arrow\"))\n",
    "entry.bind(\"<Leave>\", lambda event: entry.config(cursor=\"\"))\n",
    "entry.bind(\"<Button-1>\", lambda event: messagebox.showinfo(\"Info\", \"This is a tooltip\"))\n",
    "root.mainloop()\n"
   ]
  },
  {
   "cell_type": "markdown",
   "id": "95bde3d0",
   "metadata": {},
   "source": [
    "Creating an entry widget with a history: This example creates an entry widget that maintains a history of the text entered in the widget."
   ]
  },
  {
   "cell_type": "code",
   "execution_count": null,
   "id": "73e8447f",
   "metadata": {},
   "outputs": [],
   "source": [
    "import tkinter as tk\n",
    "\n",
    "class HistoryEntry(tk.Entry):\n",
    "    def __init__(self, master=None, **kw):\n",
    "        tk.Entry.__init__(self, master, **kw)\n",
    "        self.history = []\n",
    "        self.current = 0\n",
    "\n",
    "    def add_history(self, text):\n",
    "        self.history.append(text)\n",
    "        self.current = len(self.history)\n",
    "\n",
    "    def previous_history(self):\n",
    "        if self.current > 0:\n",
    "            self.current -= 1\n",
    "            self.delete(0, tk.END)\n",
    "            self.insert(0, self.history[self.current])\n",
    "\n",
    "    def next_history(self):\n",
    "        if self.current < len(self.history) - 1:\n",
    "            self.current += 1\n",
    "            self.delete(0, tk.END)\n",
    "            self.insert(0, self.history[self.current])\n",
    "\n",
    "root = tk.Tk()\n",
    "entry = HistoryEntry(root)\n",
    "entry.pack()\n",
    "entry.bind(\"<Return>\", lambda event: entry.add_history(entry.get()))\n",
    "entry.bind(\"<Up>\", lambda event: entry.previous_history())\n",
    "entry.bind(\"<Down>\", lambda event: entry.next_history())\n",
    "root.mainloop()\n"
   ]
  },
  {
   "cell_type": "markdown",
   "id": "ff115b55",
   "metadata": {},
   "source": [
    "Creating an entry widget with a file dialog: This example creates an entry widget that allows the user to browse and select a file using a file dialog."
   ]
  },
  {
   "cell_type": "code",
   "execution_count": null,
   "id": "131b10b7",
   "metadata": {},
   "outputs": [],
   "source": [
    "import tkinter as tk\n",
    "from tkinter import filedialog\n",
    "\n",
    "def browse_file():\n",
    "    filepath = filedialog.askopenfilename()\n",
    "    entry.delete(0, tk.END)\n",
    "    entry.insert(0, filepath)\n",
    "\n",
    "root = tk.Tk()\n",
    "entry = tk.Entry(root)\n",
    "entry.pack()\n",
    "browse_button = tk.Button(root, text=\"Browse\", command=browse_file)\n",
    "browse_button.pack()\n",
    "root.mainloop()\n"
   ]
  },
  {
   "cell_type": "code",
   "execution_count": null,
   "id": "50e36399",
   "metadata": {},
   "outputs": [],
   "source": [
    "import tkinter as tk\n",
    "\n",
    "root = tk.Tk()\n",
    "entry = tk.Entry(root)\n",
    "entry.pack()\n",
    "entry.focus_set() # set focus on the entry widget\n",
    "root.mainloop()\n"
   ]
  },
  {
   "cell_type": "markdown",
   "id": "767f0089",
   "metadata": {},
   "source": [
    "5 complex examples on Checkbutton in tkinter\n",
    "\n",
    "Creating a Checkbutton with a variable that updates a label:"
   ]
  },
  {
   "cell_type": "code",
   "execution_count": null,
   "id": "a58e9694",
   "metadata": {},
   "outputs": [],
   "source": [
    "import tkinter as tk\n",
    "\n",
    "root = tk.Tk()\n",
    "\n",
    "var = tk.IntVar()\n",
    "checkbutton = tk.Checkbutton(root, text=\"Enable feature\", variable=var)\n",
    "checkbutton.pack()\n",
    "\n",
    "label = tk.Label(root, text=\"Feature is disabled\")\n",
    "label.pack()\n",
    "\n",
    "def update_label():\n",
    "    if var.get() == 1:\n",
    "        label.config(text=\"Feature is enabled\")\n",
    "    else:\n",
    "        label.config(text=\"Feature is disabled\")\n",
    "\n",
    "checkbutton.config(command=update_label)\n",
    "\n",
    "root.mainloop()\n"
   ]
  },
  {
   "cell_type": "markdown",
   "id": "062f41b9",
   "metadata": {},
   "source": [
    "Creating a Checkbuttonwith a custom image:"
   ]
  },
  {
   "cell_type": "code",
   "execution_count": null,
   "id": "e0057ef8",
   "metadata": {},
   "outputs": [],
   "source": [
    "import tkinter as tk\n",
    "from PIL import Image, ImageTk\n",
    "\n",
    "root = tk.Tk()\n",
    "\n",
    "var = tk.IntVar()\n",
    "img = Image.open(\"checkbox.png\")\n",
    "img = img.resize((20,20))\n",
    "img = ImageTk.PhotoImage(img)\n",
    "\n",
    "checkbutton = tk.Checkbutton(root, image=img, variable=var)\n",
    "checkbutton.pack()\n",
    "\n",
    "root.mainloop()\n"
   ]
  },
  {
   "cell_type": "markdown",
   "id": "8207f02f",
   "metadata": {},
   "source": [
    "Creating a Checkbutton with a custom font and color:"
   ]
  },
  {
   "cell_type": "code",
   "execution_count": null,
   "id": "21259187",
   "metadata": {},
   "outputs": [],
   "source": [
    "import tkinter as tk\n",
    "\n",
    "root = tk.Tk()\n",
    "\n",
    "var = tk.IntVar()\n",
    "checkbutton = tk.Checkbutton(root, text=\"Enable feature\", variable=var, font=(\"Arial\", 14), fg=\"blue\")\n",
    "checkbutton.pack()\n",
    "\n",
    "root.mainloop()\n"
   ]
  },
  {
   "cell_type": "markdown",
   "id": "a7722410",
   "metadata": {},
   "source": [
    "Creating a Checkbutton that controls the visibility of another widget:"
   ]
  },
  {
   "cell_type": "code",
   "execution_count": null,
   "id": "2a94e73b",
   "metadata": {},
   "outputs": [],
   "source": [
    "import tkinter as tk\n",
    "\n",
    "root = tk.Tk()\n",
    "\n",
    "var = tk.IntVar()\n",
    "checkbutton = tk.Checkbutton(root, text=\"Show additional information\", variable=var)\n",
    "checkbutton.pack()\n",
    "\n",
    "label = tk.Label(root, text=\"Additional information\")\n",
    "label.pack()\n",
    "\n",
    "def toggle_visibility():\n",
    "    if var.get() == 1:\n",
    "        label.pack()\n",
    "    else:\n",
    "        label.pack_forget()\n",
    "\n",
    "checkbutton.config(command=toggle_visibility)\n",
    "\n",
    "root.mainloop()\n"
   ]
  },
  {
   "cell_type": "markdown",
   "id": "5dbd1e8c",
   "metadata": {},
   "source": [
    "Creating a group of Checkbuttons with a shared variable:"
   ]
  },
  {
   "cell_type": "code",
   "execution_count": null,
   "id": "3ded949d",
   "metadata": {},
   "outputs": [],
   "source": [
    "import tkinter as tk\n",
    "\n",
    "root = tk.Tk()\n",
    "\n",
    "var1 = tk.IntVar()\n",
    "var2 = tk.IntVar()\n",
    "var3 = tk.IntVar()\n",
    "\n",
    "checkbutton1 = tk.Checkbutton(root, text=\"Option 1\", variable=var1)\n",
    "checkbutton1.pack()\n",
    "\n",
    "checkbutton2 = tk.Checkbutton(root, text=\"Option 2\", variable=var2)\n",
    "checkbutton2.pack()\n",
    "\n",
    "checkbutton3 = tk.Checkbutton(root, text=\"Option 3\", variable=var3)\n",
    "checkbutton3.pack()\n",
    "\n",
    "def show_selection():\n",
    "    print(\"Selected option 1:\", var1.get())\n",
    "    print(\"Selected option 2:\", var2.get())\n",
    "    print(\"Selected option 3:\", var3.get())\n",
    "\n",
    "root.bind(\"<Return>\", lambda event: show_selection())\n",
    "\n",
    "root.mainloop()\n"
   ]
  },
  {
   "cell_type": "markdown",
   "id": "74e32a4b",
   "metadata": {},
   "source": [
    "Creating a group of Radiobuttons with a shared variable:"
   ]
  },
  {
   "cell_type": "code",
   "execution_count": null,
   "id": "686721e5",
   "metadata": {},
   "outputs": [],
   "source": [
    "import tkinter as tk\n",
    "\n",
    "root = tk.Tk()\n",
    "\n",
    "var = tk.StringVar()\n",
    "radiobutton1 = tk.Radiobutton(root, text=\"Option 1\", variable=var, value=\"Option 1\")\n",
    "radiobutton1.pack()\n",
    "\n",
    "radiobutton2 = tk.Radiobutton(root, text=\"Option 2\", variable=var, value=\"Option 2\")\n",
    "radiobutton2.pack()\n",
    "\n",
    "radiobutton3 = tk.Radiobutton(root, text=\"Option 3\", variable=var, value=\"Option 3\")\n",
    "radiobutton3.pack()\n",
    "\n",
    "def show_selection():\n",
    "    print(\"Selected option:\", var.get())\n",
    "\n",
    "root.bind(\"<Return>\", lambda event: show_selection())\n",
    "\n",
    "root.mainloop()\n"
   ]
  },
  {
   "cell_type": "markdown",
   "id": "34fc4f9a",
   "metadata": {},
   "source": [
    "Creating a group of Radiobuttons with different font and color:"
   ]
  },
  {
   "cell_type": "code",
   "execution_count": null,
   "id": "1889a76b",
   "metadata": {},
   "outputs": [],
   "source": [
    "import tkinter as tk\n",
    "\n",
    "root = tk.Tk()\n",
    "\n",
    "var = tk.StringVar()\n",
    "radiobutton1 = tk.Radiobutton(root, text=\"Option 1\", variable=var, value=\"Option 1\", font=(\"Arial\", 14), fg=\"red\")\n",
    "radiobutton1.pack()\n",
    "\n",
    "radiobutton2 = tk.Radiobutton(root, text=\"Option 2\", variable=var, value=\"Option 2\", font=(\"Arial\", 14), fg=\"green\")\n",
    "radiobutton2.pack()\n",
    "\n",
    "radiobutton3 = tk.Radiobutton(root, text=\"Option 3\", variable=var, value=\"Option 3\", font=(\"Arial\", 14), fg=\"blue\")\n",
    "radiobutton3.pack()\n",
    "\n",
    "root.mainloop()\n"
   ]
  },
  {
   "cell_type": "markdown",
   "id": "b2b90fd8",
   "metadata": {},
   "source": [
    "Creating a group of Radiobuttons with images\n"
   ]
  },
  {
   "cell_type": "code",
   "execution_count": null,
   "id": "64720bb0",
   "metadata": {
    "scrolled": true
   },
   "outputs": [],
   "source": [
    "import tkinter as tk\n",
    "from PIL import Image, ImageTk\n",
    "\n",
    "root = tk.Tk()\n",
    "\n",
    "var = tk.StringVar()\n",
    "img1 = Image.open(\"radiobutton1.png\")\n",
    "img1 = img1.resize((20,20))\n",
    "img1 = ImageTk.PhotoImage(img1)\n",
    "\n",
    "img2 = Image.open(\"radiobutton2.png\")\n",
    "img2 = img2.resize((20,20))\n",
    "img2 = ImageTk.PhotoImage(img2)\n",
    "\n",
    "img3 = Image.open(\"radiobutton3.png\")\n",
    "img3 = img3.resize((20,20))\n",
    "img3 = ImageTk.PhotoImage(img3)\n",
    "\n",
    "radiobutton1 = tk.Radiobutton(root, image=img1, variable=var, value=\"Option 1\")\n",
    "radiobutton1.pack()\n",
    "\n",
    "radiobutton2 = tk.Radiobutton(root, image=img2, variable=var, value=\"Option 2\")\n",
    "radiobutton2.pack()\n",
    "\n",
    "radiobutton3 = tk.Radiobutton(root, image=img3, variable=var, value=\"Option 3\")\n",
    "radiobutton3.pack()\n",
    "\n",
    "root.mainloop()\n"
   ]
  },
  {
   "cell_type": "markdown",
   "id": "7b1e858b",
   "metadata": {},
   "source": [
    "Creating a group of Radiobuttons with a default value:"
   ]
  },
  {
   "cell_type": "code",
   "execution_count": null,
   "id": "79b01d9f",
   "metadata": {},
   "outputs": [],
   "source": [
    "import tkinter as tk\n",
    "\n",
    "root = tk.Tk()\n",
    "\n",
    "var = tk.StringVar()\n",
    "var.set(\" \")\n",
    "\n",
    "radiobutton1 = tk.Radiobutton(root, text=\"Option 1\", variable=var, value=\"Option 1\")\n",
    "radiobutton1.pack()\n",
    "\n",
    "radiobutton2 = tk.Radiobutton(root, text=\"Option 2\", variable=var, value=\"Option 2\")\n",
    "radiobutton2.pack()\n",
    "\n",
    "radiobutton3 = tk.Radiobutton(root, text=\"Option 3\", variable=var, value=\"Option 3\")\n",
    "radiobutton3.pack()\n",
    "\n",
    "root.mainloop()\n"
   ]
  },
  {
   "cell_type": "markdown",
   "id": "8b17fe87",
   "metadata": {},
   "source": [
    "Creating a Listbox with a scrollbar:"
   ]
  },
  {
   "cell_type": "code",
   "execution_count": null,
   "id": "e9fbfcbe",
   "metadata": {},
   "outputs": [],
   "source": [
    "import tkinter as tk\n",
    "\n",
    "root = tk.Tk()\n",
    "\n",
    "listbox = tk.Listbox(root, height=5)\n",
    "listbox.pack()\n",
    "\n",
    "for i in range(1, 11):\n",
    "    listbox.insert(tk.END, \"Item \" + str(i))\n",
    "\n",
    "scrollbar = tk.Scrollbar(root, command=listbox.yview)\n",
    "scrollbar.pack(side=tk.RIGHT, fill=tk.Y)\n",
    "listbox.config(yscrollcommand=scrollbar.set)\n",
    "\n",
    "root.mainloop()\n"
   ]
  },
  {
   "cell_type": "markdown",
   "id": "e1559504",
   "metadata": {},
   "source": [
    "Creating a basic Listbox:"
   ]
  },
  {
   "cell_type": "code",
   "execution_count": null,
   "id": "24258919",
   "metadata": {},
   "outputs": [],
   "source": [
    "import tkinter as tk\n",
    "\n",
    "root = tk.Tk()\n",
    "\n",
    "listbox = tk.Listbox(root)\n",
    "listbox.pack()\n",
    "\n",
    "listbox.insert(1, \"Option 1\")\n",
    "listbox.insert(2, \"Option 2\")\n",
    "listbox.insert(3, \"Option 3\")\n",
    "\n",
    "root.mainloop()\n"
   ]
  },
  {
   "cell_type": "markdown",
   "id": "ad2ad76d",
   "metadata": {},
   "source": [
    "Creating a Listbox with multiple selections:"
   ]
  },
  {
   "cell_type": "code",
   "execution_count": null,
   "id": "c9f3eef3",
   "metadata": {},
   "outputs": [],
   "source": [
    "import tkinter as tk\n",
    "\n",
    "root = tk.Tk()\n",
    "\n",
    "listbox = tk.Listbox(root, selectmode=tk.MULTIPLE)\n",
    "listbox.pack()\n",
    "\n",
    "listbox.insert(1, \"Option 1\")\n",
    "listbox.insert(2, \"Option 2\")\n",
    "listbox.insert(3, \"Option 3\")\n",
    "\n",
    "def show_selection():\n",
    "    selected = listbox.curselection()\n",
    "    for index in selected:\n",
    "        print(\"Selected:\", listbox.get(index))\n",
    "\n",
    "root.bind(\"<Return>\", lambda event: show_selection())\n",
    "\n",
    "root.mainloop()\n"
   ]
  },
  {
   "cell_type": "markdown",
   "id": "7dd8bcfb",
   "metadata": {},
   "source": [
    "Creating a Listbox with custom font and color:"
   ]
  },
  {
   "cell_type": "code",
   "execution_count": null,
   "id": "a130fa52",
   "metadata": {},
   "outputs": [],
   "source": [
    "import tkinter as tk\n",
    "\n",
    "root = tk.Tk()\n",
    "\n",
    "listbox = tk.Listbox(root, font=(\"Arial\", 14), fg=\"blue\")\n",
    "listbox.pack()\n",
    "\n",
    "listbox.insert(1, \"Option 1\")\n",
    "listbox.insert(2, \"Option 2\")\n",
    "listbox.insert(3, \"Option 3\")\n",
    "\n",
    "root.mainloop()\n"
   ]
  },
  {
   "cell_type": "markdown",
   "id": "c71ed8e9",
   "metadata": {},
   "source": [
    "Creating a Listbox with a list of items from a file:"
   ]
  },
  {
   "cell_type": "code",
   "execution_count": null,
   "id": "d16673c9",
   "metadata": {},
   "outputs": [],
   "source": [
    "import tkinter as tk\n",
    "\n",
    "root = tk.Tk()\n",
    "\n",
    "listbox = tk.Listbox(root)\n",
    "listbox.pack()\n",
    "\n",
    "items = [\"Option 1\", \"Option 2\", \"Option 3\"]\n",
    "for item in items:\n",
    "    listbox.insert(tk.END, item)\n",
    "\n",
    "\n",
    "root.mainloop()\n"
   ]
  },
  {
   "cell_type": "markdown",
   "id": "a32afdc9",
   "metadata": {},
   "source": [
    "To create a Listbox with scrolling functionality using the mouse scroll, you can use the bind() method to bind the scroll event to the Listbox widget. Here is an example:"
   ]
  },
  {
   "cell_type": "code",
   "execution_count": null,
   "id": "7f7127a0",
   "metadata": {},
   "outputs": [],
   "source": [
    "import tkinter as tk\n",
    "\n",
    "root = tk.Tk()\n",
    "\n",
    "listbox = tk.Listbox(root)\n",
    "listbox.pack(side=tk.LEFT, fill=tk.X, expand=True)\n",
    "\n",
    "scrollbar = tk.Scrollbar(root, orient=tk.VERTICAL, command=listbox.yview)\n",
    "scrollbar.pack(side=tk.LEFT, fill=tk.Y)\n",
    "\n",
    "listbox.config(yscrollcommand=scrollbar.set)\n",
    "\n",
    "for i in range(1, 101):\n",
    "    listbox.insert(tk.END, f\"Item {i}\")\n",
    "\n",
    "root.mainloop()\n"
   ]
  },
  {
   "cell_type": "markdown",
   "id": "d254b5da",
   "metadata": {},
   "source": [
    "Creating a basic menu:"
   ]
  },
  {
   "cell_type": "code",
   "execution_count": null,
   "id": "9741da01",
   "metadata": {},
   "outputs": [],
   "source": [
    "import tkinter as tk\n",
    "\n",
    "root = tk.Tk()\n",
    "\n",
    "def open_file():\n",
    "    print(\"Open File\")\n",
    "\n",
    "def save_file():\n",
    "    print(\"Save File\")\n",
    "\n",
    "def exit_program():\n",
    "    root.destroy()\n",
    "\n",
    "menubar = tk.Menu(root)\n",
    "file_menu = tk.Menu(menubar, tearoff=0)\n",
    "file_menu.add_command(label=\"Open\", command=open_file)\n",
    "file_menu.add_command(label=\"Save\", command=save_file)\n",
    "file_menu.add_separator()\n",
    "file_menu.add_command(label=\"Exit\", command=exit_program)\n",
    "menubar.add_cascade(label=\"File\", menu=file_menu)\n",
    "root.config(menu=menubar)\n",
    "\n",
    "root.mainloop()\n"
   ]
  },
  {
   "cell_type": "markdown",
   "id": "8ee7ddf3",
   "metadata": {},
   "source": [
    "Creating a menu with submenus:"
   ]
  },
  {
   "cell_type": "code",
   "execution_count": null,
   "id": "0afb9a82",
   "metadata": {},
   "outputs": [],
   "source": [
    "import tkinter as tk\n",
    "\n",
    "root = tk.Tk()\n",
    "\n",
    "def open_file():\n",
    "    print(\"Open File\")\n",
    "\n",
    "def save_file():\n",
    "    print(\"Save File\")\n",
    "\n",
    "def exit_program():\n",
    "    root.destroy()\n",
    "\n",
    "def new_image():\n",
    "    print(\"New Image\")\n",
    "\n",
    "def new_text():\n",
    "    print(\"New Text\")\n",
    "\n",
    "menubar = tk.Menu(root)\n",
    "file_menu = tk.Menu(menubar, tearoff=0)\n",
    "file_menu.add_command(label=\"Open\", command=open_file)\n",
    "file_menu.add_command(label=\"Save\", command=save_file)\n",
    "file_menu.add_separator()\n",
    "file_menu.add_command(label=\"Exit\", command=exit_program)\n",
    "menubar.add_cascade(label=\"File\", menu=file_menu)\n",
    "\n",
    "new_menu = tk.Menu(menubar, tearoff=0)\n",
    "new_menu.add_command(label=\"Image\", command=new_image)\n",
    "new_menu.add_command(label=\"Text\", command=new_text)\n",
    "menubar.add_cascade(label=\"New\", menu=new_menu)\n",
    "\n",
    "root.config(menu=menubar)\n",
    "root.mainloop()\n"
   ]
  },
  {
   "cell_type": "markdown",
   "id": "4ae6ffaf",
   "metadata": {},
   "source": [
    "Creating a menu with checkbutton options:"
   ]
  },
  {
   "cell_type": "code",
   "execution_count": null,
   "id": "f192c70c",
   "metadata": {},
   "outputs": [],
   "source": [
    "import tkinter as tk\n",
    "\n",
    "root = tk.Tk()\n",
    "\n",
    "def open_file():\n",
    "    print(\"Open File\")\n",
    "\n",
    "def save_file():\n",
    "    print(\"Save File\")\n",
    "\n",
    "def exit_program():\n",
    "    root.destroy()\n",
    "\n",
    "menubar = tk.Menu(root)\n",
    "file_menu = tk.Menu(menubar, tearoff=0)\n",
    "file_menu.add_command(label=\"Open\", command=open_file)\n",
    "file_menu.add_command(label=\"Save\", command=save_file)\n",
    "file_menu.add_separator()\n",
    "file_menu.add_command(label=\"Exit\", command=exit_program)\n",
    "menubar.add_cascade(label=\"File\", menu=file_menu)\n",
    "\n",
    "var1 = tk.BooleanVar()\n",
    "var2 = tk.BooleanVar()\n",
    "var3 = tk.BooleanVar()\n",
    "\n",
    "options_menu = tk.Menu(menubar, tearoff=0)\n",
    "options_menu.add_checkbutton(label=\"Option 1\", variable=var1)\n",
    "options_menu.add_checkbutton(label=\"Option 2\", variable=var2)\n",
    "options_menu.add_checkbutton(label=\"Option 3\", variable=var3)\n",
    "menubar.add_cascade(label=\"Options\", menu=options_menu)\n",
    "\n",
    "root.config(menu=menubar)\n",
    "root.mainloop()"
   ]
  },
  {
   "cell_type": "markdown",
   "id": "f3af0a22",
   "metadata": {},
   "source": [
    "Creating a menu with radiobutton options:"
   ]
  },
  {
   "cell_type": "code",
   "execution_count": null,
   "id": "1f9cd14c",
   "metadata": {},
   "outputs": [],
   "source": [
    "import tkinter as tk\n",
    "\n",
    "root = tk.Tk()\n",
    "\n",
    "def open_file():\n",
    "    print(\"Open File\")\n",
    "\n",
    "def save_file():\n",
    "    print(\"Save File\")\n",
    "\n",
    "def exit_program():\n",
    "    root.destroy()\n",
    "\n",
    "menubar = tk.Menu(root)\n",
    "file_menu = tk.Menu(menubar, tearoff=0)\n",
    "file_menu.add_command(label=\"Open\", command=open_file)\n",
    "file_menu.add_command(label=\"Save\", command=save_file)\n",
    "file_menu.add_separator()\n",
    "file_menu.add_command(label=\"Exit\", command=exit_program)\n",
    "menubar.add_cascade(label=\"File\", menu=file_menu)\n",
    "\n",
    "var = tk.StringVar()\n",
    "\n",
    "options_menu = tk.Menu(menubar, tearoff=0)\n",
    "options_menu.add_radiobutton(label=\"Option 1\", variable=var, value=\"Option 1\")\n",
    "options_menu.add_radiobutton(label=\"Option 2\", variable=var, value=\"Option 2\")\n",
    "options_menu.add_radiobutton(label=\"Option 3\", variable=var, value=\"Option 3\")\n",
    "menubar.add_cascade(label=\"Options\", menu=options_menu)\n",
    "\n",
    "root.config(menu=menubar)\n",
    "root.mainloop()\n"
   ]
  },
  {
   "cell_type": "markdown",
   "id": "f5c3e15b",
   "metadata": {},
   "source": [
    "Using the pack() geometry manager:"
   ]
  },
  {
   "cell_type": "code",
   "execution_count": null,
   "id": "495debed",
   "metadata": {},
   "outputs": [],
   "source": [
    "import tkinter as tk\n",
    "\n",
    "root = tk.Tk()\n",
    "\n",
    "label1 = tk.Label(root, text=\"Label 1\", bg=\"red\")\n",
    "label1.pack()\n",
    "\n",
    "label2 = tk.Label(root, text=\"Label 2\", bg=\"green\")\n",
    "label2.pack()\n",
    "\n",
    "label3 = tk.Label(root, text=\"Label 3\", bg=\"blue\")\n",
    "label3.pack()\n",
    "\n",
    "root.mainloop()\n"
   ]
  },
  {
   "cell_type": "markdown",
   "id": "b075dc43",
   "metadata": {},
   "source": [
    "Using the grid() geometry manager:"
   ]
  },
  {
   "cell_type": "code",
   "execution_count": null,
   "id": "7e1d40e3",
   "metadata": {},
   "outputs": [],
   "source": [
    "import tkinter as tk\n",
    "\n",
    "root = tk.Tk()\n",
    "\n",
    "label1 = tk.Label(root, text=\"Label 1\", bg=\"red\")\n",
    "label1.grid(row=0, column=0)\n",
    "\n",
    "label2 = tk.Label(root, text=\"Label 2\", bg=\"green\")\n",
    "label2.grid(row=0, column=1)\n",
    "\n",
    "label3 = tk.Label(root, text=\"Label 3\", bg=\"blue\")\n",
    "label3.grid(row=1, column=0)\n",
    "\n",
    "root.mainloop()\n"
   ]
  },
  {
   "cell_type": "markdown",
   "id": "cdb9fa80",
   "metadata": {},
   "source": [
    "Using the place() geometry manager:"
   ]
  },
  {
   "cell_type": "code",
   "execution_count": null,
   "id": "084efd7c",
   "metadata": {},
   "outputs": [],
   "source": [
    "import tkinter as tk\n",
    "\n",
    "root = tk.Tk()\n",
    "\n",
    "label1 = tk.Label(root, text=\"Label 1\", bg=\"red\")\n",
    "label1.place(x=10, y=10)\n",
    "\n",
    "label2 = tk.Label(root, text=\"Label 2\", bg=\"green\")\n",
    "label2.place(x=30, y=30)\n",
    "\n",
    "label3 = tk.Label(root, text=\"Label 3\", bg=\"blue\")\n",
    "label3.place(x=50, y=50)\n",
    "\n",
    "root.mainloop()\n"
   ]
  },
  {
   "cell_type": "markdown",
   "id": "420012fb",
   "metadata": {},
   "source": [
    "Using the grid() and row() geometry manager:"
   ]
  },
  {
   "cell_type": "code",
   "execution_count": null,
   "id": "fa980fa3",
   "metadata": {},
   "outputs": [],
   "source": [
    "import tkinter as tk\n",
    "\n",
    "root = tk.Tk()\n",
    "\n",
    "label1 = tk.Label(root, text=\"Label 1\", bg=\"red\")\n",
    "label1.grid(row=0, column=0)\n",
    "\n",
    "label2 = tk.Label(root, text=\"Label 2\", bg=\"green\")\n",
    "label2.grid(row=0, column=1)\n",
    "\n",
    "label3 = tk.Label(root, text=\"Label 3\", bg=\"blue\")\n",
    "label3.grid(row=1, column=0)\n",
    "\n",
    "root.rowconfigure(0, weight=1)\n",
    "root.columnconfigure(0, weight=1)\n",
    "root.columnconfigure(1, weight=1)\n",
    "\n",
    "root.mainloop()\n"
   ]
  },
  {
   "cell_type": "markdown",
   "id": "11d8bb9f",
   "metadata": {},
   "source": [
    "Using the bind() method to handle button events:"
   ]
  },
  {
   "cell_type": "code",
   "execution_count": null,
   "id": "9baa50c7",
   "metadata": {},
   "outputs": [],
   "source": [
    "import tkinter as tk\n",
    "\n",
    "root = tk.Tk()\n",
    "\n",
    "def on_button_click():\n",
    "    print(\"Button clicked\")\n",
    "\n",
    "button = tk.Button(root, text=\"Click me!\", command=on_button_click)\n",
    "button.pack()\n",
    "\n",
    "root.mainloop()\n"
   ]
  },
  {
   "cell_type": "markdown",
   "id": "76ec6f1e",
   "metadata": {},
   "source": [
    "Using the bind() method to handle key press events:"
   ]
  },
  {
   "cell_type": "code",
   "execution_count": null,
   "id": "29e09ae9",
   "metadata": {},
   "outputs": [],
   "source": [
    "import tkinter as tk\n",
    "\n",
    "root = tk.Tk()\n",
    "\n",
    "def on_key_press(event):\n",
    "    print(f\"Key {event.char} pressed\")\n",
    "\n",
    "root.bind(\"<Key>\", on_key_press)\n",
    "\n",
    "root.mainloop()\n"
   ]
  },
  {
   "cell_type": "markdown",
   "id": "63d6943c",
   "metadata": {},
   "source": [
    "Using the after() method to schedule an event:"
   ]
  },
  {
   "cell_type": "code",
   "execution_count": null,
   "id": "c947b7d3",
   "metadata": {},
   "outputs": [],
   "source": [
    "import tkinter as tk\n",
    "\n",
    "root = tk.Tk()\n",
    "\n",
    "def on_timeout():\n",
    "    print(\"Timeout reached\")\n",
    "\n",
    "root.after(3000, on_timeout)\n",
    "\n",
    "root.mainloop()\n"
   ]
  },
  {
   "cell_type": "markdown",
   "id": "49b8687e",
   "metadata": {},
   "source": [
    "Using the bind() method to handle mouse events:"
   ]
  },
  {
   "cell_type": "code",
   "execution_count": null,
   "id": "b67e5ac1",
   "metadata": {},
   "outputs": [],
   "source": [
    "import tkinter as tk\n",
    "\n",
    "root = tk.Tk()\n",
    "\n",
    "def on_mouse_move(event):\n",
    "    print(f\"Mouse moved to x={event.x} y={event.y}\")\n",
    "\n",
    "root.bind(\"<Motion>\", on_mouse_move)\n",
    "\n",
    "root.mainloop()\n"
   ]
  },
  {
   "cell_type": "markdown",
   "id": "c58af300",
   "metadata": {},
   "source": [
    "Sure, here are some examples of binding specific keyboard keys to functions using the bind() method:"
   ]
  },
  {
   "cell_type": "code",
   "execution_count": 5,
   "id": "01e45937",
   "metadata": {},
   "outputs": [
    {
     "name": "stdout",
     "output_type": "stream",
     "text": [
      "Enter key pressed\n",
      "23\n"
     ]
    }
   ],
   "source": [
    "import tkinter as tk\n",
    "\n",
    "root = tk.Tk()\n",
    "\n",
    "def on_enter_press(event):\n",
    "    print(\"Enter key pressed\")\n",
    "\n",
    "def on_escape_press(event):\n",
    "    print(\"Escape key pressed\")\n",
    "    root.destroy()\n",
    "\n",
    "def on_ctrl_c_press(event):\n",
    "    print(\"Ctrl + C key combination pressed\")\n",
    "\n",
    "def on_alt_f4_press(event):\n",
    "    print(\"Alt + F4 key combination pressed\")\n",
    "\n",
    "root.bind(\"<Return>\", on_enter_press)\n",
    "root.bind(\"<Escape>\", on_escape_press)\n",
    "root.bind(\"<Control-c>\", on_ctrl_c_press)\n",
    "root.bind(\"<Alt-F4>\", on_alt_f4_press)\n",
    "\n",
    "root.mainloop()\n"
   ]
  },
  {
   "cell_type": "code",
   "execution_count": 6,
   "id": "8bda897e",
   "metadata": {},
   "outputs": [
    {
     "name": "stdout",
     "output_type": "stream",
     "text": [
      "Escape key pressed\n",
      "1 key pressed\n",
      "2 key pressed\n",
      "3 key pressed\n",
      "3 key pressed\n",
      "3 key pressed\n",
      "3 key pressed\n",
      "3 key pressed\n",
      "3 key pressed\n",
      "4 key pressed\n",
      "5 key pressed\n",
      "6 key pressed\n",
      "7 key pressed\n",
      "8 key pressed\n",
      "9 key pressed\n",
      "0 key pressed\n",
      "z key pressed\n",
      "z key pressed\n",
      "z key pressed\n",
      "z key pressed\n",
      "z key pressed\n",
      "z key pressed\n",
      "z key pressed\n",
      "z key pressed\n"
     ]
    }
   ],
   "source": [
    "import tkinter as tk\n",
    "\n",
    "root = tk.Tk()\n",
    "\n",
    "def on_key_press(event):\n",
    "    if event.keysym == \"Up\":\n",
    "        print(\"Up arrow key pressed\")\n",
    "    elif event.keysym == \"Down\":\n",
    "        print(\"Down arrow key pressed\")\n",
    "    elif event.keysym == \"Left\":\n",
    "        print(\"Left arrow key pressed\")\n",
    "    elif event.keysym == \"Right\":\n",
    "        print(\"Right arrow key pressed\")\n",
    "    elif event.keysym == \"space\":\n",
    "        print(\"Space key pressed\")\n",
    "    elif event.keysym == \"Tab\":\n",
    "        print(\"Tab key pressed\")\n",
    "    elif event.keysym == \"Return\":\n",
    "        print(\"Enter key pressed\")\n",
    "    elif event.keysym == \"Escape\":\n",
    "        print(\"Escape key pressed\")\n",
    "    elif event.keysym == \"Control_L\":\n",
    "        print(\"Left Ctrl key pressed\")\n",
    "    elif event.keysym == \"Control_R\":\n",
    "        print(\"Right Ctrl key pressed\")\n",
    "    elif event.keysym == \"Shift_L\":\n",
    "        print(\"Left Shift key pressed\")\n",
    "    elif event.keysym == \"Shift_R\":\n",
    "        print(\"Right Shift key pressed\")\n",
    "    else:\n",
    "        print(f\"{event.keysym} key pressed\")\n",
    "\n",
    "root.bind(\"<Key>\", on_key_press)\n",
    "\n",
    "root.mainloop()\n"
   ]
  },
  {
   "cell_type": "code",
   "execution_count": 7,
   "id": "eca25e14",
   "metadata": {},
   "outputs": [],
   "source": [
    "import tkinter as tk\n",
    "\n",
    "root = tk.Tk()\n",
    "\n",
    "def on_key_press(event):\n",
    "    if event.keysym == \"Up\":\n",
    "        canvas.move(rectangle, 0, -10)\n",
    "    elif event.keysym == \"Down\":\n",
    "        canvas.move(rectangle, 0, 10)\n",
    "    elif event.keysym == \"Left\":\n",
    "        canvas.move(rectangle, -10, 0)\n",
    "    elif event.keysym == \"Right\":\n",
    "        canvas.move(rectangle, 10, 0)\n",
    "\n",
    "canvas = tk.Canvas(root, width=200, height=200)\n",
    "canvas.pack()\n",
    "\n",
    "rectangle = canvas.create_rectangle(50, 50, 100, 100, fill=\"red\")\n",
    "\n",
    "root.bind(\"<Key>\", on_key_press)\n",
    "root.mainloop()\n"
   ]
  },
  {
   "cell_type": "markdown",
   "id": "b97385b6",
   "metadata": {},
   "source": [
    "In Tkinter, message boxes are used to display a message to the user and get a response. There are several types of message boxes that can be used in Tkinter, such as:\n",
    "\n",
    "tkinter.messagebox.showinfo(): This method is used to display an informational message box. It has two parameters, title and message.\n",
    "\n",
    "tkinter.messagebox.showwarning(): This method is used to display a warning message box. It has two parameters, title and message.\n",
    "\n",
    "tkinter.messagebox.showerror(): This method is used to display an error message box. It has two parameters, title and message.\n",
    "\n",
    "tkinter.messagebox.askquestion(): This method is used to display a question message box and get a Yes or No response. It has two parameters, title and message.\n",
    "\n",
    "tkinter.messagebox.askokcancel(): This method is used to display an OK/Cancel message box and get an OK or Cancel response. It has two parameters, title and message.\n",
    "\n",
    "Here is an example of using a message box in Tkinter:"
   ]
  },
  {
   "cell_type": "code",
   "execution_count": 15,
   "id": "70c4e2cb",
   "metadata": {},
   "outputs": [
    {
     "name": "stdout",
     "output_type": "stream",
     "text": [
      "User chose to cancel.\n",
      "User chose to save changes.\n",
      "User chose to cancel.\n",
      "User chose to continue.\n"
     ]
    }
   ],
   "source": [
    "import tkinter as tk\n",
    "import tkinter.messagebox as msgbox\n",
    "\n",
    "root = tk.Tk()\n",
    "\n",
    "def show_info():\n",
    "    msgbox.showinfo(\"Information\", \"This is an informational message.\")\n",
    "\n",
    "def show_warning():\n",
    "    msgbox.showwarning(\"Warning\", \"This is a warning message.\")\n",
    "\n",
    "def show_error():\n",
    "    msgbox.showerror(\"Error\", \"This is an error message.\")\n",
    "\n",
    "def ask_question():\n",
    "    response = msgbox.askquestion(\"Question\", \"Do you want to continue?\")\n",
    "    if response == \"yes\":\n",
    "        print(\"User chose to continue.\")\n",
    "    else:\n",
    "        print(\"User chose to cancel.\")\n",
    "\n",
    "def ask_ok_cancel():\n",
    "    response = msgbox.askokcancel(\"Confirmation\", \"Do you want to save changes?\")\n",
    "    if response:\n",
    "        print(\"User chose to save changes.\")\n",
    "    else:\n",
    "        print(\"User chose to cancel.\")\n",
    "\n",
    "info_button = tk.Button(root, text=\"Show Info\", command=show_info)\n",
    "info_button.pack()\n",
    "\n",
    "warning_button = tk.Button(root, text=\"Show Warning\", command=show_warning)\n",
    "warning_button.pack()\n",
    "\n",
    "error_button = tk.Button(root, text=\"Show Error\", command=show_error)\n",
    "error_button.pack()\n",
    "\n",
    "question_button = tk.Button(root, text=\"Ask Question\", command=ask_question)\n",
    "question_button.pack()\n",
    "\n",
    "ok_cancel_button = tk.Button(root, text=\"Ask OK/Cancel\", command=ask_ok_cancel)\n",
    "ok_cancel_button.pack()\n",
    "\n",
    "root.mainloop()\n"
   ]
  },
  {
   "cell_type": "code",
   "execution_count": 1,
   "id": "f7f03c41",
   "metadata": {},
   "outputs": [
    {
     "name": "stdout",
     "output_type": "stream",
     "text": [
      "Going Back\n",
      "Going Back\n",
      "Going Back\n",
      "Going Back\n",
      "Opening: C:\\Users\\LENOVO\\Pictures\\90 ml.png\n",
      "Opening: C:\\Users\\LENOVO\\Pictures\\90 ml.png\n",
      "Going Back\n",
      "Going Back\n",
      "Opening: C:\\Users\\LENOVO\\Downloads\\Untitled design.png\n",
      "Opening: C:\\Users\\LENOVO\\Downloads\\chat-gpt.pdf\n"
     ]
    }
   ],
   "source": [
    "from tkinter import *\n",
    "import os\n",
    "import ctypes\n",
    "import pathlib\n",
    "\n",
    "# Increase Dots Per inch so it looks sharper\n",
    "ctypes.windll.shcore.SetProcessDpiAwareness(True)\n",
    "\n",
    "root = Tk()\n",
    "# set a title for our file explorer main window\n",
    "root.title('Simple Explorer')\n",
    "\n",
    "root.grid_columnconfigure(1, weight=1)\n",
    "root.grid_rowconfigure(1, weight=1)\n",
    "\n",
    "def pathChange(*event):\n",
    "    # Get all Files and Folders from the given Directory\n",
    "    directory = os.listdir(currentPath.get())\n",
    "    # Clearing the list\n",
    "    list.delete(0, END)\n",
    "    # Inserting the files and directories into the list\n",
    "    for file in directory:\n",
    "        list.insert(0, file)\n",
    "\n",
    "def changePathByClick(event=None):\n",
    "    # Get clicked item.\n",
    "    picked = list.get(list.curselection()[0])\n",
    "    # get the complete path by joining the current path with the picked item\n",
    "    path = os.path.join(currentPath.get(), picked)\n",
    "    # Check if item is file, then open it\n",
    "    if os.path.isfile(path):\n",
    "        print('Opening: '+path)\n",
    "        os.startfile(path)\n",
    "    # Set new path, will trigger pathChange function.\n",
    "    else:\n",
    "        currentPath.set(path)\n",
    "\n",
    "def goBack(event=None):\n",
    "    # get the new path\n",
    "    newPath = pathlib.Path(currentPath.get()).parent\n",
    "    # set it to currentPath\n",
    "    currentPath.set(newPath)\n",
    "    # simple message\n",
    "    print('Going Back')\n",
    "\n",
    "\n",
    "def open_popup():\n",
    "    global top\n",
    "    top = Toplevel(root)\n",
    "    top.geometry(\"250x150\")\n",
    "    top.resizable(False, False)\n",
    "    top.title(\"Child Window\")\n",
    "    top.columnconfigure(0, weight=1)\n",
    "    Label(top, text='Enter File or Folder name').grid()\n",
    "    Entry(top, textvariable=newFileName).grid(column=0, pady=10, sticky='NSEW')\n",
    "    Button(top, text=\"Create\", command=newFileOrFolder).grid(pady=10, sticky='NSEW')\n",
    "\n",
    "def newFileOrFolder():\n",
    "    # check if it is a file name or a folder\n",
    "    if len(newFileName.get().split('.')) != 1:\n",
    "        open(os.path.join(currentPath.get(), newFileName.get()), 'w').close()\n",
    "    else:\n",
    "        os.mkdir(os.path.join(currentPath.get(), newFileName.get()))\n",
    "    # destroy the top\n",
    "    top.destroy()\n",
    "    pathChange()\n",
    "\n",
    "top = ''\n",
    "\n",
    "# String variables\n",
    "newFileName = StringVar(root, \"File.dot\", 'new_name')\n",
    "currentPath = StringVar(\n",
    "    root,\n",
    "    name='currentPath',\n",
    "    value=pathlib.Path.cwd()\n",
    ")\n",
    "# Bind changes in this variable to the pathChange function\n",
    "currentPath.trace('w', pathChange)\n",
    "\n",
    "Button(root, text='Folder Up', command=goBack).grid(\n",
    "    sticky='NSEW', column=0, row=0\n",
    ")\n",
    "\n",
    "# Keyboard shortcut for going up\n",
    "root.bind(\"<Alt-Up>\", goBack)\n",
    "\n",
    "Entry(root, textvariable=currentPath).grid(\n",
    "    sticky='NSEW', column=1, row=0, ipady=10, ipadx=10\n",
    ")\n",
    "\n",
    "# List of files and folder\n",
    "list = Listbox(root)\n",
    "list.grid(sticky='NSEW', column=1, row=1, ipady=10, ipadx=10)\n",
    "\n",
    "# List Accelerators\n",
    "list.bind('<Double-1>', changePathByClick)\n",
    "list.bind('<Return>', changePathByClick)\n",
    "\n",
    "\n",
    "# Menu\n",
    "menubar = Menu(root)\n",
    "# Adding a new File button\n",
    "menubar.add_command(label=\"Add File or Folder\", command=open_popup)\n",
    "# Adding a quit button to the Menubar\n",
    "menubar.add_command(label=\"Quit\", command=root.quit)\n",
    "# Make the menubar the Main Menu\n",
    "root.config(menu=menubar)\n",
    "\n",
    "# Call the function so the list displays\n",
    "pathChange('')\n",
    "# run the main program\n",
    "root.mainloop()\n"
   ]
  },
  {
   "cell_type": "code",
   "execution_count": 2,
   "id": "df7ff54b",
   "metadata": {},
   "outputs": [],
   "source": [
    "from tkinter import * \n",
    "from tkinter import filedialog as fd \n",
    "from tkinter import messagebox as ms \n",
    "from PIL import ImageTk, Image \n",
    "\n",
    "#  Build A Image Viewer Now\n",
    " \n",
    "class Image_Viewer: \n",
    "    \n",
    "    def __init__(self,master): \n",
    "        self.master = master \n",
    "        self.c_size = (700,500) \n",
    "        self.setup_gui(self.c_size) \n",
    "        self.img=None \n",
    "    \n",
    "    def setup_gui(self,s): \n",
    "        Label(self.master,text='Image Viewer',pady=5,bg='white', font=('Arial',30)).pack() \n",
    "        self.canvas = Canvas(self.master,height=s[1],width=s[0], bg='Black',bd=10,relief='ridge')\n",
    "        self.canvas.pack() \n",
    "        txt = '''\n",
    "                                     By Shrimad Mishra \n",
    "                                          on behaf of \n",
    "                                              CodeSpeedy\n",
    "                                ''' \n",
    "        self.wt = self.canvas.create_text(s[0]/2-270,s[1]/2,text=txt ,font=('',30),fill='white') \n",
    "        f=Frame(self.master,bg='white',padx=10,pady=10) \n",
    "        Button(f,text='Open Image',bd=2,fg='white',bg='black',font=('',15) ,command=self.make_image).pack(side=LEFT) \n",
    "        f.pack() \n",
    "\n",
    "    def make_image(self):   \n",
    "        \n",
    "        try: \n",
    "            File = fd.askopenfilename() \n",
    "            self.pilImage = Image.open(File) \n",
    "            re=self.pilImage.resize((700,500),Image.ANTIALIAS) \n",
    "            self.img = ImageTk.PhotoImage(re) \n",
    "            self.canvas.delete(ALL) \n",
    "            self.canvas.create_image(self.c_size[0]/2+10,self.c_size[1]/2+10, anchor=CENTER,image=self.img) \n",
    "            self.status['text']='Current Image:'+File \n",
    "        \n",
    "        except: \n",
    "            ms.showerror('Error!','File type is unsupported.') \n",
    "\n",
    "root=Tk() \n",
    "root.configure(bg='white') \n",
    "root.title('Image Viewer') \n",
    "Image_Viewer(root) \n",
    "root.resizable(0,0) \n",
    "root.mainloop()"
   ]
  },
  {
   "cell_type": "code",
   "execution_count": 3,
   "id": "0afedf22",
   "metadata": {},
   "outputs": [
    {
     "name": "stdout",
     "output_type": "stream",
     "text": [
      "pygame 2.1.2 (SDL 2.0.18, Python 3.9.12)\n",
      "Hello from the pygame community. https://www.pygame.org/contribute.html\n"
     ]
    },
    {
     "name": "stderr",
     "output_type": "stream",
     "text": [
      "Exception in Tkinter callback\n",
      "Traceback (most recent call last):\n",
      "  File \"C:\\Users\\LENOVO\\anaconda3\\lib\\tkinter\\__init__.py\", line 1892, in __call__\n",
      "    return self.func(*args)\n",
      "  File \"C:\\Users\\LENOVO\\AppData\\Local\\Temp\\ipykernel_10648\\1802973050.py\", line 20, in play\n",
      "    mixer.music.load(self.music_file)\n",
      "pygame.error: ModPlug_Load failed\n"
     ]
    }
   ],
   "source": [
    "from tkinter import *\n",
    "from tkinter import filedialog\n",
    "from pygame import mixer\n",
    "\n",
    "class MusicPlayer:\n",
    "    def __init__(self, window ):\n",
    "        window.geometry('320x100'); window.title('Iris Player'); window.resizable(0,0)\n",
    "        Load = Button(window, text = 'Load',  width = 10, font = ('Times', 10), command = self.load)\n",
    "        Play = Button(window, text = 'Play',  width = 10,font = ('Times', 10), command = self.play)\n",
    "        Pause = Button(window,text = 'Pause',  width = 10, font = ('Times', 10), command = self.pause)\n",
    "        Stop = Button(window ,text = 'Stop',  width = 10, font = ('Times', 10), command = self.stop)\n",
    "        Load.place(x=0,y=20);Play.place(x=110,y=20);Pause.place(x=220,y=20);Stop.place(x=110,y=60) \n",
    "        self.music_file = False\n",
    "        self.playing_state = False\n",
    "    def load(self):\n",
    "        self.music_file = filedialog.askopenfilename()\n",
    "    def play(self):\n",
    "        if self.music_file:\n",
    "            mixer.init()\n",
    "            mixer.music.load(self.music_file)\n",
    "            mixer.music.play()\n",
    "    def pause(self):\n",
    "        if not self.playing_state:\n",
    "            mixer.music.pause()\n",
    "            self.playing_state=True\n",
    "        else:\n",
    "            mixer.music.unpause()\n",
    "            self.playing_state = False\n",
    "    def stop(self):\n",
    "        mixer.music.stop()\n",
    "root = Tk()\n",
    "app= MusicPlayer(root)\n",
    "root.mainloop()"
   ]
  },
  {
   "cell_type": "code",
   "execution_count": null,
   "id": "70e43372",
   "metadata": {},
   "outputs": [],
   "source": []
  }
 ],
 "metadata": {
  "kernelspec": {
   "display_name": "Python 3 (ipykernel)",
   "language": "python",
   "name": "python3"
  },
  "language_info": {
   "codemirror_mode": {
    "name": "ipython",
    "version": 3
   },
   "file_extension": ".py",
   "mimetype": "text/x-python",
   "name": "python",
   "nbconvert_exporter": "python",
   "pygments_lexer": "ipython3",
   "version": "3.9.12"
  }
 },
 "nbformat": 4,
 "nbformat_minor": 5
}
