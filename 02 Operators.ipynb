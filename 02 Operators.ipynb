{
 "cells": [
  {
   "cell_type": "markdown",
   "id": "dee2fe93",
   "metadata": {},
   "source": [
    "Operators are a fundamental concept in any programming language, including Python. They are used to perform various operations on variables, data types and objects. Python has a wide range of operators that can be used for different purposes such as mathematical calculations, assignment, comparison, and logical operations.\n",
    "\n",
    "In Python, mathematical operators such as +, -, *, /, %, and ** are used to perform basic mathematical operations such as addition, subtraction, multiplication, division, remainder, and exponentiation. For example, the following code demonstrates the use of mathematical operators:"
   ]
  },
  {
   "cell_type": "code",
   "execution_count": 3,
   "id": "8c5dc1d3",
   "metadata": {},
   "outputs": [
    {
     "name": "stdout",
     "output_type": "stream",
     "text": [
      "7\n",
      "3\n",
      "10\n",
      "2.5\n",
      "1\n",
      "25\n"
     ]
    }
   ],
   "source": [
    "x = 5\n",
    "y = 2\n",
    "\n",
    "result = x + y  # addition\n",
    "print(result)  # 7\n",
    "\n",
    "result = x - y  # subtraction\n",
    "print(result)  # 3\n",
    "\n",
    "result = x * y  # multiplication\n",
    "print(result)  # 10\n",
    "\n",
    "result = x / y  # division\n",
    "print(result)  # 2.5\n",
    "\n",
    "result = x % y  # remainder\n",
    "print(result)  # 1\n",
    "\n",
    "result = x ** y  # exponentiation\n",
    "print(result)  # 25\n"
   ]
  },
  {
   "cell_type": "markdown",
   "id": "67205ffe",
   "metadata": {},
   "source": [
    "Assignment operators such as =, +=, -=, *=, /=, %= and **= are used to assign values to variables. For example, the following code demonstrates the use of assignment operators:\n",
    "\n"
   ]
  },
  {
   "cell_type": "code",
   "execution_count": 2,
   "id": "2eb42522",
   "metadata": {},
   "outputs": [
    {
     "name": "stdout",
     "output_type": "stream",
     "text": [
      "7\n",
      "5\n",
      "10\n",
      "5.0\n",
      "1.0\n",
      "1.0\n"
     ]
    }
   ],
   "source": [
    "x = 5\n",
    "y = 2\n",
    "\n",
    "x += y  # equivalent to x = x + y\n",
    "print(x)  # 7\n",
    "\n",
    "x -= y  # equivalent to x = x - y\n",
    "print(x)  # 5\n",
    "\n",
    "x *= y  # equivalent to x = x * y\n",
    "print(x)  # 10\n",
    "\n",
    "x /= y  # equivalent to x = x / y\n",
    "print(x)  # 5\n",
    "\n",
    "x %= y  # equivalent to x = x % y\n",
    "print(x)  # 1\n",
    "\n",
    "x **= y  # equivalent to x = x ** y\n",
    "print(x)  # 1\n"
   ]
  },
  {
   "cell_type": "markdown",
   "id": "0d59ed99",
   "metadata": {},
   "source": [
    "Comparison operators such as ==, !=, >, <, >=, <= are used to compare the values of two variables. The result of a comparison operator is a Boolean value (True or False). For example, the following code demonstrates the use of comparison operators:\n",
    "\n"
   ]
  },
  {
   "cell_type": "code",
   "execution_count": 3,
   "id": "14151f14",
   "metadata": {},
   "outputs": [
    {
     "name": "stdout",
     "output_type": "stream",
     "text": [
      "False\n",
      "True\n",
      "True\n",
      "False\n",
      "True\n",
      "False\n"
     ]
    }
   ],
   "source": [
    "x = 5\n",
    "y = 2\n",
    "\n",
    "result = x == y  # equal to\n",
    "print(result)  # False\n",
    "\n",
    "result = x != y  # not equal to\n",
    "print(result)  # True\n",
    "\n",
    "result = x > y  # greater than\n",
    "print(result)  # True\n",
    "\n",
    "result = x < y  # less than\n",
    "print(result)  # False\n",
    "\n",
    "result = x >= y  # greater than or equal to\n",
    "print(result)  # True\n",
    "\n",
    "result = x <= y  # less than or equal to\n",
    "print(result)  # False\n"
   ]
  },
  {
   "cell_type": "markdown",
   "id": "6200decc",
   "metadata": {},
   "source": [
    "Logical operators such as and, or, and not are used to perform logical operations on Boolean values. For example, the following code demonstrates the use of logical operators:"
   ]
  },
  {
   "cell_type": "code",
   "execution_count": 4,
   "id": "85db58fa",
   "metadata": {},
   "outputs": [
    {
     "name": "stdout",
     "output_type": "stream",
     "text": [
      "False\n",
      "True\n",
      "False\n"
     ]
    }
   ],
   "source": [
    "x = True\n",
    "y = False\n",
    "\n",
    "result = x and y  # logical and\n",
    "print(result)  # False\n",
    "\n",
    "result = x or y  # logical or\n",
    "print(result)  # True\n",
    "\n",
    "result = not x  # logical not\n",
    "print(result)  # False\n"
   ]
  },
  {
   "cell_type": "markdown",
   "id": "67a4302d",
   "metadata": {},
   "source": [
    "Another type of operator in Python is the membership operator, which is used to check if a value is present in a certain data type, such as a list or a string. The membership operators are in and not in. For example:"
   ]
  },
  {
   "cell_type": "code",
   "execution_count": 5,
   "id": "82e1e36e",
   "metadata": {},
   "outputs": [
    {
     "name": "stdout",
     "output_type": "stream",
     "text": [
      "Apple is in the list\n",
      "Grape is not in the list\n"
     ]
    }
   ],
   "source": [
    "fruits = ['apple', 'banana', 'orange']\n",
    "if 'apple' in fruits:\n",
    "    print(\"Apple is in the list\")\n",
    "else:\n",
    "    print(\"Apple is not in the list\")\n",
    "\n",
    "if 'grape' not in fruits:\n",
    "    print(\"Grape is not in the list\")\n",
    "else:\n",
    "    print(\"Grape is in the list\")\n"
   ]
  },
  {
   "cell_type": "code",
   "execution_count": null,
   "id": "f92018d8",
   "metadata": {},
   "outputs": [],
   "source": []
  }
 ],
 "metadata": {
  "kernelspec": {
   "display_name": "Python 3 (ipykernel)",
   "language": "python",
   "name": "python3"
  },
  "language_info": {
   "codemirror_mode": {
    "name": "ipython",
    "version": 3
   },
   "file_extension": ".py",
   "mimetype": "text/x-python",
   "name": "python",
   "nbconvert_exporter": "python",
   "pygments_lexer": "ipython3",
   "version": "3.9.12"
  }
 },
 "nbformat": 4,
 "nbformat_minor": 5
}
