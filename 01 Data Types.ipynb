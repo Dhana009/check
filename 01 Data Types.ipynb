{
 "cells": [
  {
   "cell_type": "markdown",
   "id": "5c5891a5",
   "metadata": {},
   "source": [
    "## In Python, common data structures include lists, tuples, dictionaries, and sets.\n",
    "\n",
    "### Lists are ordered and mutable, meaning items can be added or removed. They are useful for storing and manipulating large amounts of data.\n",
    "\n",
    "### Tuples are also ordered, but they are immutable, meaning once created, items cannot be added or removed. They are useful for data that should not be changed, such as coordinates in a game.\n",
    "\n",
    "### Dictionaries are unordered collections of key-value pairs. They are useful for quickly looking up values based on a unique key, such as a database record.\n",
    "\n",
    "### Sets are unordered collections of unique items. They are useful for efficiently checking membership or removing duplicates."
   ]
  },
  {
   "cell_type": "markdown",
   "id": "da8b9315",
   "metadata": {},
   "source": [
    "## Lists:\n",
    "\n",
    "append(): adds an element to the end of the list\n",
    "\n",
    "extend(): adds multiple elements to the end of the list\n",
    "\n",
    "insert(): inserts an element at a specified index\n",
    "\n",
    "remove(): removes an element from the list\n",
    "\n",
    "pop(): removes and returns the element at a specified index\n",
    "\n",
    "index(): returns the index of the first occurrence of a specified element\n",
    "\n",
    "count(): returns the number of occurrences of a specified element\n",
    "\n",
    "sort(): sorts the elements of the list in ascending order\n",
    "\n",
    "reverse(): reverses the order of the elements in the list"
   ]
  },
  {
   "cell_type": "code",
   "execution_count": 1,
   "id": "0d287c45",
   "metadata": {},
   "outputs": [
    {
     "name": "stdout",
     "output_type": "stream",
     "text": [
      "[1, 2, 3, 4, 5]\n",
      "[1, 2, 3, 4, 5, 6, 7, 8]\n",
      "[0, 1, 2, 3, 4, 5, 6, 7, 8]\n",
      "[0, 1, 2, 4, 5, 6, 7, 8]\n",
      "5\n",
      "[0, 1, 2, 4, 6, 7, 8]\n",
      "5\n",
      "1\n",
      "[0, 1, 2, 4, 6, 7, 8]\n",
      "[8, 7, 6, 4, 2, 1, 0]\n"
     ]
    }
   ],
   "source": [
    "# Creating a list\n",
    "numbers = [1, 2, 3, 4]\n",
    "\n",
    "# Append 5 to the list\n",
    "numbers.append(5)\n",
    "print(numbers) # [1, 2, 3, 4, 5]\n",
    "\n",
    "# Extend the list with [6, 7, 8]\n",
    "numbers.extend([6, 7, 8])\n",
    "print(numbers) # [1, 2, 3, 4, 5, 6, 7, 8]\n",
    "\n",
    "# Insert 0 at index 0\n",
    "numbers.insert(0, 0)\n",
    "print(numbers) # [0, 1, 2, 3, 4, 5, 6, 7, 8]\n",
    "\n",
    "# Remove the element with value 3\n",
    "numbers.remove(3)\n",
    "print(numbers) # [0, 1, 2, 4, 5, 6, 7, 8]\n",
    "\n",
    "# Pop and return the element at index 4\n",
    "popped_element = numbers.pop(4)\n",
    "print(popped_element) # 5\n",
    "print(numbers) # [0, 1, 2, 4, 6, 7, 8]\n",
    "\n",
    "# Find the index of the first occurrence of 7\n",
    "index = numbers.index(7)\n",
    "print(index) # 5\n",
    "\n",
    "# Count the number of occurrences of 2\n",
    "count = numbers.count(2)\n",
    "print(count) # 1\n",
    "\n",
    "# Sort the list\n",
    "numbers.sort()\n",
    "print(numbers) # [0, 1, 2, 4, 6, 7, 8]\n",
    "\n",
    "# Reverse the list\n",
    "numbers.reverse()\n",
    "print(numbers) # [8, 7, 6, 4, 2, 1, 0]\n"
   ]
  },
  {
   "cell_type": "code",
   "execution_count": 3,
   "id": "273ac19d",
   "metadata": {},
   "outputs": [
    {
     "name": "stdout",
     "output_type": "stream",
     "text": [
      "[9, 233, 6, 5, 4, 3, 3, 3, 2, 2]\n"
     ]
    }
   ],
   "source": [
    "apple = [1,2,3,4,5,5,6]\n",
    "\n",
    "\n",
    "apple.append(3)\n",
    "\n",
    "apple.extend([2,3,9])\n",
    "\n",
    "apple.sort()\n",
    "\n",
    "apple.reverse()\n",
    "\n",
    "apple.pop()\n",
    "\n",
    "apple.count(2)\n",
    "\n",
    "apple.pop(2)\n",
    "\n",
    "apple.insert(1,233)\n",
    "\n",
    "apple.index(5)\n",
    "\n",
    "print(apple)"
   ]
  },
  {
   "cell_type": "markdown",
   "id": "5122aeac",
   "metadata": {},
   "source": [
    "Tuples:\n",
    "\n",
    "index(): returns the index of the first occurrence of a specified element\n",
    "    \n",
    "count(): returns the number of occurrences of a specified element"
   ]
  },
  {
   "cell_type": "code",
   "execution_count": 3,
   "id": "c990ec4a",
   "metadata": {},
   "outputs": [
    {
     "name": "stdout",
     "output_type": "stream",
     "text": [
      "2\n",
      "1\n"
     ]
    }
   ],
   "source": [
    "# Creating a tuple\n",
    "numbers = (1, 2, 3, 4)\n",
    "\n",
    "# Find the index of the first occurrence of 3\n",
    "index = numbers.index(3)\n",
    "print(index) # 2\n",
    "\n",
    "# Count the number of occurrences of 2\n",
    "count = numbers.count(2)\n",
    "print(count) # 1\n"
   ]
  },
  {
   "cell_type": "markdown",
   "id": "e1b5fa3d",
   "metadata": {},
   "source": [
    "Sets:\n",
    "\n",
    "add(): adds an element to the set\n",
    "    \n",
    "update(): adds multiple elements to the set\n",
    "    \n",
    "remove(): removes an element from the set\n",
    "    \n",
    "pop(): removes and returns an arbitrary element from the set\n",
    "    \n",
    "clear(): removes all elements from the set\n",
    "    \n",
    "union(): returns a set containing all elements from the set and all elements from another set\n",
    "    \n",
    "intersection(): returns a set containing only elements that are present in both sets\n",
    "    \n",
    "difference(): returns a set containing elements that are present in the set but not in another set\n",
    "\n",
    "symmetric_difference(): returns a set containing elements that are present in only one of the sets\n",
    "    \n",
    "issubset(): returns True if all elements of the set are present in another set (the set is a subset of another set)\n",
    "    \n",
    "issuperset(): returns True if all elements of another set are present in the set (the set is a superset of another set)"
   ]
  },
  {
   "cell_type": "code",
   "execution_count": 4,
   "id": "8b4c4fa7",
   "metadata": {},
   "outputs": [
    {
     "name": "stdout",
     "output_type": "stream",
     "text": [
      "{1, 2, 3, 4, 5}\n",
      "{1, 2, 3, 4, 5, 6, 7, 8}\n",
      "{1, 2, 4, 5, 6, 7, 8}\n",
      "1\n",
      "{2, 4, 5, 6, 7, 8}\n",
      "set()\n",
      "{1, 2, 3, 4}\n",
      "{2, 3}\n",
      "{1}\n",
      "{1, 4}\n",
      "False\n",
      "False\n"
     ]
    }
   ],
   "source": [
    "# Creating a set\n",
    "numbers = {1, 2, 3, 4}\n",
    "\n",
    "# Add 5 to the set\n",
    "numbers.add(5)\n",
    "print(numbers) # {1, 2, 3, 4, 5}\n",
    "\n",
    "# Update the set with {6, 7, 8}\n",
    "numbers.update({6, 7, 8})\n",
    "print(numbers) # {1, 2, 3, 4, 5, 6, 7, 8}\n",
    "\n",
    "# Remove the element with value 3\n",
    "numbers.remove(3)\n",
    "print(numbers) # {1, 2, 4, 5, 6, 7, 8}\n",
    "\n",
    "# Pop and return an arbitrary element from the set\n",
    "popped_element = numbers.pop()\n",
    "print(popped_element) # 1\n",
    "print(numbers) # {2, 4, 5, 6, 7, 8}\n",
    "\n",
    "# Clear the set\n",
    "numbers.clear()\n",
    "print(numbers) # set()\n",
    "\n",
    "# Create two sets\n",
    "A = {1, 2, 3}\n",
    "B = {2, 3, 4}\n",
    "\n",
    "# Get the union of the sets\n",
    "union = A.union(B)\n",
    "print(union) # {1, 2, 3, 4}\n",
    "\n",
    "# Get the intersection of the sets\n",
    "intersection = A.intersection(B)\n",
    "print(intersection) # {2, 3}\n",
    "\n",
    "# Get the difference of the sets\n",
    "difference = A.difference(B)\n",
    "print(difference) # {1}\n",
    "\n",
    "# Get the symmetric difference of the sets\n",
    "symmetric_difference = A.symmetric_difference(B)\n",
    "print(symmetric_difference) # {1, 4}\n",
    "\n",
    "# Check if A is a subset of B\n",
    "is_subset = A.issubset(B)\n",
    "print(is_subset) # False\n",
    "\n",
    "# Check if A is a superset of B\n",
    "is_superset = A.issuperset(B)\n",
    "print(is_superset) # False\n"
   ]
  },
  {
   "cell_type": "markdown",
   "id": "68075251",
   "metadata": {},
   "source": [
    "Dictionaries:\n",
    "\n",
    "keys(): returns a view object that displays a list of all the keys in the dictionary\n",
    "    \n",
    "values(): returns a view object that displays a list of all the values in the dictionary\n",
    "    \n",
    "items(): returns a view object that displays a list of all the items (keys and values) in the dictionary\n",
    "\n",
    "get(): returns the value of the specified key, or None if the key is not found\n",
    "    \n",
    "pop(): removes and returns the value of the specified key, or a specified default value if the key is not found\n",
    "    \n",
    "popitem(): removes and returns an arbitrary (key, value) item from the dictionary\n",
    "    \n",
    "clear(): removes all items from the dictionary"
   ]
  },
  {
   "cell_type": "code",
   "execution_count": 6,
   "id": "6ef917f6",
   "metadata": {},
   "outputs": [
    {
     "name": "stdout",
     "output_type": "stream",
     "text": [
      "dict_keys(['name', 'age', 'gender'])\n",
      "dict_values(['John', 25, 'male'])\n",
      "dict_items([('name', 'John'), ('age', 25), ('gender', 'male')])\n",
      "John\n",
      "None\n",
      "John\n",
      "{'age': 25, 'gender': 'male'}\n",
      "('gender', 'male')\n",
      "{'age': 25}\n",
      "{}\n"
     ]
    }
   ],
   "source": [
    "# Creating a dictionary\n",
    "person = {'name': 'John', 'age': 25, 'gender': 'male'}\n",
    "\n",
    "# Get the keys of the dictionary\n",
    "keys = person.keys()\n",
    "print(keys) # dict_keys(['name', 'age', 'gender'])\n",
    "\n",
    "# Get the values of the dictionary\n",
    "values = person.values()\n",
    "print(values) # dict_values(['John', 25, 'male'])\n",
    "\n",
    "# Get the items of the dictionary\n",
    "items = person.items()\n",
    "print(items) # dict_items([('name', 'John'), ('age', 25), ('gender', 'male')])\n",
    "\n",
    "# Get the value of the key 'name'\n",
    "name = person.get('name')\n",
    "print(name) # John\n",
    "\n",
    "# Get the value of the key 'address' (which does not exist in the dictionary)\n",
    "address = person.get('address')\n",
    "print(address) # None\n",
    "\n",
    "# Pop and return the value of the key 'name'\n",
    "name = person.pop('name')\n",
    "print(name) # John\n",
    "print(person) # {'age': 25, 'gender': 'male'}\n",
    "\n",
    "# Pop and return an arbitrary item from the dictionary\n",
    "item = person.popitem()\n",
    "print(item) # ('age', 25)\n",
    "print(person) # {'gender': 'male'}\n",
    "\n",
    "# Clear the dictionary\n",
    "person.clear()\n",
    "print(person) # {}\n"
   ]
  },
  {
   "cell_type": "code",
   "execution_count": 7,
   "id": "34e87cd3",
   "metadata": {},
   "outputs": [
    {
     "name": "stdout",
     "output_type": "stream",
     "text": [
      "bread\n",
      "eggs\n"
     ]
    }
   ],
   "source": [
    "#Creating a custom class that represents a shopping list:\n",
    "\n",
    "class ShoppingList:\n",
    "    def __init__(self):\n",
    "        self.items = []\n",
    "\n",
    "    def add_item(self, item):\n",
    "        self.items.append(item)\n",
    "\n",
    "    def remove_item(self, item):\n",
    "        self.items.remove(item)\n",
    "\n",
    "    def display_items(self):\n",
    "        for item in self.items:\n",
    "            print(item)\n",
    "\n",
    "# create an instance of the class\n",
    "shopping_list = ShoppingList()\n",
    "\n",
    "# add items to the list\n",
    "shopping_list.add_item(\"milk\")\n",
    "shopping_list.add_item(\"bread\")\n",
    "shopping_list.add_item(\"eggs\")\n",
    "\n",
    "# remove an item from the list\n",
    "shopping_list.remove_item(\"milk\")\n",
    "\n",
    "# display the items in the list\n",
    "shopping_list.display_items()\n"
   ]
  },
  {
   "cell_type": "code",
   "execution_count": 8,
   "id": "ba6795e6",
   "metadata": {},
   "outputs": [
    {
     "name": "stdout",
     "output_type": "stream",
     "text": [
      "90\n",
      "80\n",
      "85\n",
      "Average grade: 85.0\n"
     ]
    }
   ],
   "source": [
    "#Creating a custom class that represents a student, and using a list to store the student's grades:\n",
    "\n",
    "class Student:\n",
    "    def __init__(self, name):\n",
    "        self.name = name\n",
    "        self.grades = []\n",
    "\n",
    "    def add_grade(self, grade):\n",
    "        self.grades.append(grade)\n",
    "\n",
    "    def display_grades(self):\n",
    "        for grade in self.grades:\n",
    "            print(grade)\n",
    "\n",
    "    def average_grade(self):\n",
    "        total = sum(self.grades)\n",
    "        return total / len(self.grades)\n",
    "\n",
    "# create an instance of the class\n",
    "student = Student(\"John\")\n",
    "\n",
    "# add grades to the student\n",
    "student.add_grade(90)\n",
    "student.add_grade(80)\n",
    "student.add_grade(85)\n",
    "\n",
    "# display the grades\n",
    "student.display_grades()\n",
    "\n",
    "# calculate the average grade\n",
    "average = student.average_grade()\n",
    "print(f\"Average grade: {average}\")\n",
    "\n"
   ]
  },
  {
   "cell_type": "code",
   "execution_count": 12,
   "id": "489b00bf",
   "metadata": {},
   "outputs": [
    {
     "name": "stdout",
     "output_type": "stream",
     "text": [
      "2022-12-25\n",
      "25-12-2022\n"
     ]
    }
   ],
   "source": [
    "'''Another example would be creating a class that represents a date, \n",
    "where the day, month and year are represented as tuple and the class \n",
    "provides methods to get the date in different formats.'''\n",
    "\n",
    "class Date:\n",
    "    def __init__(self, day, month, year):\n",
    "        self.date = (day, month, year)\n",
    "    def get_date_yyyy_mm_dd(self):\n",
    "        return f\"{self.date[2]}-{self.date[1]}-{self.date[0]}\"\n",
    "    def get_date_dd_mm_yyyy(self):\n",
    "        return f\"{self.date[0]}-{self.date[1]}-{self.date[2]}\"\n",
    "\n",
    "d = Date(25,12,2022)\n",
    "print(d.get_date_yyyy_mm_dd()) # 2022-12-25\n",
    "print(d.get_date_dd_mm_yyyy()) # 25-12-2022\n",
    "\n"
   ]
  },
  {
   "cell_type": "code",
   "execution_count": 13,
   "id": "01dbca41",
   "metadata": {},
   "outputs": [
    {
     "name": "stdout",
     "output_type": "stream",
     "text": [
      "Mike\n",
      "John\n",
      "True\n"
     ]
    }
   ],
   "source": [
    "#Creating a custom class that represents a SocialNetwork and using a set to store the users:\n",
    "\n",
    "class SocialNetwork:\n",
    "    def __init__(self):\n",
    "        self.users = set()\n",
    "\n",
    "    def add_user(self, user):\n",
    "        self.users.add(user)\n",
    "\n",
    "    def remove_user(self, user):\n",
    "        self.users.remove(user)\n",
    "\n",
    "    def display_users(self):\n",
    "        for user in self.users:\n",
    "            print(user)\n",
    "\n",
    "    def is_user_exist(self, user):\n",
    "        return user in self.users\n",
    "\n",
    "# create an instance of the class\n",
    "social_network = SocialNetwork()\n",
    "\n",
    "# add users to the network\n",
    "social_network.add_user(\"John\")\n",
    "social_network.add_user(\"Jane\")\n",
    "social_network.add_user(\"Mike\")\n",
    "\n",
    "# remove a user from the network\n",
    "social_network.remove_user(\"Jane\")\n",
    "\n",
    "# display the users\n",
    "social_network.display_users()\n",
    "\n",
    "# check if a user exist in the network\n",
    "exist = social_network.is_user_exist(\"John\")\n",
    "print(exist) # True\n"
   ]
  },
  {
   "cell_type": "code",
   "execution_count": 14,
   "id": "a0737fa5",
   "metadata": {},
   "outputs": [
    {
     "name": "stdout",
     "output_type": "stream",
     "text": [
      "name: iPhone\n",
      "price: 1000\n",
      "quantity: 10\n",
      "name: iPhone\n",
      "price: 1000\n",
      "quantity: 20\n"
     ]
    }
   ],
   "source": [
    "#Creating a custom class that represents a Product and using a dictionary to store the product's properties:\n",
    "\n",
    "class Product:\n",
    "    def __init__(self, name, price, quantity):\n",
    "        self.properties = {\n",
    "            'name': name,\n",
    "            'price': price,\n",
    "            'quantity': quantity\n",
    "        }\n",
    "\n",
    "    def update_property(self, key, value):\n",
    "        self.properties[key] = value\n",
    "\n",
    "    def display_properties(self):\n",
    "        for key, value in self.properties.items():\n",
    "            print(f\"{key}: {value}\")\n",
    "\n",
    "# create an instance of the class\n",
    "product = Product(\"iPhone\", 1000, 10)\n",
    "\n",
    "# display the properties\n",
    "product.display_properties()\n",
    "\n",
    "# update a property\n",
    "product.update_property(\"quantity\", 20)\n",
    "\n",
    "# display the properties\n",
    "product.display_properties()\n"
   ]
  },
  {
   "cell_type": "code",
   "execution_count": null,
   "id": "770ba59f",
   "metadata": {},
   "outputs": [],
   "source": []
  }
 ],
 "metadata": {
  "kernelspec": {
   "display_name": "Python 3 (ipykernel)",
   "language": "python",
   "name": "python3"
  },
  "language_info": {
   "codemirror_mode": {
    "name": "ipython",
    "version": 3
   },
   "file_extension": ".py",
   "mimetype": "text/x-python",
   "name": "python",
   "nbconvert_exporter": "python",
   "pygments_lexer": "ipython3",
   "version": "3.9.12"
  }
 },
 "nbformat": 4,
 "nbformat_minor": 5
}
