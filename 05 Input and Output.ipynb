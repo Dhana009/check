{
 "cells": [
  {
   "cell_type": "markdown",
   "id": "67ff5175",
   "metadata": {},
   "source": [
    "File Input and Output in Python\n",
    "\n",
    "In Python, we can work with files using the built-in open() function. This function allows us to open a file, read its contents, write to it, and close it.\n",
    "\n",
    "Here's an example of reading a text file:"
   ]
  },
  {
   "cell_type": "code",
   "execution_count": null,
   "id": "14bcf692",
   "metadata": {},
   "outputs": [],
   "source": [
    "file = open(\"example.txt\", \"r\")\n",
    "content = file.read()\n",
    "print(content)\n",
    "file.close()"
   ]
  },
  {
   "cell_type": "markdown",
   "id": "7e6a8f03",
   "metadata": {},
   "source": [
    "example of reading a text file:"
   ]
  },
  {
   "cell_type": "code",
   "execution_count": null,
   "id": "21f0ab3f",
   "metadata": {},
   "outputs": [],
   "source": [
    "with open(\"example.txt\", \"r\") as file:\n",
    "    content = file.read()\n",
    "    print(content)"
   ]
  },
  {
   "cell_type": "markdown",
   "id": "84333051",
   "metadata": {},
   "source": [
    "'''\n",
    "'r' (Read Only): This is the default mode in which a file is opened. It opens a file for reading only and the file pointer is placed at the beginning of the file. If the file does not exist, an error is raised.\n",
    "'''"
   ]
  },
  {
   "cell_type": "code",
   "execution_count": null,
   "id": "4073e7c0",
   "metadata": {},
   "outputs": [],
   "source": [
    "\n",
    "with open(\"example.txt\", \"r\") as file:\n",
    "    content = file.read()\n",
    "    print(content)"
   ]
  },
  {
   "cell_type": "markdown",
   "id": "37e89b48",
   "metadata": {},
   "source": [
    "'''\n",
    "'w' (Write Only): This mode opens a file for writing only and overwrites the file if it already exists. If the file does not exist, a new file is created.'''\n"
   ]
  },
  {
   "cell_type": "code",
   "execution_count": null,
   "id": "b16f03dc",
   "metadata": {},
   "outputs": [],
   "source": [
    "\n",
    "with open(\"example.txt\", \"w\") as file:\n",
    "    file.write(\"Hello, World!\")\n"
   ]
  },
  {
   "cell_type": "markdown",
   "id": "2f4fd578",
   "metadata": {},
   "source": [
    "\n",
    "'a' (Append Only): This mode opens a file for writing only and appends the data to the file if it already exists. If the file does not exist, a new file is created.\n"
   ]
  },
  {
   "cell_type": "code",
   "execution_count": null,
   "id": "254d024c",
   "metadata": {},
   "outputs": [],
   "source": [
    "\n",
    "with open(\"example.txt\", \"a\") as file:\n",
    "    file.write(\"\\nThis is a new line.\")\n"
   ]
  },
  {
   "cell_type": "markdown",
   "id": "522718d2",
   "metadata": {},
   "source": [
    "'''\n",
    "'x' (Exclusive creation): This mode opens a file for writing only and creates a new file. If the file already exists, an error is raised.\n",
    "'''"
   ]
  },
  {
   "cell_type": "code",
   "execution_count": null,
   "id": "b44188a7",
   "metadata": {},
   "outputs": [],
   "source": [
    "\n",
    "\n",
    "with open(\"example.txt\", \"x\") as file:\n",
    "    file.write(\"Hello, World!\")\n"
   ]
  },
  {
   "cell_type": "markdown",
   "id": "6d31e463",
   "metadata": {},
   "source": [
    "'''\n",
    "'b' (Binary mode): This mode is used to open a file in binary mode. This mode can be used in combination with any of the above modes.\n",
    "'''"
   ]
  },
  {
   "cell_type": "code",
   "execution_count": null,
   "id": "5022ba9b",
   "metadata": {},
   "outputs": [],
   "source": [
    "\n",
    "\n",
    "with open(\"example.bin\", \"wb\") as file:\n",
    "    file.write(b\"This is a binary file.\")\n"
   ]
  },
  {
   "cell_type": "markdown",
   "id": "57041c4c",
   "metadata": {},
   "source": [
    "'''\n",
    "'t' (Text mode): This mode is used to open a file in text mode. This mode can be used in combination with any of the above modes.\n",
    "'''"
   ]
  },
  {
   "cell_type": "code",
   "execution_count": null,
   "id": "b0ef37ce",
   "metadata": {},
   "outputs": [],
   "source": [
    "with open(\"example.txt\", \"rt\") as file:\n",
    "    content = file.read()\n",
    "    print(content)\n"
   ]
  },
  {
   "cell_type": "code",
   "execution_count": 3,
   "id": "416363b6",
   "metadata": {},
   "outputs": [],
   "source": [
    "#different ways to write files in python"
   ]
  },
  {
   "cell_type": "markdown",
   "id": "2a32f7c6",
   "metadata": {},
   "source": [
    "'''\n",
    "Using the open function with the 'w' mode: \n",
    "This method opens a file for writing and overwrites the \n",
    "file if it already exists.\n",
    "'''"
   ]
  },
  {
   "cell_type": "code",
   "execution_count": 13,
   "id": "9137d6e7",
   "metadata": {},
   "outputs": [],
   "source": [
    "\n",
    "with open(\"example.txt\", \"w\") as file:\n",
    "    file.write(\"Hello, World!\")"
   ]
  },
  {
   "cell_type": "markdown",
   "id": "fe81d808",
   "metadata": {},
   "source": [
    "'''\n",
    "Using the open function with the 'a' mode: This method opens a file for\n",
    "writing and appends the data to the file if it already exists.'''"
   ]
  },
  {
   "cell_type": "code",
   "execution_count": 12,
   "id": "198fbb91",
   "metadata": {},
   "outputs": [],
   "source": [
    "\n",
    "\n",
    "with open(\"example.txt\", \"a\") as file:\n",
    "    file.write(\"\\nThis is a new line.\")\n",
    "\n"
   ]
  },
  {
   "cell_type": "markdown",
   "id": "71df64a2",
   "metadata": {},
   "source": [
    "'''\n",
    "Using the write method of a file object: This method writes \n",
    "data to a file without the need to explicitly open the file.\n",
    "'''"
   ]
  },
  {
   "cell_type": "code",
   "execution_count": 11,
   "id": "897f605c",
   "metadata": {},
   "outputs": [],
   "source": [
    "\n",
    "\n",
    "file = open(\"example.txt\", \"w\")\n",
    "file.write(\"Hello, World!\")\n",
    "file.close()\n"
   ]
  },
  {
   "cell_type": "markdown",
   "id": "c9da769a",
   "metadata": {},
   "source": [
    "'''\n",
    "Using the writelines method of a file object:\n",
    "This method writes multiple lines of data to a file at once.\n",
    "'''"
   ]
  },
  {
   "cell_type": "code",
   "execution_count": 10,
   "id": "ddfc52b6",
   "metadata": {},
   "outputs": [],
   "source": [
    "\n",
    "file = open(\"example.txt\", \"w\")\n",
    "lines = [\"line 1\", \"line 2\", \"line 3\"]\n",
    "file.writelines(lines)\n",
    "file.close()\n",
    "\n"
   ]
  },
  {
   "cell_type": "markdown",
   "id": "5d5b8db4",
   "metadata": {},
   "source": [
    "'''Using the dump function of the json module: \n",
    "This method writes a Python object to a JSON file.\n",
    "'''"
   ]
  },
  {
   "cell_type": "code",
   "execution_count": 9,
   "id": "ae885666",
   "metadata": {},
   "outputs": [],
   "source": [
    "\n",
    "import json\n",
    "data = {\"name\": \"John\", \"age\": 25}\n",
    "with open(\"example.json\", \"w\") as file:\n",
    "    json.dump(data, file)"
   ]
  },
  {
   "cell_type": "markdown",
   "id": "853b7c8d",
   "metadata": {},
   "source": [
    "'''Using the dump function of the pickle module: \n",
    "This method writes a Python object to a binary file.\n",
    "'''"
   ]
  },
  {
   "cell_type": "code",
   "execution_count": 8,
   "id": "7425a9d6",
   "metadata": {},
   "outputs": [],
   "source": [
    "\n",
    "import pickle\n",
    "data = [\"hello\", \"world\"]\n",
    "with open(\"example.bin\", \"wb\") as file:\n",
    "    pickle.dump(data, file)\n"
   ]
  },
  {
   "cell_type": "markdown",
   "id": "aeb9e198",
   "metadata": {},
   "source": [
    "'''Using the save method of the csv module: This method writes a list of lists to a CSV file.\n",
    "Copy code'''\n"
   ]
  },
  {
   "cell_type": "code",
   "execution_count": 17,
   "id": "2d076033",
   "metadata": {},
   "outputs": [],
   "source": [
    "\n",
    "import csv\n",
    "data = [['Name', 'Age'], ['John', '25'], ['Emily', '22']]\n",
    "with open(\"example.csv\", \"w\", newline=\"\") as file:\n",
    "    csv_writer = csv.writer(file)\n",
    "    csv_writer.writerows(data)\n"
   ]
  },
  {
   "cell_type": "markdown",
   "id": "dcf51fa6",
   "metadata": {},
   "source": [
    "'''Using the save method of the pandas module: This method writes a DataFrame to a CSV, Excel or other supported file formats.\n",
    "Copy code'''"
   ]
  },
  {
   "cell_type": "code",
   "execution_count": 6,
   "id": "60a6041b",
   "metadata": {},
   "outputs": [],
   "source": [
    "\n",
    "import pandas as pd\n",
    "df = pd.DataFrame({\"Name\":[\"John\", \"Emily\", \"Sam\"], \"Age\":[25, 22, 30]})\n",
    "df.to_csv(\"example.csv\", index=False)\n"
   ]
  },
  {
   "cell_type": "markdown",
   "id": "6315accd",
   "metadata": {},
   "source": [
    "'''Using the save method of the matplotlib module: This method writes a plot or figure to a file.\n",
    "Copy code'''"
   ]
  },
  {
   "cell_type": "code",
   "execution_count": 5,
   "id": "dce8af76",
   "metadata": {},
   "outputs": [
    {
     "data": {
      "image/png": "[encoded data removed]",
      "text/plain": [
       "<Figure size 432x288 with 1 Axes>"
      ]
     },
     "metadata": {
      "needs_background": "light"
     },
     "output_type": "display_data"
    }
   ],
   "source": [
    "\n",
    "import matplotlib.pyplot as plt\n",
    "plt.plot([1, 2, 3, 4])\n",
    "plt.savefig(\"example.png\")\n"
   ]
  },
  {
   "cell_type": "markdown",
   "id": "dd31ad04",
   "metadata": {},
   "source": [
    "'''Using the save method of the PIL module: This method writes an image to a file.\n",
    "Copy code'''"
   ]
  },
  {
   "cell_type": "code",
   "execution_count": 4,
   "id": "0a27e0d6",
   "metadata": {},
   "outputs": [],
   "source": [
    "\n",
    "from PIL import Image\n",
    "img = Image.new(\"RGB\", (256, 256), \"white\")\n",
    "img.save(\"example.jpg\")"
   ]
  },
  {
   "cell_type": "markdown",
   "id": "f04dc85c",
   "metadata": {},
   "source": [
    "'''\n",
    "file.read(): This method reads the entire content of a file as a string.\n",
    "\n",
    "'''"
   ]
  },
  {
   "cell_type": "code",
   "execution_count": null,
   "id": "673f3396",
   "metadata": {},
   "outputs": [],
   "source": [
    "\n",
    "with open(\"example.txt\", \"r\") as file:\n",
    "    content = file.read()\n",
    "    print(content)\n"
   ]
  },
  {
   "cell_type": "markdown",
   "id": "be82264a",
   "metadata": {},
   "source": [
    "'''file.readline(): This method reads a single line of a file as a string.\n",
    "Copy code'''"
   ]
  },
  {
   "cell_type": "code",
   "execution_count": null,
   "id": "b156989a",
   "metadata": {},
   "outputs": [],
   "source": [
    "\n",
    "with open(\"example.txt\", \"r\") as file:\n",
    "    line = file.readline()\n",
    "    print(line)"
   ]
  },
  {
   "cell_type": "markdown",
   "id": "f62db5a1",
   "metadata": {},
   "source": [
    "'''file.readlines(): This method reads all lines of a file as a list of strings.\n",
    "Copy code'''"
   ]
  },
  {
   "cell_type": "code",
   "execution_count": null,
   "id": "c6d5ef9b",
   "metadata": {},
   "outputs": [],
   "source": [
    "\n",
    "with open(\"example.txt\", \"r\") as file:\n",
    "    lines = file.readlines()\n",
    "    print(lines)"
   ]
  },
  {
   "cell_type": "markdown",
   "id": "197d9127",
   "metadata": {},
   "source": [
    "'''\n",
    "file.write(string): This method writes a string to a file.\n",
    "Copy code'''"
   ]
  },
  {
   "cell_type": "code",
   "execution_count": null,
   "id": "ac1a567b",
   "metadata": {},
   "outputs": [],
   "source": [
    "\n",
    "with open(\"example.txt\", \"w\") as file:\n",
    "    file.write(\"Hello, World!\")"
   ]
  },
  {
   "cell_type": "markdown",
   "id": "f7537291",
   "metadata": {},
   "source": [
    "'''\n",
    "file.writelines(list): This method writes a list of strings to a file.\n",
    "Copy code\n"
   ]
  },
  {
   "cell_type": "code",
   "execution_count": null,
   "id": "35a8e468",
   "metadata": {},
   "outputs": [],
   "source": [
    "\n",
    "\n",
    "with open(\"example.txt\", \"w\") as file:\n",
    "    lines = [\"line 1\", \"line 2\", \"line 3\"]\n",
    "    file.writelines(lines)"
   ]
  },
  {
   "cell_type": "code",
   "execution_count": null,
   "id": "0515a90a",
   "metadata": {},
   "outputs": [],
   "source": [
    "with open(\"example.txt\", \"r\") as file:\n",
    "    print(file.read(5))\n",
    "    file.seek(0)\n",
    "    print(file.read(5))\n"
   ]
  },
  {
   "cell_type": "markdown",
   "id": "e0221c77",
   "metadata": {},
   "source": [
    "'''\n",
    "file.tell(): This method returns the current position of the file pointer as an integer.\n",
    "'''"
   ]
  },
  {
   "cell_type": "code",
   "execution_count": null,
   "id": "34aa49f3",
   "metadata": {},
   "outputs": [],
   "source": [
    "\n",
    "with open(\"example.txt\", \"r\") as file:\n",
    "    file.read(5)\n",
    "    print(file.tell())\n"
   ]
  },
  {
   "cell_type": "markdown",
   "id": "aa9b9185",
   "metadata": {},
   "source": [
    "'''\n",
    "file.close(): This method closes a file and releases any system resources associated with it. It is a good practice to close a file after you are done working with it.\n"
   ]
  },
  {
   "cell_type": "code",
   "execution_count": null,
   "id": "e26888d9",
   "metadata": {},
   "outputs": [],
   "source": [
    "\n",
    "file = open(\"example.txt\", \"r\")\n",
    "content = file.read()\n",
    "file.close()\n"
   ]
  },
  {
   "cell_type": "markdown",
   "id": "782de8bc",
   "metadata": {},
   "source": [
    "'''\n",
    "file.flush(): This method writes any buffered data to the underlying file. This method is mainly used when we are working with a file in write mode and want to make sure that the data is written to the file before closing it.\n",
    "'''"
   ]
  },
  {
   "cell_type": "code",
   "execution_count": null,
   "id": "df16fb2f",
   "metadata": {},
   "outputs": [],
   "source": [
    "\n",
    "file = open(\"example.txt\", \"w\")\n",
    "file.write(\"Hello, World!\")\n",
    "file.flush()\n"
   ]
  },
  {
   "cell_type": "code",
   "execution_count": null,
   "id": "d7580d59",
   "metadata": {},
   "outputs": [],
   "source": []
  },
  {
   "cell_type": "code",
   "execution_count": null,
   "id": "f78c2569",
   "metadata": {},
   "outputs": [],
   "source": []
  }
 ],
 "metadata": {
  "kernelspec": {
   "display_name": "Python 3 (ipykernel)",
   "language": "python",
   "name": "python3"
  },
  "language_info": {
   "codemirror_mode": {
    "name": "ipython",
    "version": 3
   },
   "file_extension": ".py",
   "mimetype": "text/x-python",
   "name": "python",
   "nbconvert_exporter": "python",
   "pygments_lexer": "ipython3",
   "version": "3.9.12"
  }
 },
 "nbformat": 4,
 "nbformat_minor": 5
}
