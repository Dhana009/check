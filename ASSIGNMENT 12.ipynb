{
 "cells": [
  {
   "cell_type": "markdown",
   "id": "6b5ef966",
   "metadata": {},
   "source": [
    "Create a database called temp_db. Open a cursor to this newly created database."
   ]
  },
  {
   "cell_type": "code",
   "execution_count": 1,
   "id": "04f2f00f",
   "metadata": {},
   "outputs": [],
   "source": [
    "import sqlite3\n",
    "\n",
    "# Connect to the database or create it if it doesn't exist\n",
    "conn = sqlite3.connect(\"temp_db.db\")\n",
    "cursor = conn.cursor()"
   ]
  },
  {
   "cell_type": "markdown",
   "id": "0965fc50",
   "metadata": {},
   "source": [
    "In the database temp_db created in Q.No.1, create a table called emp with the attributes empno, ename, salary and deptno\\\n",
    " "
   ]
  },
  {
   "cell_type": "code",
   "execution_count": 2,
   "id": "f308c059",
   "metadata": {},
   "outputs": [],
   "source": [
    "# Create the emp table\n",
    "cursor.execute(\"\"\"CREATE TABLE IF NOT EXISTS emp (\n",
    "                empno INTEGER PRIMARY KEY,\n",
    "                ename TEXT,\n",
    "                salary REAL,\n",
    "                deptno INTEGER\n",
    "                )\"\"\")\n",
    "conn.commit()"
   ]
  },
  {
   "cell_type": "markdown",
   "id": "f3230237",
   "metadata": {},
   "source": [
    "In the emp table created in Q.No. 2, insert any five records.\n",
    " "
   ]
  },
  {
   "cell_type": "code",
   "execution_count": null,
   "id": "fe7843f5",
   "metadata": {},
   "outputs": [],
   "source": [
    "# Insert five records into the emp table\n",
    "cursor.execute(\"INSERT INTO emp VALUES (1, 'John Doe', 22000, 10)\")\n",
    "cursor.execute(\"INSERT INTO emp VALUES (2, 'Jane Doe', 24000, 20)\")\n",
    "cursor.execute(\"INSERT INTO emp VALUES (3, 'Jim Smith', 21000, 10)\")\n",
    "cursor.execute(\"INSERT INTO emp VALUES (4, 'Michael Johnson', 26000, 30)\")\n",
    "cursor.execute(\"INSERT INTO emp VALUES (5, 'Emily Davis', 25000, 20)\")\n",
    "conn.commit()"
   ]
  },
  {
   "cell_type": "markdown",
   "id": "b163c924",
   "metadata": {},
   "source": [
    "From the emp table, display all the records."
   ]
  },
  {
   "cell_type": "code",
   "execution_count": 3,
   "id": "acf5e3dd",
   "metadata": {},
   "outputs": [
    {
     "name": "stdout",
     "output_type": "stream",
     "text": [
      "All Records:\n",
      "(1, 'John Doe', 22000.0, 10)\n",
      "(2, 'Jane Doe', 24000.0, 20)\n",
      "(3, 'Jim Smith', 21000.0, 10)\n",
      "(5, 'Emily Davis', 25000.0, 20)\n"
     ]
    }
   ],
   "source": [
    "# Display all records in the emp table\n",
    "cursor.execute(\"SELECT * FROM emp\")\n",
    "print(\"All Records:\")\n",
    "for row in cursor.fetchall():\n",
    "    print(row)"
   ]
  },
  {
   "cell_type": "markdown",
   "id": "77d4c148",
   "metadata": {},
   "source": [
    "From the emp table, display the records of only those employees whose salary is greater than 15000 and who belong to deptno 10"
   ]
  },
  {
   "cell_type": "code",
   "execution_count": 4,
   "id": "7760d50e",
   "metadata": {},
   "outputs": [
    {
     "name": "stdout",
     "output_type": "stream",
     "text": [
      "\n",
      "Employees with salary > 15000 and belonging to deptno 10:\n",
      "(1, 'John Doe', 22000.0, 10)\n",
      "(3, 'Jim Smith', 21000.0, 10)\n"
     ]
    }
   ],
   "source": [
    "# Display records of employees with salary > 15000 and belonging to deptno 10\n",
    "cursor.execute(\"SELECT * FROM emp WHERE salary > 15000 AND deptno = 10\")\n",
    "print(\"\\nEmployees with salary > 15000 and belonging to deptno 10:\")\n",
    "for row in cursor.fetchall():\n",
    "    print(row)"
   ]
  },
  {
   "cell_type": "markdown",
   "id": "1b44804f",
   "metadata": {},
   "source": [
    "From the emp table, display the records of only those employees whose salary lies between 20000 and 25000 and who do not belong to the deptno 10"
   ]
  },
  {
   "cell_type": "code",
   "execution_count": 5,
   "id": "e71f0098",
   "metadata": {},
   "outputs": [
    {
     "name": "stdout",
     "output_type": "stream",
     "text": [
      "\n",
      "Employees with salary between 20000 and 25000 and not belonging to deptno 10:\n",
      "(2, 'Jane Doe', 24000.0, 20)\n",
      "(5, 'Emily Davis', 25000.0, 20)\n"
     ]
    }
   ],
   "source": [
    "# Display records of employees with salary between 20000 and 25000 and not belonging to deptno 10\n",
    "cursor.execute(\"SELECT * FROM emp WHERE salary BETWEEN 20000 AND 25000 AND deptno != 10\")\n",
    "print(\"\\nEmployees with salary between 20000 and 25000 and not belonging to deptno 10:\")\n",
    "for row in cursor.fetchall():\n",
    "    print(row)"
   ]
  },
  {
   "cell_type": "markdown",
   "id": "4ca798f2",
   "metadata": {},
   "source": [
    "From the emp table, display the records of only those employees whose name begins with M."
   ]
  },
  {
   "cell_type": "code",
   "execution_count": 6,
   "id": "f907cbe0",
   "metadata": {},
   "outputs": [
    {
     "name": "stdout",
     "output_type": "stream",
     "text": [
      "\n",
      "Employees whose name begins with 'M':\n"
     ]
    }
   ],
   "source": [
    "# Display records of employees whose name begins with 'M'\n",
    "cursor.execute(\"SELECT * FROM emp WHERE ename LIKE 'M%'\")\n",
    "print(\"\\nEmployees whose name begins with 'M':\")\n",
    "for row in cursor.fetchall():\n",
    "    print(row)"
   ]
  },
  {
   "cell_type": "markdown",
   "id": "76974ff4",
   "metadata": {},
   "source": [
    "In the emp table, delete the records of those employees who belong to deptno 30"
   ]
  },
  {
   "cell_type": "code",
   "execution_count": 7,
   "id": "1202e664",
   "metadata": {},
   "outputs": [],
   "source": [
    "# Delete records of employees belonging to deptno 30\n",
    "cursor.execute(\"DELETE FROM emp WHERE deptno = 30\")\n",
    "conn.commit()"
   ]
  },
  {
   "cell_type": "markdown",
   "id": "73b6eb45",
   "metadata": {},
   "source": [
    "In the emp table, update the salary of an employee by 10 % by accepting the empno from the user."
   ]
  },
  {
   "cell_type": "code",
   "execution_count": 10,
   "id": "29e2e935",
   "metadata": {},
   "outputs": [
    {
     "name": "stdout",
     "output_type": "stream",
     "text": [
      "Enter empno of the employee: 3\n"
     ]
    }
   ],
   "source": [
    "# Update salary of an employee by 10%\n",
    "empno = int(input(\"Enter empno of the employee: \"))\n",
    "cursor.execute(\"UPDATE emp SET salary = salary * 1.1 WHERE empno = ?\", (empno,))\n",
    "conn.commit()"
   ]
  },
  {
   "cell_type": "markdown",
   "id": "843839b7",
   "metadata": {},
   "source": [
    "Delete the emp table."
   ]
  },
  {
   "cell_type": "code",
   "execution_count": 11,
   "id": "427b6d79",
   "metadata": {},
   "outputs": [],
   "source": [
    "# Delete the emp table\n",
    "cursor.execute(\"DROP TABLE emp\")\n",
    "conn.commit()\n",
    "\n",
    "# Close the connection to the database\n",
    "conn.close()"
   ]
  },
  {
   "cell_type": "code",
   "execution_count": null,
   "id": "8a102ae9",
   "metadata": {},
   "outputs": [],
   "source": []
  },
  {
   "cell_type": "code",
   "execution_count": null,
   "id": "f452e1bb",
   "metadata": {},
   "outputs": [],
   "source": []
  },
  {
   "cell_type": "code",
   "execution_count": null,
   "id": "3dd58706",
   "metadata": {},
   "outputs": [],
   "source": []
  }
 ],
 "metadata": {
  "kernelspec": {
   "display_name": "Python 3 (ipykernel)",
   "language": "python",
   "name": "python3"
  },
  "language_info": {
   "codemirror_mode": {
    "name": "ipython",
    "version": 3
   },
   "file_extension": ".py",
   "mimetype": "text/x-python",
   "name": "python",
   "nbconvert_exporter": "python",
   "pygments_lexer": "ipython3",
   "version": "3.9.12"
  }
 },
 "nbformat": 4,
 "nbformat_minor": 5
}
