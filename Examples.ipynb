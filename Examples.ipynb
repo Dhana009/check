{
 "cells": [
  {
   "cell_type": "markdown",
   "id": "86a8ab12",
   "metadata": {},
   "source": [
    "Here is an example of a more complex program that calculates the factorial of a given number using a recursive approach and also checks if the input is a positive integer:"
   ]
  },
  {
   "cell_type": "code",
   "execution_count": 1,
   "id": "ef0caff8",
   "metadata": {},
   "outputs": [
    {
     "name": "stdout",
     "output_type": "stream",
     "text": [
      "Enter a number: 2\n",
      "The factorial of 2 is 2\n"
     ]
    }
   ],
   "source": [
    "def factorial(n):\n",
    "    if not isinstance(n, int) or n < 0:\n",
    "        raise ValueError(\"Input must be a positive integer\")\n",
    "    if n == 0 or n == 1:\n",
    "        return 1\n",
    "    else:\n",
    "        return n * factorial(n-1)\n",
    "\n",
    "n = int(input(\"Enter a number: \"))\n",
    "result = factorial(n)\n",
    "print(\"The factorial of\", n, \"is\", result)\n"
   ]
  },
  {
   "cell_type": "code",
   "execution_count": null,
   "id": "bd7d5a84",
   "metadata": {},
   "outputs": [],
   "source": [
    "def factorial(n):\n",
    "    result = 1\n",
    "    for i in range(1, n+1):\n",
    "        result *= i\n",
    "    return result\n",
    "\n",
    "def factorial(n):\n",
    "    if n == 0:\n",
    "        return 1\n",
    "    else:\n",
    "        return n * factorial(n-1)\n",
    "\n",
    "def factorial(n):\n",
    "    result = 1\n",
    "    i = 1\n",
    "    while i <= n:\n",
    "        result *= i\n",
    "        i += 1\n",
    "    return result\n",
    "\n",
    "import math\n",
    "def factorial(n):\n",
    "    return math.factorial(n)\n",
    "\n"
   ]
  },
  {
   "cell_type": "markdown",
   "id": "4a7a510f",
   "metadata": {},
   "source": [
    "Write a Python program in different formats to generate the Fibonacci sequence up to a given number of terms."
   ]
  },
  {
   "cell_type": "markdown",
   "id": "76ae04b4",
   "metadata": {},
   "source": [
    "Sure, here are three different ways to write a Python program to generate the Fibonacci sequence up to a given number of terms:\n",
    "\n",
    "Method 1: Using a for loop"
   ]
  },
  {
   "cell_type": "code",
   "execution_count": 4,
   "id": "add10468",
   "metadata": {},
   "outputs": [
    {
     "name": "stdout",
     "output_type": "stream",
     "text": [
      "[0, 1, 1, 2, 3, 5, 8, 13, 21, 34]\n"
     ]
    }
   ],
   "source": [
    "def fibonacci(n):\n",
    "    if n <= 0:\n",
    "        print(\"Please enter a positive integer\")\n",
    "    elif n == 1:\n",
    "        return [0]\n",
    "    elif n == 2:\n",
    "        return [0, 1]\n",
    "    else:\n",
    "        fib_list = [0, 1]\n",
    "        for i in range(2,n):\n",
    "            fib_list.append(fib_list[i-1]+fib_list[i-2])\n",
    "        return fib_list\n",
    "\n",
    "print(fibonacci(10))\n"
   ]
  },
  {
   "cell_type": "markdown",
   "id": "2dfd0c64",
   "metadata": {},
   "source": [
    "Method 2: Using recursion"
   ]
  },
  {
   "cell_type": "code",
   "execution_count": 5,
   "id": "90de8a28",
   "metadata": {},
   "outputs": [
    {
     "name": "stdout",
     "output_type": "stream",
     "text": [
      "[0, 1, 1, 2, 3, 5, 8, 13, 21, 34]\n"
     ]
    }
   ],
   "source": [
    "def fibonacci(n):\n",
    "    if n <= 0:\n",
    "        return []\n",
    "    elif n == 1:\n",
    "        return [0]\n",
    "    elif n == 2:\n",
    "        return [0, 1]\n",
    "    else:\n",
    "        fib_list = fibonacci(n-1)\n",
    "        fib_list.append(fib_list[-1] + fib_list[-2])\n",
    "        return fib_list\n",
    "\n",
    "print(fibonacci(10))\n"
   ]
  },
  {
   "cell_type": "markdown",
   "id": "4aa59040",
   "metadata": {},
   "source": [
    "Method 3: Generating Fibonacci sequence using a while loop:"
   ]
  },
  {
   "cell_type": "code",
   "execution_count": 7,
   "id": "db546e6a",
   "metadata": {},
   "outputs": [
    {
     "name": "stdout",
     "output_type": "stream",
     "text": [
      "[0, 1, 1, 2, 3, 5, 8, 13, 21, 34]\n"
     ]
    }
   ],
   "source": [
    "def fibonacci_while(n):\n",
    "    a, b = 0, 1\n",
    "    result = []\n",
    "    while n > 0:\n",
    "        result.append(a)\n",
    "        a, b = b, a + b\n",
    "        n -= 1\n",
    "    return result\n",
    "\n",
    "print(fibonacci_while(10))\n"
   ]
  },
  {
   "cell_type": "markdown",
   "id": "da220068",
   "metadata": {},
   "source": [
    "Generating Fibonacci sequence using a generator function:"
   ]
  },
  {
   "cell_type": "code",
   "execution_count": 8,
   "id": "becb72c2",
   "metadata": {},
   "outputs": [
    {
     "name": "stdout",
     "output_type": "stream",
     "text": [
      "[0, 1, 1, 2, 3, 5, 8, 13, 21, 34]\n"
     ]
    }
   ],
   "source": [
    "def fibonacci_generator(n):\n",
    "    a, b = 0, 1\n",
    "    for _ in range(n):\n",
    "        yield a\n",
    "        a, b = b, a + b\n",
    "\n",
    "print(list(fibonacci_generator(10)))\n"
   ]
  },
  {
   "cell_type": "raw",
   "id": "12173e86",
   "metadata": {},
   "source": [
    "Write a Python function to calculate the factorial of a given number.\n",
    "Write a Python program to generate the Fibonacci sequence up to a given number of terms.\n",
    "Write a Python function to check if a given number is a palindrome.\n",
    "Write a Python function to calculate the greatest common divisor (GCD) of two numbers.\n",
    "Write a Python program to generate the first n terms of the Pythagorean triple.\n",
    "Write a Python function to calculate the power of a number using recursion.\n",
    "Write a Python program to generate the first n terms of the prime numbers.\n",
    "Write a Python function to check if a given number is a prime number.\n",
    "Write a Python program to implement the Euclidean algorithm for finding the greatest common divisor (GCD) of two numbers.\n",
    "Write a Python function to calculate the factorial of a given number using recursion.\n",
    "Write a Python program to find the roots of a quadratic equation using the quadratic formula.\n",
    "Write a Python function to calculate the sum of the series: 1 + 1/2 + 1/3 + ... + 1/n\n",
    "Write a Python program to find the value of sin(x) and cos(x) using the Taylor series expansion.\n",
    "Write a Python function to calculate the value of e^x using the Taylor series expansion.\n",
    "Write a Python program to find the area of a circle using the radius.\n",
    "Write a Python function to calculate the volume of a sphere using the radius.\n",
    "Write a Python program to find the surface area of a cylinder using the radius and height.\n",
    "Write a Python function to calculate the volume of a cone using the radius and height.\n",
    "Write a Python program to find the perimeter and area of a rectangle using the length and width.\n",
    "Write a Python function to calculate the hypotenuse of a right-angled triangle using the Pythagorean theorem.\n",
    "Write a Python program to find the perimeter and area of an equilateral triangle using the side length.\n",
    "Write a Python function to calculate the volume of a rectangular prism using the length, width, and height.\n",
    "Write a Python program to find the area of a regular polygon using the number of sides and side length.\n",
    "Write a Python function to calculate the volume of a regular tetrahedron using the edge length.\n",
    "Write a Python program to find the slope of a line given two points.\n",
    "Write a Python function to calculate the distance between two points in 2-D space using the Pythagorean theorem.\n",
    "Write a Python program to find the equation of a line given the slope and y-intercept.\n",
    "Write a Python function to calculate the determinant of a 2x2 matrix.\n",
    "Write a Python program to find the inverse of a 2x2 matrix.\n",
    "Write a Python function to calculate the area of a triangle using Heron's formula given the lengths of the three sides."
   ]
  },
  {
   "cell_type": "raw",
   "id": "f98228d1",
   "metadata": {},
   "source": [
    "Write a Python function to calculate the nth term of the geometric series using recursion.\n",
    "Write a Python program to find the sum of the first n terms of an arithmetic series using the formula.\n",
    "Write a Python function to calculate the binomial coefficient (n choose k) using recursion.\n",
    "Write a Python program to find the sum of the series 1 + 1/2^2 + 1/3^2 + ... + 1/n^2\n",
    "Write a Python function to check if a given number is a perfect square or not.\n",
    "Write a Python program to find the sum of the first n odd numbers using a for loop.\n",
    "Write a Python function to calculate the sum of the first n even numbers using recursion.\n",
    "Write a Python program to find the sum of the squares of the first n natural numbers using a while loop.\n",
    "Write a Python function to check if a given number is a triangular number or not.\n",
    "Write a Python program to find the sum of the series 1/1! + 1/2! + 1/3! + ... + 1/n!\n",
    "Write a Python function to calculate the nth term of the Fibonacci sequence using recursion and memoization.\n",
    "Write a Python program to find the sum of the series 1 + 1/1! + 1/2! + 1/3! + ... + 1/n!\n",
    "Write a Python function to calculate the median of a given list of numbers.\n",
    "Write a Python program to find the mode of a given list of numbers using a dictionary."
   ]
  },
  {
   "cell_type": "raw",
   "id": "bf3012c0",
   "metadata": {},
   "source": [
    "Write a Python program to find the range of a given list of numbers.\n",
    "Write a Python function to calculate the standard deviation of a given list of numbers.\n",
    "Write a Python program to find the variance of a given list of numbers.\n",
    "Write a Python function to check if a given matrix is a identity matrix or not.\n",
    "Write a Python program to find the transpose of a given matrix.\n",
    "Write a Python function to calculate the determinant of a 3x3 matrix.\n",
    "Write a Python program to find the inverse of a 3x3 matrix using the adjoint method.\n",
    "Write a Python function to check if a given matrix is a symmetric matrix or not.\n",
    "Write a Python program to find the eigenvalues and eigenvectors of a given matrix.\n",
    "Write a Python function to calculate the dot product of two given vectors.\n",
    "Write a Python program to find the angle between two given vectors using the dot product formula.\n",
    "Write a Python function to check if a given set of linear equations has a unique solution or not.\n",
    "Write a Python program to find the solution of a system of linear equations using the Gaussian elimination method.\n",
    "Write a Python function to check if a given function is a one-to-one function or not.\n",
    "Write a Python program to find the inverse of a one-to-one function using the inverse function theorem."
   ]
  },
  {
   "cell_type": "code",
   "execution_count": null,
   "id": "48cb4c53",
   "metadata": {},
   "outputs": [],
   "source": []
  }
 ],
 "metadata": {
  "kernelspec": {
   "display_name": "Python 3 (ipykernel)",
   "language": "python",
   "name": "python3"
  },
  "language_info": {
   "codemirror_mode": {
    "name": "ipython",
    "version": 3
   },
   "file_extension": ".py",
   "mimetype": "text/x-python",
   "name": "python",
   "nbconvert_exporter": "python",
   "pygments_lexer": "ipython3",
   "version": "3.9.12"
  }
 },
 "nbformat": 4,
 "nbformat_minor": 5
}
