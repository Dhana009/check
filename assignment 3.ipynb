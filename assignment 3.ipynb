{
 "cells": [
  {
   "cell_type": "raw",
   "id": "109aa47a",
   "metadata": {},
   "source": [
    "Question\n",
    "\n",
    "1. Write a program to accept an integer n greater than 10. Then print all the odd numbers from 1 to n.\n",
    "\n",
    "2. Write a program to accept an integer n greater than 10. Then print all the prime numbers from 1 to n.\n",
    "\n",
    "3. In this exercise you will create a program that computes the average of a collection of values entered by the user. The user will enter 0 as a sentinel value to indicate that no further values will be provided. Your program should display an appropriate error message if the first value entered by the user is 0.\n",
    "\n",
    "4. Write a program that takes a number as input and prints its multiplication table.\n",
    "\n",
    "5. Write a program that displays a temperature conversion table for degrees Celsius and degrees Fahrenheit. The table should include rows for all temperatures between 0 and 100 degrees Celsius that are multiples of 10 degrees Celsius. Include appropriate headings on your columns.\n",
    "\n",
    "6. A string is a palindrome if it is identical forward and backward. For example “anna”, “civic”, “level” and “madam” are all examples of palindrome words. Write a program that reads a string from the user and uses a loop to determine whether or not it is a palindrome. Display the result, including a meaningful output message.\n",
    "\n",
    "7. The greatest common divisor (GCD) of two positive integers, n and m, is the largest number, d, which divides evenly into both n and m. The following algorithm is used to find GCD of n and m :\n",
    "\n",
    "Initialize d to the smaller of m and n.\n",
    "While d does not evenly divide m or d does not evenly divide n do\n",
    "Decrease the value of d by 1\n",
    "Report d as the greatest common divisor of n and m\n",
    "\n",
    "Write a program that reads two positive integers from the user and uses this algorithm to determine and report their greatest common divisor.\n",
    "\n",
    "8. The prime factorization of an integer, n, can be determined using the following steps:\n",
    "\n",
    "Initialize factor to two\n",
    "While factor is less than or equal to n do\n",
    "If n is evenly divisible by factor then\n",
    "           Conclude that factor is a factor of n\n",
    "           Divide n by factor using integer division\n",
    "Else\n",
    "Increase factor by one\n",
    "\n",
    "Write a program that reads an integer from the user. If the value entered by the user is less than 2 then your program should display an appropriate error message. Otherwise your program should display the prime numbers that can be multiplied together to compute n, with one factor appearing on each line.\n",
    "\n",
    "9. Write a program that converts a binary (base 2) number to decimal (base 10). Your program should begin by reading the binary number from the user as a string. Then it should compute the equivalent decimal number by processing each digit in the binary number. Finally, your program should display the equivalent decimal number with an appropriate message.\n",
    "\n",
    "10. Demonstrate the formatting capabilities of format function on integers, floats and strings."
   ]
  },
  {
   "cell_type": "code",
   "execution_count": 9,
   "id": "ee5ce6e8",
   "metadata": {},
   "outputs": [
    {
     "name": "stdout",
     "output_type": "stream",
     "text": [
      "enter any number greater than 10 :12\n",
      "1\n",
      "3\n",
      "5\n",
      "7\n",
      "9\n",
      "11\n"
     ]
    }
   ],
   "source": [
    "#1. Write a program to accept an integer n greater than 10. Then print all the odd numbers from 1 to n.\n",
    "\n",
    "def odd():\n",
    "    try:\n",
    "        n=int(input('enter any number greater than 10 :'))\n",
    "        if n>10:\n",
    "            for i in range(n+1):\n",
    "                if i%2!=0:\n",
    "                    print(i)\n",
    "        else:\n",
    "            print('enter no. greter than 10')        \n",
    "    except Exception as e:\n",
    "        print(e)\n",
    "            \n",
    "\n",
    "odd()"
   ]
  },
  {
   "cell_type": "code",
   "execution_count": 18,
   "id": "2d1264a9",
   "metadata": {},
   "outputs": [
    {
     "name": "stdout",
     "output_type": "stream",
     "text": [
      "enter any number greater than 10 :55\n",
      "5\n",
      "7\n",
      "11\n",
      "13\n",
      "17\n",
      "19\n",
      "23\n",
      "25\n",
      "29\n",
      "31\n",
      "35\n",
      "37\n",
      "41\n",
      "43\n",
      "47\n",
      "49\n",
      "53\n",
      "55\n"
     ]
    }
   ],
   "source": [
    "#2. Write a program to accept an integer n greater than 10. Then print all the prime numbers from 1 to n.\n",
    "\n",
    "def odd():\n",
    "    try:\n",
    "        n=int(input('enter any number greater than 10 :'))\n",
    "        if n>10:\n",
    "            for i in range(2,n+1):\n",
    "                    if i%2!=0 and i%3!=0:\n",
    "                        print(i)\n",
    "        else:\n",
    "            print('enter no. greter than 10')\n",
    "    except Exception as e:\n",
    "        print(e)\n",
    "            \n",
    "\n",
    "odd()"
   ]
  },
  {
   "cell_type": "code",
   "execution_count": 65,
   "id": "89d771ee",
   "metadata": {},
   "outputs": [
    {
     "name": "stdout",
     "output_type": "stream",
     "text": [
      "enter any number greater than 10: 12\n",
      "2\n",
      "3\n",
      "5\n",
      "7\n",
      "11\n"
     ]
    }
   ],
   "source": [
    "#2. Write a program to accept an integer n greater than 10. Then print all the prime numbers from 1 to n.\n",
    "\n",
    "def odd():\n",
    "    try:\n",
    "        n=int(input('enter any number greater than 10: '))\n",
    "        if n>10:\n",
    "            for i in range(n+1):\n",
    "                if i>1:\n",
    "                    for j in range(2,i):\n",
    "                        if i%j==0:\n",
    "                            break\n",
    "                    else:\n",
    "                        print(i)\n",
    "            \n",
    "    except Exception as e:\n",
    "        print(e)\n",
    "            \n",
    "\n",
    "odd();"
   ]
  },
  {
   "cell_type": "markdown",
   "id": "0992fe67",
   "metadata": {},
   "source": [
    "3. In this exercise you will create a program that computes the average of a collection of values entered by the user. The user will enter 0 as a sentinel value to indicate that no further values will be provided. Your program should display an appropriate error message if the first value entered by the user is 0."
   ]
  },
  {
   "cell_type": "code",
   "execution_count": 90,
   "id": "33a9569e",
   "metadata": {},
   "outputs": [
    {
     "name": "stdout",
     "output_type": "stream",
     "text": [
      "enter value: 1\n",
      "enter value: 2\n",
      "enter value: 3\n",
      "enter value: 0\n",
      "2.0\n"
     ]
    }
   ],
   "source": [
    "def average():\n",
    "    k=[]\n",
    "    while True:\n",
    "        n=int(input('enter value: '))\n",
    "        k.append(n)\n",
    "        if k[0]==0:\n",
    "            print('check')\n",
    "        if n==0:\n",
    "            break\n",
    "    print(sum(k)/(len(k)-1))\n",
    "            \n",
    "average()"
   ]
  },
  {
   "cell_type": "markdown",
   "id": "99acf484",
   "metadata": {},
   "source": [
    "4. Write a program that takes a number as input and prints its multiplication table."
   ]
  },
  {
   "cell_type": "code",
   "execution_count": 101,
   "id": "71042b3c",
   "metadata": {},
   "outputs": [
    {
     "name": "stdout",
     "output_type": "stream",
     "text": [
      "enter a number :465\n",
      "465 * 1 = 465\n",
      "465 * 2 = 930\n",
      "465 * 3 = 1395\n",
      "465 * 4 = 1860\n",
      "465 * 5 = 2325\n",
      "465 * 6 = 2790\n",
      "465 * 7 = 3255\n",
      "465 * 8 = 3720\n",
      "465 * 9 = 4185\n",
      "465 * 10 = 4650\n"
     ]
    }
   ],
   "source": [
    "def tables():\n",
    "    n=int(input('enter a number :'))\n",
    "    for i in range(1,11):\n",
    "        print(n,'*',i,'=',i*n)\n",
    "        \n",
    "tables()"
   ]
  },
  {
   "cell_type": "markdown",
   "id": "0e16cdf0",
   "metadata": {},
   "source": [
    "5. Write a program that displays a temperature conversion table for degrees Celsius and degrees Fahrenheit. The table should include rows for all temperatures between 0 and 100 degrees Celsius that are multiples of 10 degrees Celsius. Include appropriate headings on your columns."
   ]
  },
  {
   "cell_type": "code",
   "execution_count": 103,
   "id": "1c3356ae",
   "metadata": {},
   "outputs": [
    {
     "name": "stdout",
     "output_type": "stream",
     "text": [
      "Enter the first positive integer: 6\n",
      "Enter the second positive integer: 3\n",
      "The greatest common divisor of 6 and 3 is 3\n"
     ]
    }
   ],
   "source": [
    "def gcd(n, m):\n",
    "    d = min(n, m)\n",
    "    while n % d != 0 or m % d != 0:\n",
    "        d -= 1\n",
    "    return d\n",
    "\n",
    "# Read two positive integers from the user\n",
    "n = int(input(\"Enter the first positive integer: \"))\n",
    "m = int(input(\"Enter the second positive integer: \"))\n",
    "\n",
    "# Determine and report their greatest common divisor\n",
    "print(\"The greatest common divisor of\", n, \"and\", m, \"is\", gcd(n, m))\n"
   ]
  },
  {
   "cell_type": "code",
   "execution_count": 104,
   "id": "0ad3b0b7",
   "metadata": {},
   "outputs": [
    {
     "data": {
      "text/plain": [
       "1"
      ]
     },
     "execution_count": 104,
     "metadata": {},
     "output_type": "execute_result"
    }
   ],
   "source": [
    "min(1,3)"
   ]
  },
  {
   "cell_type": "raw",
   "id": "a9c9a021",
   "metadata": {},
   "source": [
    "\n",
    "8. The prime factorization of an integer, n, can be determined using the following steps:\n",
    "\n",
    "Initialize factor to two\n",
    "While factor is less than or equal to n do\n",
    "If n is evenly divisible by factor then\n",
    "           Conclude that factor is a factor of n\n",
    "           Divide n by factor using integer division\n",
    "Else\n",
    "Increase factor by one\n",
    "\n",
    "Write a program that reads an integer from the user. If the value entered by the user is less than 2 then your program should display an appropriate error message. Otherwise your program should display the prime numbers that can be multiplied together to compute n, with one factor appearing on each line."
   ]
  },
  {
   "cell_type": "code",
   "execution_count": 114,
   "id": "bfa63fa1",
   "metadata": {},
   "outputs": [
    {
     "name": "stdout",
     "output_type": "stream",
     "text": [
      "prime factors of : 10\n",
      "2\n",
      "5\n"
     ]
    }
   ],
   "source": [
    "n=int(input('prime factors of : '))\n",
    "factor=2\n",
    "while factor<=n:\n",
    "    if n%factor==0:\n",
    "        print(factor)\n",
    "        n=n//factor\n",
    "    else:\n",
    "        factor+=1\n",
    "        "
   ]
  },
  {
   "cell_type": "code",
   "execution_count": 112,
   "id": "26dce96a",
   "metadata": {},
   "outputs": [
    {
     "name": "stdout",
     "output_type": "stream",
     "text": [
      "Enter an integer greater than or equal to 2: 10\n",
      "The prime factorization of 10 is:\n",
      "2\n",
      "5\n"
     ]
    }
   ],
   "source": [
    "def prime_factorization(n):\n",
    "    factors = []\n",
    "    factor = 2\n",
    "    while factor <= n:\n",
    "        if n % factor == 0:\n",
    "            factors.append(factor)\n",
    "            n = n // factor\n",
    "        else:\n",
    "            factor += 1\n",
    "    return factors\n",
    "\n",
    "# Read an integer from the user\n",
    "n = int(input(\"Enter an integer greater than or equal to 2: \"))\n",
    "\n",
    "# Display an error message if the value entered by the user is less than 2\n",
    "if n < 2:\n",
    "    print(\"Error: The integer entered by the user must be greater than or equal to 2.\")\n",
    "else:\n",
    "    # Display the prime numbers that can be multiplied together to compute n\n",
    "    print(\"The prime factorization of\", n, \"is:\")\n",
    "    for factor in prime_factorization(n):\n",
    "        print(factor)\n"
   ]
  },
  {
   "cell_type": "markdown",
   "id": "20e26dc8",
   "metadata": {},
   "source": [
    "9. Write a program that converts a binary (base 2) number to decimal (base 10). Your program should begin by reading the binary number from the user as a string. Then it should compute the equivalent decimal number by processing each digit in the binary number. Finally, your program should display the equivalent decimal number with an appropriate message."
   ]
  },
  {
   "cell_type": "code",
   "execution_count": 138,
   "id": "05079d4f",
   "metadata": {},
   "outputs": [
    {
     "name": "stdout",
     "output_type": "stream",
     "text": [
      "100\n",
      "4\n"
     ]
    }
   ],
   "source": [
    "a=input()\n",
    "k=0\n",
    "for i,j in enumerate(a[::-1]):\n",
    "    k+=(2**i)*int(j)\n",
    "    \n",
    "print(k)"
   ]
  },
  {
   "cell_type": "code",
   "execution_count": 143,
   "id": "272d9d06",
   "metadata": {},
   "outputs": [],
   "source": [
    "a=100\n",
    "\n",
    "k=a//2\n",
    "l=a%2"
   ]
  },
  {
   "cell_type": "code",
   "execution_count": 144,
   "id": "f38e11f5",
   "metadata": {},
   "outputs": [
    {
     "data": {
      "text/plain": [
       "0"
      ]
     },
     "execution_count": 144,
     "metadata": {},
     "output_type": "execute_result"
    }
   ],
   "source": [
    "a//2\n",
    "a%2"
   ]
  },
  {
   "cell_type": "code",
   "execution_count": 156,
   "id": "9d370a6b",
   "metadata": {},
   "outputs": [
    {
     "name": "stdout",
     "output_type": "stream",
     "text": [
      "1100100\n"
     ]
    }
   ],
   "source": [
    "a=100\n",
    "k=''\n",
    "while a>0:\n",
    "    k=str(a%2)+k\n",
    "    a=a//2\n",
    "    \n",
    "print(k)\n",
    "    "
   ]
  },
  {
   "cell_type": "code",
   "execution_count": 153,
   "id": "e77b9186",
   "metadata": {},
   "outputs": [
    {
     "name": "stdout",
     "output_type": "stream",
     "text": [
      "Enter a decimal number: 100\n",
      "The binary equivalent of the decimal number 0 is 1100100\n"
     ]
    }
   ],
   "source": [
    "# Read the decimal number from the user\n",
    "decimal = int(input(\"Enter a decimal number: \"))\n",
    "\n",
    "# Convert the decimal number to binary\n",
    "binary = \"\"\n",
    "while decimal > 0:\n",
    "    binary = str(decimal % 2) + binary\n",
    "    decimal = decimal // 2\n",
    "\n",
    "# Display the equivalent binary number with an appropriate message\n",
    "print(\"The binary equivalent of the decimal number\", decimal, \"is\", binary)\n"
   ]
  },
  {
   "cell_type": "code",
   "execution_count": null,
   "id": "a37a46dc",
   "metadata": {},
   "outputs": [],
   "source": [
    "1100100"
   ]
  },
  {
   "cell_type": "code",
   "execution_count": null,
   "id": "f2e25da9",
   "metadata": {},
   "outputs": [],
   "source": []
  },
  {
   "cell_type": "markdown",
   "id": "b7a13be4",
   "metadata": {},
   "source": [
    "10. Demonstrate the formatting capabilities of format function on integers, floats and strings."
   ]
  },
  {
   "cell_type": "code",
   "execution_count": 173,
   "id": "0b5a30c2",
   "metadata": {},
   "outputs": [
    {
     "name": "stdout",
     "output_type": "stream",
     "text": [
      "apple is 1.88\n",
      "apple is 1.88\n",
      "apple is 2.00\n",
      "apple is 1\n",
      "apple is 1.8787\n",
      "apple is 1.878700\n"
     ]
    }
   ],
   "source": [
    "a=1.8787\n",
    "\n",
    "print(f'apple is {a:.2f}')\n",
    "print('apple is {:.2f}'.format(a))\n",
    "print('apple is {:.2f}'.format(round(a)))\n",
    "print('apple is %d'%(a) )\n",
    "print('apple is %g'%a)\n",
    "print('apple is %f'%a)"
   ]
  },
  {
   "cell_type": "code",
   "execution_count": null,
   "id": "6c7f514f",
   "metadata": {},
   "outputs": [],
   "source": []
  }
 ],
 "metadata": {
  "kernelspec": {
   "display_name": "Python 3 (ipykernel)",
   "language": "python",
   "name": "python3"
  },
  "language_info": {
   "codemirror_mode": {
    "name": "ipython",
    "version": 3
   },
   "file_extension": ".py",
   "mimetype": "text/x-python",
   "name": "python",
   "nbconvert_exporter": "python",
   "pygments_lexer": "ipython3",
   "version": "3.9.12"
  }
 },
 "nbformat": 4,
 "nbformat_minor": 5
}
