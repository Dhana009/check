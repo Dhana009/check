{
 "cells": [
  {
   "cell_type": "code",
   "execution_count": 9,
   "id": "d0839bf0",
   "metadata": {},
   "outputs": [],
   "source": [
    "class evens:\n",
    "    \n",
    "    def __init__(self,l):\n",
    "        self.limit=l\n",
    "        self.value=0\n",
    "        \n",
    "    def __iter__(self):\n",
    "        return self\n",
    "    \n",
    "    def __next__(self):\n",
    "        if self.value>self.limit:\n",
    "            raise StopIteration\n",
    "            \n",
    "        else:\n",
    "            value=self.value\n",
    "            self.value+=2\n",
    "        return value\n",
    "            "
   ]
  },
  {
   "cell_type": "code",
   "execution_count": 10,
   "id": "a18805bb",
   "metadata": {},
   "outputs": [
    {
     "name": "stdout",
     "output_type": "stream",
     "text": [
      "0\n",
      "2\n",
      "4\n",
      "6\n",
      "8\n",
      "10\n",
      "12\n",
      "14\n",
      "16\n",
      "18\n",
      "20\n"
     ]
    }
   ],
   "source": [
    "for i in evens(20):\n",
    "    print(i)"
   ]
  },
  {
   "cell_type": "code",
   "execution_count": 20,
   "id": "45ef465b",
   "metadata": {},
   "outputs": [],
   "source": [
    "class factorial:\n",
    "    \n",
    "    def __init__(self,l):\n",
    "        self.limit=l\n",
    "        self.value=0\n",
    "        \n",
    "    def __iter__(self):\n",
    "        return self\n",
    "    \n",
    "    def fact(self,num):\n",
    "        prod=1\n",
    "        for i in range(1,num+1):\n",
    "            prod*=i\n",
    "        return prod\n",
    "    \n",
    "    def __next__(self):\n",
    "        if self.value>self.limit:\n",
    "            raise StopIteration\n",
    "            \n",
    "        else:\n",
    "            value= self.fact(self.value)\n",
    "            self.value+=1\n",
    "            return value\n",
    "            "
   ]
  },
  {
   "cell_type": "code",
   "execution_count": 25,
   "id": "7cb33848",
   "metadata": {},
   "outputs": [
    {
     "name": "stdout",
     "output_type": "stream",
     "text": [
      "factorial : 1\n",
      "factorial : 1\n",
      "factorial : 2\n",
      "factorial : 6\n",
      "factorial : 24\n",
      "factorial : 120\n",
      "factorial : 720\n",
      "factorial : 5040\n",
      "factorial : 40320\n",
      "factorial : 362880\n",
      "factorial : 3628800\n"
     ]
    }
   ],
   "source": [
    "for i in factorial(10):\n",
    "    print('factorial :',i)"
   ]
  },
  {
   "cell_type": "markdown",
   "id": "fcc1df0e",
   "metadata": {},
   "source": [
    "try,else\n",
    "except\n",
    "finally\n",
    "raise\n",
    "assert y!=0 'deno not zero'\n",
    "decorators"
   ]
  },
  {
   "cell_type": "code",
   "execution_count": 30,
   "id": "af55e627",
   "metadata": {},
   "outputs": [],
   "source": [
    "def my_deco(func):\n",
    "    def wrapper():\n",
    "        print(\"@\"*20)\n",
    "        func()\n",
    "    return wrapper"
   ]
  },
  {
   "cell_type": "code",
   "execution_count": 34,
   "id": "d0621234",
   "metadata": {},
   "outputs": [
    {
     "name": "stdout",
     "output_type": "stream",
     "text": [
      "@@@@@@@@@@@@@@@@@@@@\n",
      "welcome\n"
     ]
    }
   ],
   "source": [
    "@my_deco\n",
    "def display():\n",
    "    print('welcome')\n",
    "    \n",
    "display()"
   ]
  },
  {
   "cell_type": "code",
   "execution_count": 45,
   "id": "523ec7ef",
   "metadata": {},
   "outputs": [],
   "source": [
    "import time\n",
    "def timer(func):\n",
    "    def cal(*args,**kwargs):\n",
    "        start_time=time.perf_counter()\n",
    "        value=func(*args,**kwargs)\n",
    "        end_time=time.perf_counter()\n",
    "        runtime=end_time-start_time\n",
    "        print('time is ::: {0:20.10f}secs'.format(runtime))\n",
    "        return value\n",
    "    return cal"
   ]
  },
  {
   "cell_type": "code",
   "execution_count": 46,
   "id": "fb968cba",
   "metadata": {},
   "outputs": [],
   "source": [
    "@timer\n",
    "def factorial(n):\n",
    "    fact=1\n",
    "    for i in range(n):\n",
    "        fact=fact*(i+1)\n",
    "    return fact"
   ]
  },
  {
   "cell_type": "code",
   "execution_count": 47,
   "id": "8fd119bc",
   "metadata": {},
   "outputs": [
    {
     "name": "stdout",
     "output_type": "stream",
     "text": [
      "time is :::         0.0000057000secs\n",
      "40320\n"
     ]
    }
   ],
   "source": [
    "print(factorial(8))"
   ]
  },
  {
   "cell_type": "code",
   "execution_count": 48,
   "id": "a0abdd64",
   "metadata": {},
   "outputs": [
    {
     "name": "stdout",
     "output_type": "stream",
     "text": [
      "Cannot divide by zero.\n",
      "The 'try' block has completed.\n"
     ]
    }
   ],
   "source": [
    "try:\n",
    "    # some code that might raise an exception\n",
    "    x = 1 / 0\n",
    "except ZeroDivisionError:\n",
    "    # code to handle ZeroDivisionError\n",
    "    print(\"Cannot divide by zero.\")\n",
    "except ValueError:\n",
    "    # code to handle ValueError\n",
    "    print(\"Invalid value provided.\")\n",
    "except Exception as e:\n",
    "    # code to handle any other exception\n",
    "    print(\"An error occurred:\", e)\n",
    "else:\n",
    "    # code to run if no exception was raised\n",
    "    print(\"The code ran successfully.\")\n",
    "finally:\n",
    "    # code to run regardless of whether an exception was raised\n",
    "    print(\"The 'try' block has completed.\")\n"
   ]
  },
  {
   "cell_type": "code",
   "execution_count": 49,
   "id": "57deec13",
   "metadata": {},
   "outputs": [
    {
     "name": "stdout",
     "output_type": "stream",
     "text": [
      "Cannot divide by zero.\n",
      "Invalid value provided.\n",
      "File not found.\n",
      "List index out of range.\n",
      "Key not found in dictionary.\n",
      "Assertion Error: math is broken.\n",
      "An error occurred: can only concatenate str (not \"int\") to str\n",
      "Custom exception occurred: Custom exception message.\n"
     ]
    }
   ],
   "source": [
    "# Example 1: Division by Zero\n",
    "try:\n",
    "    x = 1 / 0\n",
    "except ZeroDivisionError:\n",
    "    print(\"Cannot divide by zero.\")\n",
    "\n",
    "# Example 2: Value Error\n",
    "try:\n",
    "    y = int(\"abc\")\n",
    "except ValueError:\n",
    "    print(\"Invalid value provided.\")\n",
    "\n",
    "# Example 3: File Not Found\n",
    "try:\n",
    "    with open(\"non_existent_file.txt\", \"r\") as file:\n",
    "        contents = file.read()\n",
    "except FileNotFoundError:\n",
    "    print(\"File not found.\")\n",
    "\n",
    "# Example 4: IndexError\n",
    "try:\n",
    "    my_list = [1, 2, 3]\n",
    "    print(my_list[3])\n",
    "except IndexError:\n",
    "    print(\"List index out of range.\")\n",
    "\n",
    "# Example 5: KeyError\n",
    "try:\n",
    "    my_dict = {\"a\": 1, \"b\": 2}\n",
    "    print(my_dict[\"c\"])\n",
    "except KeyError:\n",
    "    print(\"Key not found in dictionary.\")\n",
    "\n",
    "# Example 6: Assertion Error\n",
    "try:\n",
    "    assert 1 + 1 == 3, \"math is broken\"\n",
    "except AssertionError:\n",
    "    print(\"Assertion Error: math is broken.\")\n",
    "\n",
    "# Example 7: Exception\n",
    "try:\n",
    "    x = \"hello\" + 1\n",
    "except Exception as e:\n",
    "    print(\"An error occurred:\", e)\n",
    "\n",
    "# Example 8: custom Exception\n",
    "class MyException(Exception):\n",
    "    pass\n",
    "try:\n",
    "    raise MyException(\"Custom exception message.\")\n",
    "except MyException as e:\n",
    "    print(\"Custom exception occurred:\", e)\n"
   ]
  },
  {
   "cell_type": "code",
   "execution_count": 50,
   "id": "d37a6f07",
   "metadata": {},
   "outputs": [
    {
     "name": "stdout",
     "output_type": "stream",
     "text": [
      "Enter a denominator: 2\n",
      "Result: 2.5\n"
     ]
    }
   ],
   "source": [
    "try:\n",
    "    x = 5\n",
    "    y = int(input(\"Enter a denominator: \"))\n",
    "    assert y != 0, \"Denominator should not be zero.\"\n",
    "    result = x / y\n",
    "except ZeroDivisionError:\n",
    "    print(\"Cannot divide by zero.\")\n",
    "except AssertionError as e:\n",
    "    print(e)\n",
    "else:\n",
    "    print(\"Result:\", result)\n"
   ]
  },
  {
   "cell_type": "code",
   "execution_count": 51,
   "id": "7a6a89c5",
   "metadata": {},
   "outputs": [
    {
     "name": "stdout",
     "output_type": "stream",
     "text": [
      "Enter the file name: s\n",
      "File not found.\n"
     ]
    }
   ],
   "source": [
    "try:\n",
    "    filename = input(\"Enter the file name: \")\n",
    "    assert filename, \"File name should not be empty\"\n",
    "    with open(filename, \"r\") as file:\n",
    "        contents = file.read()\n",
    "except FileNotFoundError:\n",
    "    print(\"File not found.\")\n",
    "except AssertionError as e:\n",
    "    print(e)\n",
    "else:\n",
    "    print(\"File contents:\", contents)\n"
   ]
  },
  {
   "cell_type": "code",
   "execution_count": 52,
   "id": "2ca1a045",
   "metadata": {},
   "outputs": [
    {
     "name": "stdout",
     "output_type": "stream",
     "text": [
      "Enter a number: 2\n",
      "The number you entered is: 2\n"
     ]
    }
   ],
   "source": [
    "try:\n",
    "    user_input = input(\"Enter a number: \")\n",
    "    assert user_input.isdigit(), \"Input should be a number\"\n",
    "    x = int(user_input)\n",
    "except ValueError:\n",
    "    print(\"Invalid input. Please enter a valid number.\")\n",
    "except AssertionError as e:\n",
    "    print(e)\n",
    "else:\n",
    "    print(\"The number you entered is:\", x)\n",
    "\n",
    "    "
   ]
  },
  {
   "cell_type": "code",
   "execution_count": 53,
   "id": "5b9a352a",
   "metadata": {},
   "outputs": [
    {
     "name": "stdout",
     "output_type": "stream",
     "text": [
      "list should not be empty\n"
     ]
    }
   ],
   "source": [
    "class MyException(Exception):\n",
    "    pass\n",
    "try:\n",
    "    my_list = []\n",
    "    assert my_list, \"list should not be empty\"\n",
    "    raise MyException(\"Custom exception message.\")\n",
    "except MyException as e:\n",
    "    print(\"Custom exception occurred:\", e)\n",
    "except AssertionError as e:\n",
    "    print(e)\n"
   ]
  },
  {
   "cell_type": "code",
   "execution_count": 55,
   "id": "e2feb8e2",
   "metadata": {},
   "outputs": [
    {
     "name": "stdout",
     "output_type": "stream",
     "text": [
      "Executed in 3.005784749984741 seconds.\n"
     ]
    }
   ],
   "source": [
    "import time\n",
    "\n",
    "def timer(func):\n",
    "    def wrapper(*args, **kwargs):\n",
    "        start_time = time.time()\n",
    "        result = func(*args, **kwargs)\n",
    "        end_time = time.time()\n",
    "        print(f\"Executed in {end_time - start_time} seconds.\")\n",
    "        return result\n",
    "    return wrapper\n",
    "\n",
    "@timer\n",
    "def long_running_function():\n",
    "    time.sleep(3)\n",
    "\n",
    "long_running_function()\n"
   ]
  },
  {
   "cell_type": "code",
   "execution_count": 61,
   "id": "904e51da",
   "metadata": {},
   "outputs": [
    {
     "data": {
      "text/plain": [
       "2.5"
      ]
     },
     "execution_count": 61,
     "metadata": {},
     "output_type": "execute_result"
    }
   ],
   "source": [
    "class Cache:\n",
    "    def __init__(self, func):\n",
    "        self.func = func\n",
    "        self.cache = {}\n",
    "\n",
    "    def __call__(self, *args):\n",
    "        if args not in self.cache:\n",
    "            self.cache[args] = self.func(*args)\n",
    "        return self.cache[args]\n",
    "    \n",
    "@Cache\n",
    "def expensive_function(x):\n",
    "    # complex calculation\n",
    "    return result\n",
    "\n",
    "expensive_function(5)\n"
   ]
  },
  {
   "cell_type": "code",
   "execution_count": 62,
   "id": "a176e898",
   "metadata": {},
   "outputs": [
    {
     "data": {
      "text/plain": [
       "10"
      ]
     },
     "execution_count": 62,
     "metadata": {},
     "output_type": "execute_result"
    }
   ],
   "source": [
    "def check_arg_types(func):\n",
    "    def wrapper(*args, **kwargs):\n",
    "        arg_types = func.__annotations__\n",
    "        for i, arg in enumerate(args):\n",
    "            if arg_types.get(f'arg{i}') and type(arg) != arg_types[f'arg{i}']:\n",
    "                raise TypeError(f\"Argument {i} should be of type {arg_types[f'arg{i}']}\")\n",
    "        return func(*args, **kwargs)\n",
    "    return wrapper\n",
    "\n",
    "@check_arg_types\n",
    "def add(a:int, b:int)->int:\n",
    "    return a + b\n",
    "\n",
    "add(5,5)\n"
   ]
  },
  {
   "cell_type": "code",
   "execution_count": 63,
   "id": "6412c3b4",
   "metadata": {},
   "outputs": [
    {
     "name": "stdout",
     "output_type": "stream",
     "text": [
      "3\n"
     ]
    }
   ],
   "source": [
    "def count_instances(cls):\n",
    "    cls.count = 0\n",
    "    original_init = cls.__init__\n",
    "    def new_init(self, *args, **kwargs):\n",
    "        cls.count += 1\n",
    "        original_init(self, *args, **kwargs)\n",
    "    cls.__init__ = new_init\n",
    "    return cls\n",
    "\n",
    "@count_instances\n",
    "class MyClass:\n",
    "    def __init__(self, name):\n",
    "        self.name = name\n",
    "\n",
    "a = MyClass(\"object1\")\n",
    "b = MyClass(\"object2\")\n",
    "c = MyClass(\"object3\")\n",
    "print(MyClass.count)\n"
   ]
  },
  {
   "cell_type": "code",
   "execution_count": 64,
   "id": "228866e1",
   "metadata": {},
   "outputs": [
    {
     "ename": "PermissionError",
     "evalue": "This method is only available to admin users.",
     "output_type": "error",
     "traceback": [
      "\u001b[1;31m---------------------------------------------------------------------------\u001b[0m",
      "\u001b[1;31mPermissionError\u001b[0m                           Traceback (most recent call last)",
      "Input \u001b[1;32mIn [64]\u001b[0m, in \u001b[0;36m<cell line: 23>\u001b[1;34m()\u001b[0m\n\u001b[0;32m     20\u001b[0m admin\u001b[38;5;241m.\u001b[39mdelete_user(\u001b[38;5;124m\"\u001b[39m\u001b[38;5;124muser1\u001b[39m\u001b[38;5;124m\"\u001b[39m)\n\u001b[0;32m     22\u001b[0m user \u001b[38;5;241m=\u001b[39m User(\u001b[38;5;124m\"\u001b[39m\u001b[38;5;124muser\u001b[39m\u001b[38;5;124m\"\u001b[39m,\u001b[38;5;28;01mFalse\u001b[39;00m)\n\u001b[1;32m---> 23\u001b[0m \u001b[43muser\u001b[49m\u001b[38;5;241;43m.\u001b[39;49m\u001b[43mdelete_user\u001b[49m\u001b[43m(\u001b[49m\u001b[38;5;124;43m\"\u001b[39;49m\u001b[38;5;124;43muser1\u001b[39;49m\u001b[38;5;124;43m\"\u001b[39;49m\u001b[43m)\u001b[49m\n",
      "Input \u001b[1;32mIn [64]\u001b[0m, in \u001b[0;36madmin_only.<locals>.wrapper\u001b[1;34m(self, *args, **kwargs)\u001b[0m\n\u001b[0;32m      4\u001b[0m     \u001b[38;5;28;01mreturn\u001b[39;00m method(\u001b[38;5;28mself\u001b[39m, \u001b[38;5;241m*\u001b[39margs, \u001b[38;5;241m*\u001b[39m\u001b[38;5;241m*\u001b[39mkwargs)\n\u001b[0;32m      5\u001b[0m \u001b[38;5;28;01melse\u001b[39;00m:\n\u001b[1;32m----> 6\u001b[0m     \u001b[38;5;28;01mraise\u001b[39;00m \u001b[38;5;167;01mPermissionError\u001b[39;00m(\u001b[38;5;124m\"\u001b[39m\u001b[38;5;124mThis method is only available to admin users.\u001b[39m\u001b[38;5;124m\"\u001b[39m)\n",
      "\u001b[1;31mPermissionError\u001b[0m: This method is only available to admin users."
     ]
    }
   ],
   "source": [
    "def admin_only(method):\n",
    "    def wrapper(self, *args, **kwargs):\n",
    "        if self.is_admin:\n",
    "            return method(self, *args, **kwargs)\n",
    "        else:\n",
    "            raise PermissionError(\"This method is only available to admin users.\")\n",
    "    return wrapper\n",
    "\n",
    "class User:\n",
    "    def __init__(self, name, is_admin):\n",
    "        self.name = name\n",
    "        self.is_admin = is_admin\n",
    "\n",
    "    @admin_only\n",
    "    def delete_user(self, user):\n",
    "        # delete user code\n",
    "        pass\n",
    "\n",
    "admin = User(\"admin\",True)\n",
    "admin.delete_user(\"user1\")\n",
    "\n",
    "user = User(\"user\",False)\n",
    "user.delete_user(\"user1\")\n"
   ]
  },
  {
   "cell_type": "code",
   "execution_count": 65,
   "id": "a24868b4",
   "metadata": {},
   "outputs": [
    {
     "name": "stdout",
     "output_type": "stream",
     "text": [
      "class level property\n"
     ]
    }
   ],
   "source": [
    "def add_property(cls):\n",
    "    cls.new_property = \"class level property\"\n",
    "    return cls\n",
    "\n",
    "@add_property\n",
    "class MyClass:\n",
    "    pass\n",
    "\n",
    "print(MyClass.new_property)\n"
   ]
  },
  {
   "cell_type": "code",
   "execution_count": 66,
   "id": "e5287164",
   "metadata": {},
   "outputs": [
    {
     "name": "stdout",
     "output_type": "stream",
     "text": [
      "Method method1 executed in 2.003723621368408 seconds.\n",
      "Method method2 executed in 1.0013689994812012 seconds.\n"
     ]
    }
   ],
   "source": [
    "import time\n",
    "\n",
    "def track_execution_time(cls):\n",
    "    for name, method in vars(cls).items():\n",
    "        if callable(method):\n",
    "            setattr(cls, name, track_execution_time_method(method))\n",
    "    return cls\n",
    "\n",
    "def track_execution_time_method(method):\n",
    "    def wrapper(*args, **kwargs):\n",
    "        start_time = time.time()\n",
    "        result = method(*args, **kwargs)\n",
    "        end_time = time.time()\n",
    "        print(f\"Method {method.__name__} executed in {end_time - start_time} seconds.\")\n",
    "        return result\n",
    "    return wrapper\n",
    "\n",
    "@track_execution_time\n",
    "class MyClass:\n",
    "    def method1(self):\n",
    "        time.sleep(2)\n",
    "        \n",
    "    def method2(self):\n",
    "        time.sleep(1)\n",
    "\n",
    "x = MyClass()\n",
    "x.method1()\n",
    "x.method2()\n"
   ]
  },
  {
   "cell_type": "code",
   "execution_count": null,
   "id": "321c23a0",
   "metadata": {},
   "outputs": [],
   "source": []
  },
  {
   "cell_type": "code",
   "execution_count": null,
   "id": "6e0ee82e",
   "metadata": {},
   "outputs": [],
   "source": []
  }
 ],
 "metadata": {
  "kernelspec": {
   "display_name": "Python 3 (ipykernel)",
   "language": "python",
   "name": "python3"
  },
  "language_info": {
   "codemirror_mode": {
    "name": "ipython",
    "version": 3
   },
   "file_extension": ".py",
   "mimetype": "text/x-python",
   "name": "python",
   "nbconvert_exporter": "python",
   "pygments_lexer": "ipython3",
   "version": "3.9.12"
  }
 },
 "nbformat": 4,
 "nbformat_minor": 5
}
