{
 "cells": [
  {
   "cell_type": "markdown",
   "id": "eae7eeb5",
   "metadata": {},
   "source": [
    "In Python, there are two main ways to format strings: f-strings and the str.format() method.\n",
    "\n",
    "f-strings (formatted string literals): introduced in Python 3.6, f-strings allow you to embed expressions inside string literals by prefixing the string with the letter 'f'. They are enclosed in curly braces {} and are evaluated at runtime, so the expressions in the curly braces are replaced with their values."
   ]
  },
  {
   "cell_type": "code",
   "execution_count": 6,
   "id": "8382a6fd",
   "metadata": {},
   "outputs": [
    {
     "name": "stdout",
     "output_type": "stream",
     "text": [
      "My name is John and I am 30 years old.\n"
     ]
    }
   ],
   "source": [
    "name = \"John\"\n",
    "age = 30\n",
    "print(f\"My name is {name} and I am {age} years old.\")\n",
    "# Output: My name is John and I am 30 years old.\n"
   ]
  },
  {
   "cell_type": "markdown",
   "id": "75e4baee",
   "metadata": {},
   "source": [
    "str.format(): The str.format() method is available in all versions of Python and allows you to replace placeholders in a string with values. The placeholders are represented by curly braces {} and the values are passed as arguments to the str.format() method."
   ]
  },
  {
   "cell_type": "code",
   "execution_count": 2,
   "id": "d3074946",
   "metadata": {},
   "outputs": [
    {
     "name": "stdout",
     "output_type": "stream",
     "text": [
      "My name is John and I am 30 years old.\n"
     ]
    }
   ],
   "source": [
    "name = \"John\"\n",
    "age = 30\n",
    "print(\"My name is {} and I am {} years old.\".format(name, age))\n",
    "# Output: My name is John and I am 30 years old.\n"
   ]
  },
  {
   "cell_type": "markdown",
   "id": "7ff61346",
   "metadata": {},
   "source": [
    "Another way to format string is using f\"{expression}\" which is similar to f-strings but in this case expression is evaluated first."
   ]
  },
  {
   "cell_type": "code",
   "execution_count": 3,
   "id": "29d39ae8",
   "metadata": {},
   "outputs": [
    {
     "name": "stdout",
     "output_type": "stream",
     "text": [
      "The value of x is 5\n",
      "The value of x is 10\n"
     ]
    }
   ],
   "source": [
    "x = 5\n",
    "print(f\"The value of x is {x}\") # The value of x is 5\n",
    "print(f\"The value of x is {x*2}\") # The value of x is 10\n"
   ]
  },
  {
   "cell_type": "markdown",
   "id": "bbb6171a",
   "metadata": {},
   "source": [
    "You can also use % symbol for formatting strings, it's called old-style formatting, it is similar to str.format() method but uses % symbol instead of {}\n",
    "\n"
   ]
  },
  {
   "cell_type": "code",
   "execution_count": 4,
   "id": "06070db0",
   "metadata": {},
   "outputs": [
    {
     "name": "stdout",
     "output_type": "stream",
     "text": [
      "My name is John and I am 30 years old.\n"
     ]
    }
   ],
   "source": [
    "name = \"John\"\n",
    "age = 30\n",
    "print(\"My name is %s and I am %d years old.\" % (name, age))\n",
    "# Output: My name is John and I am 30 years old.\n"
   ]
  },
  {
   "cell_type": "markdown",
   "id": "ec3cb6cc",
   "metadata": {},
   "source": [
    "Additionally, Python allows you to use positional and keyword arguments to format the string."
   ]
  },
  {
   "cell_type": "code",
   "execution_count": 7,
   "id": "a9f8953b",
   "metadata": {},
   "outputs": [
    {
     "name": "stdout",
     "output_type": "stream",
     "text": [
      "My name is John and I am 30 years old.\n",
      "My name is John and I am 30 years old.\n"
     ]
    }
   ],
   "source": [
    "name = \"John\"\n",
    "age = 30\n",
    "print(\"My name is {0} and I am {1} years old.\".format(name, age))\n",
    "# Output: \"My name is John and I am 30 years old.\"\n",
    "\n",
    "print(\"My name is {name} and I am {age} years old.\".format(name=name, age=age))\n",
    "# Output: \"My name is John and I am 30 years old.\"\n"
   ]
  },
  {
   "cell_type": "markdown",
   "id": "65229a17",
   "metadata": {},
   "source": [
    "use oops and give examples by implementing all types of formatting styles"
   ]
  },
  {
   "cell_type": "code",
   "execution_count": 8,
   "id": "fe4994df",
   "metadata": {},
   "outputs": [
    {
     "name": "stdout",
     "output_type": "stream",
     "text": [
      "My name is John and I am 30 years old.\n",
      "My name is John and I am 30 years old.\n",
      "My name is John and I am 30 years old.\n",
      "My name is John and I am 30 years old.\n",
      "My name is John and I am 30 years old.\n"
     ]
    }
   ],
   "source": [
    "class Person:\n",
    "    def __init__(self, name, age):\n",
    "        self.name = name\n",
    "        self.age = age\n",
    "\n",
    "    def __str__(self):\n",
    "        return f\"My name is {self.name} and I am {self.age} years old.\"\n",
    "    \n",
    "    def to_format_string(self):\n",
    "        return \"My name is {} and I am {} years old.\".format(self.name, self.age)\n",
    "    \n",
    "    def to_positional_format_string(self):\n",
    "        return \"My name is {0} and I am {1} years old.\".format(self.name, self.age)\n",
    "    \n",
    "    def to_keyword_format_string(self):\n",
    "        return \"My name is {name} and I am {age} years old.\".format(name=self.name, age=self.age)\n",
    "    \n",
    "    def to_percent_format_string(self):\n",
    "        return \"My name is %s and I am %d years old.\" % (self.name, self.age)\n",
    "\n",
    "p = Person(\"John\", 30)\n",
    "print(p) # \"My name is John and I am 30 years old.\"\n",
    "print(p.to_format_string()) # \"My name is John and I am 30 years old.\"\n",
    "print(p.to_positional_format_string()) # \"My name is John and I am 30 years old.\"\n",
    "print(p.to_keyword_format_string()) # \"My name is John and I am 30 years old.\"\n",
    "print(p.to_percent_format_string()) # \"My name is John and I am 30 years old.\"\n"
   ]
  },
  {
   "cell_type": "raw",
   "id": "b7953ad8",
   "metadata": {},
   "source": [
    "The placeholders are represented by % followed by a conversion type.\n",
    "\n",
    "%s is used as a placeholder for strings.\n",
    "%d is used as a placeholder for integers.\n",
    "\n",
    "There are several other conversion types available in Python's % operator string formatting. Here are some of them:\n",
    "\n",
    "%f: floating-point numbers\n",
    "%e: scientific notation with a lowercase e\n",
    "%E: scientific notation with an uppercase E\n",
    "%x: lowercase hexadecimal\n",
    "%X: uppercase hexadecimal\n",
    "%%: a literal % character\n",
    "%c : single character\n",
    "%o : octal\n",
    "%r : string representation of the object"
   ]
  },
  {
   "cell_type": "markdown",
   "id": "4fc665ed",
   "metadata": {},
   "source": [
    "differnt types of floating point formatting"
   ]
  },
  {
   "cell_type": "code",
   "execution_count": 9,
   "id": "f0040b73",
   "metadata": {},
   "outputs": [
    {
     "name": "stdout",
     "output_type": "stream",
     "text": [
      "The value of x is 3.141590\n"
     ]
    }
   ],
   "source": [
    "#Using the %f conversion type with the % operator:\n",
    "\n",
    "x = 3.14159\n",
    "print(\"The value of x is %f\" % x)\n",
    "# Output: \"The value of x is 3.141590\"\n"
   ]
  },
  {
   "cell_type": "code",
   "execution_count": 10,
   "id": "869c1546",
   "metadata": {},
   "outputs": [
    {
     "name": "stdout",
     "output_type": "stream",
     "text": [
      "The value of x is 3.14\n"
     ]
    }
   ],
   "source": [
    "#Using the {:.nf} format specifier, where n is the number of decimal places to display:\n",
    "\n",
    "x = 3.14159\n",
    "print(\"The value of x is {:.2f}\".format(x))\n",
    "# Output: \"The value of x is 3.14\"\n"
   ]
  },
  {
   "cell_type": "code",
   "execution_count": 11,
   "id": "87c61e2b",
   "metadata": {},
   "outputs": [
    {
     "name": "stdout",
     "output_type": "stream",
     "text": [
      "The value of x is 3.14\n"
     ]
    }
   ],
   "source": [
    "#Using the round(x, n) function, where x is the number to round and n is the number of decimal places:\n",
    "\n",
    "x = 3.14159\n",
    "print(\"The value of x is {}\".format(round(x,2)))\n",
    "# Output: \"The value of x is 3.14\"\n"
   ]
  },
  {
   "cell_type": "code",
   "execution_count": 13,
   "id": "617c5f3d",
   "metadata": {},
   "outputs": [
    {
     "name": "stdout",
     "output_type": "stream",
     "text": [
      "The value of x is 3.14\n"
     ]
    }
   ],
   "source": [
    "#Using f-string with precision\n",
    "\n",
    "x = 3.14159\n",
    "print(f\"The value of x is {x:.2f}\")\n",
    "# Output: \"The value of x is 3.14\""
   ]
  },
  {
   "cell_type": "code",
   "execution_count": 21,
   "id": "4041b332",
   "metadata": {},
   "outputs": [
    {
     "name": "stdout",
     "output_type": "stream",
     "text": [
      "The value of x is 3.1488\n",
      "The value of x is 1.23457e+08\n",
      "The value of x is 123456789.000000\n",
      "The value of x is 0.12345\n"
     ]
    }
   ],
   "source": [
    "#You can also use %g which will use scientific notation for large numbers and decimal notation for small numbers.\n",
    "\n",
    "x = 3.1488\n",
    "print(\"The value of x is %g\" % x)\n",
    "# Output: \"The value of x is 3.14159\"\n",
    "\n",
    "x = 123456789\n",
    "print(\"The value of x is %g\" % x)\n",
    "# Output: \"The value of x is 1.23457e+08\"\n",
    "\n",
    "x = 123456789\n",
    "print(\"The value of x is %f\" % x)\n",
    "# Output: \"The value of x is 123456789.000000\"\n",
    "\n",
    "x = 0.12345\n",
    "print(\"The value of x is %g\" % x)\n",
    "# Output: \"The value of x is 0.12345\"\n",
    "\n"
   ]
  },
  {
   "cell_type": "code",
   "execution_count": null,
   "id": "52261ebf",
   "metadata": {},
   "outputs": [],
   "source": []
  },
  {
   "cell_type": "code",
   "execution_count": null,
   "id": "3a600bc3",
   "metadata": {},
   "outputs": [],
   "source": []
  }
 ],
 "metadata": {
  "kernelspec": {
   "display_name": "Python 3 (ipykernel)",
   "language": "python",
   "name": "python3"
  },
  "language_info": {
   "codemirror_mode": {
    "name": "ipython",
    "version": 3
   },
   "file_extension": ".py",
   "mimetype": "text/x-python",
   "name": "python",
   "nbconvert_exporter": "python",
   "pygments_lexer": "ipython3",
   "version": "3.9.12"
  }
 },
 "nbformat": 4,
 "nbformat_minor": 5
}
